{
 "cells": [
  {
   "cell_type": "code",
   "execution_count": 3,
   "id": "43e4d6d4-2594-497e-8494-1622fd035c75",
   "metadata": {},
   "outputs": [
    {
     "name": "stderr",
     "output_type": "stream",
     "text": [
      "also installing the dependencies 'colorspace', 'sys', 'bit', 'ps', 'sass', 'cachem', 'farver', 'labeling', 'munsell', 'RColorBrewer', 'viridisLite', 'rappdirs', 'rematch', 'askpass', 'bit64', 'prettyunits', 'processx', 'highr', 'xfun', 'yaml', 'bslib', 'fontawesome', 'jquerylib', 'tinytex', 'backports', 'generics', 'memoise', 'blob', 'DBI', 'R6', 'tidyselect', 'withr', 'data.table', 'gtable', 'isoband', 'scales', 'gargle', 'cellranger', 'curl', 'ids', 'rematch2', 'cpp11', 'pkgconfig', 'mime', 'openssl', 'timechange', 'systemfonts', 'textshaping', 'clipr', 'vroom', 'tzdb', 'progress', 'callr', 'fs', 'knitr', 'rmarkdown', 'selectr', 'stringi', 'broom', 'conflicted', 'dbplyr', 'dplyr', 'dtplyr', 'forcats', 'ggplot2', 'googledrive', 'googlesheets4', 'haven', 'hms', 'httr', 'lubridate', 'magrittr', 'modelr', 'purrr', 'ragg', 'readr', 'readxl', 'reprex', 'rstudioapi', 'rvest', 'stringr', 'tibble', 'tidyr', 'xml2'\n",
      "\n",
      "\n"
     ]
    },
    {
     "name": "stdout",
     "output_type": "stream",
     "text": [
      "package 'colorspace' successfully unpacked and MD5 sums checked\n",
      "package 'sys' successfully unpacked and MD5 sums checked\n",
      "package 'bit' successfully unpacked and MD5 sums checked\n",
      "package 'ps' successfully unpacked and MD5 sums checked\n",
      "package 'sass' successfully unpacked and MD5 sums checked\n",
      "package 'cachem' successfully unpacked and MD5 sums checked\n",
      "package 'farver' successfully unpacked and MD5 sums checked\n",
      "package 'labeling' successfully unpacked and MD5 sums checked\n",
      "package 'munsell' successfully unpacked and MD5 sums checked\n",
      "package 'RColorBrewer' successfully unpacked and MD5 sums checked\n",
      "package 'viridisLite' successfully unpacked and MD5 sums checked\n",
      "package 'rappdirs' successfully unpacked and MD5 sums checked\n",
      "package 'rematch' successfully unpacked and MD5 sums checked\n",
      "package 'askpass' successfully unpacked and MD5 sums checked\n",
      "package 'bit64' successfully unpacked and MD5 sums checked\n",
      "package 'prettyunits' successfully unpacked and MD5 sums checked\n",
      "package 'processx' successfully unpacked and MD5 sums checked\n",
      "package 'highr' successfully unpacked and MD5 sums checked\n",
      "package 'xfun' successfully unpacked and MD5 sums checked\n",
      "package 'yaml' successfully unpacked and MD5 sums checked\n",
      "package 'bslib' successfully unpacked and MD5 sums checked\n",
      "package 'fontawesome' successfully unpacked and MD5 sums checked\n",
      "package 'jquerylib' successfully unpacked and MD5 sums checked\n",
      "package 'tinytex' successfully unpacked and MD5 sums checked\n",
      "package 'backports' successfully unpacked and MD5 sums checked\n",
      "package 'generics' successfully unpacked and MD5 sums checked\n",
      "package 'memoise' successfully unpacked and MD5 sums checked\n",
      "package 'blob' successfully unpacked and MD5 sums checked\n",
      "package 'DBI' successfully unpacked and MD5 sums checked\n",
      "package 'R6' successfully unpacked and MD5 sums checked\n",
      "package 'tidyselect' successfully unpacked and MD5 sums checked\n",
      "package 'withr' successfully unpacked and MD5 sums checked\n",
      "package 'data.table' successfully unpacked and MD5 sums checked\n",
      "package 'gtable' successfully unpacked and MD5 sums checked\n",
      "package 'isoband' successfully unpacked and MD5 sums checked\n",
      "package 'scales' successfully unpacked and MD5 sums checked\n",
      "package 'gargle' successfully unpacked and MD5 sums checked\n",
      "package 'cellranger' successfully unpacked and MD5 sums checked\n",
      "package 'curl' successfully unpacked and MD5 sums checked\n",
      "package 'ids' successfully unpacked and MD5 sums checked\n",
      "package 'rematch2' successfully unpacked and MD5 sums checked\n",
      "package 'cpp11' successfully unpacked and MD5 sums checked\n",
      "package 'pkgconfig' successfully unpacked and MD5 sums checked\n",
      "package 'mime' successfully unpacked and MD5 sums checked\n",
      "package 'openssl' successfully unpacked and MD5 sums checked\n",
      "package 'timechange' successfully unpacked and MD5 sums checked\n",
      "package 'systemfonts' successfully unpacked and MD5 sums checked\n",
      "package 'textshaping' successfully unpacked and MD5 sums checked\n",
      "package 'clipr' successfully unpacked and MD5 sums checked\n",
      "package 'vroom' successfully unpacked and MD5 sums checked\n",
      "package 'tzdb' successfully unpacked and MD5 sums checked\n",
      "package 'progress' successfully unpacked and MD5 sums checked\n",
      "package 'callr' successfully unpacked and MD5 sums checked\n",
      "package 'fs' successfully unpacked and MD5 sums checked\n",
      "package 'knitr' successfully unpacked and MD5 sums checked\n",
      "package 'rmarkdown' successfully unpacked and MD5 sums checked\n",
      "package 'selectr' successfully unpacked and MD5 sums checked\n",
      "package 'stringi' successfully unpacked and MD5 sums checked\n",
      "package 'broom' successfully unpacked and MD5 sums checked\n",
      "package 'conflicted' successfully unpacked and MD5 sums checked\n",
      "package 'dbplyr' successfully unpacked and MD5 sums checked\n",
      "package 'dplyr' successfully unpacked and MD5 sums checked\n",
      "package 'dtplyr' successfully unpacked and MD5 sums checked\n",
      "package 'forcats' successfully unpacked and MD5 sums checked\n",
      "package 'ggplot2' successfully unpacked and MD5 sums checked\n",
      "package 'googledrive' successfully unpacked and MD5 sums checked\n",
      "package 'googlesheets4' successfully unpacked and MD5 sums checked\n",
      "package 'haven' successfully unpacked and MD5 sums checked\n",
      "package 'hms' successfully unpacked and MD5 sums checked\n",
      "package 'httr' successfully unpacked and MD5 sums checked\n",
      "package 'lubridate' successfully unpacked and MD5 sums checked\n",
      "package 'magrittr' successfully unpacked and MD5 sums checked\n",
      "package 'modelr' successfully unpacked and MD5 sums checked\n",
      "package 'purrr' successfully unpacked and MD5 sums checked\n",
      "package 'ragg' successfully unpacked and MD5 sums checked\n",
      "package 'readr' successfully unpacked and MD5 sums checked\n",
      "package 'readxl' successfully unpacked and MD5 sums checked\n",
      "package 'reprex' successfully unpacked and MD5 sums checked\n",
      "package 'rstudioapi' successfully unpacked and MD5 sums checked\n",
      "package 'rvest' successfully unpacked and MD5 sums checked\n",
      "package 'stringr' successfully unpacked and MD5 sums checked\n",
      "package 'tibble' successfully unpacked and MD5 sums checked\n",
      "package 'tidyr' successfully unpacked and MD5 sums checked\n",
      "package 'xml2' successfully unpacked and MD5 sums checked\n",
      "package 'tidyverse' successfully unpacked and MD5 sums checked\n",
      "\n",
      "The downloaded binary packages are in\n",
      "\tC:\\Users\\yamph\\AppData\\Local\\Temp\\RtmpWYQeHL\\downloaded_packages\n"
     ]
    }
   ],
   "source": [
    "install.packages(\"tidyverse\")"
   ]
  },
  {
   "cell_type": "code",
   "execution_count": 4,
   "id": "59f1bce9-29cb-4b46-b3c1-764460a5cefa",
   "metadata": {},
   "outputs": [
    {
     "name": "stderr",
     "output_type": "stream",
     "text": [
      "── \u001b[1mAttaching core tidyverse packages\u001b[22m ──────────────────────────────────────────────────────────────── tidyverse 2.0.0 ──\n",
      "\u001b[32m✔\u001b[39m \u001b[34mdplyr    \u001b[39m 1.1.4     \u001b[32m✔\u001b[39m \u001b[34mreadr    \u001b[39m 2.1.5\n",
      "\u001b[32m✔\u001b[39m \u001b[34mforcats  \u001b[39m 1.0.0     \u001b[32m✔\u001b[39m \u001b[34mstringr  \u001b[39m 1.5.1\n",
      "\u001b[32m✔\u001b[39m \u001b[34mggplot2  \u001b[39m 3.5.1     \u001b[32m✔\u001b[39m \u001b[34mtibble   \u001b[39m 3.2.1\n",
      "\u001b[32m✔\u001b[39m \u001b[34mlubridate\u001b[39m 1.9.3     \u001b[32m✔\u001b[39m \u001b[34mtidyr    \u001b[39m 1.3.1\n",
      "\u001b[32m✔\u001b[39m \u001b[34mpurrr    \u001b[39m 1.0.2     \n",
      "── \u001b[1mConflicts\u001b[22m ────────────────────────────────────────────────────────────────────────────────── tidyverse_conflicts() ──\n",
      "\u001b[31m✖\u001b[39m \u001b[34mdplyr\u001b[39m::\u001b[32mfilter()\u001b[39m masks \u001b[34mstats\u001b[39m::filter()\n",
      "\u001b[31m✖\u001b[39m \u001b[34mdplyr\u001b[39m::\u001b[32mlag()\u001b[39m    masks \u001b[34mstats\u001b[39m::lag()\n",
      "\u001b[36mℹ\u001b[39m Use the conflicted package (\u001b[3m\u001b[34m<http://conflicted.r-lib.org/>\u001b[39m\u001b[23m) to force all conflicts to become errors\n"
     ]
    },
    {
     "ename": "ERROR",
     "evalue": "Error in library(\"ggrepel\"): there is no package called 'ggrepel'\n",
     "output_type": "error",
     "traceback": [
      "Error in library(\"ggrepel\"): there is no package called 'ggrepel'\nTraceback:\n",
      "1. stop(packageNotFoundError(package, lib.loc, sys.call()))"
     ]
    }
   ],
   "source": [
    "# Importing necessary libraries\n",
    "library(\"tidyverse\")\n",
    "library(\"ggplot2\")\n",
    "library(\"ggrepel\")\n",
    "library(\"ggcorrplot\")\n",
    "library(\"DT\")"
   ]
  },
  {
   "cell_type": "markdown",
   "id": "e75fd4f6-47c4-448e-8d74-073bba5a9a75",
   "metadata": {},
   "source": [
    "# Dataset : COVID-19_cases_TX (updated)"
   ]
  },
  {
   "cell_type": "code",
   "execution_count": 5,
   "id": "baeb03aa-2367-4dce-b5df-e5ce865a2d5b",
   "metadata": {},
   "outputs": [],
   "source": [
    "dataset_cases_TX <- read.csv(\"https://raw.githubusercontent.com/yamphurai/Project2_ClusterAnalysis/refs/heads/main/updated_COVID-19_cases_TX.csv\")"
   ]
  },
  {
   "cell_type": "code",
   "execution_count": 7,
   "id": "e0b931ff-316e-4a3d-9064-fee319c55a93",
   "metadata": {},
   "outputs": [
    {
     "data": {
      "text/html": [
       "<table class=\"dataframe\">\n",
       "<caption>A data.frame: 6 × 5</caption>\n",
       "<thead>\n",
       "\t<tr><th></th><th scope=col>county_fips_code</th><th scope=col>county_name</th><th scope=col>date</th><th scope=col>confirmed_cases</th><th scope=col>deaths</th></tr>\n",
       "\t<tr><th></th><th scope=col>&lt;int&gt;</th><th scope=col>&lt;chr&gt;</th><th scope=col>&lt;chr&gt;</th><th scope=col>&lt;int&gt;</th><th scope=col>&lt;int&gt;</th></tr>\n",
       "</thead>\n",
       "<tbody>\n",
       "\t<tr><th scope=row>1</th><td>48001</td><td>Anderson County</td><td>2020-01-22</td><td>0</td><td>0</td></tr>\n",
       "\t<tr><th scope=row>2</th><td>48001</td><td>Anderson County</td><td>2020-01-23</td><td>0</td><td>0</td></tr>\n",
       "\t<tr><th scope=row>3</th><td>48001</td><td>Anderson County</td><td>2020-01-24</td><td>0</td><td>0</td></tr>\n",
       "\t<tr><th scope=row>4</th><td>48001</td><td>Anderson County</td><td>2020-01-25</td><td>0</td><td>0</td></tr>\n",
       "\t<tr><th scope=row>5</th><td>48001</td><td>Anderson County</td><td>2020-01-26</td><td>0</td><td>0</td></tr>\n",
       "\t<tr><th scope=row>6</th><td>48001</td><td>Anderson County</td><td>2020-01-27</td><td>0</td><td>0</td></tr>\n",
       "</tbody>\n",
       "</table>\n"
      ],
      "text/latex": [
       "A data.frame: 6 × 5\n",
       "\\begin{tabular}{r|lllll}\n",
       "  & county\\_fips\\_code & county\\_name & date & confirmed\\_cases & deaths\\\\\n",
       "  & <int> & <chr> & <chr> & <int> & <int>\\\\\n",
       "\\hline\n",
       "\t1 & 48001 & Anderson County & 2020-01-22 & 0 & 0\\\\\n",
       "\t2 & 48001 & Anderson County & 2020-01-23 & 0 & 0\\\\\n",
       "\t3 & 48001 & Anderson County & 2020-01-24 & 0 & 0\\\\\n",
       "\t4 & 48001 & Anderson County & 2020-01-25 & 0 & 0\\\\\n",
       "\t5 & 48001 & Anderson County & 2020-01-26 & 0 & 0\\\\\n",
       "\t6 & 48001 & Anderson County & 2020-01-27 & 0 & 0\\\\\n",
       "\\end{tabular}\n"
      ],
      "text/markdown": [
       "\n",
       "A data.frame: 6 × 5\n",
       "\n",
       "| <!--/--> | county_fips_code &lt;int&gt; | county_name &lt;chr&gt; | date &lt;chr&gt; | confirmed_cases &lt;int&gt; | deaths &lt;int&gt; |\n",
       "|---|---|---|---|---|---|\n",
       "| 1 | 48001 | Anderson County | 2020-01-22 | 0 | 0 |\n",
       "| 2 | 48001 | Anderson County | 2020-01-23 | 0 | 0 |\n",
       "| 3 | 48001 | Anderson County | 2020-01-24 | 0 | 0 |\n",
       "| 4 | 48001 | Anderson County | 2020-01-25 | 0 | 0 |\n",
       "| 5 | 48001 | Anderson County | 2020-01-26 | 0 | 0 |\n",
       "| 6 | 48001 | Anderson County | 2020-01-27 | 0 | 0 |\n",
       "\n"
      ],
      "text/plain": [
       "  county_fips_code county_name     date       confirmed_cases deaths\n",
       "1 48001            Anderson County 2020-01-22 0               0     \n",
       "2 48001            Anderson County 2020-01-23 0               0     \n",
       "3 48001            Anderson County 2020-01-24 0               0     \n",
       "4 48001            Anderson County 2020-01-25 0               0     \n",
       "5 48001            Anderson County 2020-01-26 0               0     \n",
       "6 48001            Anderson County 2020-01-27 0               0     "
      ]
     },
     "metadata": {},
     "output_type": "display_data"
    }
   ],
   "source": [
    "# First 10 rows\n",
    "head(dataset_cases_TX)"
   ]
  },
  {
   "cell_type": "code",
   "execution_count": 8,
   "id": "87c25810-4209-4f28-bc6d-4e0a23249f55",
   "metadata": {},
   "outputs": [
    {
     "name": "stdout",
     "output_type": "stream",
     "text": [
      "'data.frame':\t93980 obs. of  5 variables:\n",
      " $ county_fips_code: int  48001 48001 48001 48001 48001 48001 48001 48001 48001 48001 ...\n",
      " $ county_name     : chr  \"Anderson County\" \"Anderson County\" \"Anderson County\" \"Anderson County\" ...\n",
      " $ date            : chr  \"2020-01-22\" \"2020-01-23\" \"2020-01-24\" \"2020-01-25\" ...\n",
      " $ confirmed_cases : int  0 0 0 0 0 0 0 0 0 0 ...\n",
      " $ deaths          : int  0 0 0 0 0 0 0 0 0 0 ...\n"
     ]
    }
   ],
   "source": [
    "# internal structure of the dataset\n",
    "str (dataset_cases_TX)"
   ]
  },
  {
   "cell_type": "code",
   "execution_count": 10,
   "id": "985d8044-cee4-41f0-9e2d-6f16c95e9777",
   "metadata": {},
   "outputs": [
    {
     "data": {
      "text/plain": [
       " county_fips_code county_name            date           confirmed_cases \n",
       " Min.   :48001    Length:93980       Length:93980       Min.   :     0  \n",
       " 1st Qu.:48127    Class :character   Class :character   1st Qu.:     2  \n",
       " Median :48254    Mode  :character   Mode  :character   Median :    84  \n",
       " Mean   :48254                                          Mean   :  2167  \n",
       " 3rd Qu.:48381                                          3rd Qu.:   645  \n",
       " Max.   :48507                                          Max.   :297629  \n",
       "     deaths       \n",
       " Min.   :   0.00  \n",
       " 1st Qu.:   0.00  \n",
       " Median :   2.00  \n",
       " Mean   :  38.33  \n",
       " 3rd Qu.:  15.00  \n",
       " Max.   :4024.00  "
      ]
     },
     "metadata": {},
     "output_type": "display_data"
    }
   ],
   "source": [
    "# Basic statistics\n",
    "summary(dataset_cases_TX)"
   ]
  },
  {
   "cell_type": "code",
   "execution_count": 11,
   "id": "13978fe8-eb19-4600-b15a-33882c2451ee",
   "metadata": {},
   "outputs": [
    {
     "data": {
      "text/html": [
       "0"
      ],
      "text/latex": [
       "0"
      ],
      "text/markdown": [
       "0"
      ],
      "text/plain": [
       "[1] 0"
      ]
     },
     "metadata": {},
     "output_type": "display_data"
    }
   ],
   "source": [
    "# Checking for missing values\n",
    "sum(is.na(dataset_cases_TX))"
   ]
  },
  {
   "cell_type": "code",
   "execution_count": 14,
   "id": "9c3956e8-47c4-4e4a-a979-252428c490d0",
   "metadata": {},
   "outputs": [
    {
     "data": {
      "text/html": [
       "254"
      ],
      "text/latex": [
       "254"
      ],
      "text/markdown": [
       "254"
      ],
      "text/plain": [
       "[1] 254"
      ]
     },
     "metadata": {},
     "output_type": "display_data"
    },
    {
     "data": {
      "text/html": [
       "254"
      ],
      "text/latex": [
       "254"
      ],
      "text/markdown": [
       "254"
      ],
      "text/plain": [
       "[1] 254"
      ]
     },
     "metadata": {},
     "output_type": "display_data"
    }
   ],
   "source": [
    "# count of counties\n",
    "n_distinct(dataset_cases_TX$county_name)\n",
    "\n",
    "# count of county FIPs codes\n",
    "n_distinct(dataset_cases_TX$county_fips_code)"
   ]
  },
  {
   "cell_type": "markdown",
   "id": "d7d5a1f7-e3d7-4fba-b1eb-6e1cf5f13eef",
   "metadata": {},
   "source": [
    "There are 254 different counties with unique code in the dataset"
   ]
  },
  {
   "cell_type": "markdown",
   "id": "0f1c1cb7-72a3-4da0-8272-7ba178c6c9f2",
   "metadata": {},
   "source": [
    "# Dataset : COVID-19_cases_plus_census (updated)"
   ]
  },
  {
   "cell_type": "code",
   "execution_count": 16,
   "id": "69741809-1c9a-4731-80ea-5406fb5a98ba",
   "metadata": {},
   "outputs": [],
   "source": [
    "dataset_plus_census <- read.csv(\"https://raw.githubusercontent.com/yamphurai/Project2_ClusterAnalysis/refs/heads/main/updated_COVID-19_cases_plus_census.csv\")"
   ]
  },
  {
   "cell_type": "code",
   "execution_count": 17,
   "id": "51f3ad07-b342-4e48-b37c-68bbb3d4d23f",
   "metadata": {},
   "outputs": [
    {
     "data": {
      "text/html": [
       "<table class=\"dataframe\">\n",
       "<caption>A data.frame: 6 × 33</caption>\n",
       "<thead>\n",
       "\t<tr><th></th><th scope=col>state</th><th scope=col>state_fips_code</th><th scope=col>county_name</th><th scope=col>confirmed_cases</th><th scope=col>deaths</th><th scope=col>total_pop</th><th scope=col>male_pop</th><th scope=col>female_pop</th><th scope=col>white_pop</th><th scope=col>black_pop</th><th scope=col>⋯</th><th scope=col>male_21_49</th><th scope=col>male_50_above</th><th scope=col>female_0_20</th><th scope=col>female_21_49</th><th scope=col>female_50_above</th><th scope=col>unemployed_pop</th><th scope=col>employed_pop</th><th scope=col>commute</th><th scope=col>worked_at_home</th><th scope=col>walked_to_work</th></tr>\n",
       "\t<tr><th></th><th scope=col>&lt;chr&gt;</th><th scope=col>&lt;int&gt;</th><th scope=col>&lt;chr&gt;</th><th scope=col>&lt;int&gt;</th><th scope=col>&lt;int&gt;</th><th scope=col>&lt;int&gt;</th><th scope=col>&lt;int&gt;</th><th scope=col>&lt;int&gt;</th><th scope=col>&lt;int&gt;</th><th scope=col>&lt;int&gt;</th><th scope=col>⋯</th><th scope=col>&lt;int&gt;</th><th scope=col>&lt;int&gt;</th><th scope=col>&lt;int&gt;</th><th scope=col>&lt;int&gt;</th><th scope=col>&lt;int&gt;</th><th scope=col>&lt;int&gt;</th><th scope=col>&lt;int&gt;</th><th scope=col>&lt;int&gt;</th><th scope=col>&lt;int&gt;</th><th scope=col>&lt;int&gt;</th></tr>\n",
       "</thead>\n",
       "<tbody>\n",
       "\t<tr><th scope=row>1</th><td>VT</td><td>50</td><td>Essex County     </td><td>  111</td><td>  0</td><td>  6203</td><td> 3135</td><td> 3068</td><td>  5929</td><td>   64</td><td>⋯</td><td>  900</td><td> 1701</td><td>  603</td><td>  924</td><td> 1657</td><td> 149</td><td> 2784</td><td>  4820</td><td> 167</td><td>  81</td></tr>\n",
       "\t<tr><th scope=row>2</th><td>VT</td><td>50</td><td>Chittenden County</td><td> 3636</td><td> 78</td><td>160985</td><td>78928</td><td>82057</td><td>143657</td><td> 4091</td><td>⋯</td><td>32947</td><td>27110</td><td>20668</td><td>32285</td><td>30864</td><td>3827</td><td>90054</td><td>148357</td><td>4783</td><td>6859</td></tr>\n",
       "\t<tr><th scope=row>3</th><td>DE</td><td>10</td><td>Kent County      </td><td>11548</td><td>187</td><td>173145</td><td>83544</td><td>89601</td><td>108627</td><td>41729</td><td>⋯</td><td>31121</td><td>29975</td><td>23801</td><td>33109</td><td>35761</td><td>5563</td><td>78078</td><td>145421</td><td>3270</td><td>1379</td></tr>\n",
       "\t<tr><th scope=row>4</th><td>RI</td><td>44</td><td>Washington County</td><td> 5521</td><td>122</td><td>126190</td><td>61154</td><td>65036</td><td>115206</td><td> 1621</td><td>⋯</td><td>20438</td><td>27238</td><td>16106</td><td>20580</td><td>30387</td><td>4142</td><td>64576</td><td>114755</td><td>3110</td><td>1725</td></tr>\n",
       "\t<tr><th scope=row>5</th><td>NH</td><td>33</td><td>Belknap County   </td><td> 2496</td><td> 79</td><td> 60383</td><td>29705</td><td>30678</td><td> 57523</td><td>  285</td><td>⋯</td><td> 9663</td><td>14520</td><td> 6541</td><td> 9882</td><td>15317</td><td>1589</td><td>30674</td><td> 55288</td><td>1487</td><td> 449</td></tr>\n",
       "\t<tr><th scope=row>6</th><td>RI</td><td>44</td><td>Newport County   </td><td> 3578</td><td>  6</td><td> 83204</td><td>40952</td><td>42252</td><td> 71549</td><td> 2596</td><td>⋯</td><td>15262</td><td>18187</td><td> 9040</td><td>14232</td><td>20449</td><td>2349</td><td>41471</td><td> 73711</td><td>2711</td><td>2749</td></tr>\n",
       "</tbody>\n",
       "</table>\n"
      ],
      "text/latex": [
       "A data.frame: 6 × 33\n",
       "\\begin{tabular}{r|lllllllllllllllllllll}\n",
       "  & state & state\\_fips\\_code & county\\_name & confirmed\\_cases & deaths & total\\_pop & male\\_pop & female\\_pop & white\\_pop & black\\_pop & ⋯ & male\\_21\\_49 & male\\_50\\_above & female\\_0\\_20 & female\\_21\\_49 & female\\_50\\_above & unemployed\\_pop & employed\\_pop & commute & worked\\_at\\_home & walked\\_to\\_work\\\\\n",
       "  & <chr> & <int> & <chr> & <int> & <int> & <int> & <int> & <int> & <int> & <int> & ⋯ & <int> & <int> & <int> & <int> & <int> & <int> & <int> & <int> & <int> & <int>\\\\\n",
       "\\hline\n",
       "\t1 & VT & 50 & Essex County      &   111 &   0 &   6203 &  3135 &  3068 &   5929 &    64 & ⋯ &   900 &  1701 &   603 &   924 &  1657 &  149 &  2784 &   4820 &  167 &   81\\\\\n",
       "\t2 & VT & 50 & Chittenden County &  3636 &  78 & 160985 & 78928 & 82057 & 143657 &  4091 & ⋯ & 32947 & 27110 & 20668 & 32285 & 30864 & 3827 & 90054 & 148357 & 4783 & 6859\\\\\n",
       "\t3 & DE & 10 & Kent County       & 11548 & 187 & 173145 & 83544 & 89601 & 108627 & 41729 & ⋯ & 31121 & 29975 & 23801 & 33109 & 35761 & 5563 & 78078 & 145421 & 3270 & 1379\\\\\n",
       "\t4 & RI & 44 & Washington County &  5521 & 122 & 126190 & 61154 & 65036 & 115206 &  1621 & ⋯ & 20438 & 27238 & 16106 & 20580 & 30387 & 4142 & 64576 & 114755 & 3110 & 1725\\\\\n",
       "\t5 & NH & 33 & Belknap County    &  2496 &  79 &  60383 & 29705 & 30678 &  57523 &   285 & ⋯ &  9663 & 14520 &  6541 &  9882 & 15317 & 1589 & 30674 &  55288 & 1487 &  449\\\\\n",
       "\t6 & RI & 44 & Newport County    &  3578 &   6 &  83204 & 40952 & 42252 &  71549 &  2596 & ⋯ & 15262 & 18187 &  9040 & 14232 & 20449 & 2349 & 41471 &  73711 & 2711 & 2749\\\\\n",
       "\\end{tabular}\n"
      ],
      "text/markdown": [
       "\n",
       "A data.frame: 6 × 33\n",
       "\n",
       "| <!--/--> | state &lt;chr&gt; | state_fips_code &lt;int&gt; | county_name &lt;chr&gt; | confirmed_cases &lt;int&gt; | deaths &lt;int&gt; | total_pop &lt;int&gt; | male_pop &lt;int&gt; | female_pop &lt;int&gt; | white_pop &lt;int&gt; | black_pop &lt;int&gt; | ⋯ ⋯ | male_21_49 &lt;int&gt; | male_50_above &lt;int&gt; | female_0_20 &lt;int&gt; | female_21_49 &lt;int&gt; | female_50_above &lt;int&gt; | unemployed_pop &lt;int&gt; | employed_pop &lt;int&gt; | commute &lt;int&gt; | worked_at_home &lt;int&gt; | walked_to_work &lt;int&gt; |\n",
       "|---|---|---|---|---|---|---|---|---|---|---|---|---|---|---|---|---|---|---|---|---|---|\n",
       "| 1 | VT | 50 | Essex County      |   111 |   0 |   6203 |  3135 |  3068 |   5929 |    64 | ⋯ |   900 |  1701 |   603 |   924 |  1657 |  149 |  2784 |   4820 |  167 |   81 |\n",
       "| 2 | VT | 50 | Chittenden County |  3636 |  78 | 160985 | 78928 | 82057 | 143657 |  4091 | ⋯ | 32947 | 27110 | 20668 | 32285 | 30864 | 3827 | 90054 | 148357 | 4783 | 6859 |\n",
       "| 3 | DE | 10 | Kent County       | 11548 | 187 | 173145 | 83544 | 89601 | 108627 | 41729 | ⋯ | 31121 | 29975 | 23801 | 33109 | 35761 | 5563 | 78078 | 145421 | 3270 | 1379 |\n",
       "| 4 | RI | 44 | Washington County |  5521 | 122 | 126190 | 61154 | 65036 | 115206 |  1621 | ⋯ | 20438 | 27238 | 16106 | 20580 | 30387 | 4142 | 64576 | 114755 | 3110 | 1725 |\n",
       "| 5 | NH | 33 | Belknap County    |  2496 |  79 |  60383 | 29705 | 30678 |  57523 |   285 | ⋯ |  9663 | 14520 |  6541 |  9882 | 15317 | 1589 | 30674 |  55288 | 1487 |  449 |\n",
       "| 6 | RI | 44 | Newport County    |  3578 |   6 |  83204 | 40952 | 42252 |  71549 |  2596 | ⋯ | 15262 | 18187 |  9040 | 14232 | 20449 | 2349 | 41471 |  73711 | 2711 | 2749 |\n",
       "\n"
      ],
      "text/plain": [
       "  state state_fips_code county_name       confirmed_cases deaths total_pop\n",
       "1 VT    50              Essex County        111             0      6203   \n",
       "2 VT    50              Chittenden County  3636            78    160985   \n",
       "3 DE    10              Kent County       11548           187    173145   \n",
       "4 RI    44              Washington County  5521           122    126190   \n",
       "5 NH    33              Belknap County     2496            79     60383   \n",
       "6 RI    44              Newport County     3578             6     83204   \n",
       "  male_pop female_pop white_pop black_pop ⋯ male_21_49 male_50_above\n",
       "1  3135     3068        5929       64     ⋯   900       1701        \n",
       "2 78928    82057      143657     4091     ⋯ 32947      27110        \n",
       "3 83544    89601      108627    41729     ⋯ 31121      29975        \n",
       "4 61154    65036      115206     1621     ⋯ 20438      27238        \n",
       "5 29705    30678       57523      285     ⋯  9663      14520        \n",
       "6 40952    42252       71549     2596     ⋯ 15262      18187        \n",
       "  female_0_20 female_21_49 female_50_above unemployed_pop employed_pop commute\n",
       "1   603         924         1657            149            2784          4820 \n",
       "2 20668       32285        30864           3827           90054        148357 \n",
       "3 23801       33109        35761           5563           78078        145421 \n",
       "4 16106       20580        30387           4142           64576        114755 \n",
       "5  6541        9882        15317           1589           30674         55288 \n",
       "6  9040       14232        20449           2349           41471         73711 \n",
       "  worked_at_home walked_to_work\n",
       "1  167             81          \n",
       "2 4783           6859          \n",
       "3 3270           1379          \n",
       "4 3110           1725          \n",
       "5 1487            449          \n",
       "6 2711           2749          "
      ]
     },
     "metadata": {},
     "output_type": "display_data"
    }
   ],
   "source": [
    "# First 10 rows\n",
    "head(dataset_plus_census)"
   ]
  },
  {
   "cell_type": "code",
   "execution_count": 18,
   "id": "968dd865-3e4e-4992-93a9-f2a2b994e96f",
   "metadata": {},
   "outputs": [
    {
     "name": "stdout",
     "output_type": "stream",
     "text": [
      "'data.frame':\t3142 obs. of  33 variables:\n",
      " $ state                : chr  \"VT\" \"VT\" \"DE\" \"RI\" ...\n",
      " $ state_fips_code      : int  50 50 10 44 33 44 50 9 50 50 ...\n",
      " $ county_name          : chr  \"Essex County\" \"Chittenden County\" \"Kent County\" \"Washington County\" ...\n",
      " $ confirmed_cases      : int  111 3636 11548 5521 2496 3578 312 6255 527 307 ...\n",
      " $ deaths               : int  0 78 187 122 79 6 1 125 5 4 ...\n",
      " $ total_pop            : int  6203 160985 173145 126190 60383 83204 25191 151596 36825 30576 ...\n",
      " $ male_pop             : int  3135 78928 83544 61154 29705 40952 12504 76162 18214 15366 ...\n",
      " $ female_pop           : int  3068 82057 89601 65036 30678 42252 12687 75434 18611 15210 ...\n",
      " $ white_pop            : int  5929 143657 108627 115206 57523 71549 23895 129519 34245 29070 ...\n",
      " $ black_pop            : int  64 4091 41729 1621 285 2596 214 4425 337 272 ...\n",
      " $ asian_pop            : int  32 6144 3459 2436 579 1670 161 6690 711 186 ...\n",
      " $ hispanic_pop         : int  83 3542 11820 3769 951 4623 408 7860 795 460 ...\n",
      " $ amerindian_pop       : int  20 374 967 1047 130 290 208 38 94 65 ...\n",
      " $ other_race_pop       : int  6 240 377 260 65 159 0 336 57 9 ...\n",
      " $ median_income        : int  38767 66906 57647 77862 65834 75463 54899 81312 61875 47371 ...\n",
      " $ income_less_50K      : int  1650 24184 27659 16334 9365 12051 4803 16508 5965 6387 ...\n",
      " $ income_50K_100K      : int  802 20318 21746 14204 8472 10443 3240 16815 5122 3736 ...\n",
      " $ income_100K_150K     : int  193 11615 8704 9953 3886 6530 1411 10705 2363 1339 ...\n",
      " $ income_150K_more     : int  75 8789 5272 9117 2856 6397 947 10850 1251 632 ...\n",
      " $ rent_under_50_percent: int  411 16148 13483 8510 4211 10033 1814 10632 2975 2290 ...\n",
      " $ rent_over_50_percent : int  97 6620 4408 3429 1351 2525 720 3650 665 645 ...\n",
      " $ median_age           : num  50 36.6 37.3 44.1 46.7 44.6 40.5 37.9 43.4 43.7 ...\n",
      " $ male_0_20            : int  677 20796 24873 15755 6834 9057 3293 21806 4747 4099 ...\n",
      " $ male_21_49           : int  900 32947 31121 20438 9663 15262 4659 28436 6130 5144 ...\n",
      " $ male_50_above        : int  1701 27110 29975 27238 14520 18187 5045 27876 7914 6640 ...\n",
      " $ female_0_20          : int  603 20668 23801 16106 6541 9040 3317 21270 4614 3647 ...\n",
      " $ female_21_49         : int  924 32285 33109 20580 9882 14232 4489 26221 6228 4865 ...\n",
      " $ female_50_above      : int  1657 30864 35761 30387 15317 20449 5218 30288 8340 7125 ...\n",
      " $ unemployed_pop       : int  149 3827 5563 4142 1589 2349 526 4962 907 741 ...\n",
      " $ employed_pop         : int  2784 90054 78078 64576 30674 41471 13437 80613 19872 14475 ...\n",
      " $ commute              : int  4820 148357 145421 114755 55288 73711 23083 137743 31572 24724 ...\n",
      " $ worked_at_home       : int  167 4783 3270 3110 1487 2711 906 3821 1811 1106 ...\n",
      " $ walked_to_work       : int  81 6859 1379 1725 449 2749 536 3533 1466 535 ...\n"
     ]
    }
   ],
   "source": [
    "# internal structure of the dataset\n",
    "str (dataset_plus_census)"
   ]
  },
  {
   "cell_type": "code",
   "execution_count": 19,
   "id": "6c8347b1-f4db-4fce-b2ea-78dce22c0084",
   "metadata": {},
   "outputs": [
    {
     "data": {
      "text/html": [
       "0"
      ],
      "text/latex": [
       "0"
      ],
      "text/markdown": [
       "0"
      ],
      "text/plain": [
       "[1] 0"
      ]
     },
     "metadata": {},
     "output_type": "display_data"
    }
   ],
   "source": [
    "# Checking for missing values\n",
    "sum(is.na(dataset_plus_census))"
   ]
  },
  {
   "cell_type": "code",
   "execution_count": 20,
   "id": "1ebf9a62-13e5-473b-9f5c-dbc338d4edcb",
   "metadata": {},
   "outputs": [
    {
     "data": {
      "text/plain": [
       "    state           state_fips_code county_name        confirmed_cases    \n",
       " Length:3142        Min.   : 1.00   Length:3142        Min.   :      0.0  \n",
       " Class :character   1st Qu.:18.00   Class :character   1st Qu.:    796.2  \n",
       " Mode  :character   Median :29.00   Mode  :character   Median :   1916.5  \n",
       "                    Mean   :30.28                      Mean   :   7558.9  \n",
       "                    3rd Qu.:45.00                      3rd Qu.:   4955.0  \n",
       "                    Max.   :56.00                      Max.   :1002614.0  \n",
       "     deaths          total_pop           male_pop         female_pop     \n",
       " Min.   :    0.0   Min.   :      74   Min.   :     39   Min.   :     35  \n",
       " 1st Qu.:   12.0   1st Qu.:   10945   1st Qu.:   5514   1st Qu.:   5460  \n",
       " Median :   31.0   Median :   25692   Median :  12798   Median :  12885  \n",
       " Mean   :  124.8   Mean   :  102166   Mean   :  50292   Mean   :  51873  \n",
       " 3rd Qu.:   77.0   3rd Qu.:   67445   3rd Qu.:  33481   3rd Qu.:  34108  \n",
       " Max.   :13936.0   Max.   :10105722   Max.   :4979641   Max.   :5126081  \n",
       "   white_pop         black_pop         asian_pop          hispanic_pop    \n",
       " Min.   :     18   Min.   :      0   Min.   :      0.0   Min.   :      0  \n",
       " 1st Qu.:   8093   1st Qu.:     95   1st Qu.:     31.0   1st Qu.:    323  \n",
       " Median :  20205   Median :    758   Median :    138.0   Median :   1025  \n",
       " Mean   :  62787   Mean   :  12554   Mean   :   5407.2   Mean   :  17986  \n",
       " 3rd Qu.:  53500   3rd Qu.:   5396   3rd Qu.:    712.5   3rd Qu.:   4868  \n",
       " Max.   :2676982   Max.   :1226134   Max.   :1442577.0   Max.   :4893579  \n",
       " amerindian_pop    other_race_pop    median_income    income_less_50K  \n",
       " Min.   :    0.0   Min.   :    0.0   Min.   : 19264   Min.   :      9  \n",
       " 1st Qu.:   24.0   1st Qu.:    0.0   1st Qu.: 41123   1st Qu.:   2294  \n",
       " Median :   95.5   Median :   10.0   Median : 48066   Median :   5339  \n",
       " Mean   :  668.0   Mean   :  227.7   Mean   : 49754   Mean   :  16579  \n",
       " 3rd Qu.:  348.0   3rd Qu.:   73.0   3rd Qu.: 55764   3rd Qu.:  12832  \n",
       " Max.   :64102.0   Max.   :46396.0   Max.   :129588   Max.   :1388992  \n",
       " income_50K_100K  income_100K_150K   income_150K_more   rent_under_50_percent\n",
       " Min.   :    19   Min.   :     0.0   Min.   :     0.0   Min.   :      6.0    \n",
       " 1st Qu.:  1244   1st Qu.:   396.2   1st Qu.:   183.0   1st Qu.:    685.2    \n",
       " Median :  2971   Median :  1017.5   Median :   483.5   Median :   1751.5    \n",
       " Mean   : 11342   Mean   :  5315.7   Mean   :  4582.0   Mean   :   9429.8    \n",
       " 3rd Qu.:  8038   3rd Qu.:  3134.0   3rd Qu.:  1756.5   3rd Qu.:   5166.8    \n",
       " Max.   :927390   Max.   :477403.0   Max.   :501413.0   Max.   :1160618.0    \n",
       " rent_over_50_percent   median_age      male_0_20         male_21_49     \n",
       " Min.   :     0       Min.   :21.60   Min.   :      1   Min.   :     10  \n",
       " 1st Qu.:   162       1st Qu.:37.90   1st Qu.:   1476   1st Qu.:   1900  \n",
       " Median :   486       Median :41.20   Median :   3524   Median :   4604  \n",
       " Mean   :  3237       Mean   :41.15   Mean   :  14139   Mean   :  19741  \n",
       " 3rd Qu.:  1576       3rd Qu.:44.20   3rd Qu.:   9245   3rd Qu.:  12309  \n",
       " Max.   :536832       Max.   :66.40   Max.   :1378157   Max.   :2161991  \n",
       " male_50_above      female_0_20       female_21_49     female_50_above  \n",
       " Min.   :     25   Min.   :      4   Min.   :      8   Min.   :     23  \n",
       " 1st Qu.:   2312   1st Qu.:   1363   1st Qu.:   1737   1st Qu.:   2452  \n",
       " Median :   5163   Median :   3277   Median :   4334   Median :   5710  \n",
       " Mean   :  17760   Mean   :  13514   Mean   :  19567   Mean   :  20243  \n",
       " 3rd Qu.:  13163   3rd Qu.:   8837   3rd Qu.:  11846   3rd Qu.:  14641  \n",
       " Max.   :1544545   Max.   :1322003   Max.   :2131518   Max.   :1795247  \n",
       " unemployed_pop      employed_pop        commute        worked_at_home  \n",
       " Min.   :     0.0   Min.   :     39   Min.   :     54   Min.   :     0  \n",
       " 1st Qu.:   286.2   1st Qu.:   4550   1st Qu.:   7994   1st Qu.:   178  \n",
       " Median :   745.5   Median :  10695   Median :  19334   Median :   420  \n",
       " Mean   :  3361.0   Mean   :  47931   Mean   :  85395   Mean   :  2237  \n",
       " 3rd Qu.:  2099.8   3rd Qu.:  29515   3rd Qu.:  53540   3rd Qu.:  1226  \n",
       " Max.   :406426.0   Max.   :4805817   Max.   :8379454   Max.   :249490  \n",
       " walked_to_work    \n",
       " Min.   :     0.0  \n",
       " 1st Qu.:    98.0  \n",
       " Median :   242.5  \n",
       " Mean   :  1288.8  \n",
       " 3rd Qu.:   678.5  \n",
       " Max.   :181289.0  "
      ]
     },
     "metadata": {},
     "output_type": "display_data"
    }
   ],
   "source": [
    "# Basic statistics\n",
    "summary(dataset_plus_census)"
   ]
  },
  {
   "cell_type": "code",
   "execution_count": 30,
   "id": "3b3487dc-9e14-4a26-bb08-fcbd8d991b9e",
   "metadata": {},
   "outputs": [
    {
     "name": "stdout",
     "output_type": "stream",
     "text": [
      "  unique_count\n",
      "1           51\n"
     ]
    },
    {
     "data": {
      "text/html": [
       "51"
      ],
      "text/latex": [
       "51"
      ],
      "text/markdown": [
       "51"
      ],
      "text/plain": [
       "[1] 51"
      ]
     },
     "metadata": {},
     "output_type": "display_data"
    },
    {
     "name": "stdout",
     "output_type": "stream",
     "text": [
      "  unique_count\n",
      "1         1878\n"
     ]
    }
   ],
   "source": [
    "#check\n",
    "\n",
    "# Convert state names to lowercase and count unique values\n",
    "unique_state_names <- dataset_plus_census %>%\n",
    "  mutate(state_name = tolower(state)) %>%  # Convert to lowercase\n",
    "  summarize(unique_count = n_distinct(state_name))\n",
    "print(unique_state_names)\n",
    "\n",
    "# count of state FIPs codes\n",
    "n_distinct(dataset_plus_census$state_fips_code)\n",
    "\n",
    "# Convert county names to lowercase, remove \"count\" from the names, and count unique values\n",
    "unique_county_names <- dataset_plus_census %>%\n",
    "    mutate(county_name = tolower(county_name)) %>%\n",
    "    mutate(count_name = gsub(\"county\", \"\", county_name, ignore.case = TRUE)) %>%\n",
    "    summarize(unique_count = n_distinct(county_name))\n",
    "print(unique_county_names)"
   ]
  },
  {
   "cell_type": "markdown",
   "id": "d9c9fd5d-0cb7-4bd2-b14b-c0e168c8a070",
   "metadata": {},
   "source": [
    "There are 51 different states with their corresponding FIPs codes, and 1878 counties in the dataset."
   ]
  },
  {
   "cell_type": "code",
   "execution_count": 34,
   "id": "2c47864e-3d8c-45e9-bc59-7d64ce6ed7d7",
   "metadata": {},
   "outputs": [
    {
     "name": "stdout",
     "output_type": "stream",
     "text": [
      "package 'maps' successfully unpacked and MD5 sums checked\n",
      "\n",
      "The downloaded binary packages are in\n",
      "\tC:\\Users\\yamph\\AppData\\Local\\Temp\\RtmpWYQeHL\\downloaded_packages\n"
     ]
    }
   ],
   "source": [
    "# For heat map\n",
    "install.packages(\"maps\")"
   ]
  },
  {
   "cell_type": "code",
   "execution_count": 35,
   "id": "8d8f7a28-ef3b-4895-894e-fb494d109b9e",
   "metadata": {},
   "outputs": [
    {
     "name": "stderr",
     "output_type": "stream",
     "text": [
      "\n",
      "Attaching package: 'maps'\n",
      "\n",
      "\n",
      "The following object is masked from 'package:purrr':\n",
      "\n",
      "    map\n",
      "\n",
      "\n"
     ]
    }
   ],
   "source": [
    "library(maps)"
   ]
  },
  {
   "cell_type": "code",
   "execution_count": 36,
   "id": "198f2c33-3fec-43ad-bcab-f1799cc9e861",
   "metadata": {},
   "outputs": [
    {
     "data": {
      "text/html": [
       "<table class=\"dataframe\">\n",
       "<caption>A tibble: 4488 × 6</caption>\n",
       "<thead>\n",
       "\t<tr><th scope=col>long</th><th scope=col>lat</th><th scope=col>group</th><th scope=col>order</th><th scope=col>region</th><th scope=col>county</th></tr>\n",
       "\t<tr><th scope=col>&lt;dbl&gt;</th><th scope=col>&lt;dbl&gt;</th><th scope=col>&lt;dbl&gt;</th><th scope=col>&lt;int&gt;</th><th scope=col>&lt;chr&gt;</th><th scope=col>&lt;chr&gt;</th></tr>\n",
       "</thead>\n",
       "<tbody>\n",
       "\t<tr><td>-95.75271</td><td>31.53560</td><td>2492</td><td>74520</td><td>texas</td><td>anderson</td></tr>\n",
       "\t<tr><td>-95.76989</td><td>31.55852</td><td>2492</td><td>74521</td><td>texas</td><td>anderson</td></tr>\n",
       "\t<tr><td>-95.76416</td><td>31.58143</td><td>2492</td><td>74522</td><td>texas</td><td>anderson</td></tr>\n",
       "\t<tr><td>-95.72979</td><td>31.58143</td><td>2492</td><td>74523</td><td>texas</td><td>anderson</td></tr>\n",
       "\t<tr><td>-95.74698</td><td>31.61008</td><td>2492</td><td>74524</td><td>texas</td><td>anderson</td></tr>\n",
       "\t<tr><td>-95.72405</td><td>31.63873</td><td>2492</td><td>74525</td><td>texas</td><td>anderson</td></tr>\n",
       "\t<tr><td>-95.75271</td><td>31.67311</td><td>2492</td><td>74526</td><td>texas</td><td>anderson</td></tr>\n",
       "\t<tr><td>-95.76989</td><td>31.66738</td><td>2492</td><td>74527</td><td>texas</td><td>anderson</td></tr>\n",
       "\t<tr><td>-95.77563</td><td>31.63300</td><td>2492</td><td>74528</td><td>texas</td><td>anderson</td></tr>\n",
       "\t<tr><td>-95.79855</td><td>31.63873</td><td>2492</td><td>74529</td><td>texas</td><td>anderson</td></tr>\n",
       "\t<tr><td>-95.81000</td><td>31.67311</td><td>2492</td><td>74530</td><td>texas</td><td>anderson</td></tr>\n",
       "\t<tr><td>-95.79282</td><td>31.71321</td><td>2492</td><td>74531</td><td>texas</td><td>anderson</td></tr>\n",
       "\t<tr><td>-95.82146</td><td>31.70748</td><td>2492</td><td>74532</td><td>texas</td><td>anderson</td></tr>\n",
       "\t<tr><td>-95.87876</td><td>31.71321</td><td>2492</td><td>74533</td><td>texas</td><td>anderson</td></tr>\n",
       "\t<tr><td>-95.87876</td><td>31.75332</td><td>2492</td><td>74534</td><td>texas</td><td>anderson</td></tr>\n",
       "\t<tr><td>-95.91887</td><td>31.78197</td><td>2492</td><td>74535</td><td>texas</td><td>anderson</td></tr>\n",
       "\t<tr><td>-95.94751</td><td>31.78197</td><td>2492</td><td>74536</td><td>texas</td><td>anderson</td></tr>\n",
       "\t<tr><td>-95.98762</td><td>31.80489</td><td>2492</td><td>74537</td><td>texas</td><td>anderson</td></tr>\n",
       "\t<tr><td>-95.98189</td><td>31.83927</td><td>2492</td><td>74538</td><td>texas</td><td>anderson</td></tr>\n",
       "\t<tr><td>-95.99908</td><td>31.86218</td><td>2492</td><td>74539</td><td>texas</td><td>anderson</td></tr>\n",
       "\t<tr><td>-95.98189</td><td>31.88510</td><td>2492</td><td>74540</td><td>texas</td><td>anderson</td></tr>\n",
       "\t<tr><td>-96.02200</td><td>31.88510</td><td>2492</td><td>74541</td><td>texas</td><td>anderson</td></tr>\n",
       "\t<tr><td>-96.03345</td><td>31.90229</td><td>2492</td><td>74542</td><td>texas</td><td>anderson</td></tr>\n",
       "\t<tr><td>-96.01054</td><td>31.93667</td><td>2492</td><td>74543</td><td>texas</td><td>anderson</td></tr>\n",
       "\t<tr><td>-96.02200</td><td>31.94813</td><td>2492</td><td>74544</td><td>texas</td><td>anderson</td></tr>\n",
       "\t<tr><td>-96.07356</td><td>31.95959</td><td>2492</td><td>74545</td><td>texas</td><td>anderson</td></tr>\n",
       "\t<tr><td>-96.06783</td><td>31.99396</td><td>2492</td><td>74546</td><td>texas</td><td>anderson</td></tr>\n",
       "\t<tr><td>-96.06210</td><td>32.01688</td><td>2492</td><td>74547</td><td>texas</td><td>anderson</td></tr>\n",
       "\t<tr><td>-95.44904</td><td>32.09710</td><td>2492</td><td>74548</td><td>texas</td><td>anderson</td></tr>\n",
       "\t<tr><td>-95.44331</td><td>32.07418</td><td>2492</td><td>74549</td><td>texas</td><td>anderson</td></tr>\n",
       "\t<tr><td>⋮</td><td>⋮</td><td>⋮</td><td>⋮</td><td>⋮</td><td>⋮</td></tr>\n",
       "\t<tr><td> -98.94981</td><td>33.38625</td><td>2744</td><td>79230</td><td>texas</td><td>young </td></tr>\n",
       "\t<tr><td> -98.42269</td><td>33.39198</td><td>2744</td><td>79231</td><td>texas</td><td>young </td></tr>\n",
       "\t<tr><td> -99.44256</td><td>27.23841</td><td>2745</td><td>79233</td><td>texas</td><td>zapata</td></tr>\n",
       "\t<tr><td> -99.39672</td><td>27.28425</td><td>2745</td><td>79234</td><td>texas</td><td>zapata</td></tr>\n",
       "\t<tr><td> -99.11024</td><td>27.28425</td><td>2745</td><td>79235</td><td>texas</td><td>zapata</td></tr>\n",
       "\t<tr><td> -98.96700</td><td>27.27279</td><td>2745</td><td>79236</td><td>texas</td><td>zapata</td></tr>\n",
       "\t<tr><td> -98.96700</td><td>26.79151</td><td>2745</td><td>79237</td><td>texas</td><td>zapata</td></tr>\n",
       "\t<tr><td> -99.03576</td><td>26.67692</td><td>2745</td><td>79238</td><td>texas</td><td>zapata</td></tr>\n",
       "\t<tr><td> -99.15607</td><td>26.58524</td><td>2745</td><td>79239</td><td>texas</td><td>zapata</td></tr>\n",
       "\t<tr><td> -99.17899</td><td>26.63108</td><td>2745</td><td>79240</td><td>texas</td><td>zapata</td></tr>\n",
       "\t<tr><td> -99.20191</td><td>26.65973</td><td>2745</td><td>79241</td><td>texas</td><td>zapata</td></tr>\n",
       "\t<tr><td> -99.20764</td><td>26.70556</td><td>2745</td><td>79242</td><td>texas</td><td>zapata</td></tr>\n",
       "\t<tr><td> -99.27640</td><td>26.84880</td><td>2745</td><td>79243</td><td>texas</td><td>zapata</td></tr>\n",
       "\t<tr><td> -99.31651</td><td>26.86599</td><td>2745</td><td>79244</td><td>texas</td><td>zapata</td></tr>\n",
       "\t<tr><td> -99.34515</td><td>26.91183</td><td>2745</td><td>79245</td><td>texas</td><td>zapata</td></tr>\n",
       "\t<tr><td> -99.37953</td><td>26.92329</td><td>2745</td><td>79246</td><td>texas</td><td>zapata</td></tr>\n",
       "\t<tr><td> -99.39098</td><td>26.94048</td><td>2745</td><td>79247</td><td>texas</td><td>zapata</td></tr>\n",
       "\t<tr><td> -99.40245</td><td>26.98058</td><td>2745</td><td>79248</td><td>texas</td><td>zapata</td></tr>\n",
       "\t<tr><td> -99.42536</td><td>27.00350</td><td>2745</td><td>79249</td><td>texas</td><td>zapata</td></tr>\n",
       "\t<tr><td> -99.45402</td><td>27.03215</td><td>2745</td><td>79250</td><td>texas</td><td>zapata</td></tr>\n",
       "\t<tr><td> -99.46547</td><td>27.06080</td><td>2745</td><td>79251</td><td>texas</td><td>zapata</td></tr>\n",
       "\t<tr><td> -99.44829</td><td>27.09517</td><td>2745</td><td>79252</td><td>texas</td><td>zapata</td></tr>\n",
       "\t<tr><td> -99.43682</td><td>27.12382</td><td>2745</td><td>79253</td><td>texas</td><td>zapata</td></tr>\n",
       "\t<tr><td> -99.44256</td><td>27.21549</td><td>2745</td><td>79254</td><td>texas</td><td>zapata</td></tr>\n",
       "\t<tr><td> -99.44256</td><td>27.23841</td><td>2745</td><td>79255</td><td>texas</td><td>zapata</td></tr>\n",
       "\t<tr><td> -99.40818</td><td>29.08334</td><td>2746</td><td>79257</td><td>texas</td><td>zavala</td></tr>\n",
       "\t<tr><td> -99.40818</td><td>28.64216</td><td>2746</td><td>79258</td><td>texas</td><td>zavala</td></tr>\n",
       "\t<tr><td>-100.11864</td><td>28.63643</td><td>2746</td><td>79259</td><td>texas</td><td>zavala</td></tr>\n",
       "\t<tr><td>-100.11864</td><td>29.07188</td><td>2746</td><td>79260</td><td>texas</td><td>zavala</td></tr>\n",
       "\t<tr><td> -99.40818</td><td>29.08334</td><td>2746</td><td>79261</td><td>texas</td><td>zavala</td></tr>\n",
       "</tbody>\n",
       "</table>\n"
      ],
      "text/latex": [
       "A tibble: 4488 × 6\n",
       "\\begin{tabular}{llllll}\n",
       " long & lat & group & order & region & county\\\\\n",
       " <dbl> & <dbl> & <dbl> & <int> & <chr> & <chr>\\\\\n",
       "\\hline\n",
       "\t -95.75271 & 31.53560 & 2492 & 74520 & texas & anderson\\\\\n",
       "\t -95.76989 & 31.55852 & 2492 & 74521 & texas & anderson\\\\\n",
       "\t -95.76416 & 31.58143 & 2492 & 74522 & texas & anderson\\\\\n",
       "\t -95.72979 & 31.58143 & 2492 & 74523 & texas & anderson\\\\\n",
       "\t -95.74698 & 31.61008 & 2492 & 74524 & texas & anderson\\\\\n",
       "\t -95.72405 & 31.63873 & 2492 & 74525 & texas & anderson\\\\\n",
       "\t -95.75271 & 31.67311 & 2492 & 74526 & texas & anderson\\\\\n",
       "\t -95.76989 & 31.66738 & 2492 & 74527 & texas & anderson\\\\\n",
       "\t -95.77563 & 31.63300 & 2492 & 74528 & texas & anderson\\\\\n",
       "\t -95.79855 & 31.63873 & 2492 & 74529 & texas & anderson\\\\\n",
       "\t -95.81000 & 31.67311 & 2492 & 74530 & texas & anderson\\\\\n",
       "\t -95.79282 & 31.71321 & 2492 & 74531 & texas & anderson\\\\\n",
       "\t -95.82146 & 31.70748 & 2492 & 74532 & texas & anderson\\\\\n",
       "\t -95.87876 & 31.71321 & 2492 & 74533 & texas & anderson\\\\\n",
       "\t -95.87876 & 31.75332 & 2492 & 74534 & texas & anderson\\\\\n",
       "\t -95.91887 & 31.78197 & 2492 & 74535 & texas & anderson\\\\\n",
       "\t -95.94751 & 31.78197 & 2492 & 74536 & texas & anderson\\\\\n",
       "\t -95.98762 & 31.80489 & 2492 & 74537 & texas & anderson\\\\\n",
       "\t -95.98189 & 31.83927 & 2492 & 74538 & texas & anderson\\\\\n",
       "\t -95.99908 & 31.86218 & 2492 & 74539 & texas & anderson\\\\\n",
       "\t -95.98189 & 31.88510 & 2492 & 74540 & texas & anderson\\\\\n",
       "\t -96.02200 & 31.88510 & 2492 & 74541 & texas & anderson\\\\\n",
       "\t -96.03345 & 31.90229 & 2492 & 74542 & texas & anderson\\\\\n",
       "\t -96.01054 & 31.93667 & 2492 & 74543 & texas & anderson\\\\\n",
       "\t -96.02200 & 31.94813 & 2492 & 74544 & texas & anderson\\\\\n",
       "\t -96.07356 & 31.95959 & 2492 & 74545 & texas & anderson\\\\\n",
       "\t -96.06783 & 31.99396 & 2492 & 74546 & texas & anderson\\\\\n",
       "\t -96.06210 & 32.01688 & 2492 & 74547 & texas & anderson\\\\\n",
       "\t -95.44904 & 32.09710 & 2492 & 74548 & texas & anderson\\\\\n",
       "\t -95.44331 & 32.07418 & 2492 & 74549 & texas & anderson\\\\\n",
       "\t ⋮ & ⋮ & ⋮ & ⋮ & ⋮ & ⋮\\\\\n",
       "\t  -98.94981 & 33.38625 & 2744 & 79230 & texas & young \\\\\n",
       "\t  -98.42269 & 33.39198 & 2744 & 79231 & texas & young \\\\\n",
       "\t  -99.44256 & 27.23841 & 2745 & 79233 & texas & zapata\\\\\n",
       "\t  -99.39672 & 27.28425 & 2745 & 79234 & texas & zapata\\\\\n",
       "\t  -99.11024 & 27.28425 & 2745 & 79235 & texas & zapata\\\\\n",
       "\t  -98.96700 & 27.27279 & 2745 & 79236 & texas & zapata\\\\\n",
       "\t  -98.96700 & 26.79151 & 2745 & 79237 & texas & zapata\\\\\n",
       "\t  -99.03576 & 26.67692 & 2745 & 79238 & texas & zapata\\\\\n",
       "\t  -99.15607 & 26.58524 & 2745 & 79239 & texas & zapata\\\\\n",
       "\t  -99.17899 & 26.63108 & 2745 & 79240 & texas & zapata\\\\\n",
       "\t  -99.20191 & 26.65973 & 2745 & 79241 & texas & zapata\\\\\n",
       "\t  -99.20764 & 26.70556 & 2745 & 79242 & texas & zapata\\\\\n",
       "\t  -99.27640 & 26.84880 & 2745 & 79243 & texas & zapata\\\\\n",
       "\t  -99.31651 & 26.86599 & 2745 & 79244 & texas & zapata\\\\\n",
       "\t  -99.34515 & 26.91183 & 2745 & 79245 & texas & zapata\\\\\n",
       "\t  -99.37953 & 26.92329 & 2745 & 79246 & texas & zapata\\\\\n",
       "\t  -99.39098 & 26.94048 & 2745 & 79247 & texas & zapata\\\\\n",
       "\t  -99.40245 & 26.98058 & 2745 & 79248 & texas & zapata\\\\\n",
       "\t  -99.42536 & 27.00350 & 2745 & 79249 & texas & zapata\\\\\n",
       "\t  -99.45402 & 27.03215 & 2745 & 79250 & texas & zapata\\\\\n",
       "\t  -99.46547 & 27.06080 & 2745 & 79251 & texas & zapata\\\\\n",
       "\t  -99.44829 & 27.09517 & 2745 & 79252 & texas & zapata\\\\\n",
       "\t  -99.43682 & 27.12382 & 2745 & 79253 & texas & zapata\\\\\n",
       "\t  -99.44256 & 27.21549 & 2745 & 79254 & texas & zapata\\\\\n",
       "\t  -99.44256 & 27.23841 & 2745 & 79255 & texas & zapata\\\\\n",
       "\t  -99.40818 & 29.08334 & 2746 & 79257 & texas & zavala\\\\\n",
       "\t  -99.40818 & 28.64216 & 2746 & 79258 & texas & zavala\\\\\n",
       "\t -100.11864 & 28.63643 & 2746 & 79259 & texas & zavala\\\\\n",
       "\t -100.11864 & 29.07188 & 2746 & 79260 & texas & zavala\\\\\n",
       "\t  -99.40818 & 29.08334 & 2746 & 79261 & texas & zavala\\\\\n",
       "\\end{tabular}\n"
      ],
      "text/markdown": [
       "\n",
       "A tibble: 4488 × 6\n",
       "\n",
       "| long &lt;dbl&gt; | lat &lt;dbl&gt; | group &lt;dbl&gt; | order &lt;int&gt; | region &lt;chr&gt; | county &lt;chr&gt; |\n",
       "|---|---|---|---|---|---|\n",
       "| -95.75271 | 31.53560 | 2492 | 74520 | texas | anderson |\n",
       "| -95.76989 | 31.55852 | 2492 | 74521 | texas | anderson |\n",
       "| -95.76416 | 31.58143 | 2492 | 74522 | texas | anderson |\n",
       "| -95.72979 | 31.58143 | 2492 | 74523 | texas | anderson |\n",
       "| -95.74698 | 31.61008 | 2492 | 74524 | texas | anderson |\n",
       "| -95.72405 | 31.63873 | 2492 | 74525 | texas | anderson |\n",
       "| -95.75271 | 31.67311 | 2492 | 74526 | texas | anderson |\n",
       "| -95.76989 | 31.66738 | 2492 | 74527 | texas | anderson |\n",
       "| -95.77563 | 31.63300 | 2492 | 74528 | texas | anderson |\n",
       "| -95.79855 | 31.63873 | 2492 | 74529 | texas | anderson |\n",
       "| -95.81000 | 31.67311 | 2492 | 74530 | texas | anderson |\n",
       "| -95.79282 | 31.71321 | 2492 | 74531 | texas | anderson |\n",
       "| -95.82146 | 31.70748 | 2492 | 74532 | texas | anderson |\n",
       "| -95.87876 | 31.71321 | 2492 | 74533 | texas | anderson |\n",
       "| -95.87876 | 31.75332 | 2492 | 74534 | texas | anderson |\n",
       "| -95.91887 | 31.78197 | 2492 | 74535 | texas | anderson |\n",
       "| -95.94751 | 31.78197 | 2492 | 74536 | texas | anderson |\n",
       "| -95.98762 | 31.80489 | 2492 | 74537 | texas | anderson |\n",
       "| -95.98189 | 31.83927 | 2492 | 74538 | texas | anderson |\n",
       "| -95.99908 | 31.86218 | 2492 | 74539 | texas | anderson |\n",
       "| -95.98189 | 31.88510 | 2492 | 74540 | texas | anderson |\n",
       "| -96.02200 | 31.88510 | 2492 | 74541 | texas | anderson |\n",
       "| -96.03345 | 31.90229 | 2492 | 74542 | texas | anderson |\n",
       "| -96.01054 | 31.93667 | 2492 | 74543 | texas | anderson |\n",
       "| -96.02200 | 31.94813 | 2492 | 74544 | texas | anderson |\n",
       "| -96.07356 | 31.95959 | 2492 | 74545 | texas | anderson |\n",
       "| -96.06783 | 31.99396 | 2492 | 74546 | texas | anderson |\n",
       "| -96.06210 | 32.01688 | 2492 | 74547 | texas | anderson |\n",
       "| -95.44904 | 32.09710 | 2492 | 74548 | texas | anderson |\n",
       "| -95.44331 | 32.07418 | 2492 | 74549 | texas | anderson |\n",
       "| ⋮ | ⋮ | ⋮ | ⋮ | ⋮ | ⋮ |\n",
       "|  -98.94981 | 33.38625 | 2744 | 79230 | texas | young  |\n",
       "|  -98.42269 | 33.39198 | 2744 | 79231 | texas | young  |\n",
       "|  -99.44256 | 27.23841 | 2745 | 79233 | texas | zapata |\n",
       "|  -99.39672 | 27.28425 | 2745 | 79234 | texas | zapata |\n",
       "|  -99.11024 | 27.28425 | 2745 | 79235 | texas | zapata |\n",
       "|  -98.96700 | 27.27279 | 2745 | 79236 | texas | zapata |\n",
       "|  -98.96700 | 26.79151 | 2745 | 79237 | texas | zapata |\n",
       "|  -99.03576 | 26.67692 | 2745 | 79238 | texas | zapata |\n",
       "|  -99.15607 | 26.58524 | 2745 | 79239 | texas | zapata |\n",
       "|  -99.17899 | 26.63108 | 2745 | 79240 | texas | zapata |\n",
       "|  -99.20191 | 26.65973 | 2745 | 79241 | texas | zapata |\n",
       "|  -99.20764 | 26.70556 | 2745 | 79242 | texas | zapata |\n",
       "|  -99.27640 | 26.84880 | 2745 | 79243 | texas | zapata |\n",
       "|  -99.31651 | 26.86599 | 2745 | 79244 | texas | zapata |\n",
       "|  -99.34515 | 26.91183 | 2745 | 79245 | texas | zapata |\n",
       "|  -99.37953 | 26.92329 | 2745 | 79246 | texas | zapata |\n",
       "|  -99.39098 | 26.94048 | 2745 | 79247 | texas | zapata |\n",
       "|  -99.40245 | 26.98058 | 2745 | 79248 | texas | zapata |\n",
       "|  -99.42536 | 27.00350 | 2745 | 79249 | texas | zapata |\n",
       "|  -99.45402 | 27.03215 | 2745 | 79250 | texas | zapata |\n",
       "|  -99.46547 | 27.06080 | 2745 | 79251 | texas | zapata |\n",
       "|  -99.44829 | 27.09517 | 2745 | 79252 | texas | zapata |\n",
       "|  -99.43682 | 27.12382 | 2745 | 79253 | texas | zapata |\n",
       "|  -99.44256 | 27.21549 | 2745 | 79254 | texas | zapata |\n",
       "|  -99.44256 | 27.23841 | 2745 | 79255 | texas | zapata |\n",
       "|  -99.40818 | 29.08334 | 2746 | 79257 | texas | zavala |\n",
       "|  -99.40818 | 28.64216 | 2746 | 79258 | texas | zavala |\n",
       "| -100.11864 | 28.63643 | 2746 | 79259 | texas | zavala |\n",
       "| -100.11864 | 29.07188 | 2746 | 79260 | texas | zavala |\n",
       "|  -99.40818 | 29.08334 | 2746 | 79261 | texas | zavala |\n",
       "\n"
      ],
      "text/plain": [
       "     long       lat      group order region county  \n",
       "1    -95.75271  31.53560 2492  74520 texas  anderson\n",
       "2    -95.76989  31.55852 2492  74521 texas  anderson\n",
       "3    -95.76416  31.58143 2492  74522 texas  anderson\n",
       "4    -95.72979  31.58143 2492  74523 texas  anderson\n",
       "5    -95.74698  31.61008 2492  74524 texas  anderson\n",
       "6    -95.72405  31.63873 2492  74525 texas  anderson\n",
       "7    -95.75271  31.67311 2492  74526 texas  anderson\n",
       "8    -95.76989  31.66738 2492  74527 texas  anderson\n",
       "9    -95.77563  31.63300 2492  74528 texas  anderson\n",
       "10   -95.79855  31.63873 2492  74529 texas  anderson\n",
       "11   -95.81000  31.67311 2492  74530 texas  anderson\n",
       "12   -95.79282  31.71321 2492  74531 texas  anderson\n",
       "13   -95.82146  31.70748 2492  74532 texas  anderson\n",
       "14   -95.87876  31.71321 2492  74533 texas  anderson\n",
       "15   -95.87876  31.75332 2492  74534 texas  anderson\n",
       "16   -95.91887  31.78197 2492  74535 texas  anderson\n",
       "17   -95.94751  31.78197 2492  74536 texas  anderson\n",
       "18   -95.98762  31.80489 2492  74537 texas  anderson\n",
       "19   -95.98189  31.83927 2492  74538 texas  anderson\n",
       "20   -95.99908  31.86218 2492  74539 texas  anderson\n",
       "21   -95.98189  31.88510 2492  74540 texas  anderson\n",
       "22   -96.02200  31.88510 2492  74541 texas  anderson\n",
       "23   -96.03345  31.90229 2492  74542 texas  anderson\n",
       "24   -96.01054  31.93667 2492  74543 texas  anderson\n",
       "25   -96.02200  31.94813 2492  74544 texas  anderson\n",
       "26   -96.07356  31.95959 2492  74545 texas  anderson\n",
       "27   -96.06783  31.99396 2492  74546 texas  anderson\n",
       "28   -96.06210  32.01688 2492  74547 texas  anderson\n",
       "29   -95.44904  32.09710 2492  74548 texas  anderson\n",
       "30   -95.44331  32.07418 2492  74549 texas  anderson\n",
       "⋮    ⋮          ⋮        ⋮     ⋮     ⋮      ⋮       \n",
       "4459  -98.94981 33.38625 2744  79230 texas  young   \n",
       "4460  -98.42269 33.39198 2744  79231 texas  young   \n",
       "4461  -99.44256 27.23841 2745  79233 texas  zapata  \n",
       "4462  -99.39672 27.28425 2745  79234 texas  zapata  \n",
       "4463  -99.11024 27.28425 2745  79235 texas  zapata  \n",
       "4464  -98.96700 27.27279 2745  79236 texas  zapata  \n",
       "4465  -98.96700 26.79151 2745  79237 texas  zapata  \n",
       "4466  -99.03576 26.67692 2745  79238 texas  zapata  \n",
       "4467  -99.15607 26.58524 2745  79239 texas  zapata  \n",
       "4468  -99.17899 26.63108 2745  79240 texas  zapata  \n",
       "4469  -99.20191 26.65973 2745  79241 texas  zapata  \n",
       "4470  -99.20764 26.70556 2745  79242 texas  zapata  \n",
       "4471  -99.27640 26.84880 2745  79243 texas  zapata  \n",
       "4472  -99.31651 26.86599 2745  79244 texas  zapata  \n",
       "4473  -99.34515 26.91183 2745  79245 texas  zapata  \n",
       "4474  -99.37953 26.92329 2745  79246 texas  zapata  \n",
       "4475  -99.39098 26.94048 2745  79247 texas  zapata  \n",
       "4476  -99.40245 26.98058 2745  79248 texas  zapata  \n",
       "4477  -99.42536 27.00350 2745  79249 texas  zapata  \n",
       "4478  -99.45402 27.03215 2745  79250 texas  zapata  \n",
       "4479  -99.46547 27.06080 2745  79251 texas  zapata  \n",
       "4480  -99.44829 27.09517 2745  79252 texas  zapata  \n",
       "4481  -99.43682 27.12382 2745  79253 texas  zapata  \n",
       "4482  -99.44256 27.21549 2745  79254 texas  zapata  \n",
       "4483  -99.44256 27.23841 2745  79255 texas  zapata  \n",
       "4484  -99.40818 29.08334 2746  79257 texas  zavala  \n",
       "4485  -99.40818 28.64216 2746  79258 texas  zavala  \n",
       "4486 -100.11864 28.63643 2746  79259 texas  zavala  \n",
       "4487 -100.11864 29.07188 2746  79260 texas  zavala  \n",
       "4488  -99.40818 29.08334 2746  79261 texas  zavala  "
      ]
     },
     "metadata": {},
     "output_type": "display_data"
    }
   ],
   "source": [
    "# Heat map showing counties in Texas\n",
    "\n",
    "# Get the county polygon data\n",
    "counties_polygon <- as_tibble(map_data(\"county\"))\n",
    "\n",
    "# Filter for Texas counties and rename the subregion to county\n",
    "counties_polygon_TX <- counties_polygon %>% dplyr::filter(region == \"texas\") %>% \n",
    "  rename(c(county = subregion)) \n",
    "counties_polygon_TX"
   ]
  },
  {
   "cell_type": "code",
   "execution_count": 37,
   "id": "1e5e726a-ad1f-4514-94e7-6dd13a3e883d",
   "metadata": {},
   "outputs": [],
   "source": [
    "# Confirmed cases and deaths per 1000 for each county\n",
    "\n",
    "#Summarize the data to get total confirmed cases and deaths by county\n",
    "county_summary_1000 <- dataset_plus_census %>%\n",
    "  group_by(county_name) %>%\n",
    "  summarise(\n",
    "    total_confirmed_cases = sum(confirmed_cases, na.rm = TRUE),\n",
    "    total_deaths = sum(deaths, na.rm = TRUE),\n",
    "    total_pop = sum(total_pop, na.rm = TRUE)\n",
    "  ) %>%\n",
    "  mutate(\n",
    "    confirmed_cases_per_1000 = total_confirmed_cases / total_pop * 1000,\n",
    "    deaths_per_1000 = total_deaths / total_pop * 1000\n",
    "  )"
   ]
  },
  {
   "cell_type": "code",
   "execution_count": 41,
   "id": "fe5130ba-1946-4d54-b2bf-2e6b1c666d79",
   "metadata": {},
   "outputs": [
    {
     "name": "stderr",
     "output_type": "stream",
     "text": [
      "ERROR while rich displaying an object: Error in grid.Call.graphics(C_setviewport, vp, TRUE): non-finite location and/or size for viewport\n",
      "\n",
      "Traceback:\n",
      "1. sapply(x, f, simplify = simplify)\n",
      "2. lapply(X = X, FUN = FUN, ...)\n",
      "3. FUN(X[[i]], ...)\n",
      "4. tryCatch(withCallingHandlers({\n",
      " .     if (!mime %in% names(repr::mime2repr)) \n",
      " .         stop(\"No repr_* for mimetype \", mime, \" in repr::mime2repr\")\n",
      " .     rpr <- repr::mime2repr[[mime]](obj)\n",
      " .     if (is.null(rpr)) \n",
      " .         return(NULL)\n",
      " .     prepare_content(is.raw(rpr), rpr)\n",
      " . }, error = error_handler), error = outer_handler)\n",
      "5. tryCatchList(expr, classes, parentenv, handlers)\n",
      "6. tryCatchOne(expr, names, parentenv, handlers[[1L]])\n",
      "7. doTryCatch(return(expr), name, parentenv, handler)\n",
      "8. withCallingHandlers({\n",
      " .     if (!mime %in% names(repr::mime2repr)) \n",
      " .         stop(\"No repr_* for mimetype \", mime, \" in repr::mime2repr\")\n",
      " .     rpr <- repr::mime2repr[[mime]](obj)\n",
      " .     if (is.null(rpr)) \n",
      " .         return(NULL)\n",
      " .     prepare_content(is.raw(rpr), rpr)\n",
      " . }, error = error_handler)\n",
      "9. repr::mime2repr[[mime]](obj)\n",
      "10. repr_text.default(obj)\n",
      "11. paste(capture.output(print(obj)), collapse = \"\\n\")\n",
      "12. capture.output(print(obj))\n",
      "13. withVisible(...elt(i))\n",
      "14. print(obj)\n",
      "15. print.ggplot(obj)\n",
      "16. grid.draw(gtable)\n",
      "17. grid.draw.gTree(gtable)\n",
      "18. recordGraphics(drawGTree(x), list(x = x), getNamespace(\"grid\"))\n",
      "19. drawGTree(x)\n",
      "20. grid.draw(x$children[[i]], recording = FALSE)\n",
      "21. grid.draw.gTree(x$children[[i]], recording = FALSE)\n",
      "22. recordGraphics(drawGTree(x), list(x = x), getNamespace(\"grid\"))\n",
      "23. drawGTree(x)\n",
      "24. preDraw(x)\n",
      "25. preDraw.gTree(x)\n",
      "26. pushvpgp(x)\n",
      "27. pushgrobvp(x$vp)\n",
      "28. pushgrobvp.viewport(x$vp)\n",
      "29. pushViewport(vp, recording = FALSE)\n",
      "30. lapply(vps, push.vp, recording)\n",
      "31. FUN(X[[i]], ...)\n",
      "32. push.vp.viewport(X[[i]], ...)\n",
      "33. grid.Call.graphics(C_setviewport, vp, TRUE)\n"
     ]
    }
   ],
   "source": [
    "# Do right join\n",
    "counties_polygon_TX <- right_join(counties_polygon_TX, county_summary_1000, by = c(\"county\" = \"county_name\"))\n",
    "\n",
    "# plot the heat map\n",
    "ggplot(counties_polygon_TX, aes(long, lat, group = group)) + \n",
    "  geom_polygon(aes(fill = confirmed_cases_per_1000)) +\n",
    "  coord_fixed() +\n",
    "    scale_fill_viridis_c() +\n",
    "  labs(title = \"Texas confirmed cases (per 1000) by county\", \n",
    "fill = \"Confirmed Cases per 1000\") +\n",
    "theme_minimal()"
   ]
  },
  {
   "cell_type": "markdown",
   "id": "7b42d13c-bf21-48f5-8e86-bac5bbc1efa3",
   "metadata": {},
   "source": [
    "## Chosen features for clustering"
   ]
  },
  {
   "cell_type": "markdown",
   "id": "a013c16a-6a5a-4789-b2b8-9a7f1a200b30",
   "metadata": {},
   "source": [
    "## Table with chosen features with their statistics"
   ]
  },
  {
   "cell_type": "markdown",
   "id": "b2644445-8f41-4e25-97f7-0fa77f53e261",
   "metadata": {},
   "source": [
    "## Chosen measures for similarity/distance"
   ]
  },
  {
   "cell_type": "markdown",
   "id": "ea73f4ea-0334-4fe9-be89-8e53f141ed34",
   "metadata": {},
   "source": [
    "## Cluster Analysis"
   ]
  },
  {
   "cell_type": "markdown",
   "id": "b5f952a2-6d3c-4104-97a5-52fface226c0",
   "metadata": {},
   "source": [
    "### k-means Clustering"
   ]
  },
  {
   "cell_type": "markdown",
   "id": "2fc96cb2-a5cc-4160-a40a-d99b51bcffbf",
   "metadata": {},
   "source": [
    "How a suitable number of clusters for this method was determined?"
   ]
  },
  {
   "cell_type": "markdown",
   "id": "5c65bd78-c7c1-443f-9e7e-03ded0b812a5",
   "metadata": {},
   "source": [
    "Compare the clusters"
   ]
  },
  {
   "cell_type": "markdown",
   "id": "a1d3934f-3467-4d9f-a3e2-3729ccb7ec26",
   "metadata": {},
   "source": [
    "Visualization of evaluation of the clustering"
   ]
  },
  {
   "cell_type": "markdown",
   "id": "30f9c9bf-9afe-429a-97ef-af373faa403a",
   "metadata": {},
   "source": [
    "Feature chosen as ground truth (label/target) for evaluation"
   ]
  },
  {
   "cell_type": "markdown",
   "id": "5dca30a8-7e93-4ac4-9e7a-25480099b359",
   "metadata": {},
   "source": [
    "### Hierarchical Clustering"
   ]
  },
  {
   "cell_type": "markdown",
   "id": "453a802c-4861-4b7a-97b6-b1be51e13e77",
   "metadata": {},
   "source": [
    "### Third Clustering"
   ]
  },
  {
   "cell_type": "markdown",
   "id": "42912dc4-9a06-4cf9-abf4-747094e85c5a",
   "metadata": {},
   "source": [
    "### Fourth Clustering"
   ]
  },
  {
   "cell_type": "markdown",
   "id": "eb0c588e-2c8d-4819-8199-a84de9a86285",
   "metadata": {},
   "source": [
    "## Questions to answer"
   ]
  },
  {
   "cell_type": "markdown",
   "id": "2dc7821e-a4e7-4c3f-815a-b4d17903812d",
   "metadata": {},
   "source": [
    "What counties are similar in terms of makeup of the population, and the response to the virus?"
   ]
  },
  {
   "cell_type": "markdown",
   "id": "f2384057-e1df-46e7-bf29-e8c3a0686f3d",
   "metadata": {},
   "source": [
    "What are the differences between the found groups of counties?"
   ]
  },
  {
   "cell_type": "markdown",
   "id": "3f6e963d-a875-4878-919a-a60720c214a4",
   "metadata": {},
   "source": [
    "Can we identify groups that are more severely hit than others?"
   ]
  },
  {
   "cell_type": "code",
   "execution_count": null,
   "id": "429ffbc1-c02e-486a-a987-f32becba611d",
   "metadata": {},
   "outputs": [],
   "source": []
  }
 ],
 "metadata": {
  "kernelspec": {
   "display_name": "R",
   "language": "R",
   "name": "ir"
  },
  "language_info": {
   "codemirror_mode": "r",
   "file_extension": ".r",
   "mimetype": "text/x-r-source",
   "name": "R",
   "pygments_lexer": "r",
   "version": "4.4.1"
  }
 },
 "nbformat": 4,
 "nbformat_minor": 5
}
