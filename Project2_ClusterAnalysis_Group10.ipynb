{
 "cells": [
  {
   "cell_type": "code",
   "execution_count": 3,
   "id": "43e4d6d4-2594-497e-8494-1622fd035c75",
   "metadata": {},
   "outputs": [
    {
     "name": "stderr",
     "output_type": "stream",
     "text": [
      "also installing the dependencies 'colorspace', 'sys', 'bit', 'ps', 'sass', 'cachem', 'farver', 'labeling', 'munsell', 'RColorBrewer', 'viridisLite', 'rappdirs', 'rematch', 'askpass', 'bit64', 'prettyunits', 'processx', 'highr', 'xfun', 'yaml', 'bslib', 'fontawesome', 'jquerylib', 'tinytex', 'backports', 'generics', 'memoise', 'blob', 'DBI', 'R6', 'tidyselect', 'withr', 'data.table', 'gtable', 'isoband', 'scales', 'gargle', 'cellranger', 'curl', 'ids', 'rematch2', 'cpp11', 'pkgconfig', 'mime', 'openssl', 'timechange', 'systemfonts', 'textshaping', 'clipr', 'vroom', 'tzdb', 'progress', 'callr', 'fs', 'knitr', 'rmarkdown', 'selectr', 'stringi', 'broom', 'conflicted', 'dbplyr', 'dplyr', 'dtplyr', 'forcats', 'ggplot2', 'googledrive', 'googlesheets4', 'haven', 'hms', 'httr', 'lubridate', 'magrittr', 'modelr', 'purrr', 'ragg', 'readr', 'readxl', 'reprex', 'rstudioapi', 'rvest', 'stringr', 'tibble', 'tidyr', 'xml2'\n",
      "\n",
      "\n"
     ]
    },
    {
     "name": "stdout",
     "output_type": "stream",
     "text": [
      "package 'colorspace' successfully unpacked and MD5 sums checked\n",
      "package 'sys' successfully unpacked and MD5 sums checked\n",
      "package 'bit' successfully unpacked and MD5 sums checked\n",
      "package 'ps' successfully unpacked and MD5 sums checked\n",
      "package 'sass' successfully unpacked and MD5 sums checked\n",
      "package 'cachem' successfully unpacked and MD5 sums checked\n",
      "package 'farver' successfully unpacked and MD5 sums checked\n",
      "package 'labeling' successfully unpacked and MD5 sums checked\n",
      "package 'munsell' successfully unpacked and MD5 sums checked\n",
      "package 'RColorBrewer' successfully unpacked and MD5 sums checked\n",
      "package 'viridisLite' successfully unpacked and MD5 sums checked\n",
      "package 'rappdirs' successfully unpacked and MD5 sums checked\n",
      "package 'rematch' successfully unpacked and MD5 sums checked\n",
      "package 'askpass' successfully unpacked and MD5 sums checked\n",
      "package 'bit64' successfully unpacked and MD5 sums checked\n",
      "package 'prettyunits' successfully unpacked and MD5 sums checked\n",
      "package 'processx' successfully unpacked and MD5 sums checked\n",
      "package 'highr' successfully unpacked and MD5 sums checked\n",
      "package 'xfun' successfully unpacked and MD5 sums checked\n",
      "package 'yaml' successfully unpacked and MD5 sums checked\n",
      "package 'bslib' successfully unpacked and MD5 sums checked\n",
      "package 'fontawesome' successfully unpacked and MD5 sums checked\n",
      "package 'jquerylib' successfully unpacked and MD5 sums checked\n",
      "package 'tinytex' successfully unpacked and MD5 sums checked\n",
      "package 'backports' successfully unpacked and MD5 sums checked\n",
      "package 'generics' successfully unpacked and MD5 sums checked\n",
      "package 'memoise' successfully unpacked and MD5 sums checked\n",
      "package 'blob' successfully unpacked and MD5 sums checked\n",
      "package 'DBI' successfully unpacked and MD5 sums checked\n",
      "package 'R6' successfully unpacked and MD5 sums checked\n",
      "package 'tidyselect' successfully unpacked and MD5 sums checked\n",
      "package 'withr' successfully unpacked and MD5 sums checked\n",
      "package 'data.table' successfully unpacked and MD5 sums checked\n",
      "package 'gtable' successfully unpacked and MD5 sums checked\n",
      "package 'isoband' successfully unpacked and MD5 sums checked\n",
      "package 'scales' successfully unpacked and MD5 sums checked\n",
      "package 'gargle' successfully unpacked and MD5 sums checked\n",
      "package 'cellranger' successfully unpacked and MD5 sums checked\n",
      "package 'curl' successfully unpacked and MD5 sums checked\n",
      "package 'ids' successfully unpacked and MD5 sums checked\n",
      "package 'rematch2' successfully unpacked and MD5 sums checked\n",
      "package 'cpp11' successfully unpacked and MD5 sums checked\n",
      "package 'pkgconfig' successfully unpacked and MD5 sums checked\n",
      "package 'mime' successfully unpacked and MD5 sums checked\n",
      "package 'openssl' successfully unpacked and MD5 sums checked\n",
      "package 'timechange' successfully unpacked and MD5 sums checked\n",
      "package 'systemfonts' successfully unpacked and MD5 sums checked\n",
      "package 'textshaping' successfully unpacked and MD5 sums checked\n",
      "package 'clipr' successfully unpacked and MD5 sums checked\n",
      "package 'vroom' successfully unpacked and MD5 sums checked\n",
      "package 'tzdb' successfully unpacked and MD5 sums checked\n",
      "package 'progress' successfully unpacked and MD5 sums checked\n",
      "package 'callr' successfully unpacked and MD5 sums checked\n",
      "package 'fs' successfully unpacked and MD5 sums checked\n",
      "package 'knitr' successfully unpacked and MD5 sums checked\n",
      "package 'rmarkdown' successfully unpacked and MD5 sums checked\n",
      "package 'selectr' successfully unpacked and MD5 sums checked\n",
      "package 'stringi' successfully unpacked and MD5 sums checked\n",
      "package 'broom' successfully unpacked and MD5 sums checked\n",
      "package 'conflicted' successfully unpacked and MD5 sums checked\n",
      "package 'dbplyr' successfully unpacked and MD5 sums checked\n",
      "package 'dplyr' successfully unpacked and MD5 sums checked\n",
      "package 'dtplyr' successfully unpacked and MD5 sums checked\n",
      "package 'forcats' successfully unpacked and MD5 sums checked\n",
      "package 'ggplot2' successfully unpacked and MD5 sums checked\n",
      "package 'googledrive' successfully unpacked and MD5 sums checked\n",
      "package 'googlesheets4' successfully unpacked and MD5 sums checked\n",
      "package 'haven' successfully unpacked and MD5 sums checked\n",
      "package 'hms' successfully unpacked and MD5 sums checked\n",
      "package 'httr' successfully unpacked and MD5 sums checked\n",
      "package 'lubridate' successfully unpacked and MD5 sums checked\n",
      "package 'magrittr' successfully unpacked and MD5 sums checked\n",
      "package 'modelr' successfully unpacked and MD5 sums checked\n",
      "package 'purrr' successfully unpacked and MD5 sums checked\n",
      "package 'ragg' successfully unpacked and MD5 sums checked\n",
      "package 'readr' successfully unpacked and MD5 sums checked\n",
      "package 'readxl' successfully unpacked and MD5 sums checked\n",
      "package 'reprex' successfully unpacked and MD5 sums checked\n",
      "package 'rstudioapi' successfully unpacked and MD5 sums checked\n",
      "package 'rvest' successfully unpacked and MD5 sums checked\n",
      "package 'stringr' successfully unpacked and MD5 sums checked\n",
      "package 'tibble' successfully unpacked and MD5 sums checked\n",
      "package 'tidyr' successfully unpacked and MD5 sums checked\n",
      "package 'xml2' successfully unpacked and MD5 sums checked\n",
      "package 'tidyverse' successfully unpacked and MD5 sums checked\n",
      "\n",
      "The downloaded binary packages are in\n",
      "\tC:\\Users\\yamph\\AppData\\Local\\Temp\\RtmpWYQeHL\\downloaded_packages\n"
     ]
    }
   ],
   "source": [
    "install.packages(\"tidyverse\")"
   ]
  },
  {
   "cell_type": "code",
   "execution_count": 7,
   "id": "59f1bce9-29cb-4b46-b3c1-764460a5cefa",
   "metadata": {},
   "outputs": [
    {
     "name": "stderr",
     "output_type": "stream",
     "text": [
      "── \u001b[1mAttaching core tidyverse packages\u001b[22m ──────────────────────────────────────────────────────────────── tidyverse 2.0.0 ──\n",
      "\u001b[32m✔\u001b[39m \u001b[34mdplyr    \u001b[39m 1.1.4     \u001b[32m✔\u001b[39m \u001b[34mreadr    \u001b[39m 2.1.5\n",
      "\u001b[32m✔\u001b[39m \u001b[34mforcats  \u001b[39m 1.0.0     \u001b[32m✔\u001b[39m \u001b[34mstringr  \u001b[39m 1.5.1\n",
      "\u001b[32m✔\u001b[39m \u001b[34mggplot2  \u001b[39m 3.5.1     \u001b[32m✔\u001b[39m \u001b[34mtibble   \u001b[39m 3.2.1\n",
      "\u001b[32m✔\u001b[39m \u001b[34mlubridate\u001b[39m 1.9.3     \u001b[32m✔\u001b[39m \u001b[34mtidyr    \u001b[39m 1.3.1\n",
      "\u001b[32m✔\u001b[39m \u001b[34mpurrr    \u001b[39m 1.0.2     \n",
      "── \u001b[1mConflicts\u001b[22m ────────────────────────────────────────────────────────────────────────────────── tidyverse_conflicts() ──\n",
      "\u001b[31m✖\u001b[39m \u001b[34mdplyr\u001b[39m::\u001b[32mfilter()\u001b[39m masks \u001b[34mstats\u001b[39m::filter()\n",
      "\u001b[31m✖\u001b[39m \u001b[34mdplyr\u001b[39m::\u001b[32mlag()\u001b[39m    masks \u001b[34mstats\u001b[39m::lag()\n",
      "\u001b[36mℹ\u001b[39m Use the conflicted package (\u001b[3m\u001b[34m<http://conflicted.r-lib.org/>\u001b[39m\u001b[23m) to force all conflicts to become errors\n"
     ]
    },
    {
     "ename": "ERROR",
     "evalue": "Error in library(\"ggrepel\"): there is no package called 'ggrepel'\n",
     "output_type": "error",
     "traceback": [
      "Error in library(\"ggrepel\"): there is no package called 'ggrepel'\nTraceback:\n",
      "1. stop(packageNotFoundError(package, lib.loc, sys.call()))"
     ]
    }
   ],
   "source": [
    "# Importing necessary libraries\n",
    "library(\"tidyverse\")\n",
    "library(\"ggplot2\")\n",
    "library(\"ggrepel\")\n",
    "library(\"ggcorrplot\")\n",
    "library(\"DT\")"
   ]
  },
  {
   "cell_type": "markdown",
   "id": "8b5dc043-5762-4cee-9cc1-15d28f525257",
   "metadata": {},
   "source": [
    "# Dataset : COVID-19_cases_plus_census (updated)"
   ]
  },
  {
   "cell_type": "code",
   "execution_count": 27,
   "id": "612cdfee-1349-4a8f-9713-ae8b4f89427b",
   "metadata": {},
   "outputs": [],
   "source": [
    "dataset_plus_census <- read.csv(\"https://raw.githubusercontent.com/yamphurai/Project2_ClusterAnalysis/refs/heads/main/updated_COVID-19_cases_plus_census.csv\")"
   ]
  },
  {
   "cell_type": "code",
   "execution_count": 28,
   "id": "cacf2d75-1995-4229-a657-1b515110394e",
   "metadata": {},
   "outputs": [
    {
     "data": {
      "text/html": [
       "<table class=\"dataframe\">\n",
       "<caption>A data.frame: 6 × 33</caption>\n",
       "<thead>\n",
       "\t<tr><th></th><th scope=col>state</th><th scope=col>state_fips_code</th><th scope=col>county_name</th><th scope=col>confirmed_cases</th><th scope=col>deaths</th><th scope=col>total_pop</th><th scope=col>male_pop</th><th scope=col>female_pop</th><th scope=col>white_pop</th><th scope=col>black_pop</th><th scope=col>⋯</th><th scope=col>male_21_49</th><th scope=col>male_50_above</th><th scope=col>female_0_20</th><th scope=col>female_21_49</th><th scope=col>female_50_above</th><th scope=col>unemployed_pop</th><th scope=col>employed_pop</th><th scope=col>commute</th><th scope=col>worked_at_home</th><th scope=col>walked_to_work</th></tr>\n",
       "\t<tr><th></th><th scope=col>&lt;chr&gt;</th><th scope=col>&lt;int&gt;</th><th scope=col>&lt;chr&gt;</th><th scope=col>&lt;int&gt;</th><th scope=col>&lt;int&gt;</th><th scope=col>&lt;int&gt;</th><th scope=col>&lt;int&gt;</th><th scope=col>&lt;int&gt;</th><th scope=col>&lt;int&gt;</th><th scope=col>&lt;int&gt;</th><th scope=col>⋯</th><th scope=col>&lt;int&gt;</th><th scope=col>&lt;int&gt;</th><th scope=col>&lt;int&gt;</th><th scope=col>&lt;int&gt;</th><th scope=col>&lt;int&gt;</th><th scope=col>&lt;int&gt;</th><th scope=col>&lt;int&gt;</th><th scope=col>&lt;int&gt;</th><th scope=col>&lt;int&gt;</th><th scope=col>&lt;int&gt;</th></tr>\n",
       "</thead>\n",
       "<tbody>\n",
       "\t<tr><th scope=row>1</th><td>VT</td><td>50</td><td>Essex County     </td><td>  111</td><td>  0</td><td>  6203</td><td> 3135</td><td> 3068</td><td>  5929</td><td>   64</td><td>⋯</td><td>  900</td><td> 1701</td><td>  603</td><td>  924</td><td> 1657</td><td> 149</td><td> 2784</td><td>  4820</td><td> 167</td><td>  81</td></tr>\n",
       "\t<tr><th scope=row>2</th><td>VT</td><td>50</td><td>Chittenden County</td><td> 3636</td><td> 78</td><td>160985</td><td>78928</td><td>82057</td><td>143657</td><td> 4091</td><td>⋯</td><td>32947</td><td>27110</td><td>20668</td><td>32285</td><td>30864</td><td>3827</td><td>90054</td><td>148357</td><td>4783</td><td>6859</td></tr>\n",
       "\t<tr><th scope=row>3</th><td>DE</td><td>10</td><td>Kent County      </td><td>11548</td><td>187</td><td>173145</td><td>83544</td><td>89601</td><td>108627</td><td>41729</td><td>⋯</td><td>31121</td><td>29975</td><td>23801</td><td>33109</td><td>35761</td><td>5563</td><td>78078</td><td>145421</td><td>3270</td><td>1379</td></tr>\n",
       "\t<tr><th scope=row>4</th><td>RI</td><td>44</td><td>Washington County</td><td> 5521</td><td>122</td><td>126190</td><td>61154</td><td>65036</td><td>115206</td><td> 1621</td><td>⋯</td><td>20438</td><td>27238</td><td>16106</td><td>20580</td><td>30387</td><td>4142</td><td>64576</td><td>114755</td><td>3110</td><td>1725</td></tr>\n",
       "\t<tr><th scope=row>5</th><td>NH</td><td>33</td><td>Belknap County   </td><td> 2496</td><td> 79</td><td> 60383</td><td>29705</td><td>30678</td><td> 57523</td><td>  285</td><td>⋯</td><td> 9663</td><td>14520</td><td> 6541</td><td> 9882</td><td>15317</td><td>1589</td><td>30674</td><td> 55288</td><td>1487</td><td> 449</td></tr>\n",
       "\t<tr><th scope=row>6</th><td>RI</td><td>44</td><td>Newport County   </td><td> 3578</td><td>  6</td><td> 83204</td><td>40952</td><td>42252</td><td> 71549</td><td> 2596</td><td>⋯</td><td>15262</td><td>18187</td><td> 9040</td><td>14232</td><td>20449</td><td>2349</td><td>41471</td><td> 73711</td><td>2711</td><td>2749</td></tr>\n",
       "</tbody>\n",
       "</table>\n"
      ],
      "text/latex": [
       "A data.frame: 6 × 33\n",
       "\\begin{tabular}{r|lllllllllllllllllllll}\n",
       "  & state & state\\_fips\\_code & county\\_name & confirmed\\_cases & deaths & total\\_pop & male\\_pop & female\\_pop & white\\_pop & black\\_pop & ⋯ & male\\_21\\_49 & male\\_50\\_above & female\\_0\\_20 & female\\_21\\_49 & female\\_50\\_above & unemployed\\_pop & employed\\_pop & commute & worked\\_at\\_home & walked\\_to\\_work\\\\\n",
       "  & <chr> & <int> & <chr> & <int> & <int> & <int> & <int> & <int> & <int> & <int> & ⋯ & <int> & <int> & <int> & <int> & <int> & <int> & <int> & <int> & <int> & <int>\\\\\n",
       "\\hline\n",
       "\t1 & VT & 50 & Essex County      &   111 &   0 &   6203 &  3135 &  3068 &   5929 &    64 & ⋯ &   900 &  1701 &   603 &   924 &  1657 &  149 &  2784 &   4820 &  167 &   81\\\\\n",
       "\t2 & VT & 50 & Chittenden County &  3636 &  78 & 160985 & 78928 & 82057 & 143657 &  4091 & ⋯ & 32947 & 27110 & 20668 & 32285 & 30864 & 3827 & 90054 & 148357 & 4783 & 6859\\\\\n",
       "\t3 & DE & 10 & Kent County       & 11548 & 187 & 173145 & 83544 & 89601 & 108627 & 41729 & ⋯ & 31121 & 29975 & 23801 & 33109 & 35761 & 5563 & 78078 & 145421 & 3270 & 1379\\\\\n",
       "\t4 & RI & 44 & Washington County &  5521 & 122 & 126190 & 61154 & 65036 & 115206 &  1621 & ⋯ & 20438 & 27238 & 16106 & 20580 & 30387 & 4142 & 64576 & 114755 & 3110 & 1725\\\\\n",
       "\t5 & NH & 33 & Belknap County    &  2496 &  79 &  60383 & 29705 & 30678 &  57523 &   285 & ⋯ &  9663 & 14520 &  6541 &  9882 & 15317 & 1589 & 30674 &  55288 & 1487 &  449\\\\\n",
       "\t6 & RI & 44 & Newport County    &  3578 &   6 &  83204 & 40952 & 42252 &  71549 &  2596 & ⋯ & 15262 & 18187 &  9040 & 14232 & 20449 & 2349 & 41471 &  73711 & 2711 & 2749\\\\\n",
       "\\end{tabular}\n"
      ],
      "text/markdown": [
       "\n",
       "A data.frame: 6 × 33\n",
       "\n",
       "| <!--/--> | state &lt;chr&gt; | state_fips_code &lt;int&gt; | county_name &lt;chr&gt; | confirmed_cases &lt;int&gt; | deaths &lt;int&gt; | total_pop &lt;int&gt; | male_pop &lt;int&gt; | female_pop &lt;int&gt; | white_pop &lt;int&gt; | black_pop &lt;int&gt; | ⋯ ⋯ | male_21_49 &lt;int&gt; | male_50_above &lt;int&gt; | female_0_20 &lt;int&gt; | female_21_49 &lt;int&gt; | female_50_above &lt;int&gt; | unemployed_pop &lt;int&gt; | employed_pop &lt;int&gt; | commute &lt;int&gt; | worked_at_home &lt;int&gt; | walked_to_work &lt;int&gt; |\n",
       "|---|---|---|---|---|---|---|---|---|---|---|---|---|---|---|---|---|---|---|---|---|---|\n",
       "| 1 | VT | 50 | Essex County      |   111 |   0 |   6203 |  3135 |  3068 |   5929 |    64 | ⋯ |   900 |  1701 |   603 |   924 |  1657 |  149 |  2784 |   4820 |  167 |   81 |\n",
       "| 2 | VT | 50 | Chittenden County |  3636 |  78 | 160985 | 78928 | 82057 | 143657 |  4091 | ⋯ | 32947 | 27110 | 20668 | 32285 | 30864 | 3827 | 90054 | 148357 | 4783 | 6859 |\n",
       "| 3 | DE | 10 | Kent County       | 11548 | 187 | 173145 | 83544 | 89601 | 108627 | 41729 | ⋯ | 31121 | 29975 | 23801 | 33109 | 35761 | 5563 | 78078 | 145421 | 3270 | 1379 |\n",
       "| 4 | RI | 44 | Washington County |  5521 | 122 | 126190 | 61154 | 65036 | 115206 |  1621 | ⋯ | 20438 | 27238 | 16106 | 20580 | 30387 | 4142 | 64576 | 114755 | 3110 | 1725 |\n",
       "| 5 | NH | 33 | Belknap County    |  2496 |  79 |  60383 | 29705 | 30678 |  57523 |   285 | ⋯ |  9663 | 14520 |  6541 |  9882 | 15317 | 1589 | 30674 |  55288 | 1487 |  449 |\n",
       "| 6 | RI | 44 | Newport County    |  3578 |   6 |  83204 | 40952 | 42252 |  71549 |  2596 | ⋯ | 15262 | 18187 |  9040 | 14232 | 20449 | 2349 | 41471 |  73711 | 2711 | 2749 |\n",
       "\n"
      ],
      "text/plain": [
       "  state state_fips_code county_name       confirmed_cases deaths total_pop\n",
       "1 VT    50              Essex County        111             0      6203   \n",
       "2 VT    50              Chittenden County  3636            78    160985   \n",
       "3 DE    10              Kent County       11548           187    173145   \n",
       "4 RI    44              Washington County  5521           122    126190   \n",
       "5 NH    33              Belknap County     2496            79     60383   \n",
       "6 RI    44              Newport County     3578             6     83204   \n",
       "  male_pop female_pop white_pop black_pop ⋯ male_21_49 male_50_above\n",
       "1  3135     3068        5929       64     ⋯   900       1701        \n",
       "2 78928    82057      143657     4091     ⋯ 32947      27110        \n",
       "3 83544    89601      108627    41729     ⋯ 31121      29975        \n",
       "4 61154    65036      115206     1621     ⋯ 20438      27238        \n",
       "5 29705    30678       57523      285     ⋯  9663      14520        \n",
       "6 40952    42252       71549     2596     ⋯ 15262      18187        \n",
       "  female_0_20 female_21_49 female_50_above unemployed_pop employed_pop commute\n",
       "1   603         924         1657            149            2784          4820 \n",
       "2 20668       32285        30864           3827           90054        148357 \n",
       "3 23801       33109        35761           5563           78078        145421 \n",
       "4 16106       20580        30387           4142           64576        114755 \n",
       "5  6541        9882        15317           1589           30674         55288 \n",
       "6  9040       14232        20449           2349           41471         73711 \n",
       "  worked_at_home walked_to_work\n",
       "1  167             81          \n",
       "2 4783           6859          \n",
       "3 3270           1379          \n",
       "4 3110           1725          \n",
       "5 1487            449          \n",
       "6 2711           2749          "
      ]
     },
     "metadata": {},
     "output_type": "display_data"
    }
   ],
   "source": [
    "# First 10 rows\n",
    "head(dataset_plus_census)"
   ]
  },
  {
   "cell_type": "code",
   "execution_count": 30,
   "id": "1e1bc55d-6cb1-4d93-9af7-9cece9aa2135",
   "metadata": {},
   "outputs": [
    {
     "data": {
      "text/html": [
       "0"
      ],
      "text/latex": [
       "0"
      ],
      "text/markdown": [
       "0"
      ],
      "text/plain": [
       "[1] 0"
      ]
     },
     "metadata": {},
     "output_type": "display_data"
    }
   ],
   "source": [
    "# Checking for missing values\n",
    "sum(is.na(dataset_plus_census))"
   ]
  },
  {
   "cell_type": "code",
   "execution_count": 31,
   "id": "a35c67c2-6882-486c-9c80-ca8637ab5433",
   "metadata": {},
   "outputs": [
    {
     "data": {
      "text/plain": [
       "    state           state_fips_code county_name        confirmed_cases    \n",
       " Length:3142        Min.   : 1.00   Length:3142        Min.   :      0.0  \n",
       " Class :character   1st Qu.:18.00   Class :character   1st Qu.:    796.2  \n",
       " Mode  :character   Median :29.00   Mode  :character   Median :   1916.5  \n",
       "                    Mean   :30.28                      Mean   :   7558.9  \n",
       "                    3rd Qu.:45.00                      3rd Qu.:   4955.0  \n",
       "                    Max.   :56.00                      Max.   :1002614.0  \n",
       "     deaths          total_pop           male_pop         female_pop     \n",
       " Min.   :    0.0   Min.   :      74   Min.   :     39   Min.   :     35  \n",
       " 1st Qu.:   12.0   1st Qu.:   10945   1st Qu.:   5514   1st Qu.:   5460  \n",
       " Median :   31.0   Median :   25692   Median :  12798   Median :  12885  \n",
       " Mean   :  124.8   Mean   :  102166   Mean   :  50292   Mean   :  51873  \n",
       " 3rd Qu.:   77.0   3rd Qu.:   67445   3rd Qu.:  33481   3rd Qu.:  34108  \n",
       " Max.   :13936.0   Max.   :10105722   Max.   :4979641   Max.   :5126081  \n",
       "   white_pop         black_pop         asian_pop          hispanic_pop    \n",
       " Min.   :     18   Min.   :      0   Min.   :      0.0   Min.   :      0  \n",
       " 1st Qu.:   8093   1st Qu.:     95   1st Qu.:     31.0   1st Qu.:    323  \n",
       " Median :  20205   Median :    758   Median :    138.0   Median :   1025  \n",
       " Mean   :  62787   Mean   :  12554   Mean   :   5407.2   Mean   :  17986  \n",
       " 3rd Qu.:  53500   3rd Qu.:   5396   3rd Qu.:    712.5   3rd Qu.:   4868  \n",
       " Max.   :2676982   Max.   :1226134   Max.   :1442577.0   Max.   :4893579  \n",
       " amerindian_pop    other_race_pop    median_income    income_less_50K  \n",
       " Min.   :    0.0   Min.   :    0.0   Min.   : 19264   Min.   :      9  \n",
       " 1st Qu.:   24.0   1st Qu.:    0.0   1st Qu.: 41123   1st Qu.:   2294  \n",
       " Median :   95.5   Median :   10.0   Median : 48066   Median :   5339  \n",
       " Mean   :  668.0   Mean   :  227.7   Mean   : 49754   Mean   :  16579  \n",
       " 3rd Qu.:  348.0   3rd Qu.:   73.0   3rd Qu.: 55764   3rd Qu.:  12832  \n",
       " Max.   :64102.0   Max.   :46396.0   Max.   :129588   Max.   :1388992  \n",
       " income_50K_100K  income_100K_150K   income_150K_more   rent_under_50_percent\n",
       " Min.   :    19   Min.   :     0.0   Min.   :     0.0   Min.   :      6.0    \n",
       " 1st Qu.:  1244   1st Qu.:   396.2   1st Qu.:   183.0   1st Qu.:    685.2    \n",
       " Median :  2971   Median :  1017.5   Median :   483.5   Median :   1751.5    \n",
       " Mean   : 11342   Mean   :  5315.7   Mean   :  4582.0   Mean   :   9429.8    \n",
       " 3rd Qu.:  8038   3rd Qu.:  3134.0   3rd Qu.:  1756.5   3rd Qu.:   5166.8    \n",
       " Max.   :927390   Max.   :477403.0   Max.   :501413.0   Max.   :1160618.0    \n",
       " rent_over_50_percent   median_age      male_0_20         male_21_49     \n",
       " Min.   :     0       Min.   :21.60   Min.   :      1   Min.   :     10  \n",
       " 1st Qu.:   162       1st Qu.:37.90   1st Qu.:   1476   1st Qu.:   1900  \n",
       " Median :   486       Median :41.20   Median :   3524   Median :   4604  \n",
       " Mean   :  3237       Mean   :41.15   Mean   :  14139   Mean   :  19741  \n",
       " 3rd Qu.:  1576       3rd Qu.:44.20   3rd Qu.:   9245   3rd Qu.:  12309  \n",
       " Max.   :536832       Max.   :66.40   Max.   :1378157   Max.   :2161991  \n",
       " male_50_above      female_0_20       female_21_49     female_50_above  \n",
       " Min.   :     25   Min.   :      4   Min.   :      8   Min.   :     23  \n",
       " 1st Qu.:   2312   1st Qu.:   1363   1st Qu.:   1737   1st Qu.:   2452  \n",
       " Median :   5163   Median :   3277   Median :   4334   Median :   5710  \n",
       " Mean   :  17760   Mean   :  13514   Mean   :  19567   Mean   :  20243  \n",
       " 3rd Qu.:  13163   3rd Qu.:   8837   3rd Qu.:  11846   3rd Qu.:  14641  \n",
       " Max.   :1544545   Max.   :1322003   Max.   :2131518   Max.   :1795247  \n",
       " unemployed_pop      employed_pop        commute        worked_at_home  \n",
       " Min.   :     0.0   Min.   :     39   Min.   :     54   Min.   :     0  \n",
       " 1st Qu.:   286.2   1st Qu.:   4550   1st Qu.:   7994   1st Qu.:   178  \n",
       " Median :   745.5   Median :  10695   Median :  19334   Median :   420  \n",
       " Mean   :  3361.0   Mean   :  47931   Mean   :  85395   Mean   :  2237  \n",
       " 3rd Qu.:  2099.8   3rd Qu.:  29515   3rd Qu.:  53540   3rd Qu.:  1226  \n",
       " Max.   :406426.0   Max.   :4805817   Max.   :8379454   Max.   :249490  \n",
       " walked_to_work    \n",
       " Min.   :     0.0  \n",
       " 1st Qu.:    98.0  \n",
       " Median :   242.5  \n",
       " Mean   :  1288.8  \n",
       " 3rd Qu.:   678.5  \n",
       " Max.   :181289.0  "
      ]
     },
     "metadata": {},
     "output_type": "display_data"
    }
   ],
   "source": [
    "# Basic statistics\n",
    "summary(dataset_plus_census)"
   ]
  },
  {
   "cell_type": "markdown",
   "id": "36154c4e-b6f9-4705-b6a9-06d737ce6b45",
   "metadata": {},
   "source": [
    "## Scale the data"
   ]
  },
  {
   "cell_type": "code",
   "execution_count": 16,
   "id": "0d567a22-aed8-4da3-a423-923b22cf86aa",
   "metadata": {},
   "outputs": [],
   "source": [
    "# Prepare data\n",
    "dataset_cases_TX_clustering <- dataset_cases_TX %>%\n",
    "  select(county_name, confirmed_cases)"
   ]
  },
  {
   "cell_type": "code",
   "execution_count": 17,
   "id": "36e7bf51-7701-429b-bccd-299b27342277",
   "metadata": {},
   "outputs": [],
   "source": [
    "# Scale the confirmed_cases column for K-means\n",
    "dataset_cases_TX_clustering$scaled_confirmed_cases <- scale(dataset_cases_TX_clustering$confirmed_cases)"
   ]
  },
  {
   "cell_type": "code",
   "execution_count": 29,
   "id": "ad272240-4c0c-405f-8825-6c8a90bce4b0",
   "metadata": {},
   "outputs": [
    {
     "name": "stdout",
     "output_type": "stream",
     "text": [
      "'data.frame':\t3142 obs. of  33 variables:\n",
      " $ state                : chr  \"VT\" \"VT\" \"DE\" \"RI\" ...\n",
      " $ state_fips_code      : int  50 50 10 44 33 44 50 9 50 50 ...\n",
      " $ county_name          : chr  \"Essex County\" \"Chittenden County\" \"Kent County\" \"Washington County\" ...\n",
      " $ confirmed_cases      : int  111 3636 11548 5521 2496 3578 312 6255 527 307 ...\n",
      " $ deaths               : int  0 78 187 122 79 6 1 125 5 4 ...\n",
      " $ total_pop            : int  6203 160985 173145 126190 60383 83204 25191 151596 36825 30576 ...\n",
      " $ male_pop             : int  3135 78928 83544 61154 29705 40952 12504 76162 18214 15366 ...\n",
      " $ female_pop           : int  3068 82057 89601 65036 30678 42252 12687 75434 18611 15210 ...\n",
      " $ white_pop            : int  5929 143657 108627 115206 57523 71549 23895 129519 34245 29070 ...\n",
      " $ black_pop            : int  64 4091 41729 1621 285 2596 214 4425 337 272 ...\n",
      " $ asian_pop            : int  32 6144 3459 2436 579 1670 161 6690 711 186 ...\n",
      " $ hispanic_pop         : int  83 3542 11820 3769 951 4623 408 7860 795 460 ...\n",
      " $ amerindian_pop       : int  20 374 967 1047 130 290 208 38 94 65 ...\n",
      " $ other_race_pop       : int  6 240 377 260 65 159 0 336 57 9 ...\n",
      " $ median_income        : int  38767 66906 57647 77862 65834 75463 54899 81312 61875 47371 ...\n",
      " $ income_less_50K      : int  1650 24184 27659 16334 9365 12051 4803 16508 5965 6387 ...\n",
      " $ income_50K_100K      : int  802 20318 21746 14204 8472 10443 3240 16815 5122 3736 ...\n",
      " $ income_100K_150K     : int  193 11615 8704 9953 3886 6530 1411 10705 2363 1339 ...\n",
      " $ income_150K_more     : int  75 8789 5272 9117 2856 6397 947 10850 1251 632 ...\n",
      " $ rent_under_50_percent: int  411 16148 13483 8510 4211 10033 1814 10632 2975 2290 ...\n",
      " $ rent_over_50_percent : int  97 6620 4408 3429 1351 2525 720 3650 665 645 ...\n",
      " $ median_age           : num  50 36.6 37.3 44.1 46.7 44.6 40.5 37.9 43.4 43.7 ...\n",
      " $ male_0_20            : int  677 20796 24873 15755 6834 9057 3293 21806 4747 4099 ...\n",
      " $ male_21_49           : int  900 32947 31121 20438 9663 15262 4659 28436 6130 5144 ...\n",
      " $ male_50_above        : int  1701 27110 29975 27238 14520 18187 5045 27876 7914 6640 ...\n",
      " $ female_0_20          : int  603 20668 23801 16106 6541 9040 3317 21270 4614 3647 ...\n",
      " $ female_21_49         : int  924 32285 33109 20580 9882 14232 4489 26221 6228 4865 ...\n",
      " $ female_50_above      : int  1657 30864 35761 30387 15317 20449 5218 30288 8340 7125 ...\n",
      " $ unemployed_pop       : int  149 3827 5563 4142 1589 2349 526 4962 907 741 ...\n",
      " $ employed_pop         : int  2784 90054 78078 64576 30674 41471 13437 80613 19872 14475 ...\n",
      " $ commute              : int  4820 148357 145421 114755 55288 73711 23083 137743 31572 24724 ...\n",
      " $ worked_at_home       : int  167 4783 3270 3110 1487 2711 906 3821 1811 1106 ...\n",
      " $ walked_to_work       : int  81 6859 1379 1725 449 2749 536 3533 1466 535 ...\n"
     ]
    }
   ],
   "source": [
    "# internal structure of the dataset\n",
    "str (dataset_plus_census)"
   ]
  },
  {
   "cell_type": "code",
   "execution_count": 32,
   "id": "400069d6-cca8-444c-8c23-cf117cacda9e",
   "metadata": {},
   "outputs": [
    {
     "name": "stdout",
     "output_type": "stream",
     "text": [
      "  unique_count\n",
      "1           51\n"
     ]
    },
    {
     "data": {
      "text/html": [
       "51"
      ],
      "text/latex": [
       "51"
      ],
      "text/markdown": [
       "51"
      ],
      "text/plain": [
       "[1] 51"
      ]
     },
     "metadata": {},
     "output_type": "display_data"
    },
    {
     "name": "stdout",
     "output_type": "stream",
     "text": [
      "  unique_count\n",
      "1         1878\n"
     ]
    }
   ],
   "source": [
    "#check\n",
    "\n",
    "# Convert state names to lowercase and count unique values\n",
    "unique_state_names <- dataset_plus_census %>%\n",
    "  mutate(state_name = tolower(state)) %>%  # Convert to lowercase\n",
    "  summarize(unique_count = n_distinct(state_name))\n",
    "print(unique_state_names)\n",
    "\n",
    "# count of state FIPs codes\n",
    "n_distinct(dataset_plus_census$state_fips_code)\n",
    "\n",
    "# Convert county names to lowercase, remove \"count\" from the names, and count unique values\n",
    "unique_county_names <- dataset_plus_census %>%\n",
    "    mutate(county_name = tolower(county_name)) %>%\n",
    "    mutate(count_name = gsub(\"county\", \"\", county_name, ignore.case = TRUE)) %>%\n",
    "    summarize(unique_count = n_distinct(county_name))\n",
    "print(unique_county_names)"
   ]
  },
  {
   "cell_type": "markdown",
   "id": "d11f5f68-87aa-43bf-9720-a3aad99fa634",
   "metadata": {},
   "source": [
    "There are 51 different states with their corresponding FIPs codes, and 1878 counties in the dataset."
   ]
  },
  {
   "cell_type": "markdown",
   "id": "b1257ebc-d14c-41b0-91ef-efb0080279c8",
   "metadata": {},
   "source": [
    "## Chosen Variables"
   ]
  },
  {
   "cell_type": "markdown",
   "id": "87f7dfd1-fc1b-4fc9-8473-557116f5ca29",
   "metadata": {},
   "source": [
    "We looked at all of the 31 feature variables that could be correlated to confirmed cases or deaths in project 1. Based on the observations made, following were the variables that seem to be highly correlated with confirmed cases.\n",
    "- Race\n",
    "- Income range\n",
    "- Age group\n",
    "\n",
    "Therefore, these variables are chosen to peform various types of cluster analysis."
   ]
  },
  {
   "cell_type": "code",
   "execution_count": 37,
   "id": "09c0e0d3-6ea3-4219-9d6b-d28a46db7778",
   "metadata": {},
   "outputs": [
    {
     "name": "stdout",
     "output_type": "stream",
     "text": [
      "'data.frame':\t3142 obs. of  16 variables:\n",
      " $ white_pop       : int  5929 143657 108627 115206 57523 71549 23895 129519 34245 29070 ...\n",
      " $ black_pop       : int  64 4091 41729 1621 285 2596 214 4425 337 272 ...\n",
      " $ asian_pop       : int  32 6144 3459 2436 579 1670 161 6690 711 186 ...\n",
      " $ hispanic_pop    : int  83 3542 11820 3769 951 4623 408 7860 795 460 ...\n",
      " $ amerindian_pop  : int  20 374 967 1047 130 290 208 38 94 65 ...\n",
      " $ other_race_pop  : int  6 240 377 260 65 159 0 336 57 9 ...\n",
      " $ income_less_50K : int  1650 24184 27659 16334 9365 12051 4803 16508 5965 6387 ...\n",
      " $ income_50K_100K : int  802 20318 21746 14204 8472 10443 3240 16815 5122 3736 ...\n",
      " $ income_100K_150K: int  193 11615 8704 9953 3886 6530 1411 10705 2363 1339 ...\n",
      " $ income_150K_more: int  75 8789 5272 9117 2856 6397 947 10850 1251 632 ...\n",
      " $ male_0_20       : int  677 20796 24873 15755 6834 9057 3293 21806 4747 4099 ...\n",
      " $ male_21_49      : int  900 32947 31121 20438 9663 15262 4659 28436 6130 5144 ...\n",
      " $ male_50_above   : int  1701 27110 29975 27238 14520 18187 5045 27876 7914 6640 ...\n",
      " $ female_0_20     : int  603 20668 23801 16106 6541 9040 3317 21270 4614 3647 ...\n",
      " $ female_21_49    : int  924 32285 33109 20580 9882 14232 4489 26221 6228 4865 ...\n",
      " $ female_50_above : int  1657 30864 35761 30387 15317 20449 5218 30288 8340 7125 ...\n"
     ]
    }
   ],
   "source": [
    "# Basic statistics of the chosen variables\n",
    "str(dataset_plus_census %>% select(white_pop, black_pop, asian_pop, hispanic_pop, amerindian_pop, other_race_pop,\n",
    "                                  income_less_50K, income_50K_100K, income_100K_150K, income_150K_more,\n",
    "                                  male_0_20, male_21_49, male_50_above, female_0_20, female_21_49, female_50_above))"
   ]
  },
  {
   "cell_type": "markdown",
   "id": "ef32227f-0971-4efd-8f87-8dace04891f4",
   "metadata": {},
   "source": [
    "## K-means (Euclidean distance)"
   ]
  },
  {
   "cell_type": "markdown",
   "id": "b48ff611-f108-4058-8fb5-b2d0b0143bfe",
   "metadata": {},
   "source": [
    "### Clustering Tendency"
   ]
  },
  {
   "cell_type": "markdown",
   "id": "087d9185-b0f3-474c-8d49-50578a8217c2",
   "metadata": {},
   "source": [
    "#### Visual Analysis for Cluster Tendency Assessment (VAT)"
   ]
  },
  {
   "cell_type": "markdown",
   "id": "eeb00f17-abf2-4b4d-82eb-a2fbd683b940",
   "metadata": {},
   "source": [
    "#### Hopkins statistic"
   ]
  },
  {
   "cell_type": "markdown",
   "id": "f9894b12-e11f-48be-89d7-a7ffcb1b5314",
   "metadata": {},
   "source": [
    "### Inspect the clusters"
   ]
  },
  {
   "cell_type": "markdown",
   "id": "7c78b637-ac07-4dfe-b790-14009e276c30",
   "metadata": {},
   "source": [
    "### Cluster Evaluation (Unsupervised Cluster Evaluation)"
   ]
  },
  {
   "cell_type": "markdown",
   "id": "39265442-b7d5-4f8e-bf0d-c03cc3e005be",
   "metadata": {},
   "source": [
    "### Elbow Method (Compute within-cluster sum of squares)"
   ]
  },
  {
   "cell_type": "markdown",
   "id": "1d823582-e925-4f53-9d37-104f48e659bd",
   "metadata": {},
   "source": [
    "### Average Silhouette Width"
   ]
  },
  {
   "cell_type": "markdown",
   "id": "b6ed17e4-087e-4739-9dd3-9216d9c6526d",
   "metadata": {},
   "source": [
    "### Dunn Index"
   ]
  },
  {
   "cell_type": "markdown",
   "id": "8beef7bf-1d89-4263-8b26-7b2548d87fb7",
   "metadata": {},
   "source": [
    "## Agglomerative Hierarchical Clustering (Euclidean distance)"
   ]
  },
  {
   "cell_type": "markdown",
   "id": "84db36e5-5612-4d8d-bd98-affef742c9a2",
   "metadata": {},
   "source": [
    "## Third Clustering"
   ]
  },
  {
   "cell_type": "markdown",
   "id": "56358780-73f1-48ed-be2c-246f7c3c04f9",
   "metadata": {},
   "source": [
    "## Fourth Clustering"
   ]
  },
  {
   "cell_type": "code",
   "execution_count": null,
   "id": "429ffbc1-c02e-486a-a987-f32becba611d",
   "metadata": {},
   "outputs": [],
   "source": []
  }
 ],
 "metadata": {
  "kernelspec": {
   "display_name": "R",
   "language": "R",
   "name": "ir"
  },
  "language_info": {
   "codemirror_mode": "r",
   "file_extension": ".r",
   "mimetype": "text/x-r-source",
   "name": "R",
   "pygments_lexer": "r",
   "version": "4.4.1"
  }
 },
 "nbformat": 4,
 "nbformat_minor": 5
}
