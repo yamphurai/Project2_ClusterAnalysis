{
 "cells": [
  {
   "cell_type": "code",
   "execution_count": 4,
   "id": "43e4d6d4-2594-497e-8494-1622fd035c75",
   "metadata": {},
   "outputs": [
    {
     "name": "stdout",
     "output_type": "stream",
     "text": [
      "package 'tidyverse' successfully unpacked and MD5 sums checked\n",
      "\n",
      "The downloaded binary packages are in\n",
      "\tC:\\Users\\yamph\\AppData\\Local\\Temp\\Rtmp6ZACrS\\downloaded_packages\n"
     ]
    }
   ],
   "source": [
    "install.packages(\"tidyverse\")"
   ]
  },
  {
   "cell_type": "code",
   "execution_count": 265,
   "id": "1473de92-1e82-4000-ae41-2ef1540e77ab",
   "metadata": {},
   "outputs": [
    {
     "name": "stdout",
     "output_type": "stream",
     "text": [
      "package 'ggcorrplot' successfully unpacked and MD5 sums checked\n",
      "\n",
      "The downloaded binary packages are in\n",
      "\tC:\\Users\\yamph\\AppData\\Local\\Temp\\Rtmp6ZACrS\\downloaded_packages\n"
     ]
    }
   ],
   "source": [
    "install.packages(\"ggcorrplot\")"
   ]
  },
  {
   "cell_type": "code",
   "execution_count": 272,
   "id": "18f4f11e-0b7e-4043-9d2d-4a208892df05",
   "metadata": {},
   "outputs": [],
   "source": [
    "# Importing necessary libraries\n",
    "library(tidyverse)\n",
    "library(ggplot2)\n",
    "library(ggrepel)\n",
    "library(ggcorrplot)\n",
    "library(DT)\n",
    "library(ggpubr)\n",
    "library(knitr)\n",
    "library(cluster)\n",
    "library(factoextra)\n",
    "library(seriation)"
   ]
  },
  {
   "cell_type": "markdown",
   "id": "8b5dc043-5762-4cee-9cc1-15d28f525257",
   "metadata": {},
   "source": [
    "# Dataset : COVID-19_cases_plus_census (updated)"
   ]
  },
  {
   "cell_type": "code",
   "execution_count": 220,
   "id": "612cdfee-1349-4a8f-9713-ae8b4f89427b",
   "metadata": {},
   "outputs": [],
   "source": [
    "dataset_plus_census <- read.csv(\"https://raw.githubusercontent.com/yamphurai/Project2_ClusterAnalysis/refs/heads/main/updated_COVID-19_cases_plus_census.csv\")"
   ]
  },
  {
   "cell_type": "code",
   "execution_count": 221,
   "id": "77664782-9741-4390-a520-57f682d97552",
   "metadata": {},
   "outputs": [],
   "source": [
    "#filter the dataset by Texas\n",
    "dataset_plus_census <- dataset_plus_census %>% filter(state == \"TX\")\n",
    "\n",
    "\n",
    "# Filter out the major counties (DFW, Austin, San Antonio and Houston)\n",
    "counties_to_exclude <- c(\n",
    "  \"Dallas County\", \"Tarrant County\", \"Collin County\", \"Denton County\", \"Ellis County\",\n",
    "  \"Johnson County\", \"Kaufman County\", \"Parker County\", \"Rockwall County\", \"Wise County\",\n",
    "  \"Hood County\", \"Travis County\", \"Williamson County\", \"Hays County\", \"Bastrop County\",\n",
    "  \"Caldwell County\", \"Bexar County\", \"Comal County\", \"Guadalupe County\", \"Wilson County\",\n",
    "  \"Medina County\", \"Kendall County\", \"Bandera County\", \"Atascosa County\", \"Harris County\",\n",
    "  \"Fort Bend County\", \"Montgomery County\", \"Brazoria County\", \"Galveston County\", \"Liberty County\",\n",
    "  \"Waller County\", \"Chambers County\"\n",
    ")\n",
    "\n",
    "# filter the dataset\n",
    "dataset_plus_census <- dataset_plus_census %>%\n",
    "  filter(!(county_name %in% counties_to_exclude))"
   ]
  },
  {
   "cell_type": "code",
   "execution_count": 222,
   "id": "cacf2d75-1995-4229-a657-1b515110394e",
   "metadata": {},
   "outputs": [
    {
     "data": {
      "text/html": [
       "<table class=\"dataframe\">\n",
       "<caption>A data.frame: 6 × 33</caption>\n",
       "<thead>\n",
       "\t<tr><th></th><th scope=col>state</th><th scope=col>state_fips_code</th><th scope=col>county_name</th><th scope=col>confirmed_cases</th><th scope=col>deaths</th><th scope=col>total_pop</th><th scope=col>male_pop</th><th scope=col>female_pop</th><th scope=col>white_pop</th><th scope=col>black_pop</th><th scope=col>⋯</th><th scope=col>male_21_49</th><th scope=col>male_50_above</th><th scope=col>female_0_20</th><th scope=col>female_21_49</th><th scope=col>female_50_above</th><th scope=col>unemployed_pop</th><th scope=col>employed_pop</th><th scope=col>commute</th><th scope=col>worked_at_home</th><th scope=col>walked_to_work</th></tr>\n",
       "\t<tr><th></th><th scope=col>&lt;chr&gt;</th><th scope=col>&lt;int&gt;</th><th scope=col>&lt;chr&gt;</th><th scope=col>&lt;int&gt;</th><th scope=col>&lt;int&gt;</th><th scope=col>&lt;int&gt;</th><th scope=col>&lt;int&gt;</th><th scope=col>&lt;int&gt;</th><th scope=col>&lt;int&gt;</th><th scope=col>&lt;int&gt;</th><th scope=col>⋯</th><th scope=col>&lt;int&gt;</th><th scope=col>&lt;int&gt;</th><th scope=col>&lt;int&gt;</th><th scope=col>&lt;int&gt;</th><th scope=col>&lt;int&gt;</th><th scope=col>&lt;int&gt;</th><th scope=col>&lt;int&gt;</th><th scope=col>&lt;int&gt;</th><th scope=col>&lt;int&gt;</th><th scope=col>&lt;int&gt;</th></tr>\n",
       "</thead>\n",
       "<tbody>\n",
       "\t<tr><th scope=row>1</th><td>TX</td><td>48</td><td>Hansford County </td><td>673</td><td>17</td><td>5532</td><td>2760</td><td>2772</td><td>2950</td><td>  4</td><td>⋯</td><td>1052</td><td> 922</td><td>858</td><td>1053</td><td> 979</td><td> 94</td><td>2394</td><td>4384</td><td>18</td><td> 70</td></tr>\n",
       "\t<tr><th scope=row>2</th><td>TX</td><td>48</td><td>Stonewall County</td><td>134</td><td> 4</td><td>1084</td><td> 555</td><td> 529</td><td> 787</td><td> 38</td><td>⋯</td><td> 113</td><td> 325</td><td>129</td><td> 112</td><td> 306</td><td> 11</td><td> 442</td><td> 836</td><td> 7</td><td>  0</td></tr>\n",
       "\t<tr><th scope=row>3</th><td>TX</td><td>48</td><td>Cochran County  </td><td>216</td><td>12</td><td>2932</td><td>1492</td><td>1440</td><td>1104</td><td> 77</td><td>⋯</td><td> 418</td><td> 536</td><td>420</td><td> 538</td><td> 548</td><td>103</td><td>1189</td><td>2274</td><td>23</td><td> 12</td></tr>\n",
       "\t<tr><th scope=row>4</th><td>TX</td><td>48</td><td>Crockett County </td><td>472</td><td>13</td><td>3836</td><td>1903</td><td>1933</td><td>1264</td><td> 35</td><td>⋯</td><td> 512</td><td> 748</td><td>584</td><td> 662</td><td> 738</td><td> 43</td><td>1733</td><td>3346</td><td>60</td><td>  0</td></tr>\n",
       "\t<tr><th scope=row>5</th><td>TX</td><td>48</td><td>McCulloch County</td><td>467</td><td>12</td><td>8145</td><td>4171</td><td>3974</td><td>5067</td><td>161</td><td>⋯</td><td>1354</td><td>1765</td><td>911</td><td>1334</td><td>1885</td><td>122</td><td>3658</td><td>6566</td><td>61</td><td>104</td></tr>\n",
       "\t<tr><th scope=row>6</th><td>TX</td><td>48</td><td>Sherman County  </td><td>118</td><td>11</td><td>3067</td><td>1590</td><td>1477</td><td>1712</td><td>  8</td><td>⋯</td><td> 582</td><td> 594</td><td>398</td><td> 577</td><td> 555</td><td> 24</td><td>1604</td><td>2930</td><td>38</td><td> 72</td></tr>\n",
       "</tbody>\n",
       "</table>\n"
      ],
      "text/latex": [
       "A data.frame: 6 × 33\n",
       "\\begin{tabular}{r|lllllllllllllllllllll}\n",
       "  & state & state\\_fips\\_code & county\\_name & confirmed\\_cases & deaths & total\\_pop & male\\_pop & female\\_pop & white\\_pop & black\\_pop & ⋯ & male\\_21\\_49 & male\\_50\\_above & female\\_0\\_20 & female\\_21\\_49 & female\\_50\\_above & unemployed\\_pop & employed\\_pop & commute & worked\\_at\\_home & walked\\_to\\_work\\\\\n",
       "  & <chr> & <int> & <chr> & <int> & <int> & <int> & <int> & <int> & <int> & <int> & ⋯ & <int> & <int> & <int> & <int> & <int> & <int> & <int> & <int> & <int> & <int>\\\\\n",
       "\\hline\n",
       "\t1 & TX & 48 & Hansford County  & 673 & 17 & 5532 & 2760 & 2772 & 2950 &   4 & ⋯ & 1052 &  922 & 858 & 1053 &  979 &  94 & 2394 & 4384 & 18 &  70\\\\\n",
       "\t2 & TX & 48 & Stonewall County & 134 &  4 & 1084 &  555 &  529 &  787 &  38 & ⋯ &  113 &  325 & 129 &  112 &  306 &  11 &  442 &  836 &  7 &   0\\\\\n",
       "\t3 & TX & 48 & Cochran County   & 216 & 12 & 2932 & 1492 & 1440 & 1104 &  77 & ⋯ &  418 &  536 & 420 &  538 &  548 & 103 & 1189 & 2274 & 23 &  12\\\\\n",
       "\t4 & TX & 48 & Crockett County  & 472 & 13 & 3836 & 1903 & 1933 & 1264 &  35 & ⋯ &  512 &  748 & 584 &  662 &  738 &  43 & 1733 & 3346 & 60 &   0\\\\\n",
       "\t5 & TX & 48 & McCulloch County & 467 & 12 & 8145 & 4171 & 3974 & 5067 & 161 & ⋯ & 1354 & 1765 & 911 & 1334 & 1885 & 122 & 3658 & 6566 & 61 & 104\\\\\n",
       "\t6 & TX & 48 & Sherman County   & 118 & 11 & 3067 & 1590 & 1477 & 1712 &   8 & ⋯ &  582 &  594 & 398 &  577 &  555 &  24 & 1604 & 2930 & 38 &  72\\\\\n",
       "\\end{tabular}\n"
      ],
      "text/markdown": [
       "\n",
       "A data.frame: 6 × 33\n",
       "\n",
       "| <!--/--> | state &lt;chr&gt; | state_fips_code &lt;int&gt; | county_name &lt;chr&gt; | confirmed_cases &lt;int&gt; | deaths &lt;int&gt; | total_pop &lt;int&gt; | male_pop &lt;int&gt; | female_pop &lt;int&gt; | white_pop &lt;int&gt; | black_pop &lt;int&gt; | ⋯ ⋯ | male_21_49 &lt;int&gt; | male_50_above &lt;int&gt; | female_0_20 &lt;int&gt; | female_21_49 &lt;int&gt; | female_50_above &lt;int&gt; | unemployed_pop &lt;int&gt; | employed_pop &lt;int&gt; | commute &lt;int&gt; | worked_at_home &lt;int&gt; | walked_to_work &lt;int&gt; |\n",
       "|---|---|---|---|---|---|---|---|---|---|---|---|---|---|---|---|---|---|---|---|---|---|\n",
       "| 1 | TX | 48 | Hansford County  | 673 | 17 | 5532 | 2760 | 2772 | 2950 |   4 | ⋯ | 1052 |  922 | 858 | 1053 |  979 |  94 | 2394 | 4384 | 18 |  70 |\n",
       "| 2 | TX | 48 | Stonewall County | 134 |  4 | 1084 |  555 |  529 |  787 |  38 | ⋯ |  113 |  325 | 129 |  112 |  306 |  11 |  442 |  836 |  7 |   0 |\n",
       "| 3 | TX | 48 | Cochran County   | 216 | 12 | 2932 | 1492 | 1440 | 1104 |  77 | ⋯ |  418 |  536 | 420 |  538 |  548 | 103 | 1189 | 2274 | 23 |  12 |\n",
       "| 4 | TX | 48 | Crockett County  | 472 | 13 | 3836 | 1903 | 1933 | 1264 |  35 | ⋯ |  512 |  748 | 584 |  662 |  738 |  43 | 1733 | 3346 | 60 |   0 |\n",
       "| 5 | TX | 48 | McCulloch County | 467 | 12 | 8145 | 4171 | 3974 | 5067 | 161 | ⋯ | 1354 | 1765 | 911 | 1334 | 1885 | 122 | 3658 | 6566 | 61 | 104 |\n",
       "| 6 | TX | 48 | Sherman County   | 118 | 11 | 3067 | 1590 | 1477 | 1712 |   8 | ⋯ |  582 |  594 | 398 |  577 |  555 |  24 | 1604 | 2930 | 38 |  72 |\n",
       "\n"
      ],
      "text/plain": [
       "  state state_fips_code county_name      confirmed_cases deaths total_pop\n",
       "1 TX    48              Hansford County  673             17     5532     \n",
       "2 TX    48              Stonewall County 134              4     1084     \n",
       "3 TX    48              Cochran County   216             12     2932     \n",
       "4 TX    48              Crockett County  472             13     3836     \n",
       "5 TX    48              McCulloch County 467             12     8145     \n",
       "6 TX    48              Sherman County   118             11     3067     \n",
       "  male_pop female_pop white_pop black_pop ⋯ male_21_49 male_50_above\n",
       "1 2760     2772       2950        4       ⋯ 1052        922         \n",
       "2  555      529        787       38       ⋯  113        325         \n",
       "3 1492     1440       1104       77       ⋯  418        536         \n",
       "4 1903     1933       1264       35       ⋯  512        748         \n",
       "5 4171     3974       5067      161       ⋯ 1354       1765         \n",
       "6 1590     1477       1712        8       ⋯  582        594         \n",
       "  female_0_20 female_21_49 female_50_above unemployed_pop employed_pop commute\n",
       "1 858         1053          979             94            2394         4384   \n",
       "2 129          112          306             11             442          836   \n",
       "3 420          538          548            103            1189         2274   \n",
       "4 584          662          738             43            1733         3346   \n",
       "5 911         1334         1885            122            3658         6566   \n",
       "6 398          577          555             24            1604         2930   \n",
       "  worked_at_home walked_to_work\n",
       "1 18              70           \n",
       "2  7               0           \n",
       "3 23              12           \n",
       "4 60               0           \n",
       "5 61             104           \n",
       "6 38              72           "
      ]
     },
     "metadata": {},
     "output_type": "display_data"
    }
   ],
   "source": [
    "# First 10 rows\n",
    "head(dataset_plus_census)"
   ]
  },
  {
   "cell_type": "code",
   "execution_count": 223,
   "id": "1e1bc55d-6cb1-4d93-9af7-9cece9aa2135",
   "metadata": {},
   "outputs": [
    {
     "data": {
      "text/html": [
       "0"
      ],
      "text/latex": [
       "0"
      ],
      "text/markdown": [
       "0"
      ],
      "text/plain": [
       "[1] 0"
      ]
     },
     "metadata": {},
     "output_type": "display_data"
    }
   ],
   "source": [
    "# Checking for missing values\n",
    "sum(is.na(dataset_plus_census))"
   ]
  },
  {
   "cell_type": "code",
   "execution_count": 224,
   "id": "a35c67c2-6882-486c-9c80-ca8637ab5433",
   "metadata": {},
   "outputs": [
    {
     "data": {
      "text/plain": [
       "    state           state_fips_code county_name        confirmed_cases \n",
       " Length:222         Min.   :48      Length:222         Min.   :     1  \n",
       " Class :character   1st Qu.:48      Class :character   1st Qu.:   436  \n",
       " Mode  :character   Median :48      Mode  :character   Median :  1077  \n",
       "                    Mean   :48                         Mean   :  3619  \n",
       "                    3rd Qu.:48                         3rd Qu.:  2544  \n",
       "                    Max.   :48                         Max.   :107552  \n",
       "     deaths          total_pop         male_pop        female_pop    \n",
       " Min.   :   0.00   Min.   :    74   Min.   :    39   Min.   :    35  \n",
       " 1st Qu.:  12.00   1st Qu.:  5790   1st Qu.:  2894   1st Qu.:  2700  \n",
       " Median :  25.50   Median : 14448   Median :  7355   Median :  6766  \n",
       " Mean   :  77.73   Mean   : 42474   Mean   : 21230   Mean   : 21243  \n",
       " 3rd Qu.:  61.75   3rd Qu.: 34990   3rd Qu.: 17795   3rd Qu.: 17256  \n",
       " Max.   :2018.00   Max.   :839539   Max.   :410383   Max.   :429156  \n",
       "   white_pop        black_pop          asian_pop        hispanic_pop   \n",
       " Min.   :    55   Min.   :    0.00   Min.   :    0.0   Min.   :    12  \n",
       " 1st Qu.:  2580   1st Qu.:   55.25   1st Qu.:    6.0   1st Qu.:  1468  \n",
       " Median :  7632   Median :  482.50   Median :   45.0   Median :  3700  \n",
       " Mean   : 18563   Mean   : 3292.94   Mean   :  556.8   Mean   : 19338  \n",
       " 3rd Qu.: 18465   3rd Qu.: 2673.00   3rd Qu.:  241.8   3rd Qu.:  9827  \n",
       " Max.   :162449   Max.   :85901.00   Max.   :12857.0   Max.   :770794  \n",
       " amerindian_pop   other_race_pop   median_income   income_less_50K \n",
       " Min.   :   0.0   Min.   :  0.00   Min.   :24794   Min.   :     9  \n",
       " 1st Qu.:   5.0   1st Qu.:  0.00   1st Qu.:41537   1st Qu.:  1111  \n",
       " Median :  30.5   Median :  0.00   Median :46412   Median :  2740  \n",
       " Mean   : 125.9   Mean   : 31.38   Mean   :47428   Mean   :  7589  \n",
       " 3rd Qu.: 113.5   3rd Qu.: 26.75   3rd Qu.:52295   3rd Qu.:  6524  \n",
       " Max.   :2344.0   Max.   :477.00   Max.   :80938   Max.   :148982  \n",
       " income_50K_100K   income_100K_150K  income_150K_more  rent_under_50_percent\n",
       " Min.   :   19.0   Min.   :    0.0   Min.   :    0.0   Min.   :    7.0      \n",
       " 1st Qu.:  534.8   1st Qu.:  176.2   1st Qu.:  114.8   1st Qu.:  289.5      \n",
       " Median : 1427.5   Median :  490.5   Median :  274.0   Median :  820.0      \n",
       " Mean   : 4176.5   Mean   : 1621.6   Mean   :  984.0   Mean   : 3317.0      \n",
       " 3rd Qu.: 3627.0   3rd Qu.: 1382.8   3rd Qu.:  772.2   3rd Qu.: 2171.0      \n",
       " Max.   :74071.0   Max.   :25925.0   Max.   :14222.0   Max.   :73181.0      \n",
       " rent_over_50_percent   median_age      male_0_20        male_21_49    \n",
       " Min.   :    0.0      Min.   :25.80   Min.   :     3   Min.   :    10  \n",
       " 1st Qu.:   60.5      1st Qu.:34.67   1st Qu.:   837   1st Qu.:   971  \n",
       " Median :  185.0      Median :39.20   Median :  2079   Median :  2600  \n",
       " Mean   : 1027.0      Mean   :39.31   Mean   :  6785   Mean   :  8189  \n",
       " 3rd Qu.:  599.0      3rd Qu.:43.27   3rd Qu.:  5274   3rd Qu.:  6300  \n",
       " Max.   :19775.0      Max.   :57.50   Max.   :163853   Max.   :167493  \n",
       " male_50_above     female_0_20        female_21_49      female_50_above \n",
       " Min.   :    29   Min.   :     4.0   Min.   :     8.0   Min.   :    23  \n",
       " 1st Qu.:  1112   1st Qu.:   771.5   1st Qu.:   898.5   1st Qu.:  1184  \n",
       " Median :  2830   Median :  1880.5   Median :  2184.0   Median :  3010  \n",
       " Mean   :  6771   Mean   :  6437.0   Mean   :  7743.7   Mean   :  7664  \n",
       " 3rd Qu.:  6769   3rd Qu.:  4783.8   3rd Qu.:  5924.0   3rd Qu.:  7389  \n",
       " Max.   :109200   Max.   :159914.0   Max.   :164411.0   Max.   :136600  \n",
       " unemployed_pop     employed_pop       commute       worked_at_home   \n",
       " Min.   :    0.0   Min.   :    39   Min.   :    66   Min.   :    0.0  \n",
       " 1st Qu.:  121.2   1st Qu.:  2421   1st Qu.:  4344   1st Qu.:   68.5  \n",
       " Median :  382.0   Median :  5354   Median :  9925   Median :  190.0  \n",
       " Mean   : 1197.7   Mean   : 17677   Mean   : 32754   Mean   :  598.5  \n",
       " 3rd Qu.:  960.5   3rd Qu.: 14372   3rd Qu.: 26827   3rd Qu.:  515.0  \n",
       " Max.   :27566.0   Max.   :341350   Max.   :647479   Max.   :15026.0  \n",
       " walked_to_work  \n",
       " Min.   :   0.0  \n",
       " 1st Qu.:  47.0  \n",
       " Median : 101.5  \n",
       " Mean   : 338.6  \n",
       " 3rd Qu.: 242.2  \n",
       " Max.   :6964.0  "
      ]
     },
     "metadata": {},
     "output_type": "display_data"
    }
   ],
   "source": [
    "# Basic statistics\n",
    "summary(dataset_plus_census)"
   ]
  },
  {
   "cell_type": "code",
   "execution_count": 225,
   "id": "5a1cd887-3578-4617-9894-a83284e7c439",
   "metadata": {},
   "outputs": [
    {
     "data": {
      "text/html": [
       "222"
      ],
      "text/latex": [
       "222"
      ],
      "text/markdown": [
       "222"
      ],
      "text/plain": [
       "[1] 222"
      ]
     },
     "metadata": {},
     "output_type": "display_data"
    }
   ],
   "source": [
    "length(unique(dataset_plus_census$county_name))"
   ]
  },
  {
   "cell_type": "markdown",
   "id": "4dea4c83-16dd-43ee-b447-cb0edee668a4",
   "metadata": {},
   "source": [
    "Altogether there are 32 counties that are part of these 4 major cities. Previously we had 254 counties and now we have 222 counties. "
   ]
  },
  {
   "cell_type": "markdown",
   "id": "36154c4e-b6f9-4705-b6a9-06d737ce6b45",
   "metadata": {},
   "source": [
    "## Scale the data"
   ]
  },
  {
   "cell_type": "code",
   "execution_count": 226,
   "id": "0d567a22-aed8-4da3-a423-923b22cf86aa",
   "metadata": {},
   "outputs": [],
   "source": [
    "# Prepare data\n",
    "dataset_cases_TX_clustering <- dataset_plus_census %>%\n",
    "  select(county_name, confirmed_cases)"
   ]
  },
  {
   "cell_type": "code",
   "execution_count": 227,
   "id": "ad272240-4c0c-405f-8825-6c8a90bce4b0",
   "metadata": {},
   "outputs": [
    {
     "name": "stdout",
     "output_type": "stream",
     "text": [
      "'data.frame':\t222 obs. of  33 variables:\n",
      " $ state                : chr  \"TX\" \"TX\" \"TX\" \"TX\" ...\n",
      " $ state_fips_code      : int  48 48 48 48 48 48 48 48 48 48 ...\n",
      " $ county_name          : chr  \"Hansford County\" \"Stonewall County\" \"Cochran County\" \"Crockett County\" ...\n",
      " $ confirmed_cases      : int  673 134 216 472 467 118 11 114 1475 176 ...\n",
      " $ deaths               : int  17 4 12 13 12 11 0 3 46 7 ...\n",
      " $ total_pop            : int  5532 1084 2932 3836 8145 3067 289 1591 12755 1498 ...\n",
      " $ male_pop             : int  2760 555 1492 1903 4171 1590 150 796 6753 758 ...\n",
      " $ female_pop           : int  2772 529 1440 1933 3974 1477 139 795 6002 740 ...\n",
      " $ white_pop            : int  2950 787 1104 1264 5067 1712 212 964 5203 803 ...\n",
      " $ black_pop            : int  4 38 77 35 161 8 0 27 592 153 ...\n",
      " $ asian_pop            : int  0 0 0 0 0 0 0 0 0 0 ...\n",
      " $ hispanic_pop         : int  2569 246 1672 2537 2571 1327 77 513 6858 490 ...\n",
      " $ amerindian_pop       : int  6 0 6 0 1 7 0 0 31 5 ...\n",
      " $ other_race_pop       : int  0 0 0 0 202 0 0 0 0 32 ...\n",
      " $ median_income        : int  40678 46786 37500 52310 42367 54961 56964 42500 42441 33534 ...\n",
      " $ income_less_50K      : int  1162 238 603 663 1735 484 45 376 2331 428 ...\n",
      " $ income_50K_100K      : int  460 126 243 447 973 341 30 218 1233 186 ...\n",
      " $ income_100K_150K     : int  172 51 93 242 290 157 16 36 358 23 ...\n",
      " $ income_150K_more     : int  130 43 61 59 145 81 10 34 220 27 ...\n",
      " $ rent_under_50_percent: int  382 47 108 188 381 110 27 103 782 146 ...\n",
      " $ rent_over_50_percent : int  51 6 56 103 227 42 1 24 212 28 ...\n",
      " $ median_age           : num  34.9 51.9 33.5 35.5 43.5 39.8 32.7 46.4 34.6 47.6 ...\n",
      " $ male_0_20            : int  835 152 588 702 1163 463 26 198 2161 262 ...\n",
      " $ male_21_49           : int  1052 113 418 512 1354 582 82 254 2639 168 ...\n",
      " $ male_50_above        : int  922 325 536 748 1765 594 42 371 2084 370 ...\n",
      " $ female_0_20          : int  858 129 420 584 911 398 47 185 1858 149 ...\n",
      " $ female_21_49         : int  1053 112 538 662 1334 577 53 252 1995 244 ...\n",
      " $ female_50_above      : int  979 306 548 738 1885 555 42 399 2295 408 ...\n",
      " $ unemployed_pop       : int  94 11 103 43 122 24 11 48 474 78 ...\n",
      " $ employed_pop         : int  2394 442 1189 1733 3658 1604 173 729 4556 651 ...\n",
      " $ commute              : int  4384 836 2274 3346 6566 2930 316 1204 8468 1110 ...\n",
      " $ worked_at_home       : int  18 7 23 60 61 38 7 78 120 10 ...\n",
      " $ walked_to_work       : int  70 0 12 0 104 72 6 17 48 52 ...\n"
     ]
    }
   ],
   "source": [
    "# internal structure of the dataset\n",
    "str (dataset_plus_census)"
   ]
  },
  {
   "cell_type": "code",
   "execution_count": 228,
   "id": "400069d6-cca8-444c-8c23-cf117cacda9e",
   "metadata": {},
   "outputs": [
    {
     "data": {
      "text/html": [
       "222"
      ],
      "text/latex": [
       "222"
      ],
      "text/markdown": [
       "222"
      ],
      "text/plain": [
       "[1] 222"
      ]
     },
     "metadata": {},
     "output_type": "display_data"
    }
   ],
   "source": [
    "# Remove county from county names and convert them to lower case\n",
    "dataset_cases_TX_clustering <- dataset_cases_TX_clustering %>% \n",
    "    mutate(county_name = tolower(gsub(\" County\", \"\", county_name)))\n",
    "\n",
    "length(unique(dataset_cases_TX_clustering$county_name))"
   ]
  },
  {
   "cell_type": "markdown",
   "id": "b1257ebc-d14c-41b0-91ef-efb0080279c8",
   "metadata": {
    "jp-MarkdownHeadingCollapsed": true
   },
   "source": [
    "## Chosen Variables"
   ]
  },
  {
   "cell_type": "markdown",
   "id": "87f7dfd1-fc1b-4fc9-8473-557116f5ca29",
   "metadata": {},
   "source": [
    "We looked at all of the 31 feature variables that could be correlated to confirmed cases or deaths in project 1. Based on the observations made, following were the variables that seem to be highly correlated with confirmed cases.\n",
    "- Race\n",
    "- Income range\n",
    "- Age group\n",
    "\n",
    "Therefore, these variables are chosen to peform various types of cluster analysis."
   ]
  },
  {
   "cell_type": "code",
   "execution_count": 229,
   "id": "09c0e0d3-6ea3-4219-9d6b-d28a46db7778",
   "metadata": {},
   "outputs": [
    {
     "data": {
      "text/plain": [
       "   white_pop        black_pop          asian_pop        hispanic_pop   \n",
       " Min.   :    55   Min.   :    0.00   Min.   :    0.0   Min.   :    12  \n",
       " 1st Qu.:  2580   1st Qu.:   55.25   1st Qu.:    6.0   1st Qu.:  1468  \n",
       " Median :  7632   Median :  482.50   Median :   45.0   Median :  3700  \n",
       " Mean   : 18563   Mean   : 3292.94   Mean   :  556.8   Mean   : 19338  \n",
       " 3rd Qu.: 18465   3rd Qu.: 2673.00   3rd Qu.:  241.8   3rd Qu.:  9827  \n",
       " Max.   :162449   Max.   :85901.00   Max.   :12857.0   Max.   :770794  \n",
       " amerindian_pop   other_race_pop   income_less_50K  income_50K_100K  \n",
       " Min.   :   0.0   Min.   :  0.00   Min.   :     9   Min.   :   19.0  \n",
       " 1st Qu.:   5.0   1st Qu.:  0.00   1st Qu.:  1111   1st Qu.:  534.8  \n",
       " Median :  30.5   Median :  0.00   Median :  2740   Median : 1427.5  \n",
       " Mean   : 125.9   Mean   : 31.38   Mean   :  7589   Mean   : 4176.5  \n",
       " 3rd Qu.: 113.5   3rd Qu.: 26.75   3rd Qu.:  6524   3rd Qu.: 3627.0  \n",
       " Max.   :2344.0   Max.   :477.00   Max.   :148982   Max.   :74071.0  \n",
       " income_100K_150K  income_150K_more    male_0_20        male_21_49    \n",
       " Min.   :    0.0   Min.   :    0.0   Min.   :     3   Min.   :    10  \n",
       " 1st Qu.:  176.2   1st Qu.:  114.8   1st Qu.:   837   1st Qu.:   971  \n",
       " Median :  490.5   Median :  274.0   Median :  2079   Median :  2600  \n",
       " Mean   : 1621.6   Mean   :  984.0   Mean   :  6785   Mean   :  8189  \n",
       " 3rd Qu.: 1382.8   3rd Qu.:  772.2   3rd Qu.:  5274   3rd Qu.:  6300  \n",
       " Max.   :25925.0   Max.   :14222.0   Max.   :163853   Max.   :167493  \n",
       " male_50_above     female_0_20        female_21_49      female_50_above \n",
       " Min.   :    29   Min.   :     4.0   Min.   :     8.0   Min.   :    23  \n",
       " 1st Qu.:  1112   1st Qu.:   771.5   1st Qu.:   898.5   1st Qu.:  1184  \n",
       " Median :  2830   Median :  1880.5   Median :  2184.0   Median :  3010  \n",
       " Mean   :  6771   Mean   :  6437.0   Mean   :  7743.7   Mean   :  7664  \n",
       " 3rd Qu.:  6769   3rd Qu.:  4783.8   3rd Qu.:  5924.0   3rd Qu.:  7389  \n",
       " Max.   :109200   Max.   :159914.0   Max.   :164411.0   Max.   :136600  "
      ]
     },
     "metadata": {},
     "output_type": "display_data"
    }
   ],
   "source": [
    "# Basic statistics of the chosen variables\n",
    "summary(dataset_plus_census %>% select(white_pop, black_pop, asian_pop, hispanic_pop, amerindian_pop, other_race_pop,\n",
    "                                  income_less_50K, income_50K_100K, income_100K_150K, income_150K_more,\n",
    "                                  male_0_20, male_21_49, male_50_above, female_0_20, female_21_49, female_50_above))"
   ]
  },
  {
   "cell_type": "markdown",
   "id": "ef32227f-0971-4efd-8f87-8dace04891f4",
   "metadata": {
    "jp-MarkdownHeadingCollapsed": true
   },
   "source": [
    "## K-means (Euclidean distance) for variables related to Race + Income ranges"
   ]
  },
  {
   "cell_type": "markdown",
   "id": "370f2f5b-034f-419a-ab0f-cdd890127b74",
   "metadata": {
    "jp-MarkdownHeadingCollapsed": true
   },
   "source": [
    "### Clustering Tendency (Hopkins Statistic)"
   ]
  },
  {
   "cell_type": "code",
   "execution_count": 16,
   "id": "6683209e-5ced-431d-8a58-dfb19d7fd66c",
   "metadata": {},
   "outputs": [
    {
     "name": "stdout",
     "output_type": "stream",
     "text": [
      "package 'hopkins' successfully unpacked and MD5 sums checked\n",
      "\n",
      "The downloaded binary packages are in\n",
      "\tC:\\Users\\yamph\\AppData\\Local\\Temp\\Rtmp6ZACrS\\downloaded_packages\n"
     ]
    }
   ],
   "source": [
    "# Installing hopkins package\n",
    "install.packages(\"hopkins\")"
   ]
  },
  {
   "cell_type": "code",
   "execution_count": 17,
   "id": "8e894ab7-c0e2-4009-931d-dd966dafd4a8",
   "metadata": {},
   "outputs": [],
   "source": [
    "library(hopkins)"
   ]
  },
  {
   "cell_type": "code",
   "execution_count": 230,
   "id": "175203ec-13a8-4f49-957c-e44f36df0c18",
   "metadata": {},
   "outputs": [],
   "source": [
    "# Prepare the dataset with columns related to income ranges and races\n",
    "dataset_plus_census_race_income <- dataset_plus_census %>% \n",
    "  select(white_pop, black_pop, asian_pop, hispanic_pop, amerindian_pop, other_race_pop, income_less_50K, income_50K_100K, income_100K_150K, income_150K_more) %>% \n",
    "  scale() %>% as_tibble()\n",
    "\n",
    "# Scale the dataset\n",
    "dataset_plus_census_scaled_race_income <- scale(dataset_plus_census_race_income)"
   ]
  },
  {
   "cell_type": "code",
   "execution_count": 231,
   "id": "678f7e23-7b9c-47ff-9785-ac931f20f4a3",
   "metadata": {},
   "outputs": [
    {
     "data": {
      "text/plain": [
       "   white_pop           black_pop          asian_pop        hispanic_pop    \n",
       " Min.   :-0.642387   Min.   :-0.36496   Min.   :-0.3314   Min.   :-0.2510  \n",
       " 1st Qu.:-0.554748   1st Qu.:-0.35884   1st Qu.:-0.3278   1st Qu.:-0.2321  \n",
       " Median :-0.379400   Median :-0.31149   Median :-0.3046   Median :-0.2031  \n",
       " Mean   : 0.000000   Mean   : 0.00000   Mean   : 0.0000   Mean   : 0.0000  \n",
       " 3rd Qu.:-0.003394   3rd Qu.:-0.06871   3rd Qu.:-0.1875   3rd Qu.:-0.1235  \n",
       " Max.   : 4.994073   Max.   : 9.15558   Max.   : 7.3199   Max.   : 9.7590  \n",
       " amerindian_pop     other_race_pop     income_less_50K    income_50K_100K   \n",
       " Min.   :-0.47791   Min.   :-0.43877   Min.   :-0.44296   Min.   :-0.48025  \n",
       " 1st Qu.:-0.45894   1st Qu.:-0.43877   1st Qu.:-0.37855   1st Qu.:-0.42067  \n",
       " Median :-0.36216   Median :-0.43877   Median :-0.28334   Median :-0.31755  \n",
       " Mean   : 0.00000   Mean   : 0.00000   Mean   : 0.00000   Mean   : 0.00000  \n",
       " 3rd Qu.:-0.04717   3rd Qu.:-0.06472   3rd Qu.:-0.06225   3rd Qu.:-0.06348  \n",
       " Max.   : 8.41787   Max.   : 6.23116   Max.   : 8.26280   Max.   : 8.07375  \n",
       " income_100K_150K   income_150K_more \n",
       " Min.   :-0.49239   Min.   :-0.4780  \n",
       " 1st Qu.:-0.43887   1st Qu.:-0.4222  \n",
       " Median :-0.34345   Median :-0.3449  \n",
       " Mean   : 0.00000   Mean   : 0.0000  \n",
       " 3rd Qu.:-0.07254   3rd Qu.:-0.1028  \n",
       " Max.   : 7.37936   Max.   : 6.4301  "
      ]
     },
     "metadata": {},
     "output_type": "display_data"
    }
   ],
   "source": [
    "summary(dataset_plus_census_scaled_race_income)"
   ]
  },
  {
   "cell_type": "markdown",
   "id": "60bdf9d0-e751-4d70-b1c2-a062adf5c3c1",
   "metadata": {},
   "source": [
    "Ranges of all feature columns are somewhat same indicating the these columns have been scaled."
   ]
  },
  {
   "cell_type": "code",
   "execution_count": 232,
   "id": "da238bb6-20b7-42ac-8c18-a51d017f25b0",
   "metadata": {},
   "outputs": [
    {
     "data": {
      "text/html": [
       "<table class=\"dataframe\">\n",
       "<caption>A matrix: 6 × 10 of type dbl</caption>\n",
       "<thead>\n",
       "\t<tr><th scope=col>white_pop</th><th scope=col>black_pop</th><th scope=col>asian_pop</th><th scope=col>hispanic_pop</th><th scope=col>amerindian_pop</th><th scope=col>other_race_pop</th><th scope=col>income_less_50K</th><th scope=col>income_50K_100K</th><th scope=col>income_100K_150K</th><th scope=col>income_150K_more</th></tr>\n",
       "</thead>\n",
       "<tbody>\n",
       "\t<tr><td>-0.5419058</td><td>-0.3645185</td><td>-0.3313628</td><td>-0.2177805</td><td>-0.4551422</td><td>-0.4387658</td><td>-0.3755826</td><td>-0.4293063</td><td>-0.4401619</td><td>-0.4148059</td></tr>\n",
       "\t<tr><td>-0.6169804</td><td>-0.3607502</td><td>-0.3313628</td><td>-0.2479489</td><td>-0.4779130</td><td>-0.4387658</td><td>-0.4295798</td><td>-0.4678877</td><td>-0.4769018</td><td>-0.4570645</td></tr>\n",
       "\t<tr><td>-0.6059778</td><td>-0.3564278</td><td>-0.3313628</td><td>-0.2294297</td><td>-0.4551422</td><td>-0.4387658</td><td>-0.4082498</td><td>-0.4543727</td><td>-0.4641491</td><td>-0.4483214</td></tr>\n",
       "\t<tr><td>-0.6004244</td><td>-0.3610827</td><td>-0.3313628</td><td>-0.2181961</td><td>-0.4779130</td><td>-0.4387658</td><td>-0.4047435</td><td>-0.4308079</td><td>-0.4189074</td><td>-0.4492928</td></tr>\n",
       "\t<tr><td>-0.4684278</td><td>-0.3471179</td><td>-0.3313628</td><td>-0.2177546</td><td>-0.4741178</td><td> 2.3858128</td><td>-0.3420974</td><td>-0.3700479</td><td>-0.4043329</td><td>-0.4075199</td></tr>\n",
       "\t<tr><td>-0.5848750</td><td>-0.3640752</td><td>-0.3313628</td><td>-0.2339102</td><td>-0.4513470</td><td>-0.4387658</td><td>-0.4152040</td><td>-0.4430524</td><td>-0.4447164</td><td>-0.4386068</td></tr>\n",
       "</tbody>\n",
       "</table>\n"
      ],
      "text/latex": [
       "A matrix: 6 × 10 of type dbl\n",
       "\\begin{tabular}{llllllllll}\n",
       " white\\_pop & black\\_pop & asian\\_pop & hispanic\\_pop & amerindian\\_pop & other\\_race\\_pop & income\\_less\\_50K & income\\_50K\\_100K & income\\_100K\\_150K & income\\_150K\\_more\\\\\n",
       "\\hline\n",
       "\t -0.5419058 & -0.3645185 & -0.3313628 & -0.2177805 & -0.4551422 & -0.4387658 & -0.3755826 & -0.4293063 & -0.4401619 & -0.4148059\\\\\n",
       "\t -0.6169804 & -0.3607502 & -0.3313628 & -0.2479489 & -0.4779130 & -0.4387658 & -0.4295798 & -0.4678877 & -0.4769018 & -0.4570645\\\\\n",
       "\t -0.6059778 & -0.3564278 & -0.3313628 & -0.2294297 & -0.4551422 & -0.4387658 & -0.4082498 & -0.4543727 & -0.4641491 & -0.4483214\\\\\n",
       "\t -0.6004244 & -0.3610827 & -0.3313628 & -0.2181961 & -0.4779130 & -0.4387658 & -0.4047435 & -0.4308079 & -0.4189074 & -0.4492928\\\\\n",
       "\t -0.4684278 & -0.3471179 & -0.3313628 & -0.2177546 & -0.4741178 &  2.3858128 & -0.3420974 & -0.3700479 & -0.4043329 & -0.4075199\\\\\n",
       "\t -0.5848750 & -0.3640752 & -0.3313628 & -0.2339102 & -0.4513470 & -0.4387658 & -0.4152040 & -0.4430524 & -0.4447164 & -0.4386068\\\\\n",
       "\\end{tabular}\n"
      ],
      "text/markdown": [
       "\n",
       "A matrix: 6 × 10 of type dbl\n",
       "\n",
       "| white_pop | black_pop | asian_pop | hispanic_pop | amerindian_pop | other_race_pop | income_less_50K | income_50K_100K | income_100K_150K | income_150K_more |\n",
       "|---|---|---|---|---|---|---|---|---|---|\n",
       "| -0.5419058 | -0.3645185 | -0.3313628 | -0.2177805 | -0.4551422 | -0.4387658 | -0.3755826 | -0.4293063 | -0.4401619 | -0.4148059 |\n",
       "| -0.6169804 | -0.3607502 | -0.3313628 | -0.2479489 | -0.4779130 | -0.4387658 | -0.4295798 | -0.4678877 | -0.4769018 | -0.4570645 |\n",
       "| -0.6059778 | -0.3564278 | -0.3313628 | -0.2294297 | -0.4551422 | -0.4387658 | -0.4082498 | -0.4543727 | -0.4641491 | -0.4483214 |\n",
       "| -0.6004244 | -0.3610827 | -0.3313628 | -0.2181961 | -0.4779130 | -0.4387658 | -0.4047435 | -0.4308079 | -0.4189074 | -0.4492928 |\n",
       "| -0.4684278 | -0.3471179 | -0.3313628 | -0.2177546 | -0.4741178 |  2.3858128 | -0.3420974 | -0.3700479 | -0.4043329 | -0.4075199 |\n",
       "| -0.5848750 | -0.3640752 | -0.3313628 | -0.2339102 | -0.4513470 | -0.4387658 | -0.4152040 | -0.4430524 | -0.4447164 | -0.4386068 |\n",
       "\n"
      ],
      "text/plain": [
       "     white_pop  black_pop  asian_pop  hispanic_pop amerindian_pop\n",
       "[1,] -0.5419058 -0.3645185 -0.3313628 -0.2177805   -0.4551422    \n",
       "[2,] -0.6169804 -0.3607502 -0.3313628 -0.2479489   -0.4779130    \n",
       "[3,] -0.6059778 -0.3564278 -0.3313628 -0.2294297   -0.4551422    \n",
       "[4,] -0.6004244 -0.3610827 -0.3313628 -0.2181961   -0.4779130    \n",
       "[5,] -0.4684278 -0.3471179 -0.3313628 -0.2177546   -0.4741178    \n",
       "[6,] -0.5848750 -0.3640752 -0.3313628 -0.2339102   -0.4513470    \n",
       "     other_race_pop income_less_50K income_50K_100K income_100K_150K\n",
       "[1,] -0.4387658     -0.3755826      -0.4293063      -0.4401619      \n",
       "[2,] -0.4387658     -0.4295798      -0.4678877      -0.4769018      \n",
       "[3,] -0.4387658     -0.4082498      -0.4543727      -0.4641491      \n",
       "[4,] -0.4387658     -0.4047435      -0.4308079      -0.4189074      \n",
       "[5,]  2.3858128     -0.3420974      -0.3700479      -0.4043329      \n",
       "[6,] -0.4387658     -0.4152040      -0.4430524      -0.4447164      \n",
       "     income_150K_more\n",
       "[1,] -0.4148059      \n",
       "[2,] -0.4570645      \n",
       "[3,] -0.4483214      \n",
       "[4,] -0.4492928      \n",
       "[5,] -0.4075199      \n",
       "[6,] -0.4386068      "
      ]
     },
     "metadata": {},
     "output_type": "display_data"
    }
   ],
   "source": [
    "head(dataset_plus_census_scaled_race_income)"
   ]
  },
  {
   "cell_type": "code",
   "execution_count": 233,
   "id": "b501e692-d935-4e1a-822d-23c54467d3fd",
   "metadata": {},
   "outputs": [
    {
     "data": {
      "text/html": [
       "0.99999999977318"
      ],
      "text/latex": [
       "0.99999999977318"
      ],
      "text/markdown": [
       "0.99999999977318"
      ],
      "text/plain": [
       "[1] 1"
      ]
     },
     "metadata": {},
     "output_type": "display_data"
    }
   ],
   "source": [
    "# Compute the Hopkins statistic\n",
    "set.seed(123) \n",
    "hopkins_stat <- hopkins(dataset_plus_census_scaled_race_income)\n",
    "hopkins_stat"
   ]
  },
  {
   "cell_type": "markdown",
   "id": "d125025b-f5f8-453d-a6f5-646ea367f0f5",
   "metadata": {},
   "source": [
    "This shows that there is a strong clustering tendency."
   ]
  },
  {
   "cell_type": "markdown",
   "id": "105349d5-b19e-4bb1-9ca5-10da4d2c160d",
   "metadata": {
    "jp-MarkdownHeadingCollapsed": true
   },
   "source": [
    "### Average Silhouette Width"
   ]
  },
  {
   "cell_type": "code",
   "execution_count": 22,
   "id": "5d2c3a8a-8514-4625-8328-deca2f0750e9",
   "metadata": {},
   "outputs": [
    {
     "name": "stdout",
     "output_type": "stream",
     "text": [
      "package 'factoextra' successfully unpacked and MD5 sums checked\n",
      "\n",
      "The downloaded binary packages are in\n",
      "\tC:\\Users\\yamph\\AppData\\Local\\Temp\\Rtmp6ZACrS\\downloaded_packages\n"
     ]
    },
    {
     "name": "stderr",
     "output_type": "stream",
     "text": [
      "Welcome! Want to learn more? See two factoextra-related books at https://goo.gl/ve3WBa\n",
      "\n"
     ]
    }
   ],
   "source": [
    "install.packages(\"factoextra\")\n",
    "library(cluster)\n",
    "library(factoextra)"
   ]
  },
  {
   "cell_type": "code",
   "execution_count": 234,
   "id": "263706ec-8ecb-42b3-ab88-d12083aa630b",
   "metadata": {},
   "outputs": [
    {
     "name": "stdout",
     "output_type": "stream",
     "text": [
      "[1] 2\n"
     ]
    },
    {
     "data": {
      "image/png": "[encoded data removed]",
      "text/plain": [
       "plot without title"
      ]
     },
     "metadata": {
      "image/png": {
       "height": 420,
       "width": 420
      }
     },
     "output_type": "display_data"
    }
   ],
   "source": [
    "# range for number of clusters\n",
    "ks_race_income <- 2:10\n",
    "\n",
    "# distance\n",
    "d_race_income <- dist(dataset_plus_census_scaled_race_income)\n",
    "\n",
    "# Average Silhouette Width\n",
    "ASW_race_income <- sapply(ks_race_income, FUN=function(k) {\n",
    "  kmeans_result <- kmeans(dataset_plus_census_scaled_race_income, centers = k, nstart = 10)\n",
    "  silhouette_info <- silhouette(kmeans_result$cluster, d_race_income)\n",
    "  mean(silhouette_info[, 3])  # Return the average silhouette width\n",
    "})\n",
    "\n",
    "# best k\n",
    "best_k_race_income <- ks_race_income[which.max(ASW_race_income)]\n",
    "print(best_k_race_income)\n",
    "\n",
    "# Plot the Average Silhouette Width\n",
    "ggplot(data.frame(ks_race_income, ASW_race_income), aes(x = ks_race_income, y = ASW_race_income)) + \n",
    "  geom_line() +\n",
    "  geom_vline(xintercept = best_k_race_income, color = \"red\", linetype = 2) + \n",
    "  ggtitle(\"Average Silhouette Width Plot (Race+Income)\") +\n",
    "  xlab(\"Number of Clusters (k)\") +\n",
    "  ylab(\"Average Silhouette Width\")"
   ]
  },
  {
   "cell_type": "code",
   "execution_count": 236,
   "id": "1dfcbc81-f782-4cac-b18d-9193d3fd4653",
   "metadata": {},
   "outputs": [
    {
     "name": "stdout",
     "output_type": "stream",
     "text": [
      "  cluster size ave.sil.width\n",
      "1       1   16          0.13\n",
      "2       2  206          0.88\n",
      "  cluster size ave.sil.width\n",
      "1       1    2          0.38\n",
      "2       2  196          0.83\n",
      "3       3   17          0.16\n",
      "4       4    7          0.25\n",
      "  cluster size ave.sil.width\n",
      "1       1    2          0.31\n",
      "2       2   33          0.17\n",
      "3       3    2          0.38\n",
      "4       4    7          0.20\n",
      "5       5  166          0.70\n",
      "6       6   12          0.06\n",
      "  cluster size ave.sil.width\n",
      "1       1   21          0.08\n",
      "2       2    8          0.16\n",
      "3       3  122          0.66\n",
      "4       4    7          0.16\n",
      "5       5    2          0.31\n",
      "6       6    2          0.31\n",
      "7       7   58          0.07\n",
      "8       8    2          0.07\n"
     ]
    },
    {
     "data": {
      "image/png": "[encoded data removed]",
      "text/plain": [
       "plot without title"
      ]
     },
     "metadata": {
      "image/png": {
       "height": 420,
       "width": 420
      }
     },
     "output_type": "display_data"
    }
   ],
   "source": [
    "# K-means clustering (10 random restarts)\n",
    "k_means_race_income_first <- kmeans(dataset_plus_census_scaled_race_income, centers=2, nstart = 10)\n",
    "k_means_race_income_second <- kmeans(dataset_plus_census_scaled_race_income, centers=4, nstart = 10)\n",
    "k_means_race_income_third <- kmeans(dataset_plus_census_scaled_race_income, centers=6, nstart = 10)\n",
    "k_means_race_income_fourth <- kmeans(dataset_plus_census_scaled_race_income, centers=8, nstart = 10)\n",
    "\n",
    "# Compute silhouette scores\n",
    "sil_race_income_first <- silhouette(k_means_race_income_first$cluster, d_race_income)\n",
    "sil_race_income_second <- silhouette(k_means_race_income_second$cluster, d_race_income)\n",
    "sil_race_income_third <- silhouette(k_means_race_income_third$cluster, d_race_income)\n",
    "sil_race_income_fourth <- silhouette(k_means_race_income_fourth$cluster, d_race_income)\n",
    "\n",
    "# Arrange the plots side by side in a 2x2 grid\n",
    "sil_race_income_first <- silhouette(k_means_race_income_first$cluster, d_race_income)\n",
    "sil_race_income_second <- silhouette(k_means_race_income_second$cluster, d_race_income)\n",
    "sil_race_income_third <- silhouette(k_means_race_income_third$cluster, d_race_income)\n",
    "sil_race_income_fourth <- silhouette(k_means_race_income_fourth$cluster, d_race_income)\n",
    "\n",
    "# Visualize silhouette plots\n",
    "p1 <- fviz_silhouette(sil_race_income_first) + ggtitle(\"2 Clusters\")\n",
    "p2 <- fviz_silhouette(sil_race_income_second) + ggtitle(\"4 Clusters\")\n",
    "p3 <- fviz_silhouette(sil_race_income_third) + ggtitle(\"6 Clusters\")\n",
    "p4 <- fviz_silhouette(sil_race_income_fourth) + ggtitle(\"8 Clusters\")\n",
    "\n",
    "# Arrange the plots side by side in a 2x2 grid (note the empty space)\n",
    "combined_silplot_race_income <- ggarrange(p1, p2, p3, p4, ncol = 2, nrow = 2)\n",
    "\n",
    "# Display the combined plot\n",
    "print(combined_silplot_race_income)"
   ]
  },
  {
   "cell_type": "markdown",
   "id": "9f12aa9b-6a48-4c77-a306-76e1e4156815",
   "metadata": {},
   "source": [
    "Based on the above two plots, we can see that the average silhouette widht is highest when there are only 2 clusters. The value decreases with more number of clusters."
   ]
  },
  {
   "cell_type": "markdown",
   "id": "724b16d1-55a7-4aa5-934c-c41ea947a3a8",
   "metadata": {
    "jp-MarkdownHeadingCollapsed": true
   },
   "source": [
    "### Elbow Method: Within-Cluster Sum of Square"
   ]
  },
  {
   "cell_type": "code",
   "execution_count": 238,
   "id": "642ebe3f-245c-4cb1-9021-ea0d49b8fbef",
   "metadata": {},
   "outputs": [
    {
     "data": {
      "image/png": "[encoded data removed]",
      "text/plain": [
       "plot without title"
      ]
     },
     "metadata": {
      "image/png": {
       "height": 420,
       "width": 420
      }
     },
     "output_type": "display_data"
    }
   ],
   "source": [
    "# use the same range of K \n",
    "#set.seed(1234)\n",
    "\n",
    "#Calculate within-cluster sum of squares for number of clusters\n",
    "WCSS_race_income <- sapply(ks_race_income, FUN = function(k) {\n",
    "  kmeans(d_race_income <- dist(dataset_plus_census_scaled_race_income), centers = k, nstart = 10)$tot.withinss\n",
    "  })\n",
    "\n",
    "# Plot \n",
    "ggplot(tibble(ks_race_income, WCSS_race_income), aes(ks_race_income, WCSS_race_income)) + \n",
    "  geom_line() +\n",
    "  geom_vline(xintercept = 7, color = \"red\", linetype = 2)+\n",
    "  ggtitle(\"Elbow Plot (Race & Income)\") +\n",
    "  xlab(\"Number of Clusters (k)\") +\n",
    "  ylab(\"Within sum of squares (WCSS)\")"
   ]
  },
  {
   "cell_type": "markdown",
   "id": "488a2cc2-f166-4777-b687-30db93f1d1dc",
   "metadata": {},
   "source": [
    "This indicates that after about 7 clusters, the within sum of squares does not seem to decrease significantly."
   ]
  },
  {
   "cell_type": "markdown",
   "id": "81806774-c299-4b59-8c35-5b44f160b3db",
   "metadata": {
    "jp-MarkdownHeadingCollapsed": true
   },
   "source": [
    "### Gap Statistic"
   ]
  },
  {
   "cell_type": "code",
   "execution_count": 239,
   "id": "2f2fdee7-fc25-41af-929b-4f368d2a1d3c",
   "metadata": {},
   "outputs": [
    {
     "data": {
      "text/plain": [
       "Clustering Gap statistic [\"clusGap\"] from call:\n",
       "clusGap(x = dataset_plus_census_scaled_race_income, FUNcluster = kmeans, K.max = 10, nstart = 10)\n",
       "B=100 simulated reference sets, k = 1..10; spaceH0=\"scaledPCA\"\n",
       " --> Number of clusters (method 'firstSEmax', SE.factor=1): 6\n",
       "          logW   E.logW      gap     SE.sim\n",
       " [1,] 4.908883 6.399682 1.490799 0.01729303\n",
       " [2,] 4.521293 6.134254 1.612961 0.01617139\n",
       " [3,] 4.364247 6.026261 1.662014 0.01510208\n",
       " [4,] 4.254925 5.935977 1.681053 0.01557274\n",
       " [5,] 4.108136 5.868729 1.760592 0.01407752\n",
       " [6,] 4.026812 5.816780 1.789968 0.01375097\n",
       " [7,] 3.994441 5.777251 1.782810 0.01294541\n",
       " [8,] 3.893139 5.742676 1.849537 0.01271991\n",
       " [9,] 3.851386 5.711586 1.860199 0.01221750\n",
       "[10,] 3.822598 5.682707 1.860108 0.01204762"
      ]
     },
     "metadata": {},
     "output_type": "display_data"
    },
    {
     "data": {
      "image/png": "[encoded data removed]",
      "text/plain": [
       "Plot with title \"clusGap(x = dataset_plus_census_scaled_race_income,\n",
       "       FUNcluster = kmeans, K.max = 10, nstart = 10)\""
      ]
     },
     "metadata": {
      "image/png": {
       "height": 420,
       "width": 420
      }
     },
     "output_type": "display_data"
    }
   ],
   "source": [
    "k_race_gap_income <- clusGap(dataset_plus_census_scaled_race_income, \n",
    "             FUN = kmeans,  \n",
    "             nstart = 10, \n",
    "             K.max = 10)\n",
    "k_race_gap_income\n",
    "\n",
    "plot(k_race_gap_income)"
   ]
  },
  {
   "cell_type": "markdown",
   "id": "e7210b02-aac3-4d30-be78-5f6481dbf36d",
   "metadata": {},
   "source": [
    "Overall we see that silhouette and gap statistic methods suggest we just need 2 clusters for the dataset."
   ]
  },
  {
   "cell_type": "markdown",
   "id": "3329246b-fe6e-4d53-9b52-8bc4870255b9",
   "metadata": {
    "jp-MarkdownHeadingCollapsed": true
   },
   "source": [
    "### Compare clusterings (unsupervised)"
   ]
  },
  {
   "cell_type": "code",
   "execution_count": 161,
   "id": "a9b0dd43-46ce-47f6-b988-3dc30cc595ec",
   "metadata": {},
   "outputs": [],
   "source": [
    "library(cluster)"
   ]
  },
  {
   "cell_type": "code",
   "execution_count": 240,
   "id": "17a089c3-ce9f-4131-a41e-885d772ea2c1",
   "metadata": {},
   "outputs": [
    {
     "name": "stdout",
     "output_type": "stream",
     "text": [
      "                  km_first  km_second km_third   km_fourth\n",
      "within.cluster.ss 939.1497  436.7534  287.3531   277.3732 \n",
      "avg.silwidth      0.8260791 0.7528466 0.3968105  0.2972571\n",
      "pearsongamma      0.8368706 0.7924121 0.407337   0.301155 \n",
      "dunn              0.1224606 0.1325623 0.01952547 0.0100413\n"
     ]
    }
   ],
   "source": [
    "# k-means clustering with different numbers of clusters\n",
    "k_means_race_income_first <- kmeans(dataset_plus_census_scaled_race_income, centers = 2)\n",
    "k_means_race_income_second <- kmeans(dataset_plus_census_scaled_race_income, centers = 4)\n",
    "k_means_race_income_third <- kmeans(dataset_plus_census_scaled_race_income, centers = 8)\n",
    "k_means_race_income_fourth <- kmeans(dataset_plus_census_scaled_race_income, centers = 10)\n",
    "\n",
    "# Compute clustering statistics for each clustering result\n",
    "cluster_stats <- sapply(\n",
    "  list(\n",
    "    km_first = k_means_race_income_first$cluster,\n",
    "    km_second = k_means_race_income_second$cluster,\n",
    "    km_third = k_means_race_income_third$cluster,\n",
    "    km_fourth = k_means_race_income_fourth$cluster\n",
    "  ),\n",
    "  FUN = function(x) fpc::cluster.stats(d_race_income, x)\n",
    ")\n",
    "\n",
    "# Extract the desired statistics\n",
    "race_income_cluster_stats <- cluster_stats[c(\"within.cluster.ss\", \"avg.silwidth\", \"pearsongamma\", \"dunn\"), ]\n",
    "\n",
    "# Print the results\n",
    "print(race_income_cluster_stats)"
   ]
  },
  {
   "cell_type": "markdown",
   "id": "22c7c231-dd8d-4dd3-be07-847637b0f864",
   "metadata": {},
   "source": [
    "Looking at the sum of squares, we see that the value starts to decrease not so sifnificantly after 8 clusters supporting the observation made on elbow method.  \n",
    "Looking at the average silwidth values, we can see that it's max at two (but 3 is reasonable too) clusters supporting the observation made on the silwidth plot.  \n",
    "The pearson gamma values also indicate that we just need two clusters (3 is reasonable too) for this dataset since this value is highest for clusters. This values does not improve much (does not decrease) with more clusters added.  \n",
    "But the dunn index indicates that we need three clusters for this dataset since it has the highest value for 3 clusters. The value does not improve (does not decrease) with  more clusters added. \n",
    "Overall, these values indicate that adding more clusters might lead to more compact clusters but less defined and well-separated clusters. Therefore, 3 clusters could offer the most robust clustering for the dataset."
   ]
  },
  {
   "cell_type": "markdown",
   "id": "8f45fe8b-a707-470e-bf79-4c7d66f668d9",
   "metadata": {},
   "source": [
    "### Inspect the clusters (Visualization)"
   ]
  },
  {
   "cell_type": "code",
   "execution_count": 241,
   "id": "02c1324d-df53-4725-8459-370126981c3d",
   "metadata": {},
   "outputs": [
    {
     "name": "stderr",
     "output_type": "stream",
     "text": [
      "\u001b[1m\u001b[22mToo few points to calculate an ellipse\n",
      "\u001b[1m\u001b[22mToo few points to calculate an ellipse\n",
      "\u001b[1m\u001b[22mToo few points to calculate an ellipse\n"
     ]
    },
    {
     "data": {
      "image/png": "[encoded data removed]",
      "text/plain": [
       "plot without title"
      ]
     },
     "metadata": {
      "image/png": {
       "height": 420,
       "width": 420
      }
     },
     "output_type": "display_data"
    }
   ],
   "source": [
    "# K-means clustering with 3 clusters\n",
    "kmeans_race_income_first <- kmeans(dataset_plus_census_scaled_race_income, centers = 2)\n",
    "plot_kmeans_race_income_first <- fviz_cluster(kmeans_race_income_first, data = dataset_plus_census_scaled_race_income,\n",
    "                              centroids = TRUE, geom = \"point\", ellipse.type = \"norm\") +\n",
    "  labs(title = \"K-means Clustering with 2 Centers\")\n",
    "\n",
    "# K-means clustering with 3 clusters\n",
    "kmeans_race_income_second <- kmeans(dataset_plus_census_scaled_race_income, centers = 3)\n",
    "plot_kmeans_race_income_second <- fviz_cluster(kmeans_race_income_second, data = dataset_plus_census_scaled_race_income,\n",
    "                              centroids = TRUE, geom = \"point\", ellipse.type = \"norm\") +\n",
    "  labs(title = \"K-means Clustering with 3 Centers\")\n",
    "\n",
    "# K-means clustering with 9 clusters\n",
    "kmeans_race_income_third <- kmeans(dataset_plus_census_scaled_race_income, centers = 9)\n",
    "plot_kmeans_race_income_third <- fviz_cluster(kmeans_race_income_third, data = dataset_plus_census_scaled_race_income,\n",
    "                              centroids = TRUE, geom = \"point\", ellipse.type = \"norm\") +\n",
    "  labs(title = \"K-means Clustering with 9 Centers\")\n",
    "\n",
    "# Arrange the plots side by side in a 2x2 grid\n",
    "combined_plot_race_income <- ggarrange(plot_kmeans_race_income_first, plot_kmeans_race_income_second, plot_kmeans_race_income_third, ncol = 2, nrow = 2)\n",
    "\n",
    "# Display the combined plot\n",
    "print(combined_plot_race_income)\n",
    "\n",
    "#Save the plot\n",
    "ggsave(\"combined_plot_race_income.png\", plot = combined_plot_race_income, width = 6, height = 3)"
   ]
  },
  {
   "cell_type": "markdown",
   "id": "1ee605b3-f46e-485c-823d-1a66124ae10d",
   "metadata": {},
   "source": [
    "Comparing three clusterings with varying number of clusters, we can clearly see that we just need two clusters for our dataset. Even having one more cluster (three total), the third cluster picks up an datapoints that could be part of cluster 2. That means, if we use more clusters, more outliers will be clustered as a separate cluster. So visually, we can say that we just need two clusters for the dataset."
   ]
  },
  {
   "cell_type": "code",
   "execution_count": 246,
   "id": "91491af9-457f-42ff-9858-3ed7f234de2b",
   "metadata": {},
   "outputs": [],
   "source": [
    "# Adjust the k value for further inspection of the clusters\n",
    "k_means_race_income <- kmeans(dataset_plus_census_scaled_race_income, centers=2, nstart = 10)\n",
    "\n",
    "cluster_profile_race_income <- ggplot(pivot_longer(as_tibble(k_means_race_income$centers,  rownames = \"cluster\"), \n",
    "  cols = colnames(k_means_race_income$centers)), \n",
    "  aes(y = name, x = value, fill = cluster)) +\n",
    "  geom_bar(stat = \"identity\") +\n",
    "  facet_grid(cols = vars(cluster)) +\n",
    "  labs(y = \"feature\", x = \"z-scores\", title = \"Cluster Profiles (Race & Income)\") + \n",
    "  guides(fill=\"none\")\n",
    "\n",
    "#Save teh profile\n",
    "ggsave(\"cluster_profile_race_income.png\", plot = cluster_profile_race_income, width = 6, height = 2)"
   ]
  },
  {
   "cell_type": "code",
   "execution_count": 247,
   "id": "98b89ba4-2a61-4d53-ac3c-556c0fd73b8d",
   "metadata": {},
   "outputs": [
    {
     "data": {
      "image/png": "[encoded data removed]",
      "text/plain": [
       "plot without title"
      ]
     },
     "metadata": {
      "image/png": {
       "height": 420,
       "width": 420
      }
     },
     "output_type": "display_data"
    }
   ],
   "source": [
    "cluster_profile_race_income"
   ]
  },
  {
   "cell_type": "markdown",
   "id": "12b63292-a0f0-4be1-963a-49bc51fcee8e",
   "metadata": {},
   "source": [
    "I started with 4 clusters and visually analyzed the disributions among all the features. One of 4 clusters showed very similar distribution for all features indicatin that this cluster lacks meaningful information (does not decribe much of the variation). Then I decrease the number of clusters to 3 and performed same analysis. I got the same result. Finally, I ended up having only 2 clusters that was enough to represent the variation in the data.\\\n",
    "    Increasing the number of clusters did not result in better differentiation and instead led to clusters that exhibited identical or near-identical values across features"
   ]
  },
  {
   "cell_type": "code",
   "execution_count": 248,
   "id": "8288ee41-943b-467f-be1e-791c3fe8c1e1",
   "metadata": {},
   "outputs": [
    {
     "data": {
      "text/plain": [
       "K-means clustering with 2 clusters of sizes 206, 16\n",
       "\n",
       "Cluster means:\n",
       "   white_pop  black_pop  asian_pop hispanic_pop amerindian_pop other_race_pop\n",
       "1 -0.2238753 -0.1681191 -0.2183538   -0.1513248     -0.1981602     -0.2301738\n",
       "2  2.8823938  2.1645328  2.8113049    1.9483070      2.5513130      2.9634881\n",
       "  income_less_50K income_50K_100K income_100K_150K income_150K_more\n",
       "1      -0.2057027      -0.2229729       -0.2330015       -0.2389475\n",
       "2       2.6484217       2.8707758        2.9998942        3.0764496\n",
       "\n",
       "Clustering vector:\n",
       "  [1] 1 1 1 1 1 1 1 1 1 1 1 1 1 1 1 1 1 1 1 1 1 1 1 1 1 1 1 1 1 1 1 1 1 1 1 1 1\n",
       " [38] 1 1 1 1 1 1 1 1 1 1 1 1 1 1 1 1 1 1 1 1 1 1 1 1 1 1 1 1 1 1 1 1 1 1 1 1 1\n",
       " [75] 1 1 1 1 1 1 1 1 1 1 1 1 1 1 1 1 1 1 1 1 1 1 1 1 1 1 1 1 1 1 1 1 1 1 1 1 1\n",
       "[112] 1 2 2 1 1 2 2 1 1 1 1 2 1 1 1 1 1 1 1 1 1 1 1 1 1 1 2 2 1 1 1 1 2 2 1 1 1\n",
       "[149] 1 1 1 1 1 1 1 1 1 1 1 1 1 1 1 1 1 1 1 1 1 1 1 1 1 1 1 1 1 1 1 2 1 1 1 1 1\n",
       "[186] 1 1 1 1 1 1 1 1 1 2 1 2 1 1 1 1 2 1 2 1 1 1 1 1 1 1 1 1 1 2 2 1 1 1 1 1 1\n",
       "\n",
       "Within cluster sum of squares by cluster:\n",
       "[1] 288.7219 650.4279\n",
       " (between_SS / total_SS =  57.5 %)\n",
       "\n",
       "Available components:\n",
       "\n",
       "[1] \"cluster\"      \"centers\"      \"totss\"        \"withinss\"     \"tot.withinss\"\n",
       "[6] \"betweenss\"    \"size\"         \"iter\"         \"ifault\"      "
      ]
     },
     "metadata": {},
     "output_type": "display_data"
    }
   ],
   "source": [
    "k_means_race_income"
   ]
  },
  {
   "cell_type": "markdown",
   "id": "f9894b12-e11f-48be-89d7-a7ffcb1b5314",
   "metadata": {
    "jp-MarkdownHeadingCollapsed": true
   },
   "source": [
    " The ratio of between_SS to total_SS is about 57%, suggesting that the clustering structure explains a significant portion of the variability in the data.  \n",
    "Given that the first cluster has distinctly different characteristics compared to the second and that we see a clear separation in terms of average feature values, it is reasonable to conclude that two clusters are sufficient to define the dataset."
   ]
  },
  {
   "cell_type": "markdown",
   "id": "f1a278eb-c1af-4868-b4b6-4766d2af313c",
   "metadata": {
    "jp-MarkdownHeadingCollapsed": true
   },
   "source": [
    "### Heat map"
   ]
  },
  {
   "cell_type": "code",
   "execution_count": 138,
   "id": "d48cd92b-03ff-43e2-87f6-7f0f6009539b",
   "metadata": {},
   "outputs": [],
   "source": [
    "# load the dataset\n",
    "dataset_plus_census_heatmap <- read.csv(\"https://raw.githubusercontent.com/yamphurai/Project2_ClusterAnalysis/refs/heads/main/updated_COVID-19_cases_plus_census.csv\")"
   ]
  },
  {
   "cell_type": "code",
   "execution_count": 139,
   "id": "cbae7dcf-7a03-4696-9430-127fc225d4b4",
   "metadata": {},
   "outputs": [],
   "source": [
    "dataset_plus_census_heatmap <- dataset_plus_census_heatmap %>% mutate(across(where(is.character), factor))"
   ]
  },
  {
   "cell_type": "code",
   "execution_count": 140,
   "id": "247da699-4089-4ce3-b2aa-5367b4bdd231",
   "metadata": {},
   "outputs": [],
   "source": [
    "# Filter by Texas\n",
    "dataset_plus_census_heatmap <- dataset_plus_census_heatmap %>% filter(state == \"TX\")"
   ]
  },
  {
   "cell_type": "code",
   "execution_count": 141,
   "id": "80c398a2-5924-4da4-9c26-8e72e2904bf4",
   "metadata": {},
   "outputs": [],
   "source": [
    "# Filter out the major counties (DFW, Austin, San Antonio and Houston)\n",
    "\n",
    "counties_to_exclude <- c(\n",
    "  \"Dallas County\", \"Tarrant County\", \"Collin County\", \"Denton County\", \"Ellis County\",\n",
    "  \"Johnson County\", \"Kaufman County\", \"Parker County\", \"Rockwall County\", \"Wise County\",\n",
    "  \"Hood County\", \"Travis County\", \"Williamson County\", \"Hays County\", \"Bastrop County\",\n",
    "  \"Caldwell County\", \"Bexar County\", \"Comal County\", \"Guadalupe County\", \"Wilson County\",\n",
    "  \"Medina County\", \"Kendall County\", \"Bandera County\", \"Atascosa County\", \"Harris County\",\n",
    "  \"Fort Bend County\", \"Montgomery County\", \"Brazoria County\", \"Galveston County\", \"Liberty County\",\n",
    "  \"Waller County\", \"Chambers County\"\n",
    ")\n",
    "\n",
    "# filter the dataset\n",
    "dataset_plus_census_heatmap <- dataset_plus_census_heatmap %>%\n",
    "  filter(!(county_name %in% counties_to_exclude))"
   ]
  },
  {
   "cell_type": "code",
   "execution_count": 142,
   "id": "63138ce7-d940-49d8-b128-ba64f0e75a27",
   "metadata": {},
   "outputs": [],
   "source": [
    "# select the features\n",
    "dataset_plus_census_heatmap <- dataset_plus_census_heatmap %>%  \n",
    "  select(county_name, confirmed_cases, deaths, total_pop, white_pop, black_pop, asian_pop, hispanic_pop, amerindian_pop, amerindian_pop, other_race_pop, income_less_50K, \n",
    "         income_50K_100K, income_100K_150K, income_150K_more)"
   ]
  },
  {
   "cell_type": "code",
   "execution_count": 143,
   "id": "f8c1fe0c-6f93-4ee3-912e-6e7bb2068af9",
   "metadata": {},
   "outputs": [
    {
     "data": {
      "text/html": [
       "222"
      ],
      "text/latex": [
       "222"
      ],
      "text/markdown": [
       "222"
      ],
      "text/plain": [
       "[1] 222"
      ]
     },
     "metadata": {},
     "output_type": "display_data"
    }
   ],
   "source": [
    "length(unique(dataset_plus_census_heatmap$county_name))"
   ]
  },
  {
   "cell_type": "markdown",
   "id": "c1d8362b-4088-43d2-8330-b6b0230a24e6",
   "metadata": {},
   "source": [
    "Altogether there are 32 counties that are part of these 4 major cities. Previously we had 254 counties and now we have 222 counties. "
   ]
  },
  {
   "cell_type": "code",
   "execution_count": 144,
   "id": "6ba99fb4-cd1f-4727-a7e7-a3d36909dde5",
   "metadata": {},
   "outputs": [],
   "source": [
    "# per 1000\n",
    "dataset_plus_census_heatmap <- dataset_plus_census_heatmap %>% mutate(\n",
    "  cases_per_1000 = confirmed_cases/total_pop*1000, \n",
    "  deaths_per_1000 = deaths/total_pop*1000, \n",
    "  death_per_case = deaths/confirmed_cases)\n"
   ]
  },
  {
   "cell_type": "code",
   "execution_count": 145,
   "id": "54d0ff43-7c71-4a4d-9fff-81870f6900db",
   "metadata": {},
   "outputs": [],
   "source": [
    "# extract the polygan data\n",
    "counties_polygon <- as_tibble(map_data(\"county\"))\n",
    "counties_polygon_TX <- counties_polygon %>% dplyr::filter(region == \"texas\") %>% \n",
    "  rename(c(county = subregion)) "
   ]
  },
  {
   "cell_type": "code",
   "execution_count": 146,
   "id": "0783e2d2-52b8-4a77-a9c6-5a7a381dbdfb",
   "metadata": {},
   "outputs": [
    {
     "data": {
      "text/html": [
       "254"
      ],
      "text/latex": [
       "254"
      ],
      "text/markdown": [
       "254"
      ],
      "text/plain": [
       "[1] 254"
      ]
     },
     "metadata": {},
     "output_type": "display_data"
    }
   ],
   "source": [
    "#checking the counties on the polygon dataset\n",
    "length(unique(counties_polygon_TX$county))"
   ]
  },
  {
   "cell_type": "code",
   "execution_count": 147,
   "id": "515f44e3-f713-4d88-a8e9-afeaa683d033",
   "metadata": {},
   "outputs": [],
   "source": [
    "# remove \"County\" from the names and convert thme to lowercase\n",
    "counties_to_exclude <- tolower(gsub(\" County\", \"\", counties_to_exclude))\n",
    "\n",
    "# filter the dataset to match with our dataset for joining purpose\n",
    "counties_polygon_TX <- counties_polygon_TX %>%\n",
    "  filter(!(county %in% counties_to_exclude))"
   ]
  },
  {
   "cell_type": "code",
   "execution_count": 148,
   "id": "82a2addb-7a7a-49b7-8be6-6346473f7f0c",
   "metadata": {},
   "outputs": [
    {
     "data": {
      "text/html": [
       "222"
      ],
      "text/latex": [
       "222"
      ],
      "text/markdown": [
       "222"
      ],
      "text/plain": [
       "[1] 222"
      ]
     },
     "metadata": {},
     "output_type": "display_data"
    }
   ],
   "source": [
    "length(unique(counties_polygon_TX$county))"
   ]
  },
  {
   "cell_type": "markdown",
   "id": "08e5c254-aca7-4c11-a79c-300d87d35b6b",
   "metadata": {},
   "source": [
    "We are good to preceed."
   ]
  },
  {
   "cell_type": "code",
   "execution_count": 149,
   "id": "5f87e946-2426-45dc-b3c2-d26994de3e85",
   "metadata": {},
   "outputs": [],
   "source": [
    "# remove County from the names and convert them to lowercase\n",
    "dataset_plus_census_heatmap <- dataset_plus_census_heatmap %>% mutate(county = county_name %>% \n",
    "    str_to_lower() %>% str_replace('\\\\s+county\\\\s*$', ''))"
   ]
  },
  {
   "cell_type": "code",
   "execution_count": 133,
   "id": "1054021a-499c-499f-afbd-d94f47461666",
   "metadata": {},
   "outputs": [
    {
     "name": "stderr",
     "output_type": "stream",
     "text": [
      "\u001b[1m\u001b[22mJoining with `by = join_by(county)`\n"
     ]
    }
   ],
   "source": [
    "# Database join\n",
    "counties_polygon_TX <- right_join(counties_polygon_TX, dataset_plus_census_heatmap)"
   ]
  },
  {
   "cell_type": "code",
   "execution_count": 134,
   "id": "f9ac59b0-81e3-4150-8c5d-1f6364e5039e",
   "metadata": {},
   "outputs": [
    {
     "data": {
      "text/html": [
       "<table class=\"dataframe\">\n",
       "<caption>A tibble: 6 × 23</caption>\n",
       "<thead>\n",
       "\t<tr><th scope=col>long</th><th scope=col>lat</th><th scope=col>group</th><th scope=col>order</th><th scope=col>region</th><th scope=col>county</th><th scope=col>county_name</th><th scope=col>confirmed_cases</th><th scope=col>deaths</th><th scope=col>total_pop</th><th scope=col>⋯</th><th scope=col>hispanic_pop</th><th scope=col>amerindian_pop</th><th scope=col>other_race_pop</th><th scope=col>income_less_50K</th><th scope=col>income_50K_100K</th><th scope=col>income_100K_150K</th><th scope=col>income_150K_more</th><th scope=col>cases_per_1000</th><th scope=col>deaths_per_1000</th><th scope=col>death_per_case</th></tr>\n",
       "\t<tr><th scope=col>&lt;dbl&gt;</th><th scope=col>&lt;dbl&gt;</th><th scope=col>&lt;dbl&gt;</th><th scope=col>&lt;int&gt;</th><th scope=col>&lt;chr&gt;</th><th scope=col>&lt;chr&gt;</th><th scope=col>&lt;fct&gt;</th><th scope=col>&lt;int&gt;</th><th scope=col>&lt;int&gt;</th><th scope=col>&lt;int&gt;</th><th scope=col>⋯</th><th scope=col>&lt;int&gt;</th><th scope=col>&lt;int&gt;</th><th scope=col>&lt;int&gt;</th><th scope=col>&lt;int&gt;</th><th scope=col>&lt;int&gt;</th><th scope=col>&lt;int&gt;</th><th scope=col>&lt;int&gt;</th><th scope=col>&lt;dbl&gt;</th><th scope=col>&lt;dbl&gt;</th><th scope=col>&lt;dbl&gt;</th></tr>\n",
       "</thead>\n",
       "<tbody>\n",
       "\t<tr><td>-95.75271</td><td>31.53560</td><td>2492</td><td>74520</td><td>texas</td><td>anderson</td><td>Anderson County</td><td>5575</td><td>75</td><td>57747</td><td>⋯</td><td>9981</td><td>160</td><td>11</td><td>9357</td><td>4937</td><td>1499</td><td>774</td><td>96.54181</td><td>1.298769</td><td>0.01345291</td></tr>\n",
       "\t<tr><td>-95.76989</td><td>31.55852</td><td>2492</td><td>74521</td><td>texas</td><td>anderson</td><td>Anderson County</td><td>5575</td><td>75</td><td>57747</td><td>⋯</td><td>9981</td><td>160</td><td>11</td><td>9357</td><td>4937</td><td>1499</td><td>774</td><td>96.54181</td><td>1.298769</td><td>0.01345291</td></tr>\n",
       "\t<tr><td>-95.76416</td><td>31.58143</td><td>2492</td><td>74522</td><td>texas</td><td>anderson</td><td>Anderson County</td><td>5575</td><td>75</td><td>57747</td><td>⋯</td><td>9981</td><td>160</td><td>11</td><td>9357</td><td>4937</td><td>1499</td><td>774</td><td>96.54181</td><td>1.298769</td><td>0.01345291</td></tr>\n",
       "\t<tr><td>-95.72979</td><td>31.58143</td><td>2492</td><td>74523</td><td>texas</td><td>anderson</td><td>Anderson County</td><td>5575</td><td>75</td><td>57747</td><td>⋯</td><td>9981</td><td>160</td><td>11</td><td>9357</td><td>4937</td><td>1499</td><td>774</td><td>96.54181</td><td>1.298769</td><td>0.01345291</td></tr>\n",
       "\t<tr><td>-95.74698</td><td>31.61008</td><td>2492</td><td>74524</td><td>texas</td><td>anderson</td><td>Anderson County</td><td>5575</td><td>75</td><td>57747</td><td>⋯</td><td>9981</td><td>160</td><td>11</td><td>9357</td><td>4937</td><td>1499</td><td>774</td><td>96.54181</td><td>1.298769</td><td>0.01345291</td></tr>\n",
       "\t<tr><td>-95.72405</td><td>31.63873</td><td>2492</td><td>74525</td><td>texas</td><td>anderson</td><td>Anderson County</td><td>5575</td><td>75</td><td>57747</td><td>⋯</td><td>9981</td><td>160</td><td>11</td><td>9357</td><td>4937</td><td>1499</td><td>774</td><td>96.54181</td><td>1.298769</td><td>0.01345291</td></tr>\n",
       "</tbody>\n",
       "</table>\n"
      ],
      "text/latex": [
       "A tibble: 6 × 23\n",
       "\\begin{tabular}{lllllllllllllllllllll}\n",
       " long & lat & group & order & region & county & county\\_name & confirmed\\_cases & deaths & total\\_pop & ⋯ & hispanic\\_pop & amerindian\\_pop & other\\_race\\_pop & income\\_less\\_50K & income\\_50K\\_100K & income\\_100K\\_150K & income\\_150K\\_more & cases\\_per\\_1000 & deaths\\_per\\_1000 & death\\_per\\_case\\\\\n",
       " <dbl> & <dbl> & <dbl> & <int> & <chr> & <chr> & <fct> & <int> & <int> & <int> & ⋯ & <int> & <int> & <int> & <int> & <int> & <int> & <int> & <dbl> & <dbl> & <dbl>\\\\\n",
       "\\hline\n",
       "\t -95.75271 & 31.53560 & 2492 & 74520 & texas & anderson & Anderson County & 5575 & 75 & 57747 & ⋯ & 9981 & 160 & 11 & 9357 & 4937 & 1499 & 774 & 96.54181 & 1.298769 & 0.01345291\\\\\n",
       "\t -95.76989 & 31.55852 & 2492 & 74521 & texas & anderson & Anderson County & 5575 & 75 & 57747 & ⋯ & 9981 & 160 & 11 & 9357 & 4937 & 1499 & 774 & 96.54181 & 1.298769 & 0.01345291\\\\\n",
       "\t -95.76416 & 31.58143 & 2492 & 74522 & texas & anderson & Anderson County & 5575 & 75 & 57747 & ⋯ & 9981 & 160 & 11 & 9357 & 4937 & 1499 & 774 & 96.54181 & 1.298769 & 0.01345291\\\\\n",
       "\t -95.72979 & 31.58143 & 2492 & 74523 & texas & anderson & Anderson County & 5575 & 75 & 57747 & ⋯ & 9981 & 160 & 11 & 9357 & 4937 & 1499 & 774 & 96.54181 & 1.298769 & 0.01345291\\\\\n",
       "\t -95.74698 & 31.61008 & 2492 & 74524 & texas & anderson & Anderson County & 5575 & 75 & 57747 & ⋯ & 9981 & 160 & 11 & 9357 & 4937 & 1499 & 774 & 96.54181 & 1.298769 & 0.01345291\\\\\n",
       "\t -95.72405 & 31.63873 & 2492 & 74525 & texas & anderson & Anderson County & 5575 & 75 & 57747 & ⋯ & 9981 & 160 & 11 & 9357 & 4937 & 1499 & 774 & 96.54181 & 1.298769 & 0.01345291\\\\\n",
       "\\end{tabular}\n"
      ],
      "text/markdown": [
       "\n",
       "A tibble: 6 × 23\n",
       "\n",
       "| long &lt;dbl&gt; | lat &lt;dbl&gt; | group &lt;dbl&gt; | order &lt;int&gt; | region &lt;chr&gt; | county &lt;chr&gt; | county_name &lt;fct&gt; | confirmed_cases &lt;int&gt; | deaths &lt;int&gt; | total_pop &lt;int&gt; | ⋯ ⋯ | hispanic_pop &lt;int&gt; | amerindian_pop &lt;int&gt; | other_race_pop &lt;int&gt; | income_less_50K &lt;int&gt; | income_50K_100K &lt;int&gt; | income_100K_150K &lt;int&gt; | income_150K_more &lt;int&gt; | cases_per_1000 &lt;dbl&gt; | deaths_per_1000 &lt;dbl&gt; | death_per_case &lt;dbl&gt; |\n",
       "|---|---|---|---|---|---|---|---|---|---|---|---|---|---|---|---|---|---|---|---|---|\n",
       "| -95.75271 | 31.53560 | 2492 | 74520 | texas | anderson | Anderson County | 5575 | 75 | 57747 | ⋯ | 9981 | 160 | 11 | 9357 | 4937 | 1499 | 774 | 96.54181 | 1.298769 | 0.01345291 |\n",
       "| -95.76989 | 31.55852 | 2492 | 74521 | texas | anderson | Anderson County | 5575 | 75 | 57747 | ⋯ | 9981 | 160 | 11 | 9357 | 4937 | 1499 | 774 | 96.54181 | 1.298769 | 0.01345291 |\n",
       "| -95.76416 | 31.58143 | 2492 | 74522 | texas | anderson | Anderson County | 5575 | 75 | 57747 | ⋯ | 9981 | 160 | 11 | 9357 | 4937 | 1499 | 774 | 96.54181 | 1.298769 | 0.01345291 |\n",
       "| -95.72979 | 31.58143 | 2492 | 74523 | texas | anderson | Anderson County | 5575 | 75 | 57747 | ⋯ | 9981 | 160 | 11 | 9357 | 4937 | 1499 | 774 | 96.54181 | 1.298769 | 0.01345291 |\n",
       "| -95.74698 | 31.61008 | 2492 | 74524 | texas | anderson | Anderson County | 5575 | 75 | 57747 | ⋯ | 9981 | 160 | 11 | 9357 | 4937 | 1499 | 774 | 96.54181 | 1.298769 | 0.01345291 |\n",
       "| -95.72405 | 31.63873 | 2492 | 74525 | texas | anderson | Anderson County | 5575 | 75 | 57747 | ⋯ | 9981 | 160 | 11 | 9357 | 4937 | 1499 | 774 | 96.54181 | 1.298769 | 0.01345291 |\n",
       "\n"
      ],
      "text/plain": [
       "  long      lat      group order region county   county_name    \n",
       "1 -95.75271 31.53560 2492  74520 texas  anderson Anderson County\n",
       "2 -95.76989 31.55852 2492  74521 texas  anderson Anderson County\n",
       "3 -95.76416 31.58143 2492  74522 texas  anderson Anderson County\n",
       "4 -95.72979 31.58143 2492  74523 texas  anderson Anderson County\n",
       "5 -95.74698 31.61008 2492  74524 texas  anderson Anderson County\n",
       "6 -95.72405 31.63873 2492  74525 texas  anderson Anderson County\n",
       "  confirmed_cases deaths total_pop ⋯ hispanic_pop amerindian_pop other_race_pop\n",
       "1 5575            75     57747     ⋯ 9981         160            11            \n",
       "2 5575            75     57747     ⋯ 9981         160            11            \n",
       "3 5575            75     57747     ⋯ 9981         160            11            \n",
       "4 5575            75     57747     ⋯ 9981         160            11            \n",
       "5 5575            75     57747     ⋯ 9981         160            11            \n",
       "6 5575            75     57747     ⋯ 9981         160            11            \n",
       "  income_less_50K income_50K_100K income_100K_150K income_150K_more\n",
       "1 9357            4937            1499             774             \n",
       "2 9357            4937            1499             774             \n",
       "3 9357            4937            1499             774             \n",
       "4 9357            4937            1499             774             \n",
       "5 9357            4937            1499             774             \n",
       "6 9357            4937            1499             774             \n",
       "  cases_per_1000 deaths_per_1000 death_per_case\n",
       "1 96.54181       1.298769        0.01345291    \n",
       "2 96.54181       1.298769        0.01345291    \n",
       "3 96.54181       1.298769        0.01345291    \n",
       "4 96.54181       1.298769        0.01345291    \n",
       "5 96.54181       1.298769        0.01345291    \n",
       "6 96.54181       1.298769        0.01345291    "
      ]
     },
     "metadata": {},
     "output_type": "display_data"
    }
   ],
   "source": [
    "head(counties_polygon_TX)"
   ]
  },
  {
   "cell_type": "code",
   "execution_count": 150,
   "id": "411172ee-365e-434e-82d9-d4821e0b0f4a",
   "metadata": {},
   "outputs": [],
   "source": [
    "# Scaling\n",
    "dataset_plus_census_heatmap_scaled <- dataset_plus_census_heatmap %>% \n",
    "  select(white_pop, black_pop, asian_pop, hispanic_pop, amerindian_pop, amerindian_pop, other_race_pop, income_less_50K, income_50K_100K, income_100K_150K, income_150K_more) %>% \n",
    "  scale() %>% as_tibble()\n",
    "\n",
    "# k means setting\n",
    "km_race_income_heatmap <- kmeans(dataset_plus_census_heatmap_scaled, centers = 2, nstart = 10)"
   ]
  },
  {
   "cell_type": "code",
   "execution_count": 151,
   "id": "f9d7b173-2a86-47f8-9276-4556690a830d",
   "metadata": {},
   "outputs": [],
   "source": [
    "# Add the cluster labels to the dataset\n",
    "dataset_plus_census_clust_heatmap <- dataset_plus_census_heatmap %>% \n",
    "    add_column(cluster = factor(km_race_income_heatmap$cluster))"
   ]
  },
  {
   "cell_type": "code",
   "execution_count": 152,
   "id": "8e8676b4-696d-416e-8ed9-01b6dc8dd1c1",
   "metadata": {},
   "outputs": [
    {
     "data": {
      "text/html": [
       "<table class=\"dataframe\">\n",
       "<caption>A data.frame: 6 × 19</caption>\n",
       "<thead>\n",
       "\t<tr><th></th><th scope=col>county_name</th><th scope=col>confirmed_cases</th><th scope=col>deaths</th><th scope=col>total_pop</th><th scope=col>white_pop</th><th scope=col>black_pop</th><th scope=col>asian_pop</th><th scope=col>hispanic_pop</th><th scope=col>amerindian_pop</th><th scope=col>other_race_pop</th><th scope=col>income_less_50K</th><th scope=col>income_50K_100K</th><th scope=col>income_100K_150K</th><th scope=col>income_150K_more</th><th scope=col>cases_per_1000</th><th scope=col>deaths_per_1000</th><th scope=col>death_per_case</th><th scope=col>county</th><th scope=col>cluster</th></tr>\n",
       "\t<tr><th></th><th scope=col>&lt;fct&gt;</th><th scope=col>&lt;int&gt;</th><th scope=col>&lt;int&gt;</th><th scope=col>&lt;int&gt;</th><th scope=col>&lt;int&gt;</th><th scope=col>&lt;int&gt;</th><th scope=col>&lt;int&gt;</th><th scope=col>&lt;int&gt;</th><th scope=col>&lt;int&gt;</th><th scope=col>&lt;int&gt;</th><th scope=col>&lt;int&gt;</th><th scope=col>&lt;int&gt;</th><th scope=col>&lt;int&gt;</th><th scope=col>&lt;int&gt;</th><th scope=col>&lt;dbl&gt;</th><th scope=col>&lt;dbl&gt;</th><th scope=col>&lt;dbl&gt;</th><th scope=col>&lt;chr&gt;</th><th scope=col>&lt;fct&gt;</th></tr>\n",
       "</thead>\n",
       "<tbody>\n",
       "\t<tr><th scope=row>1</th><td>Hansford County </td><td>673</td><td>17</td><td>5532</td><td>2950</td><td>  4</td><td>0</td><td>2569</td><td>6</td><td>  0</td><td>1162</td><td>460</td><td>172</td><td>130</td><td>121.65582</td><td>3.073030</td><td>0.02526003</td><td>hansford </td><td>2</td></tr>\n",
       "\t<tr><th scope=row>2</th><td>Stonewall County</td><td>134</td><td> 4</td><td>1084</td><td> 787</td><td> 38</td><td>0</td><td> 246</td><td>0</td><td>  0</td><td> 238</td><td>126</td><td> 51</td><td> 43</td><td>123.61624</td><td>3.690037</td><td>0.02985075</td><td>stonewall</td><td>2</td></tr>\n",
       "\t<tr><th scope=row>3</th><td>Cochran County  </td><td>216</td><td>12</td><td>2932</td><td>1104</td><td> 77</td><td>0</td><td>1672</td><td>6</td><td>  0</td><td> 603</td><td>243</td><td> 93</td><td> 61</td><td> 73.66985</td><td>4.092769</td><td>0.05555556</td><td>cochran  </td><td>2</td></tr>\n",
       "\t<tr><th scope=row>4</th><td>Crockett County </td><td>472</td><td>13</td><td>3836</td><td>1264</td><td> 35</td><td>0</td><td>2537</td><td>0</td><td>  0</td><td> 663</td><td>447</td><td>242</td><td> 59</td><td>123.04484</td><td>3.388947</td><td>0.02754237</td><td>crockett </td><td>2</td></tr>\n",
       "\t<tr><th scope=row>5</th><td>McCulloch County</td><td>467</td><td>12</td><td>8145</td><td>5067</td><td>161</td><td>0</td><td>2571</td><td>1</td><td>202</td><td>1735</td><td>973</td><td>290</td><td>145</td><td> 57.33579</td><td>1.473297</td><td>0.02569593</td><td>mcculloch</td><td>2</td></tr>\n",
       "\t<tr><th scope=row>6</th><td>Sherman County  </td><td>118</td><td>11</td><td>3067</td><td>1712</td><td>  8</td><td>0</td><td>1327</td><td>7</td><td>  0</td><td> 484</td><td>341</td><td>157</td><td> 81</td><td> 38.47408</td><td>3.586567</td><td>0.09322034</td><td>sherman  </td><td>2</td></tr>\n",
       "</tbody>\n",
       "</table>\n"
      ],
      "text/latex": [
       "A data.frame: 6 × 19\n",
       "\\begin{tabular}{r|lllllllllllllllllll}\n",
       "  & county\\_name & confirmed\\_cases & deaths & total\\_pop & white\\_pop & black\\_pop & asian\\_pop & hispanic\\_pop & amerindian\\_pop & other\\_race\\_pop & income\\_less\\_50K & income\\_50K\\_100K & income\\_100K\\_150K & income\\_150K\\_more & cases\\_per\\_1000 & deaths\\_per\\_1000 & death\\_per\\_case & county & cluster\\\\\n",
       "  & <fct> & <int> & <int> & <int> & <int> & <int> & <int> & <int> & <int> & <int> & <int> & <int> & <int> & <int> & <dbl> & <dbl> & <dbl> & <chr> & <fct>\\\\\n",
       "\\hline\n",
       "\t1 & Hansford County  & 673 & 17 & 5532 & 2950 &   4 & 0 & 2569 & 6 &   0 & 1162 & 460 & 172 & 130 & 121.65582 & 3.073030 & 0.02526003 & hansford  & 2\\\\\n",
       "\t2 & Stonewall County & 134 &  4 & 1084 &  787 &  38 & 0 &  246 & 0 &   0 &  238 & 126 &  51 &  43 & 123.61624 & 3.690037 & 0.02985075 & stonewall & 2\\\\\n",
       "\t3 & Cochran County   & 216 & 12 & 2932 & 1104 &  77 & 0 & 1672 & 6 &   0 &  603 & 243 &  93 &  61 &  73.66985 & 4.092769 & 0.05555556 & cochran   & 2\\\\\n",
       "\t4 & Crockett County  & 472 & 13 & 3836 & 1264 &  35 & 0 & 2537 & 0 &   0 &  663 & 447 & 242 &  59 & 123.04484 & 3.388947 & 0.02754237 & crockett  & 2\\\\\n",
       "\t5 & McCulloch County & 467 & 12 & 8145 & 5067 & 161 & 0 & 2571 & 1 & 202 & 1735 & 973 & 290 & 145 &  57.33579 & 1.473297 & 0.02569593 & mcculloch & 2\\\\\n",
       "\t6 & Sherman County   & 118 & 11 & 3067 & 1712 &   8 & 0 & 1327 & 7 &   0 &  484 & 341 & 157 &  81 &  38.47408 & 3.586567 & 0.09322034 & sherman   & 2\\\\\n",
       "\\end{tabular}\n"
      ],
      "text/markdown": [
       "\n",
       "A data.frame: 6 × 19\n",
       "\n",
       "| <!--/--> | county_name &lt;fct&gt; | confirmed_cases &lt;int&gt; | deaths &lt;int&gt; | total_pop &lt;int&gt; | white_pop &lt;int&gt; | black_pop &lt;int&gt; | asian_pop &lt;int&gt; | hispanic_pop &lt;int&gt; | amerindian_pop &lt;int&gt; | other_race_pop &lt;int&gt; | income_less_50K &lt;int&gt; | income_50K_100K &lt;int&gt; | income_100K_150K &lt;int&gt; | income_150K_more &lt;int&gt; | cases_per_1000 &lt;dbl&gt; | deaths_per_1000 &lt;dbl&gt; | death_per_case &lt;dbl&gt; | county &lt;chr&gt; | cluster &lt;fct&gt; |\n",
       "|---|---|---|---|---|---|---|---|---|---|---|---|---|---|---|---|---|---|---|---|\n",
       "| 1 | Hansford County  | 673 | 17 | 5532 | 2950 |   4 | 0 | 2569 | 6 |   0 | 1162 | 460 | 172 | 130 | 121.65582 | 3.073030 | 0.02526003 | hansford  | 2 |\n",
       "| 2 | Stonewall County | 134 |  4 | 1084 |  787 |  38 | 0 |  246 | 0 |   0 |  238 | 126 |  51 |  43 | 123.61624 | 3.690037 | 0.02985075 | stonewall | 2 |\n",
       "| 3 | Cochran County   | 216 | 12 | 2932 | 1104 |  77 | 0 | 1672 | 6 |   0 |  603 | 243 |  93 |  61 |  73.66985 | 4.092769 | 0.05555556 | cochran   | 2 |\n",
       "| 4 | Crockett County  | 472 | 13 | 3836 | 1264 |  35 | 0 | 2537 | 0 |   0 |  663 | 447 | 242 |  59 | 123.04484 | 3.388947 | 0.02754237 | crockett  | 2 |\n",
       "| 5 | McCulloch County | 467 | 12 | 8145 | 5067 | 161 | 0 | 2571 | 1 | 202 | 1735 | 973 | 290 | 145 |  57.33579 | 1.473297 | 0.02569593 | mcculloch | 2 |\n",
       "| 6 | Sherman County   | 118 | 11 | 3067 | 1712 |   8 | 0 | 1327 | 7 |   0 |  484 | 341 | 157 |  81 |  38.47408 | 3.586567 | 0.09322034 | sherman   | 2 |\n",
       "\n"
      ],
      "text/plain": [
       "  county_name      confirmed_cases deaths total_pop white_pop black_pop\n",
       "1 Hansford County  673             17     5532      2950        4      \n",
       "2 Stonewall County 134              4     1084       787       38      \n",
       "3 Cochran County   216             12     2932      1104       77      \n",
       "4 Crockett County  472             13     3836      1264       35      \n",
       "5 McCulloch County 467             12     8145      5067      161      \n",
       "6 Sherman County   118             11     3067      1712        8      \n",
       "  asian_pop hispanic_pop amerindian_pop other_race_pop income_less_50K\n",
       "1 0         2569         6                0            1162           \n",
       "2 0          246         0                0             238           \n",
       "3 0         1672         6                0             603           \n",
       "4 0         2537         0                0             663           \n",
       "5 0         2571         1              202            1735           \n",
       "6 0         1327         7                0             484           \n",
       "  income_50K_100K income_100K_150K income_150K_more cases_per_1000\n",
       "1 460             172              130              121.65582     \n",
       "2 126              51               43              123.61624     \n",
       "3 243              93               61               73.66985     \n",
       "4 447             242               59              123.04484     \n",
       "5 973             290              145               57.33579     \n",
       "6 341             157               81               38.47408     \n",
       "  deaths_per_1000 death_per_case county    cluster\n",
       "1 3.073030        0.02526003     hansford  2      \n",
       "2 3.690037        0.02985075     stonewall 2      \n",
       "3 4.092769        0.05555556     cochran   2      \n",
       "4 3.388947        0.02754237     crockett  2      \n",
       "5 1.473297        0.02569593     mcculloch 2      \n",
       "6 3.586567        0.09322034     sherman   2      "
      ]
     },
     "metadata": {},
     "output_type": "display_data"
    }
   ],
   "source": [
    "head(dataset_plus_census_clust_heatmap)"
   ]
  },
  {
   "cell_type": "code",
   "execution_count": 153,
   "id": "f3ced21b-23f5-4aa1-8b0b-2c3cf6f01920",
   "metadata": {},
   "outputs": [],
   "source": [
    "# Database join\n",
    "counties_polygon_TX_clust <- right_join(counties_polygon_TX, dataset_plus_census_clust_heatmap, \n",
    "                                        join_by(county))"
   ]
  },
  {
   "cell_type": "code",
   "execution_count": 154,
   "id": "60b7594d-842a-42e1-8d87-d69fc7f4bc8e",
   "metadata": {},
   "outputs": [
    {
     "data": {
      "text/html": [
       "222"
      ],
      "text/latex": [
       "222"
      ],
      "text/markdown": [
       "222"
      ],
      "text/plain": [
       "[1] 222"
      ]
     },
     "metadata": {},
     "output_type": "display_data"
    }
   ],
   "source": [
    "#Final check of number of counties before plotting the heat map\n",
    "length(unique(counties_polygon_TX_clust$county))"
   ]
  },
  {
   "cell_type": "code",
   "execution_count": 156,
   "id": "c120b87f-dee2-48d9-ae55-afc9297da7c8",
   "metadata": {},
   "outputs": [
    {
     "name": "stdout",
     "output_type": "stream",
     "text": [
      "  [1] \"anderson\"      \"andrews\"       \"angelina\"      \"aransas\"      \n",
      "  [5] \"archer\"        \"armstrong\"     \"austin\"        \"bailey\"       \n",
      "  [9] \"baylor\"        \"bee\"           \"blanco\"        \"borden\"       \n",
      " [13] \"bosque\"        \"bowie\"         \"brewster\"      \"briscoe\"      \n",
      " [17] \"brooks\"        \"brown\"         \"burleson\"      \"burnet\"       \n",
      " [21] \"calhoun\"       \"callahan\"      \"camp\"          \"carson\"       \n",
      " [25] \"cass\"          \"castro\"        \"cherokee\"      \"childress\"    \n",
      " [29] \"clay\"          \"cochran\"       \"coke\"          \"coleman\"      \n",
      " [33] \"collingsworth\" \"colorado\"      \"comanche\"      \"concho\"       \n",
      " [37] \"cooke\"         \"coryell\"       \"cottle\"        \"crane\"        \n",
      " [41] \"crockett\"      \"crosby\"        \"culberson\"     \"dallam\"       \n",
      " [45] \"dawson\"        \"deaf smith\"    \"delta\"         \"dickens\"      \n",
      " [49] \"dimmit\"        \"donley\"        \"duval\"         \"eastland\"     \n",
      " [53] \"edwards\"       \"erath\"         \"falls\"         \"fannin\"       \n",
      " [57] \"fayette\"       \"fisher\"        \"floyd\"         \"foard\"        \n",
      " [61] \"franklin\"      \"freestone\"     \"frio\"          \"gaines\"       \n",
      " [65] \"garza\"         \"gillespie\"     \"glasscock\"     \"goliad\"       \n",
      " [69] \"gonzales\"      \"gray\"          \"gregg\"         \"grimes\"       \n",
      " [73] \"hale\"          \"hall\"          \"hamilton\"      \"hansford\"     \n",
      " [77] \"hardeman\"      \"hardin\"        \"harrison\"      \"hartley\"      \n",
      " [81] \"haskell\"       \"hemphill\"      \"henderson\"     \"hill\"         \n",
      " [85] \"hockley\"       \"hopkins\"       \"houston\"       \"howard\"       \n",
      " [89] \"hudspeth\"      \"hunt\"          \"hutchinson\"    \"irion\"        \n",
      " [93] \"jack\"          \"jackson\"       \"jasper\"        \"jeff davis\"   \n",
      " [97] \"jim hogg\"      \"jim wells\"     \"jones\"         \"karnes\"       \n",
      "[101] \"kenedy\"        \"kent\"          \"kerr\"          \"kimble\"       \n",
      "[105] \"king\"          \"kinney\"        \"kleberg\"       \"knox\"         \n",
      "[109] \"lamar\"         \"lamb\"          \"lampasas\"      \"la salle\"     \n",
      "[113] \"lavaca\"        \"lee\"           \"leon\"          \"limestone\"    \n",
      "[117] \"lipscomb\"      \"live oak\"      \"llano\"         \"loving\"       \n",
      "[121] \"lynn\"          \"mcculloch\"     \"mcmullen\"      \"madison\"      \n",
      "[125] \"marion\"        \"martin\"        \"mason\"         \"matagorda\"    \n",
      "[129] \"maverick\"      \"menard\"        \"milam\"         \"mills\"        \n",
      "[133] \"mitchell\"      \"montague\"      \"moore\"         \"morris\"       \n",
      "[137] \"motley\"        \"nacogdoches\"   \"navarro\"       \"newton\"       \n",
      "[141] \"nolan\"         \"ochiltree\"     \"oldham\"        \"orange\"       \n",
      "[145] \"palo pinto\"    \"panola\"        \"parmer\"        \"pecos\"        \n",
      "[149] \"polk\"          \"potter\"        \"presidio\"      \"rains\"        \n",
      "[153] \"reagan\"        \"real\"          \"red river\"     \"reeves\"       \n",
      "[157] \"refugio\"       \"roberts\"       \"robertson\"     \"runnels\"      \n",
      "[161] \"rusk\"          \"sabine\"        \"san augustine\" \"san jacinto\"  \n",
      "[165] \"san patricio\"  \"san saba\"      \"schleicher\"    \"scurry\"       \n",
      "[169] \"shackelford\"   \"shelby\"        \"sherman\"       \"somervell\"    \n",
      "[173] \"starr\"         \"stephens\"      \"sterling\"      \"stonewall\"    \n",
      "[177] \"sutton\"        \"swisher\"       \"terrell\"       \"terry\"        \n",
      "[181] \"throckmorton\"  \"titus\"         \"tom green\"     \"trinity\"      \n",
      "[185] \"tyler\"         \"upshur\"        \"upton\"         \"uvalde\"       \n",
      "[189] \"val verde\"     \"van zandt\"     \"victoria\"      \"walker\"       \n",
      "[193] \"ward\"          \"washington\"    \"webb\"          \"wharton\"      \n",
      "[197] \"wheeler\"       \"wilbarger\"     \"willacy\"       \"winkler\"      \n",
      "[201] \"wood\"          \"yoakum\"        \"young\"         \"zapata\"       \n",
      "[205] \"zavala\"        \"dewitt\"       \n"
     ]
    },
    {
     "data": {
      "image/png": "[encoded data removed]",
      "text/plain": [
       "plot without title"
      ]
     },
     "metadata": {
      "image/png": {
       "height": 420,
       "width": 420
      }
     },
     "output_type": "display_data"
    }
   ],
   "source": [
    "# heat map\n",
    "ggplot(counties_polygon_TX_clust, aes(long, lat)) + \n",
    "  geom_polygon(aes(group = group, fill = cluster)) +\n",
    "  coord_quickmap() + \n",
    "  labs(title = \"Texas Map with clustered counties\")\n",
    "\n",
    "# Filter for counties in cluster 2\n",
    "counties_cluster_2 <- counties_polygon_TX_clust %>%\n",
    "  filter(cluster == 2)\n",
    "\n",
    "# Print the counties in cluster 2\n",
    "print(unique(counties_cluster_2$county))"
   ]
  },
  {
   "cell_type": "markdown",
   "id": "103a6af0-d0c0-4cca-a944-4a978714d31c",
   "metadata": {
    "jp-MarkdownHeadingCollapsed": true
   },
   "source": [
    "Above are the counties that are in same clusters based on the data related to various races and income levels that had COVID cases. We can see that most of the counties that lie in a very rural areas (away from major metropolitans) fall in same cluster (i.e. cluster 2).  \n",
    "The clustering might suggest that these rural counties had similar patterns in COVID-19 cases, possibly due to similar healthcare infrastructure, accessibility, and community behaviors.\n",
    "Policymakers can use this clustering information to design and implement policies that are tailored to the unique needs of rural areas. This could include economic support, healthcare improvements, and educational programs. Local governments and community organizations can develop programs that address the specific social and economic challenges faced by these rural areas."
   ]
  },
  {
   "cell_type": "code",
   "execution_count": 100,
   "id": "5de2af3a-43d3-41f8-8197-1bd111f5e1e6",
   "metadata": {},
   "outputs": [
    {
     "data": {
      "text/plain": [
       "\n",
       "   low medium   high \n",
       "   147     96     11 "
      ]
     },
     "metadata": {},
     "output_type": "display_data"
    }
   ],
   "source": [
    "table(dataset_plus_census$income_category)"
   ]
  },
  {
   "cell_type": "markdown",
   "id": "8beef7bf-1d89-4263-8b26-7b2548d87fb7",
   "metadata": {
    "jp-MarkdownHeadingCollapsed": true
   },
   "source": [
    "## K-means (Euclidean distance) for variables related to male age ranges + Race"
   ]
  },
  {
   "cell_type": "code",
   "execution_count": 252,
   "id": "b2302313-6cd0-480e-b715-b8b62e7ebd91",
   "metadata": {},
   "outputs": [],
   "source": [
    "# Prepare the dataset\n",
    "dataset_plus_census_race_male <- dataset_plus_census %>% \n",
    "  select(white_pop, black_pop, asian_pop, hispanic_pop, amerindian_pop, other_race_pop, male_0_20, male_21_49, male_50_above) %>% \n",
    "  scale() %>% as_tibble()\n",
    "\n",
    "# Scale the columns for K-means\n",
    "dataset_plus_census_scaled_race_male <- scale(dataset_plus_census_race_male)"
   ]
  },
  {
   "cell_type": "code",
   "execution_count": 253,
   "id": "5ab38154-58b8-4434-9284-b4b83ebbe8aa",
   "metadata": {},
   "outputs": [
    {
     "data": {
      "text/html": [
       "<table class=\"dataframe\">\n",
       "<caption>A matrix: 6 × 9 of type dbl</caption>\n",
       "<thead>\n",
       "\t<tr><th scope=col>white_pop</th><th scope=col>black_pop</th><th scope=col>asian_pop</th><th scope=col>hispanic_pop</th><th scope=col>amerindian_pop</th><th scope=col>other_race_pop</th><th scope=col>male_0_20</th><th scope=col>male_21_49</th><th scope=col>male_50_above</th></tr>\n",
       "</thead>\n",
       "<tbody>\n",
       "\t<tr><td>-0.5419058</td><td>-0.3645185</td><td>-0.3313628</td><td>-0.2177805</td><td>-0.4551422</td><td>-0.4387658</td><td>-0.3433435</td><td>-0.3723423</td><td>-0.4551314</td></tr>\n",
       "\t<tr><td>-0.6169804</td><td>-0.3607502</td><td>-0.3313628</td><td>-0.2479489</td><td>-0.4779130</td><td>-0.4387658</td><td>-0.3827586</td><td>-0.4213278</td><td>-0.5015824</td></tr>\n",
       "\t<tr><td>-0.6059778</td><td>-0.3564278</td><td>-0.3313628</td><td>-0.2294297</td><td>-0.4551422</td><td>-0.4387658</td><td>-0.3575976</td><td>-0.4054166</td><td>-0.4851651</td></tr>\n",
       "\t<tr><td>-0.6004244</td><td>-0.3610827</td><td>-0.3313628</td><td>-0.2181961</td><td>-0.4779130</td><td>-0.4387658</td><td>-0.3510188</td><td>-0.4005129</td><td>-0.4686699</td></tr>\n",
       "\t<tr><td>-0.4684278</td><td>-0.3471179</td><td>-0.3313628</td><td>-0.2177546</td><td>-0.4741178</td><td> 2.3858128</td><td>-0.3244151</td><td>-0.3565876</td><td>-0.3895398</td></tr>\n",
       "\t<tr><td>-0.5848750</td><td>-0.3640752</td><td>-0.3313628</td><td>-0.2339102</td><td>-0.4513470</td><td>-0.4387658</td><td>-0.3648112</td><td>-0.3968611</td><td>-0.4806523</td></tr>\n",
       "</tbody>\n",
       "</table>\n"
      ],
      "text/latex": [
       "A matrix: 6 × 9 of type dbl\n",
       "\\begin{tabular}{lllllllll}\n",
       " white\\_pop & black\\_pop & asian\\_pop & hispanic\\_pop & amerindian\\_pop & other\\_race\\_pop & male\\_0\\_20 & male\\_21\\_49 & male\\_50\\_above\\\\\n",
       "\\hline\n",
       "\t -0.5419058 & -0.3645185 & -0.3313628 & -0.2177805 & -0.4551422 & -0.4387658 & -0.3433435 & -0.3723423 & -0.4551314\\\\\n",
       "\t -0.6169804 & -0.3607502 & -0.3313628 & -0.2479489 & -0.4779130 & -0.4387658 & -0.3827586 & -0.4213278 & -0.5015824\\\\\n",
       "\t -0.6059778 & -0.3564278 & -0.3313628 & -0.2294297 & -0.4551422 & -0.4387658 & -0.3575976 & -0.4054166 & -0.4851651\\\\\n",
       "\t -0.6004244 & -0.3610827 & -0.3313628 & -0.2181961 & -0.4779130 & -0.4387658 & -0.3510188 & -0.4005129 & -0.4686699\\\\\n",
       "\t -0.4684278 & -0.3471179 & -0.3313628 & -0.2177546 & -0.4741178 &  2.3858128 & -0.3244151 & -0.3565876 & -0.3895398\\\\\n",
       "\t -0.5848750 & -0.3640752 & -0.3313628 & -0.2339102 & -0.4513470 & -0.4387658 & -0.3648112 & -0.3968611 & -0.4806523\\\\\n",
       "\\end{tabular}\n"
      ],
      "text/markdown": [
       "\n",
       "A matrix: 6 × 9 of type dbl\n",
       "\n",
       "| white_pop | black_pop | asian_pop | hispanic_pop | amerindian_pop | other_race_pop | male_0_20 | male_21_49 | male_50_above |\n",
       "|---|---|---|---|---|---|---|---|---|\n",
       "| -0.5419058 | -0.3645185 | -0.3313628 | -0.2177805 | -0.4551422 | -0.4387658 | -0.3433435 | -0.3723423 | -0.4551314 |\n",
       "| -0.6169804 | -0.3607502 | -0.3313628 | -0.2479489 | -0.4779130 | -0.4387658 | -0.3827586 | -0.4213278 | -0.5015824 |\n",
       "| -0.6059778 | -0.3564278 | -0.3313628 | -0.2294297 | -0.4551422 | -0.4387658 | -0.3575976 | -0.4054166 | -0.4851651 |\n",
       "| -0.6004244 | -0.3610827 | -0.3313628 | -0.2181961 | -0.4779130 | -0.4387658 | -0.3510188 | -0.4005129 | -0.4686699 |\n",
       "| -0.4684278 | -0.3471179 | -0.3313628 | -0.2177546 | -0.4741178 |  2.3858128 | -0.3244151 | -0.3565876 | -0.3895398 |\n",
       "| -0.5848750 | -0.3640752 | -0.3313628 | -0.2339102 | -0.4513470 | -0.4387658 | -0.3648112 | -0.3968611 | -0.4806523 |\n",
       "\n"
      ],
      "text/plain": [
       "     white_pop  black_pop  asian_pop  hispanic_pop amerindian_pop\n",
       "[1,] -0.5419058 -0.3645185 -0.3313628 -0.2177805   -0.4551422    \n",
       "[2,] -0.6169804 -0.3607502 -0.3313628 -0.2479489   -0.4779130    \n",
       "[3,] -0.6059778 -0.3564278 -0.3313628 -0.2294297   -0.4551422    \n",
       "[4,] -0.6004244 -0.3610827 -0.3313628 -0.2181961   -0.4779130    \n",
       "[5,] -0.4684278 -0.3471179 -0.3313628 -0.2177546   -0.4741178    \n",
       "[6,] -0.5848750 -0.3640752 -0.3313628 -0.2339102   -0.4513470    \n",
       "     other_race_pop male_0_20  male_21_49 male_50_above\n",
       "[1,] -0.4387658     -0.3433435 -0.3723423 -0.4551314   \n",
       "[2,] -0.4387658     -0.3827586 -0.4213278 -0.5015824   \n",
       "[3,] -0.4387658     -0.3575976 -0.4054166 -0.4851651   \n",
       "[4,] -0.4387658     -0.3510188 -0.4005129 -0.4686699   \n",
       "[5,]  2.3858128     -0.3244151 -0.3565876 -0.3895398   \n",
       "[6,] -0.4387658     -0.3648112 -0.3968611 -0.4806523   "
      ]
     },
     "metadata": {},
     "output_type": "display_data"
    }
   ],
   "source": [
    "head(dataset_plus_census_scaled_race_male)"
   ]
  },
  {
   "cell_type": "code",
   "execution_count": 254,
   "id": "2eb7ad38-5f5d-42f9-a0c6-203ae0575043",
   "metadata": {},
   "outputs": [
    {
     "data": {
      "text/plain": [
       "   white_pop           black_pop          asian_pop        hispanic_pop    \n",
       " Min.   :-0.642387   Min.   :-0.36496   Min.   :-0.3314   Min.   :-0.2510  \n",
       " 1st Qu.:-0.554748   1st Qu.:-0.35884   1st Qu.:-0.3278   1st Qu.:-0.2321  \n",
       " Median :-0.379400   Median :-0.31149   Median :-0.3046   Median :-0.2031  \n",
       " Mean   : 0.000000   Mean   : 0.00000   Mean   : 0.0000   Mean   : 0.0000  \n",
       " 3rd Qu.:-0.003394   3rd Qu.:-0.06871   3rd Qu.:-0.1875   3rd Qu.:-0.1235  \n",
       " Max.   : 4.994073   Max.   : 9.15558   Max.   : 7.3199   Max.   : 9.7590  \n",
       " amerindian_pop     other_race_pop       male_0_20          male_21_49      \n",
       " Min.   :-0.47791   Min.   :-0.43877   Min.   :-0.39136   Min.   :-0.42670  \n",
       " 1st Qu.:-0.45894   1st Qu.:-0.43877   1st Qu.:-0.34323   1st Qu.:-0.37657  \n",
       " Median :-0.36216   Median :-0.43877   Median :-0.27155   Median :-0.29161  \n",
       " Mean   : 0.00000   Mean   : 0.00000   Mean   : 0.00000   Mean   : 0.00000  \n",
       " 3rd Qu.:-0.04717   3rd Qu.:-0.06472   3rd Qu.:-0.08719   3rd Qu.:-0.09854  \n",
       " Max.   : 8.41787   Max.   : 6.23116   Max.   : 9.06421   Max.   : 8.31051  \n",
       " male_50_above      \n",
       " Min.   :-0.524613  \n",
       " 1st Qu.:-0.440329  \n",
       " Median :-0.306636  \n",
       " Mean   : 0.000000  \n",
       " 3rd Qu.:-0.000192  \n",
       " Max.   : 7.969696  "
      ]
     },
     "metadata": {},
     "output_type": "display_data"
    }
   ],
   "source": [
    "summary(dataset_plus_census_scaled_race_male)"
   ]
  },
  {
   "cell_type": "markdown",
   "id": "41ccb14a-ae69-41d0-9b25-89194103ebe5",
   "metadata": {},
   "source": [
    "Mean is 0 for all columns. Min and max is similar to all columns. So scaling is good."
   ]
  },
  {
   "cell_type": "markdown",
   "id": "8483e88d-f10c-4094-848a-b8a043d22f44",
   "metadata": {
    "jp-MarkdownHeadingCollapsed": true
   },
   "source": [
    "### Clustering Tendency (Hopkins Statistic)"
   ]
  },
  {
   "cell_type": "code",
   "execution_count": 255,
   "id": "dd1467c9-6f42-4294-9c4e-d0b1e4edc55a",
   "metadata": {},
   "outputs": [
    {
     "data": {
      "text/html": [
       "0.999999985231768"
      ],
      "text/latex": [
       "0.999999985231768"
      ],
      "text/markdown": [
       "0.999999985231768"
      ],
      "text/plain": [
       "[1] 1"
      ]
     },
     "metadata": {},
     "output_type": "display_data"
    }
   ],
   "source": [
    "# Compute the Hopkins statistic\n",
    "set.seed(123) \n",
    "hopkins_stat_race_male<- hopkins(dataset_plus_census_scaled_race_male)\n",
    "hopkins_stat_race_male"
   ]
  },
  {
   "cell_type": "markdown",
   "id": "9606a8ba-3073-4f32-a84d-542c59656481",
   "metadata": {},
   "source": [
    "This shows that there is a strong clustering tendency."
   ]
  },
  {
   "cell_type": "markdown",
   "id": "8af63c92-7aec-46f7-9de9-e8c06082fe64",
   "metadata": {
    "jp-MarkdownHeadingCollapsed": true
   },
   "source": [
    "### Average Silhouette Width"
   ]
  },
  {
   "cell_type": "code",
   "execution_count": 256,
   "id": "165f5190-0c1d-499b-84ec-11347b1da863",
   "metadata": {},
   "outputs": [
    {
     "name": "stdout",
     "output_type": "stream",
     "text": [
      "[1] 2\n"
     ]
    },
    {
     "data": {
      "image/png": "[encoded data removed]",
      "text/plain": [
       "plot without title"
      ]
     },
     "metadata": {
      "image/png": {
       "height": 420,
       "width": 420
      }
     },
     "output_type": "display_data"
    }
   ],
   "source": [
    "# range for number of clusters\n",
    "ks_race_male <- 2:15\n",
    "\n",
    "# distance\n",
    "d_race_male <- dist(dataset_plus_census_scaled_race_male)\n",
    "\n",
    "# Average Silhouette Width\n",
    "ASW_race_male <- sapply(ks_race_male, FUN=function(k) {\n",
    "  kmeans_result <- kmeans(dataset_plus_census_scaled_race_male, centers = k, nstart = 10)\n",
    "  silhouette_info <- silhouette(kmeans_result$cluster, d_race_male)\n",
    "  mean(silhouette_info[, 3])  # Return the average silhouette width\n",
    "})\n",
    "\n",
    "# best k\n",
    "best_k_race_male <- ks_race_income[which.max(ASW_race_male)]\n",
    "print(best_k_race_male)\n",
    "\n",
    "# Plot the Average Silhouette Width\n",
    "ggplot(data.frame(ks_race_male, ASW_race_male), aes(x = ks_race_male, y = ASW_race_male)) + \n",
    "  geom_line() +\n",
    "  geom_vline(xintercept = best_k_race_male, color = \"red\", linetype = 2) + \n",
    "  ggtitle(\"Average Silhouette Width Plot (Race + Male of various age groups)\") +\n",
    "  xlab(\"Number of Clusters (k)\") +\n",
    "  ylab(\"Average Silhouette Width\")"
   ]
  },
  {
   "cell_type": "markdown",
   "id": "0f9bce56-087d-4e25-a79d-3b8d45192edc",
   "metadata": {},
   "source": [
    "Based onthe average silhouette width analysis, two or three clusters is optimal for our dataset. The dataset has the tendency to have natural division into 2 or 3 or 4 clusters. If more clusters are added, the added clusters might split one or more of the existing clusters with internal variability or low separation from other clusters. So the data does not fit the true underlying structure well with more than 4 clusters."
   ]
  },
  {
   "cell_type": "code",
   "execution_count": 258,
   "id": "1b72daa3-abca-44e9-ad7e-14f04841fd62",
   "metadata": {},
   "outputs": [
    {
     "name": "stdout",
     "output_type": "stream",
     "text": [
      "  cluster size ave.sil.width\n",
      "1       1   12          0.16\n",
      "2       2  210          0.88\n",
      "  cluster size ave.sil.width\n",
      "1       1  196          0.83\n",
      "2       2    7         -0.04\n",
      "3       3   19          0.13\n",
      "  cluster size ave.sil.width\n",
      "1       1   28          0.16\n",
      "2       2    7          0.18\n",
      "3       3    2          0.44\n",
      "4       4   10          0.00\n",
      "5       5  175          0.73\n"
     ]
    },
    {
     "data": {
      "image/png": "[encoded data removed]",
      "text/plain": [
       "plot without title"
      ]
     },
     "metadata": {
      "image/png": {
       "height": 420,
       "width": 420
      }
     },
     "output_type": "display_data"
    }
   ],
   "source": [
    "# K-means clustering (10 random restarts)\n",
    "k_means_race_male_first <- kmeans(dataset_plus_census_scaled_race_male, centers=2, nstart = 10)\n",
    "k_means_race_male_second <- kmeans(dataset_plus_census_scaled_race_male, centers=3, nstart = 10)\n",
    "k_means_race_male_third <- kmeans(dataset_plus_census_scaled_race_male, centers=5, nstart = 10)\n",
    "\n",
    "# Compute silhouette scores\n",
    "sil_race_male_first <- silhouette(k_means_race_male_first$cluster, d_race_male)\n",
    "sil_race_male_second <- silhouette(k_means_race_male_second$cluster, d_race_male)\n",
    "sil_race_male_third <- silhouette(k_means_race_male_third$cluster, d_race_male)\n",
    "\n",
    "# Arrange the plots side by side in a 2x2 grid\n",
    "sil_race_male_first <- silhouette(k_means_race_male_first$cluster, d_race_male)\n",
    "sil_race_male_second <- silhouette(k_means_race_male_second$cluster, d_race_male)\n",
    "sil_race_male_third <- silhouette(k_means_race_male_third$cluster, d_race_male)\n",
    "\n",
    "# Visualize silhouette plots\n",
    "p1 <- fviz_silhouette(sil_race_male_first) + ggtitle(\"2 Clusters\")\n",
    "p2 <- fviz_silhouette(sil_race_male_second) + ggtitle(\"3 Clusters\")\n",
    "p3 <- fviz_silhouette(sil_race_male_third) + ggtitle(\"5 Clusters\")\n",
    "\n",
    "# Arrange the plots side by side in a 2x2 grid (note the empty space)\n",
    "combined_silplot_race_income <- ggarrange(p1, p2, p3, ncol = 2, nrow = 2)\n",
    "\n",
    "# Display the combined plot\n",
    "print(combined_silplot_race_income)"
   ]
  },
  {
   "cell_type": "markdown",
   "id": "011a8d88-1dd8-4558-9043-a2016e62864a",
   "metadata": {},
   "source": [
    "Looking at the silwidht plots, we can say that we might only need 2 clusters for this dataset."
   ]
  },
  {
   "cell_type": "markdown",
   "id": "2876983d-f9b6-4f3b-b461-19e3026f8eb4",
   "metadata": {
    "jp-MarkdownHeadingCollapsed": true
   },
   "source": [
    "### Elbow Method: Within-Cluster Sum of Square"
   ]
  },
  {
   "cell_type": "code",
   "execution_count": 260,
   "id": "d7d6341f-5f76-43b8-bda4-3c234c72dc49",
   "metadata": {},
   "outputs": [
    {
     "data": {
      "image/png": "[encoded data removed]",
      "text/plain": [
       "plot without title"
      ]
     },
     "metadata": {
      "image/png": {
       "height": 420,
       "width": 420
      }
     },
     "output_type": "display_data"
    }
   ],
   "source": [
    "# use the same range of K \n",
    "#set.seed(1234)\n",
    "\n",
    "#Calculate within-cluster sum of squares for number of clusters\n",
    "WCSS_race_male <- sapply(ks_race_male, FUN = function(k) {\n",
    "  kmeans(d_race_male <- dist(dataset_plus_census_scaled_race_male), centers = k, nstart = 10)$tot.withinss\n",
    "  })\n",
    "\n",
    "# Plot \n",
    "ggplot(tibble(ks_race_male, WCSS_race_male), aes(ks_race_male, WCSS_race_male)) + \n",
    "  geom_line() +\n",
    "  geom_vline(xintercept = 6, color = \"red\", linetype = 2)+\n",
    "  ggtitle(\"Elbow Plot (Race & Male of various age groups)\") +\n",
    "  xlab(\"Number of Clusters (k)\") +\n",
    "  ylab(\"Within sum of squares (WCSS)\")"
   ]
  },
  {
   "cell_type": "markdown",
   "id": "d7bca7f7-56a1-4999-9cd7-b125e56acba1",
   "metadata": {},
   "source": [
    "However, the elbow method says taht 6 clusters is good number of clusters."
   ]
  },
  {
   "cell_type": "markdown",
   "id": "4b49f69f-bcdf-4874-aed1-a32bcef2fb7a",
   "metadata": {
    "jp-MarkdownHeadingCollapsed": true
   },
   "source": [
    "### Gap Statistic"
   ]
  },
  {
   "cell_type": "code",
   "execution_count": 261,
   "id": "becd99a0-35ca-4c01-9a77-aa7b74a43bbc",
   "metadata": {},
   "outputs": [
    {
     "data": {
      "text/plain": [
       "Clustering Gap statistic [\"clusGap\"] from call:\n",
       "clusGap(x = dataset_plus_census_scaled_race_male, FUNcluster = kmeans, K.max = 10, nstart = 10)\n",
       "B=100 simulated reference sets, k = 1..10; spaceH0=\"scaledPCA\"\n",
       " --> Number of clusters (method 'firstSEmax', SE.factor=1): 9\n",
       "          logW   E.logW      gap     SE.sim\n",
       " [1,] 4.848229 6.383530 1.535301 0.01902188\n",
       " [2,] 4.511873 6.134240 1.622368 0.01680852\n",
       " [3,] 4.327225 6.014977 1.687752 0.01586448\n",
       " [4,] 4.195554 5.915407 1.719853 0.01489045\n",
       " [5,] 4.066405 5.850163 1.783759 0.01380141\n",
       " [6,] 4.002059 5.798475 1.796416 0.01423955\n",
       " [7,] 3.937818 5.756973 1.819155 0.01421749\n",
       " [8,] 3.846232 5.719287 1.873056 0.01455619\n",
       " [9,] 3.796128 5.685850 1.889722 0.01435162\n",
       "[10,] 3.761858 5.654189 1.892331 0.01444457"
      ]
     },
     "metadata": {},
     "output_type": "display_data"
    },
    {
     "data": {
      "image/png": "[encoded data removed]",
      "text/plain": [
       "Plot with title \"clusGap(x = dataset_plus_census_scaled_race_male,\n",
       "       FUNcluster = kmeans, K.max = 10, nstart = 10)\""
      ]
     },
     "metadata": {
      "image/png": {
       "height": 420,
       "width": 420
      }
     },
     "output_type": "display_data"
    }
   ],
   "source": [
    "k_gap_race_male <- clusGap(dataset_plus_census_scaled_race_male, \n",
    "             FUN = kmeans,  \n",
    "             nstart = 10, \n",
    "             K.max = 10)\n",
    "k_gap_race_male\n",
    "\n",
    "plot(k_gap_race_male)"
   ]
  },
  {
   "cell_type": "markdown",
   "id": "2f144114-bf07-4b78-82fe-ef17bf9fa553",
   "metadata": {},
   "source": [
    "Based on the gap statistic, we see that 2 clusters could be enough for the clusters."
   ]
  },
  {
   "cell_type": "markdown",
   "id": "2df8539b-ff42-40ff-b280-9aa297c2ae00",
   "metadata": {
    "jp-MarkdownHeadingCollapsed": true
   },
   "source": [
    "### Clustering Tendency (Hopkins Statistic)"
   ]
  },
  {
   "cell_type": "code",
   "execution_count": 276,
   "id": "3f1ed291-0c2b-4599-8f11-d81c68cc48ac",
   "metadata": {},
   "outputs": [
    {
     "data": {
      "image/png": "[encoded data removed]",
      "text/plain": [
       "plot without title"
      ]
     },
     "metadata": {
      "image/png": {
       "height": 420,
       "width": 420
      }
     },
     "output_type": "display_data"
    },
    {
     "data": {
      "image/png": "[encoded data removed]",
      "text/plain": [
       "plot without title"
      ]
     },
     "metadata": {
      "image/png": {
       "height": 420,
       "width": 420
      }
     },
     "output_type": "display_data"
    }
   ],
   "source": [
    "# K-means clustering using specific number of clusters\n",
    "k_means_race_male_new <- kmeans(dataset_plus_census_scaled_race_male, centers=3, nstart = 10)\n",
    "\n",
    "# distance for incomes\n",
    "d_race_male_new <- dist(dataset_plus_census_scaled_race_male)\n",
    "\n",
    "# Create ggdissplot\n",
    "diss_plot_race_male <- ggdissplot(d_race_male_new, labels = k_means_race_male_new$cluster) +\n",
    "  ggtitle(\"Distance Matrix - K-means Clustering for race & male of various age groups\") +\n",
    "  theme_minimal()\n",
    "\n",
    "# Create factoextra plot\n",
    "fviz_plot_race_male <- fviz_dist(d_race_male_new) +\n",
    "  ggtitle(\"Distance Plot - factoextra for race & male of various age groups\") +\n",
    "  theme_minimal()\n",
    "\n",
    "diss_plot_race_male\n",
    "fviz_plot_race_male"
   ]
  },
  {
   "cell_type": "markdown",
   "id": "cce91f19-25e2-4f33-bd26-799f049f2efb",
   "metadata": {},
   "source": [
    "Looks like we just need 3 clusters for the dataset."
   ]
  },
  {
   "cell_type": "markdown",
   "id": "d4a2737e-af00-4dd7-a974-f9598d82036d",
   "metadata": {
    "jp-MarkdownHeadingCollapsed": true
   },
   "source": [
    "### Compare clusterings (unsupervised)"
   ]
  },
  {
   "cell_type": "code",
   "execution_count": 278,
   "id": "40002e90-8682-4f81-b835-c46a0cfb8202",
   "metadata": {},
   "outputs": [
    {
     "name": "stdout",
     "output_type": "stream",
     "text": [
      "                  km_first  km_second  km_third   km_fourth\n",
      "within.cluster.ss 906.5738  409.1347   294.5293   261.5026 \n",
      "avg.silwidth      0.8410627 0.733848   0.582773   0.4981945\n",
      "pearsongamma      0.8481538 0.7515262  0.6085253  0.5156731\n",
      "dunn              0.2212745 0.07297101 0.04306338 0.0236391\n"
     ]
    }
   ],
   "source": [
    "# k-means clustering with different numbers of clusters\n",
    "k_means_race_male_first <- kmeans(dataset_plus_census_scaled_race_male, centers = 2)\n",
    "k_means_race_male_second <- kmeans(dataset_plus_census_scaled_race_male, centers = 4)\n",
    "k_means_race_male_third <- kmeans(dataset_plus_census_scaled_race_male, centers = 6)\n",
    "k_means_race_male_fourth <- kmeans(dataset_plus_census_scaled_race_male, centers = 8)\n",
    "\n",
    "# Compute clustering statistics for each clustering result\n",
    "cluster_stats <- sapply(\n",
    "  list(\n",
    "    km_first = k_means_race_male_first$cluster,\n",
    "    km_second = k_means_race_male_second$cluster,\n",
    "    km_third = k_means_race_male_third$cluster,\n",
    "    km_fourth = k_means_race_male_fourth$cluster\n",
    "  ),\n",
    "  FUN = function(x) fpc::cluster.stats(d_race_male, x)\n",
    ")\n",
    "\n",
    "# Extract the desired statistics\n",
    "race_male_cluster_stats <- cluster_stats[c(\"within.cluster.ss\", \"avg.silwidth\", \"pearsongamma\", \"dunn\"), ]\n",
    "\n",
    "# Print the results\n",
    "print(race_male_cluster_stats)"
   ]
  },
  {
   "cell_type": "markdown",
   "id": "89605edb-a54a-4c57-8e1e-67c72a6ff708",
   "metadata": {},
   "source": [
    "Looking at the sum of squares, we see that the value starts to decrease not so sifnificantly after 6 clusters. \n",
    "Looking at the average silwidth values, we can see that it's max at two (but 3 is reasonable too) clusters.\n",
    "The pearson gamma values also indicate that we just need two clusters (3 is reasonable too) for this dataset since this value is highest for clusters. This values does not improve much (does not decrease) with more clusters added.  \n",
    "The dunn index also indicates that we need 2 clusters for this dataset since it has the highest value for 2 clusters. The value does not improve (does not decrease) with  more clusters added. \n",
    "Overall, these values indicate that adding more clusters might lead to more compact clusters but less defined and well-separated clusters. Therefore, 2 clusters could offer the most robust clustering for the dataset."
   ]
  },
  {
   "cell_type": "markdown",
   "id": "126fabb5-01cb-4cc6-9d7a-dd165bf62186",
   "metadata": {
    "jp-MarkdownHeadingCollapsed": true
   },
   "source": [
    "### Inspect the clusters (Visualization)"
   ]
  },
  {
   "cell_type": "code",
   "execution_count": 280,
   "id": "d1782acd-8efa-45f2-b231-9aea6e55be68",
   "metadata": {},
   "outputs": [
    {
     "name": "stderr",
     "output_type": "stream",
     "text": [
      "\u001b[1m\u001b[22mToo few points to calculate an ellipse\n",
      "\u001b[1m\u001b[22mToo few points to calculate an ellipse\n"
     ]
    },
    {
     "data": {
      "image/png": "[encoded data removed]",
      "text/plain": [
       "plot without title"
      ]
     },
     "metadata": {
      "image/png": {
       "height": 420,
       "width": 420
      }
     },
     "output_type": "display_data"
    }
   ],
   "source": [
    "# K-means clustering with 2 clusters\n",
    "kmeans_race_male_first <- kmeans(dataset_plus_census_scaled_race_male, centers = 2)\n",
    "plot_kmeans_race_male_first <- fviz_cluster(kmeans_race_male_first, data = dataset_plus_census_scaled_race_male,\n",
    "                              centroids = TRUE, geom = \"point\", ellipse.type = \"norm\") +\n",
    "  labs(title = \"K-means Clustering with 2 Centers\")\n",
    "\n",
    "# K-means clustering with 3 clusters\n",
    "kmeans_race_male_second <- kmeans(dataset_plus_census_scaled_race_male, centers = 3)\n",
    "plot_kmeans_race_male_second <- fviz_cluster(kmeans_race_male_second, data = dataset_plus_census_scaled_race_male,\n",
    "                              centroids = TRUE, geom = \"point\", ellipse.type = \"norm\") +\n",
    "  labs(title = \"K-means Clustering with 4 Centers\")\n",
    "\n",
    "# K-means clustering with 6 clusters\n",
    "kmeans_race_male_third <- kmeans(dataset_plus_census_scaled_race_male, centers = 6)\n",
    "plot_kmeans_race_male_third <- fviz_cluster(kmeans_race_male_third, data = dataset_plus_census_scaled_race_male,\n",
    "                              centroids = TRUE, geom = \"point\", ellipse.type = \"norm\") +\n",
    "  labs(title = \"K-means Clustering with 6 Centers\")\n",
    "\n",
    "# Arrange the plots side by side in a 2x2 grid\n",
    "combined_plot_race_male <- ggarrange(plot_kmeans_race_male_first, plot_kmeans_race_male_second, plot_kmeans_race_male_third, ncol = 2, nrow = 2)\n",
    "\n",
    "# Display the combined plot\n",
    "print(combined_plot_race_male)\n",
    "\n",
    "#Save the plot\n",
    "ggsave(\"combined_plot_race_male.png\", plot = combined_plot_race_male, width = 6, height = 3)"
   ]
  },
  {
   "cell_type": "markdown",
   "id": "71e5a6ef-de9e-4e0c-8e53-1e7178b54d72",
   "metadata": {},
   "source": [
    "We can see that the datapoints on cluster 3 might be part of cluster 1. So we might be good with only 2 clusters for the dataset."
   ]
  },
  {
   "cell_type": "code",
   "execution_count": 286,
   "id": "64a21ed8-c552-4ee8-9574-ab508f4a3aa5",
   "metadata": {},
   "outputs": [
    {
     "data": {
      "image/png": "[encoded data removed]",
      "text/plain": [
       "plot without title"
      ]
     },
     "metadata": {
      "image/png": {
       "height": 420,
       "width": 420
      }
     },
     "output_type": "display_data"
    }
   ],
   "source": [
    "# Adjust the k value for further inspection of the clusters\n",
    "k_means_race_male <- kmeans(dataset_plus_census_scaled_race_male, centers=2, nstart = 10)\n",
    "\n",
    "cluster_profile_race_male <- ggplot(pivot_longer(as_tibble(k_means_race_male$centers,  rownames = \"cluster\"), \n",
    "  cols = colnames(k_means_race_male$centers)), \n",
    "  aes(y = name, x = value, fill = cluster)) +\n",
    "  geom_bar(stat = \"identity\") +\n",
    "  facet_grid(cols = vars(cluster)) +\n",
    "  labs(y = \"feature\", x = \"z-scores\", title = \"Cluster Profiles (Race & Male of various age groups)\") + \n",
    "  guides(fill=\"none\")\n",
    "\n",
    "#Save teh profile\n",
    "ggsave(\"cluster_profile_race_male.png\", plot = cluster_profile_race_male, width = 6, height = 2)\n",
    "\n",
    "cluster_profile_race_male"
   ]
  },
  {
   "cell_type": "markdown",
   "id": "66ab9f3a-f4f0-4246-8f4b-f8237a791290",
   "metadata": {},
   "source": [
    "When 3 clusters were used, the third cluster had all the distributions for all features nearly similar which is not a good to provide variability details on the dataset. Using only 2 clusters, majority of the variation of the dataset was properly defined between the clusters. This indicates that we might need only 2 clusters for the dataset."
   ]
  },
  {
   "cell_type": "code",
   "execution_count": 287,
   "id": "0a81d196-a7dd-4455-b371-0df8675bbf82",
   "metadata": {},
   "outputs": [
    {
     "data": {
      "text/plain": [
       "K-means clustering with 2 clusters of sizes 210, 12\n",
       "\n",
       "Cluster means:\n",
       "  white_pop  black_pop  asian_pop hispanic_pop amerindian_pop other_race_pop\n",
       "1 -0.180225 -0.1563314 -0.1948347   -0.1396746     -0.1659351     -0.1898007\n",
       "2  3.153938  2.7358002  3.4096072    2.4443049      2.9038648      3.3215128\n",
       "   male_0_20 male_21_49 male_50_above\n",
       "1 -0.1764374 -0.1845332    -0.1883752\n",
       "2  3.0876543  3.2293313     3.2965652\n",
       "\n",
       "Clustering vector:\n",
       "  [1] 1 1 1 1 1 1 1 1 1 1 1 1 1 1 1 1 1 1 1 1 1 1 1 1 1 1 1 1 1 1 1 1 1 1 1 1 1\n",
       " [38] 1 1 1 1 1 1 1 1 1 1 1 1 1 1 1 1 1 1 1 1 1 1 1 1 1 1 1 1 1 1 1 1 1 1 1 1 1\n",
       " [75] 1 1 1 1 1 1 1 1 1 1 1 1 1 1 1 1 1 1 1 1 1 1 1 1 1 1 1 1 1 1 1 1 1 1 1 1 1\n",
       "[112] 1 2 2 1 1 2 2 1 1 1 1 2 1 1 1 1 1 1 1 1 1 1 1 1 1 1 2 2 1 1 1 1 1 1 1 1 1\n",
       "[149] 1 1 1 1 1 1 1 1 1 1 1 1 1 1 1 1 1 1 1 1 1 1 1 1 1 1 1 1 1 1 1 2 1 1 1 1 1\n",
       "[186] 1 1 1 1 1 1 1 1 1 1 1 1 1 1 1 1 2 1 2 1 1 1 1 1 1 1 1 1 1 2 2 1 1 1 1 1 1\n",
       "\n",
       "Within cluster sum of squares by cluster:\n",
       "[1] 350.7643 555.8095\n",
       " (between_SS / total_SS =  54.4 %)\n",
       "\n",
       "Available components:\n",
       "\n",
       "[1] \"cluster\"      \"centers\"      \"totss\"        \"withinss\"     \"tot.withinss\"\n",
       "[6] \"betweenss\"    \"size\"         \"iter\"         \"ifault\"      "
      ]
     },
     "metadata": {},
     "output_type": "display_data"
    }
   ],
   "source": [
    "k_means_race_male"
   ]
  },
  {
   "cell_type": "markdown",
   "id": "8f8015a9-301f-46f5-a1dc-892856271e94",
   "metadata": {},
   "source": [
    "The ratio of between_SS to total_SS is about 54%, suggesting that the clustering structure explains a significant portion of the variability in the data.\n",
    "Given that the first cluster has distinctly different characteristics compared to the second and that we see a clear separation in terms of average feature values, it is reasonable to conclude that two clusters are sufficient to define the dataset."
   ]
  },
  {
   "cell_type": "markdown",
   "id": "ee6c6381-7ab3-424a-b0e5-c3311125e778",
   "metadata": {},
   "source": [
    "### Heat map"
   ]
  },
  {
   "cell_type": "code",
   "execution_count": 293,
   "id": "524cfda8-e662-4b15-8ff9-10a1d64dd8f8",
   "metadata": {},
   "outputs": [],
   "source": [
    "# load the dataset\n",
    "dataset_race_male_heatmap <- read.csv(\"https://raw.githubusercontent.com/yamphurai/Project2_ClusterAnalysis/refs/heads/main/updated_COVID-19_cases_plus_census.csv\")\n",
    "\n",
    "dataset_race_male_heatmap <- dataset_race_male_heatmap %>% mutate(across(where(is.character), factor))\n",
    "\n",
    "# Filter by Texas\n",
    "dataset_race_male_heatmap <- dataset_race_male_heatmap %>% filter(state == \"TX\")\n",
    "\n",
    "# filter the dataset\n",
    "dataset_race_male_heatmap <- dataset_race_male_heatmap %>%\n",
    "  filter(!(county_name %in% counties_to_exclude))\n",
    "\n",
    "# select the features\n",
    "dataset_race_male_heatmap <- dataset_race_male_heatmap %>%  \n",
    "  select(county_name, confirmed_cases, deaths, total_pop, white_pop, black_pop, asian_pop, hispanic_pop, amerindian_pop, other_race_pop, male_0_20, male_21_49, male_50_above)\n",
    "\n",
    "# per 1000\n",
    "dataset_race_male_heatmap <- dataset_race_male_heatmap %>% mutate(\n",
    "  cases_per_1000 = confirmed_cases/total_pop*1000, \n",
    "  deaths_per_1000 = deaths/total_pop*1000, \n",
    "  death_per_case = deaths/confirmed_cases)"
   ]
  },
  {
   "cell_type": "code",
   "execution_count": 294,
   "id": "b40fb089-ad67-49c9-b364-c44ee1418eb6",
   "metadata": {},
   "outputs": [
    {
     "name": "stderr",
     "output_type": "stream",
     "text": [
      "\u001b[1m\u001b[22mJoining with `by = join_by(county)`\n"
     ]
    }
   ],
   "source": [
    "# remove County from the names and convert them to lowercase\n",
    "dataset_race_male_heatmap <- dataset_race_male_heatmap %>% mutate(county = county_name %>% \n",
    "    str_to_lower() %>% str_replace('\\\\s+county\\\\s*$', ''))\n",
    "\n",
    "# Database join\n",
    "counties_polygon_TX <- right_join(counties_polygon_TX, dataset_race_male_heatmap)"
   ]
  },
  {
   "cell_type": "code",
   "execution_count": 296,
   "id": "df54635c-5071-4a50-aceb-ff0f59d9f75f",
   "metadata": {},
   "outputs": [],
   "source": [
    "# Scaling\n",
    "dataset_race_male_heatmap_scaled <- dataset_race_male_heatmap %>% \n",
    "  select( white_pop, black_pop, asian_pop, hispanic_pop, amerindian_pop, other_race_pop, male_0_20, male_21_49, male_50_above) %>% \n",
    "  scale() %>% as_tibble()\n",
    "\n",
    "# k means setting\n",
    "km_race_male_heatmap <- kmeans(dataset_race_male_heatmap_scaled, centers = 2, nstart = 10)"
   ]
  },
  {
   "cell_type": "code",
   "execution_count": 297,
   "id": "3f1162b8-a1cd-4d84-8fb6-1dd54458decf",
   "metadata": {},
   "outputs": [],
   "source": [
    "# Add the cluster labels to the dataset\n",
    "dataset_plus_census_race_male_clust_heatmap <- dataset_race_male_heatmap %>% \n",
    "    add_column(cluster = factor(km_race_male_heatmap$cluster))"
   ]
  },
  {
   "cell_type": "code",
   "execution_count": 298,
   "id": "7fcc8495-9768-4c4c-a969-969a057ff15a",
   "metadata": {},
   "outputs": [],
   "source": [
    "# Database join\n",
    "counties_polygon_TX_race_male_clust <- right_join(counties_polygon_TX, dataset_plus_census_race_male_clust_heatmap, \n",
    "                                        join_by(county))"
   ]
  },
  {
   "cell_type": "code",
   "execution_count": 299,
   "id": "29f726d2-e516-45d6-8b03-0e4868c842b6",
   "metadata": {},
   "outputs": [
    {
     "data": {
      "text/html": [
       "222"
      ],
      "text/latex": [
       "222"
      ],
      "text/markdown": [
       "222"
      ],
      "text/plain": [
       "[1] 222"
      ]
     },
     "metadata": {},
     "output_type": "display_data"
    }
   ],
   "source": [
    "#Final check of number of counties before plotting the heat map\n",
    "length(unique(counties_polygon_TX_race_male_clust$county))"
   ]
  },
  {
   "cell_type": "code",
   "execution_count": 300,
   "id": "bc08f416-04d7-41b9-8f6c-192f8a21e5e7",
   "metadata": {},
   "outputs": [
    {
     "name": "stdout",
     "output_type": "stream",
     "text": [
      " [1] \"bell\"      \"brazos\"    \"cameron\"   \"el paso\"   \"grayson\"   \"hidalgo\"  \n",
      " [7] \"jefferson\" \"lubbock\"   \"mclennan\"  \"nueces\"    \"smith\"     \"wichita\"  \n"
     ]
    },
    {
     "data": {
      "image/png": "[encoded data removed]",
      "text/plain": [
       "plot without title"
      ]
     },
     "metadata": {
      "image/png": {
       "height": 420,
       "width": 420
      }
     },
     "output_type": "display_data"
    }
   ],
   "source": [
    "# heat map\n",
    "ggplot(counties_polygon_TX_race_male_clust, aes(long, lat)) + \n",
    "  geom_polygon(aes(group = group, fill = cluster)) +\n",
    "  coord_quickmap() + \n",
    "  labs(title = \"Texas Map with clustered counties (income & male of various age groups)\")\n",
    "\n",
    "# Filter for counties in cluster 2\n",
    "counties_cluster_2 <- counties_polygon_TX_race_male_clust %>%\n",
    "  filter(cluster == 2)\n",
    "\n",
    "# Print the counties in cluster 2\n",
    "print(unique(counties_cluster_2$county))"
   ]
  },
  {
   "cell_type": "markdown",
   "id": "02f98b88-2985-47f8-9b9c-a664f07b472b",
   "metadata": {
    "jp-MarkdownHeadingCollapsed": true
   },
   "source": [
    "## Compare clusterings (supervised)"
   ]
  },
  {
   "cell_type": "code",
   "execution_count": 179,
   "id": "f0ba9889-ad5b-4714-a5e2-39db64677125",
   "metadata": {},
   "outputs": [],
   "source": [
    "dataset_plus_census <- read.csv(\"https://raw.githubusercontent.com/yamphurai/Project2_ClusterAnalysis/refs/heads/main/updated_COVID-19_cases_plus_census.csv\")\n",
    "dataset_plus_census <- dataset_plus_census %>% filter(state == \"TX\")"
   ]
  },
  {
   "cell_type": "code",
   "execution_count": 180,
   "id": "d366ca5c-a30f-40af-912a-3547a518faf3",
   "metadata": {},
   "outputs": [
    {
     "data": {
      "text/plain": [
       "   Min. 1st Qu.  Median    Mean 3rd Qu.    Max. \n",
       "  24794   42327   48311   49894   55741   93645 "
      ]
     },
     "metadata": {},
     "output_type": "display_data"
    }
   ],
   "source": [
    "#Checking the ranges for the incomes\n",
    "summary(dataset_plus_census$median_income)"
   ]
  },
  {
   "cell_type": "code",
   "execution_count": 183,
   "id": "d7f95420-9dee-4ba5-84db-6b45b57f4d1b",
   "metadata": {},
   "outputs": [
    {
     "data": {
      "text/plain": [
       "ground_truth\n",
       "   low medium   high \n",
       "   147     96     11 "
      ]
     },
     "metadata": {},
     "output_type": "display_data"
    }
   ],
   "source": [
    "# Pick median_income feature as the ground truth\n",
    "\n",
    "# Convert the median incomes into 3 categories (low is <50K, medium is 51-100K, and high 100K above)\n",
    "dataset_plus_census <- dataset_plus_census %>%\n",
    "  mutate(income_category = cut(median_income, \n",
    "                               breaks = c(0, 50000, 75000, 100000), \n",
    "                               labels = c(\"low\", \"medium\", \"high\"), \n",
    "                               include.lowest = TRUE))\n",
    "\n",
    "# Extract ground truth labels\n",
    "ground_truth <- dataset_plus_census$income_category\n",
    "\n",
    "table(ground_truth)"
   ]
  },
  {
   "cell_type": "code",
   "execution_count": 160,
   "id": "920f1c81-6be5-40bd-a907-c301eef275d1",
   "metadata": {},
   "outputs": [],
   "source": [
    "# Purity function\n",
    "purity <- function(cluster, truth, show_table = FALSE) {\n",
    "  if (length(cluster) != length(truth))\n",
    "    stop(\"Cluster vector and ground truth vectors are not of the same length!\")\n",
    "  \n",
    "  tbl <- table(cluster, truth)\n",
    "  if(show_table)\n",
    "    print(tbl)\n",
    "  \n",
    "  majority <- apply(tbl, 1, max)\n",
    "  sum(majority) / length(cluster)\n",
    "}\n",
    "\n",
    "\n",
    "# Entropy function\n",
    "entropy <- function(cluster, truth, show_table = FALSE) {\n",
    "  if (length(cluster) != length(truth))\n",
    "    stop(\"Cluster vector and ground truth vectors are not of the same length!\")\n",
    "  \n",
    "  # calculate membership probability of cluster to class\n",
    "  tbl <- table(cluster, truth)\n",
    "  p <- sweep(tbl, 2, colSums(tbl), \"/\")\n",
    "  \n",
    "  if(show_table)\n",
    "    print(p)\n",
    "\n",
    "  # calculate cluster entropy\n",
    "  e <- -p * log(p, 2)\n",
    "  e <- rowSums(e, na.rm = TRUE)\n",
    "  \n",
    "  # weighted sum over clusters\n",
    "  w <- table(cluster) / length(cluster)\n",
    "  sum(w * e)\n",
    "}\n"
   ]
  },
  {
   "cell_type": "code",
   "execution_count": 102,
   "id": "a7760b14-82bd-4b41-8769-5dedf60649b2",
   "metadata": {},
   "outputs": [
    {
     "ename": "ERROR",
     "evalue": "Error: object 'dataset_plus_census_scaled_race' not found\n",
     "output_type": "error",
     "traceback": [
      "Error: object 'dataset_plus_census_scaled_race' not found\nTraceback:\n",
      "1. as.matrix(x)",
      "2. .handleSimpleError(function (cnd) \n . {\n .     watcher$capture_plot_and_output()\n .     cnd <- sanitize_call(cnd)\n .     watcher$push(cnd)\n .     switch(on_error, continue = invokeRestart(\"eval_continue\"), \n .         stop = invokeRestart(\"eval_stop\"), error = invokeRestart(\"eval_error\", \n .             cnd))\n . }, \"object 'dataset_plus_census_scaled_race' not found\", base::quote(eval(expr, \n .     envir)))"
     ]
    }
   ],
   "source": [
    "# Pick the best clustering for each dataset and compare them\n",
    "\n",
    "# set different values of k for the datasets to compare\n",
    "k_means_race_income <- kmeans(dataset_plus_census_scaled_race_income, centers=2, nstart = 10)\n",
    "\n",
    "\n",
    "#compute purity metrics\n",
    "purity_score_race_income <- purity(k_means_race_income$cluster, ground_truth, show_table = TRUE)\n",
    "purity_score_race_4 <- purity(k_means_race_4$cluster, ground_truth, show_table = TRUE)\n",
    "\n",
    "# Comparison\n",
    "compare_race_clusterings <- rbind(\n",
    "    truth = c(unlist(fpc::cluster.stats(d_race, as.numeric(ground_truth), as.numeric(ground_truth), compareonly = TRUE)),\n",
    "              purity = purity(as.numeric(ground_truth), as.numeric(ground_truth)), \n",
    "              entropy = entropy(as.numeric(ground_truth), as.numeric(ground_truth))\n",
    "              ),\n",
    "    \n",
    "    k_means_race_2 = c(unlist(fpc::cluster.stats(d_race, k_means_race_2$cluster, as.numeric(ground_truth), compareonly = TRUE)),\n",
    "                     purity = purity(k_means_race_2$cluster, as.numeric(ground_truth)),\n",
    "                     entropy = entropy(k_means_race_2$cluster, as.numeric(ground_truth))\n",
    "                ),\n",
    "  \n",
    "  k_means_race_4 = c(unlist(fpc::cluster.stats(d_race, k_means_race_4$cluster, as.numeric(ground_truth), compareonly = TRUE)),\n",
    "                     purity = purity(k_means_race_4$cluster, as.numeric(ground_truth)),\n",
    "                     entropy = entropy(k_means_race_4$cluster, as.numeric(ground_truth))\n",
    "                    )\n",
    "    )\n",
    "     \n",
    "# Print the comparison results\n",
    "print(compare_race_clusterings)"
   ]
  },
  {
   "cell_type": "code",
   "execution_count": 5,
   "id": "59f1bce9-29cb-4b46-b3c1-764460a5cefa",
   "metadata": {},
   "outputs": [
    {
     "name": "stderr",
     "output_type": "stream",
     "text": [
      "── \u001b[1mAttaching core tidyverse packages\u001b[22m ──────────────────────────────────────────────────────────────── tidyverse 2.0.0 ──\n",
      "\u001b[32m✔\u001b[39m \u001b[34mdplyr    \u001b[39m 1.1.4     \u001b[32m✔\u001b[39m \u001b[34mreadr    \u001b[39m 2.1.5\n",
      "\u001b[32m✔\u001b[39m \u001b[34mforcats  \u001b[39m 1.0.0     \u001b[32m✔\u001b[39m \u001b[34mstringr  \u001b[39m 1.5.1\n",
      "\u001b[32m✔\u001b[39m \u001b[34mggplot2  \u001b[39m 3.5.1     \u001b[32m✔\u001b[39m \u001b[34mtibble   \u001b[39m 3.2.1\n",
      "\u001b[32m✔\u001b[39m \u001b[34mlubridate\u001b[39m 1.9.3     \u001b[32m✔\u001b[39m \u001b[34mtidyr    \u001b[39m 1.3.1\n",
      "\u001b[32m✔\u001b[39m \u001b[34mpurrr    \u001b[39m 1.0.2     \n",
      "── \u001b[1mConflicts\u001b[22m ────────────────────────────────────────────────────────────────────────────────── tidyverse_conflicts() ──\n",
      "\u001b[31m✖\u001b[39m \u001b[34mdplyr\u001b[39m::\u001b[32mfilter()\u001b[39m masks \u001b[34mstats\u001b[39m::filter()\n",
      "\u001b[31m✖\u001b[39m \u001b[34mdplyr\u001b[39m::\u001b[32mlag()\u001b[39m    masks \u001b[34mstats\u001b[39m::lag()\n",
      "\u001b[36mℹ\u001b[39m Use the conflicted package (\u001b[3m\u001b[34m<http://conflicted.r-lib.org/>\u001b[39m\u001b[23m) to force all conflicts to become errors\n"
     ]
    },
    {
     "ename": "ERROR",
     "evalue": "Error in library(\"ggcorrplot\"): there is no package called 'ggcorrplot'\n",
     "output_type": "error",
     "traceback": [
      "Error in library(\"ggcorrplot\"): there is no package called 'ggcorrplot'\nTraceback:\n",
      "1. stop(packageNotFoundError(package, lib.loc, sys.call()))"
     ]
    }
   ],
   "source": [
    "# Importing necessary libraries\n",
    "library(\"tidyverse\")\n",
    "library(\"ggplot2\")\n",
    "library(\"ggrepel\")\n",
    "library(\"ggcorrplot\")\n",
    "library(\"DT\")\n",
    "library(ggpubr)"
   ]
  }
 ],
 "metadata": {
  "kernelspec": {
   "display_name": "R",
   "language": "R",
   "name": "ir"
  },
  "language_info": {
   "codemirror_mode": "r",
   "file_extension": ".r",
   "mimetype": "text/x-r-source",
   "name": "R",
   "pygments_lexer": "r",
   "version": "4.4.1"
  }
 },
 "nbformat": 4,
 "nbformat_minor": 5
}
