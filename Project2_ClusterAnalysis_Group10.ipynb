{
 "cells": [
  {
   "cell_type": "code",
   "execution_count": 3,
   "id": "43e4d6d4-2594-497e-8494-1622fd035c75",
   "metadata": {},
   "outputs": [
    {
     "name": "stderr",
     "output_type": "stream",
     "text": [
      "also installing the dependencies 'colorspace', 'sys', 'bit', 'ps', 'sass', 'cachem', 'farver', 'labeling', 'munsell', 'RColorBrewer', 'viridisLite', 'rappdirs', 'rematch', 'askpass', 'bit64', 'prettyunits', 'processx', 'highr', 'xfun', 'yaml', 'bslib', 'fontawesome', 'jquerylib', 'tinytex', 'backports', 'generics', 'memoise', 'blob', 'DBI', 'R6', 'tidyselect', 'withr', 'data.table', 'gtable', 'isoband', 'scales', 'gargle', 'cellranger', 'curl', 'ids', 'rematch2', 'cpp11', 'pkgconfig', 'mime', 'openssl', 'timechange', 'systemfonts', 'textshaping', 'clipr', 'vroom', 'tzdb', 'progress', 'callr', 'fs', 'knitr', 'rmarkdown', 'selectr', 'stringi', 'broom', 'conflicted', 'dbplyr', 'dplyr', 'dtplyr', 'forcats', 'ggplot2', 'googledrive', 'googlesheets4', 'haven', 'hms', 'httr', 'lubridate', 'magrittr', 'modelr', 'purrr', 'ragg', 'readr', 'readxl', 'reprex', 'rstudioapi', 'rvest', 'stringr', 'tibble', 'tidyr', 'xml2'\n",
      "\n",
      "\n"
     ]
    },
    {
     "name": "stdout",
     "output_type": "stream",
     "text": [
      "package 'colorspace' successfully unpacked and MD5 sums checked\n",
      "package 'sys' successfully unpacked and MD5 sums checked\n",
      "package 'bit' successfully unpacked and MD5 sums checked\n",
      "package 'ps' successfully unpacked and MD5 sums checked\n",
      "package 'sass' successfully unpacked and MD5 sums checked\n",
      "package 'cachem' successfully unpacked and MD5 sums checked\n",
      "package 'farver' successfully unpacked and MD5 sums checked\n",
      "package 'labeling' successfully unpacked and MD5 sums checked\n",
      "package 'munsell' successfully unpacked and MD5 sums checked\n",
      "package 'RColorBrewer' successfully unpacked and MD5 sums checked\n",
      "package 'viridisLite' successfully unpacked and MD5 sums checked\n",
      "package 'rappdirs' successfully unpacked and MD5 sums checked\n",
      "package 'rematch' successfully unpacked and MD5 sums checked\n",
      "package 'askpass' successfully unpacked and MD5 sums checked\n",
      "package 'bit64' successfully unpacked and MD5 sums checked\n",
      "package 'prettyunits' successfully unpacked and MD5 sums checked\n",
      "package 'processx' successfully unpacked and MD5 sums checked\n",
      "package 'highr' successfully unpacked and MD5 sums checked\n",
      "package 'xfun' successfully unpacked and MD5 sums checked\n",
      "package 'yaml' successfully unpacked and MD5 sums checked\n",
      "package 'bslib' successfully unpacked and MD5 sums checked\n",
      "package 'fontawesome' successfully unpacked and MD5 sums checked\n",
      "package 'jquerylib' successfully unpacked and MD5 sums checked\n",
      "package 'tinytex' successfully unpacked and MD5 sums checked\n",
      "package 'backports' successfully unpacked and MD5 sums checked\n",
      "package 'generics' successfully unpacked and MD5 sums checked\n",
      "package 'memoise' successfully unpacked and MD5 sums checked\n",
      "package 'blob' successfully unpacked and MD5 sums checked\n",
      "package 'DBI' successfully unpacked and MD5 sums checked\n",
      "package 'R6' successfully unpacked and MD5 sums checked\n",
      "package 'tidyselect' successfully unpacked and MD5 sums checked\n",
      "package 'withr' successfully unpacked and MD5 sums checked\n",
      "package 'data.table' successfully unpacked and MD5 sums checked\n",
      "package 'gtable' successfully unpacked and MD5 sums checked\n",
      "package 'isoband' successfully unpacked and MD5 sums checked\n",
      "package 'scales' successfully unpacked and MD5 sums checked\n",
      "package 'gargle' successfully unpacked and MD5 sums checked\n",
      "package 'cellranger' successfully unpacked and MD5 sums checked\n",
      "package 'curl' successfully unpacked and MD5 sums checked\n",
      "package 'ids' successfully unpacked and MD5 sums checked\n",
      "package 'rematch2' successfully unpacked and MD5 sums checked\n",
      "package 'cpp11' successfully unpacked and MD5 sums checked\n",
      "package 'pkgconfig' successfully unpacked and MD5 sums checked\n",
      "package 'mime' successfully unpacked and MD5 sums checked\n",
      "package 'openssl' successfully unpacked and MD5 sums checked\n",
      "package 'timechange' successfully unpacked and MD5 sums checked\n",
      "package 'systemfonts' successfully unpacked and MD5 sums checked\n",
      "package 'textshaping' successfully unpacked and MD5 sums checked\n",
      "package 'clipr' successfully unpacked and MD5 sums checked\n",
      "package 'vroom' successfully unpacked and MD5 sums checked\n",
      "package 'tzdb' successfully unpacked and MD5 sums checked\n",
      "package 'progress' successfully unpacked and MD5 sums checked\n",
      "package 'callr' successfully unpacked and MD5 sums checked\n",
      "package 'fs' successfully unpacked and MD5 sums checked\n",
      "package 'knitr' successfully unpacked and MD5 sums checked\n",
      "package 'rmarkdown' successfully unpacked and MD5 sums checked\n",
      "package 'selectr' successfully unpacked and MD5 sums checked\n",
      "package 'stringi' successfully unpacked and MD5 sums checked\n",
      "package 'broom' successfully unpacked and MD5 sums checked\n",
      "package 'conflicted' successfully unpacked and MD5 sums checked\n",
      "package 'dbplyr' successfully unpacked and MD5 sums checked\n",
      "package 'dplyr' successfully unpacked and MD5 sums checked\n",
      "package 'dtplyr' successfully unpacked and MD5 sums checked\n",
      "package 'forcats' successfully unpacked and MD5 sums checked\n",
      "package 'ggplot2' successfully unpacked and MD5 sums checked\n",
      "package 'googledrive' successfully unpacked and MD5 sums checked\n",
      "package 'googlesheets4' successfully unpacked and MD5 sums checked\n",
      "package 'haven' successfully unpacked and MD5 sums checked\n",
      "package 'hms' successfully unpacked and MD5 sums checked\n",
      "package 'httr' successfully unpacked and MD5 sums checked\n",
      "package 'lubridate' successfully unpacked and MD5 sums checked\n",
      "package 'magrittr' successfully unpacked and MD5 sums checked\n",
      "package 'modelr' successfully unpacked and MD5 sums checked\n",
      "package 'purrr' successfully unpacked and MD5 sums checked\n",
      "package 'ragg' successfully unpacked and MD5 sums checked\n",
      "package 'readr' successfully unpacked and MD5 sums checked\n",
      "package 'readxl' successfully unpacked and MD5 sums checked\n",
      "package 'reprex' successfully unpacked and MD5 sums checked\n",
      "package 'rstudioapi' successfully unpacked and MD5 sums checked\n",
      "package 'rvest' successfully unpacked and MD5 sums checked\n",
      "package 'stringr' successfully unpacked and MD5 sums checked\n",
      "package 'tibble' successfully unpacked and MD5 sums checked\n",
      "package 'tidyr' successfully unpacked and MD5 sums checked\n",
      "package 'xml2' successfully unpacked and MD5 sums checked\n",
      "package 'tidyverse' successfully unpacked and MD5 sums checked\n",
      "\n",
      "The downloaded binary packages are in\n",
      "\tC:\\Users\\yamph\\AppData\\Local\\Temp\\RtmpWYQeHL\\downloaded_packages\n"
     ]
    }
   ],
   "source": [
    "install.packages(\"tidyverse\")"
   ]
  },
  {
   "cell_type": "code",
   "execution_count": 7,
   "id": "59f1bce9-29cb-4b46-b3c1-764460a5cefa",
   "metadata": {},
   "outputs": [
    {
     "name": "stderr",
     "output_type": "stream",
     "text": [
      "── \u001b[1mAttaching core tidyverse packages\u001b[22m ──────────────────────────────────────────────────────────────── tidyverse 2.0.0 ──\n",
      "\u001b[32m✔\u001b[39m \u001b[34mdplyr    \u001b[39m 1.1.4     \u001b[32m✔\u001b[39m \u001b[34mreadr    \u001b[39m 2.1.5\n",
      "\u001b[32m✔\u001b[39m \u001b[34mforcats  \u001b[39m 1.0.0     \u001b[32m✔\u001b[39m \u001b[34mstringr  \u001b[39m 1.5.1\n",
      "\u001b[32m✔\u001b[39m \u001b[34mggplot2  \u001b[39m 3.5.1     \u001b[32m✔\u001b[39m \u001b[34mtibble   \u001b[39m 3.2.1\n",
      "\u001b[32m✔\u001b[39m \u001b[34mlubridate\u001b[39m 1.9.3     \u001b[32m✔\u001b[39m \u001b[34mtidyr    \u001b[39m 1.3.1\n",
      "\u001b[32m✔\u001b[39m \u001b[34mpurrr    \u001b[39m 1.0.2     \n",
      "── \u001b[1mConflicts\u001b[22m ────────────────────────────────────────────────────────────────────────────────── tidyverse_conflicts() ──\n",
      "\u001b[31m✖\u001b[39m \u001b[34mdplyr\u001b[39m::\u001b[32mfilter()\u001b[39m masks \u001b[34mstats\u001b[39m::filter()\n",
      "\u001b[31m✖\u001b[39m \u001b[34mdplyr\u001b[39m::\u001b[32mlag()\u001b[39m    masks \u001b[34mstats\u001b[39m::lag()\n",
      "\u001b[36mℹ\u001b[39m Use the conflicted package (\u001b[3m\u001b[34m<http://conflicted.r-lib.org/>\u001b[39m\u001b[23m) to force all conflicts to become errors\n"
     ]
    },
    {
     "ename": "ERROR",
     "evalue": "Error in library(\"ggrepel\"): there is no package called 'ggrepel'\n",
     "output_type": "error",
     "traceback": [
      "Error in library(\"ggrepel\"): there is no package called 'ggrepel'\nTraceback:\n",
      "1. stop(packageNotFoundError(package, lib.loc, sys.call()))"
     ]
    }
   ],
   "source": [
    "# Importing necessary libraries\n",
    "library(\"tidyverse\")\n",
    "library(\"ggplot2\")\n",
    "library(\"ggrepel\")\n",
    "library(\"ggcorrplot\")\n",
    "library(\"DT\")"
   ]
  },
  {
   "cell_type": "markdown",
   "id": "8b5dc043-5762-4cee-9cc1-15d28f525257",
   "metadata": {},
   "source": [
    "# Dataset : COVID-19_cases_plus_census (updated)"
   ]
  },
  {
   "cell_type": "code",
   "execution_count": 193,
   "id": "612cdfee-1349-4a8f-9713-ae8b4f89427b",
   "metadata": {},
   "outputs": [],
   "source": [
    "dataset_plus_census <- read.csv(\"https://raw.githubusercontent.com/yamphurai/Project2_ClusterAnalysis/refs/heads/main/updated_COVID-19_cases_plus_census.csv\")"
   ]
  },
  {
   "cell_type": "code",
   "execution_count": 194,
   "id": "77664782-9741-4390-a520-57f682d97552",
   "metadata": {},
   "outputs": [],
   "source": [
    "#filter the dataset by Texas\n",
    "dataset_plus_census <- dataset_plus_census %>% filter(state == \"TX\")"
   ]
  },
  {
   "cell_type": "code",
   "execution_count": 195,
   "id": "cacf2d75-1995-4229-a657-1b515110394e",
   "metadata": {},
   "outputs": [
    {
     "data": {
      "text/html": [
       "<table class=\"dataframe\">\n",
       "<caption>A data.frame: 6 × 33</caption>\n",
       "<thead>\n",
       "\t<tr><th></th><th scope=col>state</th><th scope=col>state_fips_code</th><th scope=col>county_name</th><th scope=col>confirmed_cases</th><th scope=col>deaths</th><th scope=col>total_pop</th><th scope=col>male_pop</th><th scope=col>female_pop</th><th scope=col>white_pop</th><th scope=col>black_pop</th><th scope=col>⋯</th><th scope=col>male_21_49</th><th scope=col>male_50_above</th><th scope=col>female_0_20</th><th scope=col>female_21_49</th><th scope=col>female_50_above</th><th scope=col>unemployed_pop</th><th scope=col>employed_pop</th><th scope=col>commute</th><th scope=col>worked_at_home</th><th scope=col>walked_to_work</th></tr>\n",
       "\t<tr><th></th><th scope=col>&lt;chr&gt;</th><th scope=col>&lt;int&gt;</th><th scope=col>&lt;chr&gt;</th><th scope=col>&lt;int&gt;</th><th scope=col>&lt;int&gt;</th><th scope=col>&lt;int&gt;</th><th scope=col>&lt;int&gt;</th><th scope=col>&lt;int&gt;</th><th scope=col>&lt;int&gt;</th><th scope=col>&lt;int&gt;</th><th scope=col>⋯</th><th scope=col>&lt;int&gt;</th><th scope=col>&lt;int&gt;</th><th scope=col>&lt;int&gt;</th><th scope=col>&lt;int&gt;</th><th scope=col>&lt;int&gt;</th><th scope=col>&lt;int&gt;</th><th scope=col>&lt;int&gt;</th><th scope=col>&lt;int&gt;</th><th scope=col>&lt;int&gt;</th><th scope=col>&lt;int&gt;</th></tr>\n",
       "</thead>\n",
       "<tbody>\n",
       "\t<tr><th scope=row>1</th><td>TX</td><td>48</td><td>Hansford County </td><td>673</td><td>17</td><td>5532</td><td>2760</td><td>2772</td><td>2950</td><td>  4</td><td>⋯</td><td>1052</td><td> 922</td><td>858</td><td>1053</td><td> 979</td><td> 94</td><td>2394</td><td>4384</td><td>18</td><td> 70</td></tr>\n",
       "\t<tr><th scope=row>2</th><td>TX</td><td>48</td><td>Stonewall County</td><td>134</td><td> 4</td><td>1084</td><td> 555</td><td> 529</td><td> 787</td><td> 38</td><td>⋯</td><td> 113</td><td> 325</td><td>129</td><td> 112</td><td> 306</td><td> 11</td><td> 442</td><td> 836</td><td> 7</td><td>  0</td></tr>\n",
       "\t<tr><th scope=row>3</th><td>TX</td><td>48</td><td>Cochran County  </td><td>216</td><td>12</td><td>2932</td><td>1492</td><td>1440</td><td>1104</td><td> 77</td><td>⋯</td><td> 418</td><td> 536</td><td>420</td><td> 538</td><td> 548</td><td>103</td><td>1189</td><td>2274</td><td>23</td><td> 12</td></tr>\n",
       "\t<tr><th scope=row>4</th><td>TX</td><td>48</td><td>Crockett County </td><td>472</td><td>13</td><td>3836</td><td>1903</td><td>1933</td><td>1264</td><td> 35</td><td>⋯</td><td> 512</td><td> 748</td><td>584</td><td> 662</td><td> 738</td><td> 43</td><td>1733</td><td>3346</td><td>60</td><td>  0</td></tr>\n",
       "\t<tr><th scope=row>5</th><td>TX</td><td>48</td><td>McCulloch County</td><td>467</td><td>12</td><td>8145</td><td>4171</td><td>3974</td><td>5067</td><td>161</td><td>⋯</td><td>1354</td><td>1765</td><td>911</td><td>1334</td><td>1885</td><td>122</td><td>3658</td><td>6566</td><td>61</td><td>104</td></tr>\n",
       "\t<tr><th scope=row>6</th><td>TX</td><td>48</td><td>Sherman County  </td><td>118</td><td>11</td><td>3067</td><td>1590</td><td>1477</td><td>1712</td><td>  8</td><td>⋯</td><td> 582</td><td> 594</td><td>398</td><td> 577</td><td> 555</td><td> 24</td><td>1604</td><td>2930</td><td>38</td><td> 72</td></tr>\n",
       "</tbody>\n",
       "</table>\n"
      ],
      "text/latex": [
       "A data.frame: 6 × 33\n",
       "\\begin{tabular}{r|lllllllllllllllllllll}\n",
       "  & state & state\\_fips\\_code & county\\_name & confirmed\\_cases & deaths & total\\_pop & male\\_pop & female\\_pop & white\\_pop & black\\_pop & ⋯ & male\\_21\\_49 & male\\_50\\_above & female\\_0\\_20 & female\\_21\\_49 & female\\_50\\_above & unemployed\\_pop & employed\\_pop & commute & worked\\_at\\_home & walked\\_to\\_work\\\\\n",
       "  & <chr> & <int> & <chr> & <int> & <int> & <int> & <int> & <int> & <int> & <int> & ⋯ & <int> & <int> & <int> & <int> & <int> & <int> & <int> & <int> & <int> & <int>\\\\\n",
       "\\hline\n",
       "\t1 & TX & 48 & Hansford County  & 673 & 17 & 5532 & 2760 & 2772 & 2950 &   4 & ⋯ & 1052 &  922 & 858 & 1053 &  979 &  94 & 2394 & 4384 & 18 &  70\\\\\n",
       "\t2 & TX & 48 & Stonewall County & 134 &  4 & 1084 &  555 &  529 &  787 &  38 & ⋯ &  113 &  325 & 129 &  112 &  306 &  11 &  442 &  836 &  7 &   0\\\\\n",
       "\t3 & TX & 48 & Cochran County   & 216 & 12 & 2932 & 1492 & 1440 & 1104 &  77 & ⋯ &  418 &  536 & 420 &  538 &  548 & 103 & 1189 & 2274 & 23 &  12\\\\\n",
       "\t4 & TX & 48 & Crockett County  & 472 & 13 & 3836 & 1903 & 1933 & 1264 &  35 & ⋯ &  512 &  748 & 584 &  662 &  738 &  43 & 1733 & 3346 & 60 &   0\\\\\n",
       "\t5 & TX & 48 & McCulloch County & 467 & 12 & 8145 & 4171 & 3974 & 5067 & 161 & ⋯ & 1354 & 1765 & 911 & 1334 & 1885 & 122 & 3658 & 6566 & 61 & 104\\\\\n",
       "\t6 & TX & 48 & Sherman County   & 118 & 11 & 3067 & 1590 & 1477 & 1712 &   8 & ⋯ &  582 &  594 & 398 &  577 &  555 &  24 & 1604 & 2930 & 38 &  72\\\\\n",
       "\\end{tabular}\n"
      ],
      "text/markdown": [
       "\n",
       "A data.frame: 6 × 33\n",
       "\n",
       "| <!--/--> | state &lt;chr&gt; | state_fips_code &lt;int&gt; | county_name &lt;chr&gt; | confirmed_cases &lt;int&gt; | deaths &lt;int&gt; | total_pop &lt;int&gt; | male_pop &lt;int&gt; | female_pop &lt;int&gt; | white_pop &lt;int&gt; | black_pop &lt;int&gt; | ⋯ ⋯ | male_21_49 &lt;int&gt; | male_50_above &lt;int&gt; | female_0_20 &lt;int&gt; | female_21_49 &lt;int&gt; | female_50_above &lt;int&gt; | unemployed_pop &lt;int&gt; | employed_pop &lt;int&gt; | commute &lt;int&gt; | worked_at_home &lt;int&gt; | walked_to_work &lt;int&gt; |\n",
       "|---|---|---|---|---|---|---|---|---|---|---|---|---|---|---|---|---|---|---|---|---|---|\n",
       "| 1 | TX | 48 | Hansford County  | 673 | 17 | 5532 | 2760 | 2772 | 2950 |   4 | ⋯ | 1052 |  922 | 858 | 1053 |  979 |  94 | 2394 | 4384 | 18 |  70 |\n",
       "| 2 | TX | 48 | Stonewall County | 134 |  4 | 1084 |  555 |  529 |  787 |  38 | ⋯ |  113 |  325 | 129 |  112 |  306 |  11 |  442 |  836 |  7 |   0 |\n",
       "| 3 | TX | 48 | Cochran County   | 216 | 12 | 2932 | 1492 | 1440 | 1104 |  77 | ⋯ |  418 |  536 | 420 |  538 |  548 | 103 | 1189 | 2274 | 23 |  12 |\n",
       "| 4 | TX | 48 | Crockett County  | 472 | 13 | 3836 | 1903 | 1933 | 1264 |  35 | ⋯ |  512 |  748 | 584 |  662 |  738 |  43 | 1733 | 3346 | 60 |   0 |\n",
       "| 5 | TX | 48 | McCulloch County | 467 | 12 | 8145 | 4171 | 3974 | 5067 | 161 | ⋯ | 1354 | 1765 | 911 | 1334 | 1885 | 122 | 3658 | 6566 | 61 | 104 |\n",
       "| 6 | TX | 48 | Sherman County   | 118 | 11 | 3067 | 1590 | 1477 | 1712 |   8 | ⋯ |  582 |  594 | 398 |  577 |  555 |  24 | 1604 | 2930 | 38 |  72 |\n",
       "\n"
      ],
      "text/plain": [
       "  state state_fips_code county_name      confirmed_cases deaths total_pop\n",
       "1 TX    48              Hansford County  673             17     5532     \n",
       "2 TX    48              Stonewall County 134              4     1084     \n",
       "3 TX    48              Cochran County   216             12     2932     \n",
       "4 TX    48              Crockett County  472             13     3836     \n",
       "5 TX    48              McCulloch County 467             12     8145     \n",
       "6 TX    48              Sherman County   118             11     3067     \n",
       "  male_pop female_pop white_pop black_pop ⋯ male_21_49 male_50_above\n",
       "1 2760     2772       2950        4       ⋯ 1052        922         \n",
       "2  555      529        787       38       ⋯  113        325         \n",
       "3 1492     1440       1104       77       ⋯  418        536         \n",
       "4 1903     1933       1264       35       ⋯  512        748         \n",
       "5 4171     3974       5067      161       ⋯ 1354       1765         \n",
       "6 1590     1477       1712        8       ⋯  582        594         \n",
       "  female_0_20 female_21_49 female_50_above unemployed_pop employed_pop commute\n",
       "1 858         1053          979             94            2394         4384   \n",
       "2 129          112          306             11             442          836   \n",
       "3 420          538          548            103            1189         2274   \n",
       "4 584          662          738             43            1733         3346   \n",
       "5 911         1334         1885            122            3658         6566   \n",
       "6 398          577          555             24            1604         2930   \n",
       "  worked_at_home walked_to_work\n",
       "1 18              70           \n",
       "2  7               0           \n",
       "3 23              12           \n",
       "4 60               0           \n",
       "5 61             104           \n",
       "6 38              72           "
      ]
     },
     "metadata": {},
     "output_type": "display_data"
    }
   ],
   "source": [
    "# First 10 rows\n",
    "head(dataset_plus_census)"
   ]
  },
  {
   "cell_type": "code",
   "execution_count": 196,
   "id": "1e1bc55d-6cb1-4d93-9af7-9cece9aa2135",
   "metadata": {},
   "outputs": [
    {
     "data": {
      "text/html": [
       "0"
      ],
      "text/latex": [
       "0"
      ],
      "text/markdown": [
       "0"
      ],
      "text/plain": [
       "[1] 0"
      ]
     },
     "metadata": {},
     "output_type": "display_data"
    }
   ],
   "source": [
    "# Checking for missing values\n",
    "sum(is.na(dataset_plus_census))"
   ]
  },
  {
   "cell_type": "code",
   "execution_count": 197,
   "id": "a35c67c2-6882-486c-9c80-ca8637ab5433",
   "metadata": {},
   "outputs": [
    {
     "data": {
      "text/plain": [
       "    state           state_fips_code county_name        confirmed_cases \n",
       " Length:254         Min.   :48      Length:254         Min.   :     1  \n",
       " Class :character   1st Qu.:48      Class :character   1st Qu.:   487  \n",
       " Mode  :character   Median :48      Mode  :character   Median :  1310  \n",
       "                    Mean   :48                         Mean   :  8419  \n",
       "                    3rd Qu.:48                         3rd Qu.:  3502  \n",
       "                    Max.   :48                         Max.   :286356  \n",
       "     deaths          total_pop          male_pop         female_pop     \n",
       " Min.   :   0.00   Min.   :     74   Min.   :     39   Min.   :     35  \n",
       " 1st Qu.:  13.00   1st Qu.:   7072   1st Qu.:   3632   1st Qu.:   3134  \n",
       " Median :  30.00   Median :  18612   Median :   9472   Median :   9139  \n",
       " Mean   : 127.48   Mean   : 107951   Mean   :  53610   Mean   :  54341  \n",
       " 3rd Qu.:  78.75   3rd Qu.:  49295   3rd Qu.:  25014   3rd Qu.:  24443  \n",
       " Max.   :3825.00   Max.   :4525519   Max.   :2251060   Max.   :2274459  \n",
       "   white_pop         black_pop          asian_pop          hispanic_pop    \n",
       " Min.   :     55   Min.   :     0.0   Min.   :     0.00   Min.   :     12  \n",
       " 1st Qu.:   2856   1st Qu.:    95.2   1st Qu.:    11.25   1st Qu.:   1654  \n",
       " Median :   9404   Median :   676.0   Median :    73.50   Median :   5068  \n",
       " Mean   :  46282   Mean   : 12594.6   Mean   :  4814.86   Mean   :  42023  \n",
       " 3rd Qu.:  31433   3rd Qu.:  3708.5   3rd Qu.:   384.25   3rd Qu.:  13815  \n",
       " Max.   :1386576   Max.   :838285.0   Max.   :307109.00   Max.   :1910535  \n",
       " amerindian_pop   other_race_pop   median_income   income_less_50K \n",
       " Min.   :   0.0   Min.   :   0.0   Min.   :24794   Min.   :     9  \n",
       " 1st Qu.:   6.0   1st Qu.:   0.0   1st Qu.:42327   1st Qu.:  1234  \n",
       " Median :  41.0   Median :   2.5   Median :48311   Median :  3348  \n",
       " Mean   : 259.4   Mean   : 154.1   Mean   :49894   Mean   : 16364  \n",
       " 3rd Qu.: 162.2   3rd Qu.:  35.0   3rd Qu.:55741   3rd Qu.:  9082  \n",
       " Max.   :8078.0   Max.   :9681.0   Max.   :93645   Max.   :680347  \n",
       " income_50K_100K    income_100K_150K   income_150K_more   rent_under_50_percent\n",
       " Min.   :    19.0   Min.   :     0.0   Min.   :     0.0   Min.   :     7.0     \n",
       " 1st Qu.:   685.8   1st Qu.:   226.2   1st Qu.:   135.5   1st Qu.:   331.8     \n",
       " Median :  1968.5   Median :   735.5   Median :   405.0   Median :  1013.0     \n",
       " Mean   : 11096.8   Mean   :  5203.1   Mean   :  4464.0   Mean   : 10074.5     \n",
       " 3rd Qu.:  5140.0   3rd Qu.:  2100.8   3rd Qu.:  1240.0   3rd Qu.:  3245.5     \n",
       " Max.   :452938.0   Max.   :214604.0   Max.   :214924.0   Max.   :510028.0     \n",
       " rent_over_50_percent   median_age      male_0_20        male_21_49    \n",
       " Min.   :     0.0     Min.   :25.80   Min.   :     3   Min.   :    10  \n",
       " 1st Qu.:    73.5     1st Qu.:34.90   1st Qu.:  1000   1st Qu.:  1214  \n",
       " Median :   229.0     Median :38.55   Median :  2644   Median :  3442  \n",
       " Mean   :  2976.0     Mean   :39.02   Mean   : 16909   Mean   : 21895  \n",
       " 3rd Qu.:   865.2     3rd Qu.:42.90   3rd Qu.:  7210   3rd Qu.:  9216  \n",
       " Max.   :158668.0     Max.   :57.50   Max.   :716309   Max.   :972577  \n",
       " male_50_above     female_0_20      female_21_49    female_50_above \n",
       " Min.   :    29   Min.   :     4   Min.   :     8   Min.   :    23  \n",
       " 1st Qu.:  1182   1st Qu.:   912   1st Qu.:  1053   1st Qu.:  1264  \n",
       " Median :  3604   Median :  2348   Median :  2852   Median :  3866  \n",
       " Mean   : 15978   Mean   : 16145   Mean   : 21521   Mean   : 17887  \n",
       " 3rd Qu.:  9390   3rd Qu.:  6954   3rd Qu.:  8365   3rd Qu.:  9968  \n",
       " Max.   :604775   Max.   :685520   Max.   :958079   Max.   :670145  \n",
       " unemployed_pop      employed_pop        commute        worked_at_home    \n",
       " Min.   :     0.0   Min.   :     39   Min.   :     66   Min.   :    0.00  \n",
       " 1st Qu.:   138.0   1st Qu.:   2521   1st Qu.:   4642   1st Qu.:   83.25  \n",
       " Median :   481.5   Median :   7448   Median :  13079   Median :  237.50  \n",
       " Mean   :  3090.1   Mean   :  49957   Mean   :  91157   Mean   : 2213.42  \n",
       " 3rd Qu.:  1339.8   3rd Qu.:  20850   3rd Qu.:  38110   3rd Qu.:  776.75  \n",
       " Max.   :149192.0   Max.   :2180392   Max.   :3975632   Max.   :79181.00  \n",
       " walked_to_work   \n",
       " Min.   :    0.0  \n",
       " 1st Qu.:   53.0  \n",
       " Median :  122.5  \n",
       " Mean   :  768.5  \n",
       " 3rd Qu.:  362.5  \n",
       " Max.   :32750.0  "
      ]
     },
     "metadata": {},
     "output_type": "display_data"
    }
   ],
   "source": [
    "# Basic statistics\n",
    "summary(dataset_plus_census)"
   ]
  },
  {
   "cell_type": "markdown",
   "id": "36154c4e-b6f9-4705-b6a9-06d737ce6b45",
   "metadata": {},
   "source": [
    "## Scale the data"
   ]
  },
  {
   "cell_type": "code",
   "execution_count": 80,
   "id": "0d567a22-aed8-4da3-a423-923b22cf86aa",
   "metadata": {},
   "outputs": [],
   "source": [
    "# Prepare data\n",
    "dataset_cases_TX_clustering <- dataset_cases_TX %>%\n",
    "  select(county_name, confirmed_cases)"
   ]
  },
  {
   "cell_type": "code",
   "execution_count": 82,
   "id": "ad272240-4c0c-405f-8825-6c8a90bce4b0",
   "metadata": {},
   "outputs": [
    {
     "name": "stdout",
     "output_type": "stream",
     "text": [
      "'data.frame':\t254 obs. of  33 variables:\n",
      " $ state                : chr  \"TX\" \"TX\" \"TX\" \"TX\" ...\n",
      " $ state_fips_code      : int  48 48 48 48 48 48 48 48 48 48 ...\n",
      " $ county_name          : chr  \"Hansford County\" \"Stonewall County\" \"Cochran County\" \"Crockett County\" ...\n",
      " $ confirmed_cases      : int  673 134 216 472 467 118 11 114 1475 176 ...\n",
      " $ deaths               : int  17 4 12 13 12 11 0 3 46 7 ...\n",
      " $ total_pop            : int  5532 1084 2932 3836 8145 3067 289 1591 12755 1498 ...\n",
      " $ male_pop             : int  2760 555 1492 1903 4171 1590 150 796 6753 758 ...\n",
      " $ female_pop           : int  2772 529 1440 1933 3974 1477 139 795 6002 740 ...\n",
      " $ white_pop            : int  2950 787 1104 1264 5067 1712 212 964 5203 803 ...\n",
      " $ black_pop            : int  4 38 77 35 161 8 0 27 592 153 ...\n",
      " $ asian_pop            : int  0 0 0 0 0 0 0 0 0 0 ...\n",
      " $ hispanic_pop         : int  2569 246 1672 2537 2571 1327 77 513 6858 490 ...\n",
      " $ amerindian_pop       : int  6 0 6 0 1 7 0 0 31 5 ...\n",
      " $ other_race_pop       : int  0 0 0 0 202 0 0 0 0 32 ...\n",
      " $ median_income        : int  40678 46786 37500 52310 42367 54961 56964 42500 42441 33534 ...\n",
      " $ income_less_50K      : int  1162 238 603 663 1735 484 45 376 2331 428 ...\n",
      " $ income_50K_100K      : int  460 126 243 447 973 341 30 218 1233 186 ...\n",
      " $ income_100K_150K     : int  172 51 93 242 290 157 16 36 358 23 ...\n",
      " $ income_150K_more     : int  130 43 61 59 145 81 10 34 220 27 ...\n",
      " $ rent_under_50_percent: int  382 47 108 188 381 110 27 103 782 146 ...\n",
      " $ rent_over_50_percent : int  51 6 56 103 227 42 1 24 212 28 ...\n",
      " $ median_age           : num  34.9 51.9 33.5 35.5 43.5 39.8 32.7 46.4 34.6 47.6 ...\n",
      " $ male_0_20            : int  835 152 588 702 1163 463 26 198 2161 262 ...\n",
      " $ male_21_49           : int  1052 113 418 512 1354 582 82 254 2639 168 ...\n",
      " $ male_50_above        : int  922 325 536 748 1765 594 42 371 2084 370 ...\n",
      " $ female_0_20          : int  858 129 420 584 911 398 47 185 1858 149 ...\n",
      " $ female_21_49         : int  1053 112 538 662 1334 577 53 252 1995 244 ...\n",
      " $ female_50_above      : int  979 306 548 738 1885 555 42 399 2295 408 ...\n",
      " $ unemployed_pop       : int  94 11 103 43 122 24 11 48 474 78 ...\n",
      " $ employed_pop         : int  2394 442 1189 1733 3658 1604 173 729 4556 651 ...\n",
      " $ commute              : int  4384 836 2274 3346 6566 2930 316 1204 8468 1110 ...\n",
      " $ worked_at_home       : int  18 7 23 60 61 38 7 78 120 10 ...\n",
      " $ walked_to_work       : int  70 0 12 0 104 72 6 17 48 52 ...\n"
     ]
    }
   ],
   "source": [
    "# internal structure of the dataset\n",
    "str (dataset_plus_census)"
   ]
  },
  {
   "cell_type": "code",
   "execution_count": 94,
   "id": "400069d6-cca8-444c-8c23-cf117cacda9e",
   "metadata": {},
   "outputs": [
    {
     "data": {
      "text/html": [
       "254"
      ],
      "text/latex": [
       "254"
      ],
      "text/markdown": [
       "254"
      ],
      "text/plain": [
       "[1] 254"
      ]
     },
     "metadata": {},
     "output_type": "display_data"
    }
   ],
   "source": [
    "# Remove county from county names and convert them to lower case\n",
    "dataset_cases_TX_clustering <- dataset_cases_TX_clustering %>% \n",
    "    mutate(county_name = tolower(gsub(\" County\", \"\", county_name)))\n",
    "\n",
    "length(unique(dataset_cases_TX_clustering$county_name))"
   ]
  },
  {
   "cell_type": "markdown",
   "id": "d11f5f68-87aa-43bf-9720-a3aad99fa634",
   "metadata": {},
   "source": [
    "There are 254 unique Texas counties in the dataset."
   ]
  },
  {
   "cell_type": "markdown",
   "id": "b1257ebc-d14c-41b0-91ef-efb0080279c8",
   "metadata": {},
   "source": [
    "## Chosen Variables"
   ]
  },
  {
   "cell_type": "markdown",
   "id": "87f7dfd1-fc1b-4fc9-8473-557116f5ca29",
   "metadata": {},
   "source": [
    "We looked at all of the 31 feature variables that could be correlated to confirmed cases or deaths in project 1. Based on the observations made, following were the variables that seem to be highly correlated with confirmed cases.\n",
    "- Race\n",
    "- Income range\n",
    "- Age group\n",
    "\n",
    "Therefore, these variables are chosen to peform various types of cluster analysis."
   ]
  },
  {
   "cell_type": "code",
   "execution_count": 96,
   "id": "09c0e0d3-6ea3-4219-9d6b-d28a46db7778",
   "metadata": {},
   "outputs": [
    {
     "data": {
      "text/plain": [
       "   white_pop         black_pop          asian_pop          hispanic_pop    \n",
       " Min.   :     55   Min.   :     0.0   Min.   :     0.00   Min.   :     12  \n",
       " 1st Qu.:   2856   1st Qu.:    95.2   1st Qu.:    11.25   1st Qu.:   1654  \n",
       " Median :   9404   Median :   676.0   Median :    73.50   Median :   5068  \n",
       " Mean   :  46282   Mean   : 12594.6   Mean   :  4814.86   Mean   :  42023  \n",
       " 3rd Qu.:  31433   3rd Qu.:  3708.5   3rd Qu.:   384.25   3rd Qu.:  13815  \n",
       " Max.   :1386576   Max.   :838285.0   Max.   :307109.00   Max.   :1910535  \n",
       " amerindian_pop   other_race_pop   income_less_50K  income_50K_100K   \n",
       " Min.   :   0.0   Min.   :   0.0   Min.   :     9   Min.   :    19.0  \n",
       " 1st Qu.:   6.0   1st Qu.:   0.0   1st Qu.:  1234   1st Qu.:   685.8  \n",
       " Median :  41.0   Median :   2.5   Median :  3348   Median :  1968.5  \n",
       " Mean   : 259.4   Mean   : 154.1   Mean   : 16364   Mean   : 11096.8  \n",
       " 3rd Qu.: 162.2   3rd Qu.:  35.0   3rd Qu.:  9082   3rd Qu.:  5140.0  \n",
       " Max.   :8078.0   Max.   :9681.0   Max.   :680347   Max.   :452938.0  \n",
       " income_100K_150K   income_150K_more     male_0_20        male_21_49    \n",
       " Min.   :     0.0   Min.   :     0.0   Min.   :     3   Min.   :    10  \n",
       " 1st Qu.:   226.2   1st Qu.:   135.5   1st Qu.:  1000   1st Qu.:  1214  \n",
       " Median :   735.5   Median :   405.0   Median :  2644   Median :  3442  \n",
       " Mean   :  5203.1   Mean   :  4464.0   Mean   : 16909   Mean   : 21895  \n",
       " 3rd Qu.:  2100.8   3rd Qu.:  1240.0   3rd Qu.:  7210   3rd Qu.:  9216  \n",
       " Max.   :214604.0   Max.   :214924.0   Max.   :716309   Max.   :972577  \n",
       " male_50_above     female_0_20      female_21_49    female_50_above \n",
       " Min.   :    29   Min.   :     4   Min.   :     8   Min.   :    23  \n",
       " 1st Qu.:  1182   1st Qu.:   912   1st Qu.:  1053   1st Qu.:  1264  \n",
       " Median :  3604   Median :  2348   Median :  2852   Median :  3866  \n",
       " Mean   : 15978   Mean   : 16145   Mean   : 21521   Mean   : 17887  \n",
       " 3rd Qu.:  9390   3rd Qu.:  6954   3rd Qu.:  8365   3rd Qu.:  9968  \n",
       " Max.   :604775   Max.   :685520   Max.   :958079   Max.   :670145  "
      ]
     },
     "metadata": {},
     "output_type": "display_data"
    }
   ],
   "source": [
    "# Basic statistics of the chosen variables\n",
    "summary(dataset_plus_census %>% select(white_pop, black_pop, asian_pop, hispanic_pop, amerindian_pop, other_race_pop,\n",
    "                                  income_less_50K, income_50K_100K, income_100K_150K, income_150K_more,\n",
    "                                  male_0_20, male_21_49, male_50_above, female_0_20, female_21_49, female_50_above))"
   ]
  },
  {
   "cell_type": "markdown",
   "id": "ef32227f-0971-4efd-8f87-8dace04891f4",
   "metadata": {},
   "source": [
    "## K-means (Euclidean distance) for variables related to Race"
   ]
  },
  {
   "cell_type": "markdown",
   "id": "370f2f5b-034f-419a-ab0f-cdd890127b74",
   "metadata": {},
   "source": [
    "### Clustering Tendency (Hopkins Statistic)"
   ]
  },
  {
   "cell_type": "code",
   "execution_count": 127,
   "id": "6683209e-5ced-431d-8a58-dfb19d7fd66c",
   "metadata": {},
   "outputs": [
    {
     "name": "stderr",
     "output_type": "stream",
     "text": [
      "also installing the dependencies 'donut', 'pdist', 'RANN'\n",
      "\n",
      "\n"
     ]
    },
    {
     "name": "stdout",
     "output_type": "stream",
     "text": [
      "package 'donut' successfully unpacked and MD5 sums checked\n",
      "package 'pdist' successfully unpacked and MD5 sums checked\n",
      "package 'RANN' successfully unpacked and MD5 sums checked\n",
      "package 'hopkins' successfully unpacked and MD5 sums checked\n",
      "\n",
      "The downloaded binary packages are in\n",
      "\tC:\\Users\\yamph\\AppData\\Local\\Temp\\RtmpikTSpN\\downloaded_packages\n"
     ]
    }
   ],
   "source": [
    "# Installing hopkins package\n",
    "install.packages(\"hopkins\")"
   ]
  },
  {
   "cell_type": "code",
   "execution_count": 128,
   "id": "8e894ab7-c0e2-4009-931d-dd966dafd4a8",
   "metadata": {},
   "outputs": [
    {
     "name": "stderr",
     "output_type": "stream",
     "text": [
      "\n",
      "Attaching package: 'hopkins'\n",
      "\n",
      "\n",
      "The following object is masked from 'package:clustertend':\n",
      "\n",
      "    hopkins\n",
      "\n",
      "\n"
     ]
    }
   ],
   "source": [
    "library(hopkins)"
   ]
  },
  {
   "cell_type": "code",
   "execution_count": 130,
   "id": "b501e692-d935-4e1a-822d-23c54467d3fd",
   "metadata": {},
   "outputs": [
    {
     "data": {
      "text/html": [
       "0.999767670207785"
      ],
      "text/latex": [
       "0.999767670207785"
      ],
      "text/markdown": [
       "0.999767670207785"
      ],
      "text/plain": [
       "[1] 0.9997677"
      ]
     },
     "metadata": {},
     "output_type": "display_data"
    }
   ],
   "source": [
    "# Compute the Hopkins statistic\n",
    "set.seed(123) \n",
    "hopkins_stat <- hopkins(dataset_plus_census_scaled_race)\n",
    "hopkins_stat"
   ]
  },
  {
   "cell_type": "markdown",
   "id": "d125025b-f5f8-453d-a6f5-646ea367f0f5",
   "metadata": {},
   "source": [
    "This shows that there is a strong clustering tendency."
   ]
  },
  {
   "cell_type": "code",
   "execution_count": 198,
   "id": "19850136-687d-494c-804b-65bf6ba07ae9",
   "metadata": {},
   "outputs": [],
   "source": [
    "# Prepare the dataset\n",
    "dataset_plus_census_scaled_race <- dataset_plus_census %>% \n",
    "  select(white_pop, black_pop, asian_pop, hispanic_pop, amerindian_pop, other_race_pop) %>% \n",
    "  scale() %>% as_tibble()\n",
    "\n",
    "# Scale the confirmed_cases column for K-means\n",
    "dataset_plus_census_scaled_race_scaled <- scale(dataset_plus_census_scaled_race)"
   ]
  },
  {
   "cell_type": "code",
   "execution_count": 199,
   "id": "0a04660b-d16f-487f-aae1-d3779828edb8",
   "metadata": {},
   "outputs": [
    {
     "data": {
      "text/plain": [
       "   white_pop         black_pop         asian_pop        hispanic_pop    \n",
       " Min.   :-0.3380   Min.   :-0.1860   Min.   :-0.1859   Min.   :-0.2440  \n",
       " 1st Qu.:-0.3175   1st Qu.:-0.1846   1st Qu.:-0.1854   1st Qu.:-0.2344  \n",
       " Median :-0.2696   Median :-0.1760   Median :-0.1830   Median :-0.2146  \n",
       " Mean   : 0.0000   Mean   : 0.0000   Mean   : 0.0000   Mean   : 0.0000  \n",
       " 3rd Qu.:-0.1086   3rd Qu.:-0.1312   3rd Qu.:-0.1710   3rd Qu.:-0.1638  \n",
       " Max.   : 9.7996   Max.   :12.1921   Max.   :11.6697   Max.   :10.8502  \n",
       " amerindian_pop    other_race_pop   \n",
       " Min.   :-0.3382   Min.   :-0.2027  \n",
       " 1st Qu.:-0.3304   1st Qu.:-0.2027  \n",
       " Median :-0.2847   Median :-0.1994  \n",
       " Mean   : 0.0000   Mean   : 0.0000  \n",
       " 3rd Qu.:-0.1266   3rd Qu.:-0.1567  \n",
       " Max.   :10.1944   Max.   :12.5278  "
      ]
     },
     "metadata": {},
     "output_type": "display_data"
    }
   ],
   "source": [
    "summary(dataset_plus_census_scaled_race)"
   ]
  },
  {
   "cell_type": "markdown",
   "id": "105349d5-b19e-4bb1-9ca5-10da4d2c160d",
   "metadata": {},
   "source": [
    "### Average Silhouette Width"
   ]
  },
  {
   "cell_type": "code",
   "execution_count": 140,
   "id": "5d2c3a8a-8514-4625-8328-deca2f0750e9",
   "metadata": {},
   "outputs": [
    {
     "name": "stderr",
     "output_type": "stream",
     "text": [
      "also installing the dependencies 'Deriv', 'microbenchmark', 'doBy', 'SparseM', 'MatrixModels', 'minqa', 'nloptr', 'RcppEigen', 'later', 'lazyeval', 'carData', 'Formula', 'pbkrtest', 'quantreg', 'lme4', 'htmlwidgets', 'httpuv', 'crosstalk', 'promises', 'estimability', 'numDeriv', 'mvtnorm', 'corrplot', 'viridis', 'car', 'DT', 'ellipse', 'emmeans', 'flashClust', 'leaps', 'multcompView', 'scatterplot3d', 'ggsci', 'cowplot', 'ggsignif', 'gridExtra', 'polynom', 'rstatix', 'plyr', 'Rcpp', 'abind', 'dendextend', 'FactoMineR', 'ggpubr', 'reshape2', 'ggrepel'\n",
      "\n",
      "\n"
     ]
    },
    {
     "name": "stdout",
     "output_type": "stream",
     "text": [
      "package 'Deriv' successfully unpacked and MD5 sums checked\n",
      "package 'microbenchmark' successfully unpacked and MD5 sums checked\n",
      "package 'doBy' successfully unpacked and MD5 sums checked\n",
      "package 'SparseM' successfully unpacked and MD5 sums checked\n",
      "package 'MatrixModels' successfully unpacked and MD5 sums checked\n",
      "package 'minqa' successfully unpacked and MD5 sums checked\n",
      "package 'nloptr' successfully unpacked and MD5 sums checked\n",
      "package 'RcppEigen' successfully unpacked and MD5 sums checked\n",
      "package 'later' successfully unpacked and MD5 sums checked\n",
      "package 'lazyeval' successfully unpacked and MD5 sums checked\n",
      "package 'carData' successfully unpacked and MD5 sums checked\n",
      "package 'Formula' successfully unpacked and MD5 sums checked\n",
      "package 'pbkrtest' successfully unpacked and MD5 sums checked\n",
      "package 'quantreg' successfully unpacked and MD5 sums checked\n",
      "package 'lme4' successfully unpacked and MD5 sums checked\n",
      "package 'htmlwidgets' successfully unpacked and MD5 sums checked\n",
      "package 'httpuv' successfully unpacked and MD5 sums checked\n",
      "package 'crosstalk' successfully unpacked and MD5 sums checked\n",
      "package 'promises' successfully unpacked and MD5 sums checked\n",
      "package 'estimability' successfully unpacked and MD5 sums checked\n",
      "package 'numDeriv' successfully unpacked and MD5 sums checked\n",
      "package 'mvtnorm' successfully unpacked and MD5 sums checked\n",
      "package 'corrplot' successfully unpacked and MD5 sums checked\n",
      "package 'viridis' successfully unpacked and MD5 sums checked\n",
      "package 'car' successfully unpacked and MD5 sums checked\n",
      "package 'DT' successfully unpacked and MD5 sums checked\n",
      "package 'ellipse' successfully unpacked and MD5 sums checked\n",
      "package 'emmeans' successfully unpacked and MD5 sums checked\n",
      "package 'flashClust' successfully unpacked and MD5 sums checked\n",
      "package 'leaps' successfully unpacked and MD5 sums checked\n",
      "package 'multcompView' successfully unpacked and MD5 sums checked\n",
      "package 'scatterplot3d' successfully unpacked and MD5 sums checked\n",
      "package 'ggsci' successfully unpacked and MD5 sums checked\n",
      "package 'cowplot' successfully unpacked and MD5 sums checked\n",
      "package 'ggsignif' successfully unpacked and MD5 sums checked\n",
      "package 'gridExtra' successfully unpacked and MD5 sums checked\n",
      "package 'polynom' successfully unpacked and MD5 sums checked\n",
      "package 'rstatix' successfully unpacked and MD5 sums checked\n",
      "package 'plyr' successfully unpacked and MD5 sums checked\n",
      "package 'Rcpp' successfully unpacked and MD5 sums checked\n",
      "package 'abind' successfully unpacked and MD5 sums checked\n",
      "package 'dendextend' successfully unpacked and MD5 sums checked\n",
      "package 'FactoMineR' successfully unpacked and MD5 sums checked\n",
      "package 'ggpubr' successfully unpacked and MD5 sums checked\n",
      "package 'reshape2' successfully unpacked and MD5 sums checked\n",
      "package 'ggrepel' successfully unpacked and MD5 sums checked\n",
      "package 'factoextra' successfully unpacked and MD5 sums checked\n",
      "\n",
      "The downloaded binary packages are in\n",
      "\tC:\\Users\\yamph\\AppData\\Local\\Temp\\RtmpikTSpN\\downloaded_packages\n"
     ]
    },
    {
     "name": "stderr",
     "output_type": "stream",
     "text": [
      "Welcome! Want to learn more? See two factoextra-related books at https://goo.gl/ve3WBa\n",
      "\n"
     ]
    }
   ],
   "source": [
    "install.packages(\"factoextra\")\n",
    "library(cluster)\n",
    "library(factoextra)"
   ]
  },
  {
   "cell_type": "code",
   "execution_count": 200,
   "id": "263706ec-8ecb-42b3-ab88-d12083aa630b",
   "metadata": {},
   "outputs": [
    {
     "name": "stdout",
     "output_type": "stream",
     "text": [
      "[1] 2\n"
     ]
    },
    {
     "data": {
      "image/png": "[encoded data removed]",
      "text/plain": [
       "plot without title"
      ]
     },
     "metadata": {
      "image/png": {
       "height": 420,
       "width": 420
      }
     },
     "output_type": "display_data"
    }
   ],
   "source": [
    "# range for number of clusters\n",
    "ks_race <- 2:10\n",
    "\n",
    "# Average Silhouette Width\n",
    "ASW_race <- sapply(ks_race, FUN=function(k) {\n",
    "  kmeans_result <- kmeans(dataset_plus_census_scaled_race, centers = k, nstart = 10)\n",
    "  silhouette_info <- silhouette(kmeans_result$cluster, d_race)\n",
    "  mean(silhouette_info[, 3])  # Return the average silhouette width\n",
    "})\n",
    "\n",
    "# best k\n",
    "best_k_race <- ks_race[which.max(ASW_race)]\n",
    "print(best_k_race)\n",
    "\n",
    "# Plot the Average Silhouette Width\n",
    "ggplot(data.frame(ks_race, ASW_race), aes(x = ks_race, y = ASW_race)) + \n",
    "  geom_line() +\n",
    "  geom_vline(xintercept = best_k_race, color = \"red\", linetype = 2) + \n",
    "  ggtitle(\"Average Silhouette Width Plot (Race)\") +\n",
    "  xlab(\"Number of Clusters (k)\") +\n",
    "  ylab(\"Average Silhouette Width\")"
   ]
  },
  {
   "cell_type": "code",
   "execution_count": 201,
   "id": "1dfcbc81-f782-4cac-b18d-9193d3fd4653",
   "metadata": {},
   "outputs": [
    {
     "name": "stdout",
     "output_type": "stream",
     "text": [
      "  cluster size ave.sil.width\n",
      "1       1  250          0.95\n",
      "2       2    4          0.22\n"
     ]
    },
    {
     "data": {
      "image/png": "[encoded data removed]",
      "text/plain": [
       "plot without title"
      ]
     },
     "metadata": {
      "image/png": {
       "height": 420,
       "width": 420
      }
     },
     "output_type": "display_data"
    }
   ],
   "source": [
    "# K-means clustering (10 random restarts)\n",
    "k_means_race <- kmeans(dataset_plus_census_scaled_race, centers=2, nstart = 10)\n",
    "\n",
    "# distance for race\n",
    "d_race <- dist(dataset_plus_census_scaled_race)\n",
    "\n",
    "# Compute silhouette scores\n",
    "sil_race <- silhouette(k_means_race$cluster, d_race)\n",
    "\n",
    "# Basic silhouette plot\n",
    "par(mfrow = c(1, 2))  # Set up the plotting area for side-by-side\n",
    "\n",
    "# Enhanced silhouette plot using factoextra\n",
    "fviz_silhouette(sil_race) + ggtitle(\"Enhanced Silhouette Plot for Race\")"
   ]
  },
  {
   "cell_type": "markdown",
   "id": "724b16d1-55a7-4aa5-934c-c41ea947a3a8",
   "metadata": {},
   "source": [
    "### Elbow Method: Within-Cluster Sum of Square"
   ]
  },
  {
   "cell_type": "code",
   "execution_count": 202,
   "id": "642ebe3f-245c-4cb1-9021-ea0d49b8fbef",
   "metadata": {},
   "outputs": [
    {
     "data": {
      "image/png": "[encoded data removed]",
      "text/plain": [
       "plot without title"
      ]
     },
     "metadata": {
      "image/png": {
       "height": 420,
       "width": 420
      }
     },
     "output_type": "display_data"
    }
   ],
   "source": [
    "# use the same range of K \n",
    "#set.seed(1234)\n",
    "\n",
    "#Calculate within-cluster sum of squares for number of clusters\n",
    "WCSS_race <- sapply(ks_race, FUN = function(k) {\n",
    "  kmeans(d_race <- dist(dataset_plus_census_scaled_race), centers = k, nstart = 10)$tot.withinss\n",
    "  })\n",
    "\n",
    "# Plot \n",
    "ggplot(tibble(ks_race, WCSS_race), aes(ks_race, WCSS_race)) + \n",
    "  geom_line() +\n",
    "  geom_vline(xintercept = 5, color = \"red\", linetype = 2)+\n",
    "  ggtitle(\"Elbow Plot (Race)\") +\n",
    "  xlab(\"Number of Clusters (k)\") +\n",
    "  ylab(\"Within sum of squares (WCSS)\")"
   ]
  },
  {
   "cell_type": "markdown",
   "id": "488a2cc2-f166-4777-b687-30db93f1d1dc",
   "metadata": {},
   "source": [
    "This indicates that after 9 clusters, the within sum of squares seem to remain unchanged."
   ]
  },
  {
   "cell_type": "markdown",
   "id": "81806774-c299-4b59-8c35-5b44f160b3db",
   "metadata": {},
   "source": [
    "### Gap Statistic"
   ]
  },
  {
   "cell_type": "code",
   "execution_count": 204,
   "id": "2f2fdee7-fc25-41af-929b-4f368d2a1d3c",
   "metadata": {},
   "outputs": [
    {
     "name": "stderr",
     "output_type": "stream",
     "text": [
      "Warning message:\n",
      "\"did not converge in 10 iterations\"\n"
     ]
    },
    {
     "data": {
      "text/plain": [
       "Clustering Gap statistic [\"clusGap\"] from call:\n",
       "clusGap(x = dataset_plus_census_scaled_race, FUNcluster = kmeans, K.max = 20, nstart = 10)\n",
       "B=100 simulated reference sets, k = 1..20; spaceH0=\"scaledPCA\"\n",
       " --> Number of clusters (method 'firstSEmax', SE.factor=1): 1\n",
       "          logW   E.logW      gap     SE.sim\n",
       " [1,] 4.344533 6.493346 2.148813 0.02574588\n",
       " [2,] 3.996593 5.980371 1.983778 0.01895153\n",
       " [3,] 3.757887 5.755606 1.997719 0.01511626\n",
       " [4,] 3.515578 5.635034 2.119456 0.01553402\n",
       " [5,] 3.394511 5.559640 2.165128 0.01327055\n",
       " [6,] 3.242851 5.510520 2.267669 0.01258617\n",
       " [7,] 3.116279 5.469174 2.352894 0.01303596\n",
       " [8,] 3.030583 5.431049 2.400466 0.01361448\n",
       " [9,] 2.929574 5.396742 2.467168 0.01443299\n",
       "[10,] 2.852691 5.364578 2.511887 0.01522306\n",
       "[11,] 2.794372 5.334971 2.540599 0.01508347\n",
       "[12,] 2.753443 5.307551 2.554109 0.01412619\n",
       "[13,] 2.701312 5.282153 2.580841 0.01489745\n",
       "[14,] 2.666295 5.259996 2.593701 0.01477243\n",
       "[15,] 2.623518 5.238074 2.614556 0.01413328\n",
       "[16,] 2.591399 5.216177 2.624778 0.01463525\n",
       "[17,] 2.564990 5.195717 2.630727 0.01424869\n",
       "[18,] 2.548421 5.175489 2.627067 0.01447664\n",
       "[19,] 2.493746 5.157757 2.664011 0.01365040\n",
       "[20,] 2.507202 5.140468 2.633266 0.01414246"
      ]
     },
     "metadata": {},
     "output_type": "display_data"
    },
    {
     "data": {
      "image/png": "[encoded data removed]",
      "text/plain": [
       "Plot with title \"clusGap(x = dataset_plus_census_scaled_race, FUNcluster =\n",
       "       kmeans, K.max = 20, nstart = 10)\""
      ]
     },
     "metadata": {
      "image/png": {
       "height": 420,
       "width": 420
      }
     },
     "output_type": "display_data"
    }
   ],
   "source": [
    "k_race_gap <- clusGap(dataset_plus_census_scaled_race, \n",
    "             FUN = kmeans,  \n",
    "             nstart = 10, \n",
    "             K.max = 20)\n",
    "k_race_gap\n",
    "\n",
    "plot(k_race_gap)"
   ]
  },
  {
   "cell_type": "markdown",
   "id": "e7210b02-aac3-4d30-be78-5f6481dbf36d",
   "metadata": {},
   "source": [
    "Although, the elbow seem to suggest more than 2 clusters is what we need for the dataset, the gap statistic and Silhouette Width analysis indicate that 2 clusters is enough to distinctly define the dataset. There is sufficient separation among the data points in those two clusters."
   ]
  },
  {
   "cell_type": "markdown",
   "id": "8f45fe8b-a707-470e-bf79-4c7d66f668d9",
   "metadata": {},
   "source": [
    "### Inspect the clusters"
   ]
  },
  {
   "cell_type": "code",
   "execution_count": 205,
   "id": "91491af9-457f-42ff-9858-3ed7f234de2b",
   "metadata": {},
   "outputs": [],
   "source": [
    "cluster_profile_race <- ggplot(pivot_longer(as_tibble(k_means_race$centers,  rownames = \"cluster\"), \n",
    "  cols = colnames(k_means_race$centers)), \n",
    "  aes(y = name, x = value, fill = cluster)) +\n",
    "  geom_bar(stat = \"identity\") +\n",
    "  facet_grid(cols = vars(cluster)) +\n",
    "  labs(y = \"feature\", x = \"z-scores\", title = \"Cluster Profiles (Race)\") + \n",
    "  guides(fill=\"none\")\n",
    "\n",
    "#Save teh profile\n",
    "ggsave(\"cluster_profile_race.png\", plot = cluster_profile_race, width = 6, height = 2)"
   ]
  },
  {
   "cell_type": "code",
   "execution_count": 206,
   "id": "98b89ba4-2a61-4d53-ac3c-556c0fd73b8d",
   "metadata": {},
   "outputs": [
    {
     "data": {
      "image/png": "[encoded data removed]",
      "text/plain": [
       "plot without title"
      ]
     },
     "metadata": {
      "image/png": {
       "height": 420,
       "width": 420
      }
     },
     "output_type": "display_data"
    }
   ],
   "source": [
    "cluster_profile_race"
   ]
  },
  {
   "cell_type": "code",
   "execution_count": 207,
   "id": "e66c7f50-c8af-403b-9bad-9f9dd288149d",
   "metadata": {},
   "outputs": [
    {
     "data": {
      "text/plain": [
       "K-means clustering with 2 clusters of sizes 250, 4\n",
       "\n",
       "Cluster means:\n",
       "   white_pop  black_pop   asian_pop hispanic_pop amerindian_pop other_race_pop\n",
       "1 -0.1014624 -0.1058965 -0.09113562   -0.1032176     -0.1032634     -0.1048446\n",
       "2  6.3413973  6.6185312  5.69597638    6.4511009      6.4539599      6.5527855\n",
       "\n",
       "Clustering vector:\n",
       "  [1] 1 1 1 1 1 1 1 1 1 1 1 1 1 1 1 1 1 1 1 1 1 1 1 1 1 1 1 1 1 1 1 1 1 1 1 1 1\n",
       " [38] 1 1 1 1 1 1 1 1 1 1 1 1 1 1 1 1 1 1 1 1 1 1 1 1 1 1 1 1 1 1 1 1 1 1 1 1 1\n",
       " [75] 1 1 1 1 1 1 1 1 1 1 1 1 1 1 1 1 1 1 1 1 1 1 1 1 1 1 1 1 1 1 1 1 1 1 1 1 1\n",
       "[112] 1 1 1 1 1 1 1 1 1 1 1 1 1 1 1 1 1 1 1 1 1 1 1 1 1 1 1 1 1 1 1 1 1 1 1 1 1\n",
       "[149] 1 1 1 1 1 1 1 1 1 1 1 1 1 1 1 1 1 1 1 1 1 1 1 1 1 1 1 1 1 1 1 1 1 1 1 1 1\n",
       "[186] 1 1 2 1 1 1 1 1 1 1 1 1 1 1 1 1 1 1 1 1 1 1 1 1 1 1 1 1 1 1 1 1 1 1 1 1 1\n",
       "[223] 1 1 1 1 1 1 1 1 1 1 1 1 1 1 2 1 2 1 1 1 1 1 1 2 1 1 1 1 1 1 1 1\n",
       "\n",
       "Within cluster sum of squares by cluster:\n",
       "[1] 287.5953 244.1868\n",
       " (between_SS / total_SS =  65.0 %)\n",
       "\n",
       "Available components:\n",
       "\n",
       "[1] \"cluster\"      \"centers\"      \"totss\"        \"withinss\"     \"tot.withinss\"\n",
       "[6] \"betweenss\"    \"size\"         \"iter\"         \"ifault\"      "
      ]
     },
     "metadata": {},
     "output_type": "display_data"
    }
   ],
   "source": [
    "k_means_race"
   ]
  },
  {
   "cell_type": "markdown",
   "id": "f9894b12-e11f-48be-89d7-a7ffcb1b5314",
   "metadata": {},
   "source": [
    "Cluster 1: High values for all racial population features (e.g., white_pop, black_pop, asian_pop, etc.), indicating that this cluster represents a group with higher populations across these features.  \n",
    "Cluster 2: All mean values close to zero, indicating that this cluster represents a group with average population figures across the racial demographics.  \n",
    "The ratio of between_SS to total_SS is 65.0%, suggesting that the clustering structure explains a significant portion of the variability in the data.  \n",
    "Given that the first cluster has distinctly different characteristics compared to the second and that we see a clear separation in terms of average feature values, it is reasonable to conclude that two clusters are sufficient to define the dataset. The compactness and separation of the clusters suggest that they represent meaningful segments of your data."
   ]
  },
  {
   "cell_type": "markdown",
   "id": "1ca8f40d-13d2-4d2d-a23b-67768dafd598",
   "metadata": {},
   "source": [
    "### Supervised Evaluation"
   ]
  },
  {
   "cell_type": "code",
   "execution_count": 239,
   "id": "cca6cea1-7d6c-49b3-83d9-b53d463b2873",
   "metadata": {},
   "outputs": [],
   "source": [
    "# Pick median_income feature as the ground truth\n",
    "\n",
    "# Convert the median incomes into 3 categories (low is <50K, medium is 51-100K, and high 100K above)\n",
    "dataset_plus_census <- dataset_plus_census %>%\n",
    "  mutate(income_category = cut(median_income, \n",
    "                               breaks = c(-Inf, 50000, 100000, Inf), \n",
    "                               labels = c(\"low\", \"medium\", \"high\"), \n",
    "                               include.lowest = TRUE))\n",
    "\n",
    "# Extract ground truth labels\n",
    "ground_truth <- dataset_plus_census$income_category"
   ]
  },
  {
   "cell_type": "markdown",
   "id": "02f98b88-2985-47f8-9b9c-a664f07b472b",
   "metadata": {},
   "source": [
    "#### Purity"
   ]
  },
  {
   "cell_type": "code",
   "execution_count": 242,
   "id": "a7760b14-82bd-4b41-8769-5dedf60649b2",
   "metadata": {},
   "outputs": [
    {
     "name": "stdout",
     "output_type": "stream",
     "text": [
      "       truth\n",
      "cluster low medium high\n",
      "      1 147    103    0\n",
      "      2   0      4    0\n",
      "       truth\n",
      "cluster low medium high\n",
      "      1  10     11    0\n",
      "      2 137     88    0\n",
      "      3   0      7    0\n",
      "      4   0      1    0\n",
      "               corrected.rand        vi    purity\n",
      "truth              1.00000000 0.0000000 1.0000000\n",
      "k_means_race_2     0.01250452 0.7341141 0.5944882\n",
      "k_means_race_4     0.03568737 1.0536654 0.6141732\n"
     ]
    }
   ],
   "source": [
    "# Purity function\n",
    "purity <- function(cluster, truth, show_table = FALSE) {\n",
    "  if (length(cluster) != length(truth))\n",
    "    stop(\"Cluster vector and ground truth vectors are not of the same length!\")\n",
    "  \n",
    "  tbl <- table(cluster, truth)\n",
    "  if(show_table)\n",
    "    print(tbl)\n",
    "  \n",
    "  majority <- apply(tbl, 1, max)\n",
    "  sum(majority) / length(cluster)\n",
    "}\n",
    "\n",
    "# K-means clustering  (2, 4, and 6 clusters)\n",
    "k_means_race_2 <- kmeans(dataset_plus_census_scaled_race, centers=2, nstart = 10)\n",
    "k_means_race_4 <- kmeans(dataset_plus_census_scaled_race, centers=4, nstart = 10)\n",
    "\n",
    "\n",
    "#compute purity metrics\n",
    "purity_score_race_2 <- purity(k_means_race_2$cluster, ground_truth, show_table = TRUE)\n",
    "purity_score_race_4 <- purity(k_means_race_4$cluster, ground_truth, show_table = TRUE)\n",
    "\n",
    "# Comparison\n",
    "compare_race_clusterings <- rbind(\n",
    "    truth = c(unlist(fpc::cluster.stats(d_race, as.numeric(ground_truth), as.numeric(ground_truth), compareonly = TRUE)),\n",
    "              purity = purity(as.numeric(ground_truth), as.numeric(ground_truth))),\n",
    "\n",
    "    k_means_race_2 = c(unlist(fpc::cluster.stats(d_race, k_means_race_2$cluster, as.numeric(ground_truth), compareonly = TRUE)),\n",
    "                     purity = purity(k_means_race_2$cluster, as.numeric(ground_truth))),\n",
    "  \n",
    "  k_means_race_4 = c(unlist(fpc::cluster.stats(d_race, k_means_race_4$cluster, as.numeric(ground_truth), compareonly = TRUE)),\n",
    "                     purity = purity(k_means_race_4$cluster, as.numeric(ground_truth))))\n",
    "     \n",
    "# Print the comparison results\n",
    "print(compare_race_clusterings)"
   ]
  },
  {
   "cell_type": "markdown",
   "id": "8beef7bf-1d89-4263-8b26-7b2548d87fb7",
   "metadata": {},
   "source": [
    "## K-means (Euclidean distance) for variables related to income levels"
   ]
  },
  {
   "cell_type": "code",
   "execution_count": 224,
   "id": "b2302313-6cd0-480e-b715-b8b62e7ebd91",
   "metadata": {},
   "outputs": [],
   "source": [
    "# Prepare the dataset\n",
    "dataset_plus_census_income <- dataset_plus_census %>% \n",
    "  select(income_less_50K, income_50K_100K, income_100K_150K, income_150K_more) %>% \n",
    "  scale() %>% as_tibble()\n",
    "\n",
    "# Scale the columns for K-means\n",
    "dataset_plus_census_income_scaled <- scale(dataset_plus_census_income)"
   ]
  },
  {
   "cell_type": "code",
   "execution_count": 225,
   "id": "5ab38154-58b8-4434-9284-b4b83ebbe8aa",
   "metadata": {},
   "outputs": [
    {
     "data": {
      "text/html": [
       "<table class=\"dataframe\">\n",
       "<caption>A matrix: 6 × 4 of type dbl</caption>\n",
       "<thead>\n",
       "\t<tr><th scope=col>income_less_50K</th><th scope=col>income_50K_100K</th><th scope=col>income_100K_150K</th><th scope=col>income_150K_more</th></tr>\n",
       "</thead>\n",
       "<tbody>\n",
       "\t<tr><td>-0.2601184</td><td>-0.2658357</td><td>-0.2651707</td><td>-0.2344314</td></tr>\n",
       "\t<tr><td>-0.2759289</td><td>-0.2741831</td><td>-0.2715483</td><td>-0.2391374</td></tr>\n",
       "\t<tr><td>-0.2696834</td><td>-0.2712590</td><td>-0.2693346</td><td>-0.2381637</td></tr>\n",
       "\t<tr><td>-0.2686568</td><td>-0.2661606</td><td>-0.2614813</td><td>-0.2382719</td></tr>\n",
       "\t<tr><td>-0.2503138</td><td>-0.2530148</td><td>-0.2589514</td><td>-0.2336200</td></tr>\n",
       "\t<tr><td>-0.2717196</td><td>-0.2688098</td><td>-0.2659613</td><td>-0.2370819</td></tr>\n",
       "</tbody>\n",
       "</table>\n"
      ],
      "text/latex": [
       "A matrix: 6 × 4 of type dbl\n",
       "\\begin{tabular}{llll}\n",
       " income\\_less\\_50K & income\\_50K\\_100K & income\\_100K\\_150K & income\\_150K\\_more\\\\\n",
       "\\hline\n",
       "\t -0.2601184 & -0.2658357 & -0.2651707 & -0.2344314\\\\\n",
       "\t -0.2759289 & -0.2741831 & -0.2715483 & -0.2391374\\\\\n",
       "\t -0.2696834 & -0.2712590 & -0.2693346 & -0.2381637\\\\\n",
       "\t -0.2686568 & -0.2661606 & -0.2614813 & -0.2382719\\\\\n",
       "\t -0.2503138 & -0.2530148 & -0.2589514 & -0.2336200\\\\\n",
       "\t -0.2717196 & -0.2688098 & -0.2659613 & -0.2370819\\\\\n",
       "\\end{tabular}\n"
      ],
      "text/markdown": [
       "\n",
       "A matrix: 6 × 4 of type dbl\n",
       "\n",
       "| income_less_50K | income_50K_100K | income_100K_150K | income_150K_more |\n",
       "|---|---|---|---|\n",
       "| -0.2601184 | -0.2658357 | -0.2651707 | -0.2344314 |\n",
       "| -0.2759289 | -0.2741831 | -0.2715483 | -0.2391374 |\n",
       "| -0.2696834 | -0.2712590 | -0.2693346 | -0.2381637 |\n",
       "| -0.2686568 | -0.2661606 | -0.2614813 | -0.2382719 |\n",
       "| -0.2503138 | -0.2530148 | -0.2589514 | -0.2336200 |\n",
       "| -0.2717196 | -0.2688098 | -0.2659613 | -0.2370819 |\n",
       "\n"
      ],
      "text/plain": [
       "     income_less_50K income_50K_100K income_100K_150K income_150K_more\n",
       "[1,] -0.2601184      -0.2658357      -0.2651707       -0.2344314      \n",
       "[2,] -0.2759289      -0.2741831      -0.2715483       -0.2391374      \n",
       "[3,] -0.2696834      -0.2712590      -0.2693346       -0.2381637      \n",
       "[4,] -0.2686568      -0.2661606      -0.2614813       -0.2382719      \n",
       "[5,] -0.2503138      -0.2530148      -0.2589514       -0.2336200      \n",
       "[6,] -0.2717196      -0.2688098      -0.2659613       -0.2370819      "
      ]
     },
     "metadata": {},
     "output_type": "display_data"
    }
   ],
   "source": [
    "head(dataset_plus_census_income_scaled)"
   ]
  },
  {
   "cell_type": "code",
   "execution_count": 226,
   "id": "2eb7ad38-5f5d-42f9-a0c6-203ae0575043",
   "metadata": {},
   "outputs": [
    {
     "data": {
      "text/plain": [
       " income_less_50K   income_50K_100K   income_100K_150K  income_150K_more \n",
       " Min.   :-0.2798   Min.   :-0.2769   Min.   :-0.2742   Min.   :-0.2415  \n",
       " 1st Qu.:-0.2589   1st Qu.:-0.2602   1st Qu.:-0.2623   1st Qu.:-0.2341  \n",
       " Median :-0.2227   Median :-0.2281   Median :-0.2355   Median :-0.2196  \n",
       " Mean   : 0.0000   Mean   : 0.0000   Mean   : 0.0000   Mean   : 0.0000  \n",
       " 3rd Qu.:-0.1246   3rd Qu.:-0.1489   3rd Qu.:-0.1635   3rd Qu.:-0.1744  \n",
       " Max.   :11.3614   Max.   :11.0425   Max.   :11.0368   Max.   :11.3841  "
      ]
     },
     "metadata": {},
     "output_type": "display_data"
    }
   ],
   "source": [
    "summary(dataset_plus_census_income_scaled)"
   ]
  },
  {
   "cell_type": "markdown",
   "id": "41ccb14a-ae69-41d0-9b25-89194103ebe5",
   "metadata": {},
   "source": [
    "Mean is 0 for all columns. Min and max is similar to all columns. So scaling is good."
   ]
  },
  {
   "cell_type": "markdown",
   "id": "8483e88d-f10c-4094-848a-b8a043d22f44",
   "metadata": {},
   "source": [
    "### Clustering Tendency (Hopkins Statistic)"
   ]
  },
  {
   "cell_type": "code",
   "execution_count": 227,
   "id": "dd1467c9-6f42-4294-9c4e-d0b1e4edc55a",
   "metadata": {},
   "outputs": [
    {
     "data": {
      "text/html": [
       "0.999987103650751"
      ],
      "text/latex": [
       "0.999987103650751"
      ],
      "text/markdown": [
       "0.999987103650751"
      ],
      "text/plain": [
       "[1] 0.9999871"
      ]
     },
     "metadata": {},
     "output_type": "display_data"
    }
   ],
   "source": [
    "# Compute the Hopkins statistic\n",
    "set.seed(123) \n",
    "hopkins_stat_income <- hopkins(dataset_plus_census_income_scaled)\n",
    "hopkins_stat_income"
   ]
  },
  {
   "cell_type": "markdown",
   "id": "9606a8ba-3073-4f32-a84d-542c59656481",
   "metadata": {},
   "source": [
    "This shows that there is a strong clustering tendency."
   ]
  },
  {
   "cell_type": "code",
   "execution_count": 228,
   "id": "75e059dc-8cd4-4507-b99a-df91e7fe07a6",
   "metadata": {},
   "outputs": [
    {
     "data": {
      "image/png": "[encoded data removed]",
      "text/plain": [
       "plot without title"
      ]
     },
     "metadata": {
      "image/png": {
       "height": 420,
       "width": 420
      }
     },
     "output_type": "display_data"
    },
    {
     "data": {
      "image/png": "[encoded data removed]",
      "text/plain": [
       "plot without title"
      ]
     },
     "metadata": {
      "image/png": {
       "height": 420,
       "width": 420
      }
     },
     "output_type": "display_data"
    }
   ],
   "source": [
    "# K-means clustering (10 random restarts)\n",
    "k_means_income <- kmeans(dataset_plus_census_income_scaled, centers=2, nstart = 10)\n",
    "\n",
    "# distance for incomes\n",
    "d_income <- dist(dataset_plus_census_income_scaled)\n",
    "\n",
    "# Create ggdissplot\n",
    "diss_plot_incomes <- ggdissplot(d_income, labels = k_means_income$cluster) +\n",
    "  ggtitle(\"Distance Matrix - K-means Clustering for incomes\") +\n",
    "  theme_minimal()\n",
    "\n",
    "# Create factoextra plot\n",
    "fviz_plot_incomes <- fviz_dist(d_income) +\n",
    "  ggtitle(\"Distance Plot - factoextra for incomes\") +\n",
    "  theme_minimal()\n",
    "\n",
    "diss_plot_incomes\n",
    "fviz_plot_incomes"
   ]
  },
  {
   "cell_type": "markdown",
   "id": "a08e0496-7185-47fa-ae3c-3e904bb9c537",
   "metadata": {},
   "source": [
    "Looking at the plots, it looks like 2 clusters are enough."
   ]
  },
  {
   "cell_type": "markdown",
   "id": "8af63c92-7aec-46f7-9de9-e8c06082fe64",
   "metadata": {},
   "source": [
    "### Average Silhouette Width"
   ]
  },
  {
   "cell_type": "code",
   "execution_count": 229,
   "id": "165f5190-0c1d-499b-84ec-11347b1da863",
   "metadata": {},
   "outputs": [
    {
     "data": {
      "text/html": [
       "2"
      ],
      "text/latex": [
       "2"
      ],
      "text/markdown": [
       "2"
      ],
      "text/plain": [
       "[1] 2"
      ]
     },
     "metadata": {},
     "output_type": "display_data"
    },
    {
     "data": {
      "image/png": "[encoded data removed]",
      "text/plain": [
       "plot without title"
      ]
     },
     "metadata": {
      "image/png": {
       "height": 420,
       "width": 420
      }
     },
     "output_type": "display_data"
    }
   ],
   "source": [
    "# range for number of clusters\n",
    "ks_income <- 2:10\n",
    "\n",
    "# Average Silhouette Width\n",
    "ASW_income <- sapply(ks_income, FUN=function(k) {\n",
    "  kmeans_result <- kmeans(dataset_plus_census_income_scaled, centers = k, nstart = 10)\n",
    "  silhouette_info <- silhouette(kmeans_result$cluster, d_income)\n",
    "  mean(silhouette_info[, 3])  # Return the average silhouette width\n",
    "})\n",
    "\n",
    "# best k\n",
    "best_k_income <- ks_income[which.max(ASW_income)]\n",
    "best_k_income\n",
    "\n",
    "# Plot the Average Silhouette Width\n",
    "ggplot(data.frame(ks_income, ASW_income), aes(x = ks_income, y = ASW_income)) + \n",
    "  geom_line() +\n",
    "  geom_vline(xintercept = best_k_income, color = \"red\", linetype = 2) + \n",
    "  ggtitle(\"Average Silhouette Width Plot (Income)\") +\n",
    "  xlab(\"Number of Clusters (k)\") +\n",
    "  ylab(\"Average Silhouette Width\")"
   ]
  },
  {
   "cell_type": "code",
   "execution_count": 230,
   "id": "1b72daa3-abca-44e9-ad7e-14f04841fd62",
   "metadata": {},
   "outputs": [
    {
     "name": "stdout",
     "output_type": "stream",
     "text": [
      "  cluster size ave.sil.width\n",
      "1       1  249          0.96\n",
      "2       2    5          0.34\n"
     ]
    },
    {
     "data": {
      "image/png": "[encoded data removed]",
      "text/plain": [
       "plot without title"
      ]
     },
     "metadata": {
      "image/png": {
       "height": 420,
       "width": 420
      }
     },
     "output_type": "display_data"
    }
   ],
   "source": [
    "# K-means clustering (10 random restarts)\n",
    "k_means_income <- kmeans(dataset_plus_census_income_scaled, centers=2, nstart = 10)\n",
    "\n",
    "# Compute silhouette scores\n",
    "sil_income <- silhouette(k_means_income$cluster, d_income)\n",
    "\n",
    "# Enhanced silhouette plot using factoextra\n",
    "fviz_silhouette(sil_income) + ggtitle(\"Enhanced Silhouette Plot for Income\")"
   ]
  },
  {
   "cell_type": "markdown",
   "id": "7e9a5b09-029c-43b5-ba05-0c4464210213",
   "metadata": {},
   "source": [
    "## K-means (Euclidean distance) for variables related to age ranges for both genders"
   ]
  },
  {
   "cell_type": "code",
   "execution_count": 223,
   "id": "1688d009-3f52-4073-955d-33678b4d8c4c",
   "metadata": {},
   "outputs": [
    {
     "data": {
      "text/html": [
       "<table class=\"dataframe\">\n",
       "<caption>A matrix: 6 × 6 of type dbl</caption>\n",
       "<thead>\n",
       "\t<tr><th scope=col>male_0_20</th><th scope=col>male_21_49</th><th scope=col>male_50_above</th><th scope=col>female_0_20</th><th scope=col>female_21_49</th><th scope=col>female_50_above</th></tr>\n",
       "</thead>\n",
       "<tbody>\n",
       "\t<tr><td>-0.2612117</td><td>-0.2523913</td><td>-0.2860831</td><td>-0.2590497</td><td>-0.2488105</td><td>-0.2855535</td></tr>\n",
       "\t<tr><td>-0.2723111</td><td>-0.2637618</td><td>-0.2974268</td><td>-0.2714028</td><td>-0.2602491</td><td>-0.2969196</td></tr>\n",
       "\t<tr><td>-0.2652257</td><td>-0.2600685</td><td>-0.2934176</td><td>-0.2664717</td><td>-0.2550707</td><td>-0.2928325</td></tr>\n",
       "\t<tr><td>-0.2633731</td><td>-0.2589302</td><td>-0.2893893</td><td>-0.2636927</td><td>-0.2535634</td><td>-0.2896236</td></tr>\n",
       "\t<tr><td>-0.2558814</td><td>-0.2487343</td><td>-0.2700652</td><td>-0.2581516</td><td>-0.2453947</td><td>-0.2702523</td></tr>\n",
       "\t<tr><td>-0.2672570</td><td>-0.2580826</td><td>-0.2923155</td><td>-0.2668445</td><td>-0.2545966</td><td>-0.2927143</td></tr>\n",
       "</tbody>\n",
       "</table>\n"
      ],
      "text/latex": [
       "A matrix: 6 × 6 of type dbl\n",
       "\\begin{tabular}{llllll}\n",
       " male\\_0\\_20 & male\\_21\\_49 & male\\_50\\_above & female\\_0\\_20 & female\\_21\\_49 & female\\_50\\_above\\\\\n",
       "\\hline\n",
       "\t -0.2612117 & -0.2523913 & -0.2860831 & -0.2590497 & -0.2488105 & -0.2855535\\\\\n",
       "\t -0.2723111 & -0.2637618 & -0.2974268 & -0.2714028 & -0.2602491 & -0.2969196\\\\\n",
       "\t -0.2652257 & -0.2600685 & -0.2934176 & -0.2664717 & -0.2550707 & -0.2928325\\\\\n",
       "\t -0.2633731 & -0.2589302 & -0.2893893 & -0.2636927 & -0.2535634 & -0.2896236\\\\\n",
       "\t -0.2558814 & -0.2487343 & -0.2700652 & -0.2581516 & -0.2453947 & -0.2702523\\\\\n",
       "\t -0.2672570 & -0.2580826 & -0.2923155 & -0.2668445 & -0.2545966 & -0.2927143\\\\\n",
       "\\end{tabular}\n"
      ],
      "text/markdown": [
       "\n",
       "A matrix: 6 × 6 of type dbl\n",
       "\n",
       "| male_0_20 | male_21_49 | male_50_above | female_0_20 | female_21_49 | female_50_above |\n",
       "|---|---|---|---|---|---|\n",
       "| -0.2612117 | -0.2523913 | -0.2860831 | -0.2590497 | -0.2488105 | -0.2855535 |\n",
       "| -0.2723111 | -0.2637618 | -0.2974268 | -0.2714028 | -0.2602491 | -0.2969196 |\n",
       "| -0.2652257 | -0.2600685 | -0.2934176 | -0.2664717 | -0.2550707 | -0.2928325 |\n",
       "| -0.2633731 | -0.2589302 | -0.2893893 | -0.2636927 | -0.2535634 | -0.2896236 |\n",
       "| -0.2558814 | -0.2487343 | -0.2700652 | -0.2581516 | -0.2453947 | -0.2702523 |\n",
       "| -0.2672570 | -0.2580826 | -0.2923155 | -0.2668445 | -0.2545966 | -0.2927143 |\n",
       "\n"
      ],
      "text/plain": [
       "     male_0_20  male_21_49 male_50_above female_0_20 female_21_49\n",
       "[1,] -0.2612117 -0.2523913 -0.2860831    -0.2590497  -0.2488105  \n",
       "[2,] -0.2723111 -0.2637618 -0.2974268    -0.2714028  -0.2602491  \n",
       "[3,] -0.2652257 -0.2600685 -0.2934176    -0.2664717  -0.2550707  \n",
       "[4,] -0.2633731 -0.2589302 -0.2893893    -0.2636927  -0.2535634  \n",
       "[5,] -0.2558814 -0.2487343 -0.2700652    -0.2581516  -0.2453947  \n",
       "[6,] -0.2672570 -0.2580826 -0.2923155    -0.2668445  -0.2545966  \n",
       "     female_50_above\n",
       "[1,] -0.2855535     \n",
       "[2,] -0.2969196     \n",
       "[3,] -0.2928325     \n",
       "[4,] -0.2896236     \n",
       "[5,] -0.2702523     \n",
       "[6,] -0.2927143     "
      ]
     },
     "metadata": {},
     "output_type": "display_data"
    }
   ],
   "source": [
    "# Prepare the dataset\n",
    "dataset_plus_census_age <- dataset_plus_census %>% \n",
    "  select(male_0_20, male_21_49, male_50_above, female_0_20, female_21_49, female_50_above) %>% \n",
    "  scale() %>% as_tibble()\n",
    "\n",
    "# Scale the columns for K-means\n",
    "dataset_plus_census_age_scaled <- scale(dataset_plus_census_age)\n",
    "\n",
    "head(dataset_plus_census_age_scaled)"
   ]
  },
  {
   "cell_type": "code",
   "execution_count": 231,
   "id": "98f48e1a-bc7e-4b1b-96ad-f9b6fc62802e",
   "metadata": {},
   "outputs": [
    {
     "data": {
      "text/plain": [
       "   male_0_20         male_21_49      male_50_above      female_0_20     \n",
       " Min.   :-0.2747   Min.   :-0.2650   Min.   :-0.3031   Min.   :-0.2735  \n",
       " 1st Qu.:-0.2585   1st Qu.:-0.2504   1st Qu.:-0.2811   1st Qu.:-0.2581  \n",
       " Median :-0.2318   Median :-0.2235   Median :-0.2351   Median :-0.2338  \n",
       " Mean   : 0.0000   Mean   : 0.0000   Mean   : 0.0000   Mean   : 0.0000  \n",
       " 3rd Qu.:-0.1576   3rd Qu.:-0.1535   3rd Qu.:-0.1252   3rd Qu.:-0.1558  \n",
       " Max.   :11.3659   Max.   :11.5120   Max.   :11.1878   Max.   :11.3428  \n",
       "  female_21_49     female_50_above  \n",
       " Min.   :-0.2615   Min.   :-0.3017  \n",
       " 1st Qu.:-0.2488   1st Qu.:-0.2807  \n",
       " Median :-0.2269   Median :-0.2368  \n",
       " Mean   : 0.0000   Mean   : 0.0000  \n",
       " 3rd Qu.:-0.1599   3rd Qu.:-0.1337  \n",
       " Max.   :11.3846   Max.   :11.0158  "
      ]
     },
     "metadata": {},
     "output_type": "display_data"
    }
   ],
   "source": [
    "summary(dataset_plus_census_age_scaled)"
   ]
  },
  {
   "cell_type": "markdown",
   "id": "c29c5c3f-f67d-44e6-943b-df30151dccb7",
   "metadata": {},
   "source": [
    "### Clustering Tendency (Hopkins Statistic)"
   ]
  },
  {
   "cell_type": "code",
   "execution_count": 232,
   "id": "77ec2a01-f290-46f6-bdc6-a239cea2e6e2",
   "metadata": {},
   "outputs": [
    {
     "data": {
      "text/html": [
       "0.999999997872383"
      ],
      "text/latex": [
       "0.999999997872383"
      ],
      "text/markdown": [
       "0.999999997872383"
      ],
      "text/plain": [
       "[1] 1"
      ]
     },
     "metadata": {},
     "output_type": "display_data"
    }
   ],
   "source": [
    "# Compute the Hopkins statistic\n",
    "set.seed(123) \n",
    "hopkins_stat_age <- hopkins(dataset_plus_census_age_scaled)\n",
    "hopkins_stat_age"
   ]
  },
  {
   "cell_type": "markdown",
   "id": "7dd11c24-a5a1-4c8d-af12-3f1c249894b3",
   "metadata": {},
   "source": [
    "This shows that there is a strong clustering tendency."
   ]
  },
  {
   "cell_type": "code",
   "execution_count": 235,
   "id": "ae220618-b97e-4a8b-995e-243c26f95d49",
   "metadata": {},
   "outputs": [
    {
     "data": {
      "image/png": "[encoded data removed]",
      "text/plain": [
       "plot without title"
      ]
     },
     "metadata": {
      "image/png": {
       "height": 420,
       "width": 420
      }
     },
     "output_type": "display_data"
    },
    {
     "data": {
      "image/png": "[encoded data removed]",
      "text/plain": [
       "plot without title"
      ]
     },
     "metadata": {
      "image/png": {
       "height": 420,
       "width": 420
      }
     },
     "output_type": "display_data"
    }
   ],
   "source": [
    "# K-means clustering (10 random restarts)\n",
    "k_means_age <- kmeans(dataset_plus_census_age_scaled, centers=4, nstart = 10)\n",
    "\n",
    "# distance for incomes\n",
    "d_age <- dist(dataset_plus_census_age_scaled)\n",
    "\n",
    "# Create ggdissplot\n",
    "diss_plot_age <- ggdissplot(d_age, labels = k_means_age$cluster) +\n",
    "  ggtitle(\"Distance Matrix - K-means Clustering for age ranges (male+female)\") +\n",
    "  theme_minimal()\n",
    "\n",
    "# Create factoextra plot\n",
    "fviz_plot_age <- fviz_dist(d_age) +\n",
    "  ggtitle(\"Distance Plot - factoextra for age ranges (male+female)\") +\n",
    "  theme_minimal()\n",
    "\n",
    "diss_plot_age\n",
    "fviz_plot_age"
   ]
  },
  {
   "cell_type": "markdown",
   "id": "5fdfb877-816c-4567-b364-7f0e41055bec",
   "metadata": {},
   "source": [
    "Looking at the plots, it looks like 4 clusters are enough."
   ]
  },
  {
   "cell_type": "markdown",
   "id": "58b8a08e-fc80-4574-9614-1e012ca17f7b",
   "metadata": {},
   "source": [
    "### Average Silhouette Width"
   ]
  },
  {
   "cell_type": "code",
   "execution_count": 237,
   "id": "ceaff1a3-179b-42a8-aa88-edaa9ba152ff",
   "metadata": {},
   "outputs": [
    {
     "name": "stderr",
     "output_type": "stream",
     "text": [
      "Warning message:\n",
      "\"did not converge in 10 iterations\"\n",
      "Warning message:\n",
      "\"did not converge in 10 iterations\"\n"
     ]
    },
    {
     "data": {
      "text/html": [
       "2"
      ],
      "text/latex": [
       "2"
      ],
      "text/markdown": [
       "2"
      ],
      "text/plain": [
       "[1] 2"
      ]
     },
     "metadata": {},
     "output_type": "display_data"
    },
    {
     "data": {
      "image/png": "[encoded data removed]",
      "text/plain": [
       "plot without title"
      ]
     },
     "metadata": {
      "image/png": {
       "height": 420,
       "width": 420
      }
     },
     "output_type": "display_data"
    }
   ],
   "source": [
    "# range for number of clusters\n",
    "ks_age <- 2:20\n",
    "\n",
    "# Average Silhouette Width\n",
    "ASW_age <- sapply(ks_age, FUN=function(k) {\n",
    "  kmeans_result <- kmeans(dataset_plus_census_age_scaled, centers = k, nstart = 10)\n",
    "  silhouette_info <- silhouette(kmeans_result$cluster, d_age)\n",
    "  mean(silhouette_info[, 3])  # Return the average silhouette width\n",
    "})\n",
    "\n",
    "# best k\n",
    "best_k_age <- ks_age[which.max(ASW_age)]\n",
    "best_k_age\n",
    "\n",
    "# Plot the Average Silhouette Width\n",
    "ggplot(data.frame(ks_age, ASW_age), aes(x = ks_age, y = ASW_age)) + \n",
    "  geom_line() +\n",
    "  geom_vline(xintercept = best_k_age, color = \"red\", linetype = 2) + \n",
    "  ggtitle(\"Average Silhouette Width Plot (Age)\") +\n",
    "  xlab(\"Number of Clusters (k)\") +\n",
    "  ylab(\"Average Silhouette Width\")"
   ]
  },
  {
   "cell_type": "code",
   "execution_count": 238,
   "id": "4ae3faba-c985-471e-bb1b-a7915ed901ae",
   "metadata": {},
   "outputs": [
    {
     "name": "stdout",
     "output_type": "stream",
     "text": [
      "  cluster size ave.sil.width\n",
      "1       1    9          0.54\n",
      "2       2    1          0.00\n",
      "3       3  241          0.91\n",
      "4       4    3          0.69\n"
     ]
    },
    {
     "data": {
      "image/png": "[encoded data removed]",
      "text/plain": [
       "plot without title"
      ]
     },
     "metadata": {
      "image/png": {
       "height": 420,
       "width": 420
      }
     },
     "output_type": "display_data"
    }
   ],
   "source": [
    "# K-means clustering (10 random restarts)\n",
    "k_means_age <- kmeans(dataset_plus_census_age_scaled, centers=4, nstart = 10)\n",
    "\n",
    "# Compute silhouette scores\n",
    "sil_age <- silhouette(k_means_age$cluster, d_age)\n",
    "\n",
    "# Enhanced silhouette plot using factoextra\n",
    "fviz_silhouette(sil_age) + ggtitle(\"Enhanced Silhouette Plot for Age ranges\")"
   ]
  },
  {
   "cell_type": "markdown",
   "id": "84db36e5-5612-4d8d-bd98-affef742c9a2",
   "metadata": {},
   "source": [
    "## Third Clustering"
   ]
  },
  {
   "cell_type": "markdown",
   "id": "56358780-73f1-48ed-be2c-246f7c3c04f9",
   "metadata": {},
   "source": [
    "## Fourth Clustering"
   ]
  },
  {
   "cell_type": "code",
   "execution_count": null,
   "id": "429ffbc1-c02e-486a-a987-f32becba611d",
   "metadata": {},
   "outputs": [],
   "source": []
  }
 ],
 "metadata": {
  "kernelspec": {
   "display_name": "R",
   "language": "R",
   "name": "ir"
  },
  "language_info": {
   "codemirror_mode": "r",
   "file_extension": ".r",
   "mimetype": "text/x-r-source",
   "name": "R",
   "pygments_lexer": "r",
   "version": "4.4.1"
  }
 },
 "nbformat": 4,
 "nbformat_minor": 5
}
