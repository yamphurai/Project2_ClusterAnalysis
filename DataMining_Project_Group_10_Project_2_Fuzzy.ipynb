{
 "cells": [
  {
   "cell_type": "markdown",
   "id": "0215293a-2f69-4dd3-bda8-2b8abbaba20d",
   "metadata": {},
   "source": [
    "# Project Group 10\n",
    "<br>Name: Abhilash Narayanan\n",
    "<br>ID: 49078178"
   ]
  },
  {
   "cell_type": "code",
   "execution_count": 2,
   "id": "1a341526-065a-48dd-8582-eb314082fc77",
   "metadata": {},
   "outputs": [
    {
     "name": "stdout",
     "output_type": "stream",
     "text": [
      "package 'tidyverse' successfully unpacked and MD5 sums checked\n",
      "\n",
      "The downloaded binary packages are in\n",
      "\tC:\\Users\\abhil\\AppData\\Local\\Temp\\RtmpiEJodd\\downloaded_packages\n",
      "package 'cluster' successfully unpacked and MD5 sums checked\n"
     ]
    },
    {
     "name": "stderr",
     "output_type": "stream",
     "text": [
      "Warning message:\n",
      "\"cannot remove prior installation of package 'cluster'\"\n",
      "Warning message in file.copy(savedcopy, lib, recursive = TRUE):\n",
      "\"problem copying C:\\Users\\abhil\\anaconda3\\envs\\DatamIning2\\Lib\\R\\library\\00LOCK\\cluster\\libs\\x64\\cluster.dll to C:\\Users\\abhil\\anaconda3\\envs\\DatamIning2\\Lib\\R\\library\\cluster\\libs\\x64\\cluster.dll: Permission denied\"\n",
      "Warning message:\n",
      "\"restored 'cluster'\"\n"
     ]
    },
    {
     "name": "stdout",
     "output_type": "stream",
     "text": [
      "\n",
      "The downloaded binary packages are in\n",
      "\tC:\\Users\\abhil\\AppData\\Local\\Temp\\RtmpiEJodd\\downloaded_packages\n",
      "package 'factoextra' successfully unpacked and MD5 sums checked\n",
      "\n",
      "The downloaded binary packages are in\n",
      "\tC:\\Users\\abhil\\AppData\\Local\\Temp\\RtmpiEJodd\\downloaded_packages\n",
      "package 'dbscan' successfully unpacked and MD5 sums checked\n"
     ]
    },
    {
     "name": "stderr",
     "output_type": "stream",
     "text": [
      "Warning message:\n",
      "\"cannot remove prior installation of package 'dbscan'\"\n",
      "Warning message in file.copy(savedcopy, lib, recursive = TRUE):\n",
      "\"problem copying C:\\Users\\abhil\\anaconda3\\envs\\DatamIning2\\Lib\\R\\library\\00LOCK\\dbscan\\libs\\x64\\dbscan.dll to C:\\Users\\abhil\\anaconda3\\envs\\DatamIning2\\Lib\\R\\library\\dbscan\\libs\\x64\\dbscan.dll: Permission denied\"\n",
      "Warning message:\n",
      "\"restored 'dbscan'\"\n"
     ]
    },
    {
     "name": "stdout",
     "output_type": "stream",
     "text": [
      "\n",
      "The downloaded binary packages are in\n",
      "\tC:\\Users\\abhil\\AppData\\Local\\Temp\\RtmpiEJodd\\downloaded_packages\n",
      "package 'funtimes' successfully unpacked and MD5 sums checked\n",
      "\n",
      "The downloaded binary packages are in\n",
      "\tC:\\Users\\abhil\\AppData\\Local\\Temp\\RtmpiEJodd\\downloaded_packages\n",
      "package 'clValid' successfully unpacked and MD5 sums checked\n",
      "\n",
      "The downloaded binary packages are in\n",
      "\tC:\\Users\\abhil\\AppData\\Local\\Temp\\RtmpiEJodd\\downloaded_packages\n",
      "package 'e1071' successfully unpacked and MD5 sums checked\n"
     ]
    },
    {
     "name": "stderr",
     "output_type": "stream",
     "text": [
      "Warning message:\n",
      "\"cannot remove prior installation of package 'e1071'\"\n",
      "Warning message in file.copy(savedcopy, lib, recursive = TRUE):\n",
      "\"problem copying C:\\Users\\abhil\\anaconda3\\envs\\DatamIning2\\Lib\\R\\library\\00LOCK\\e1071\\libs\\x64\\e1071.dll to C:\\Users\\abhil\\anaconda3\\envs\\DatamIning2\\Lib\\R\\library\\e1071\\libs\\x64\\e1071.dll: Permission denied\"\n",
      "Warning message:\n",
      "\"restored 'e1071'\"\n"
     ]
    },
    {
     "name": "stdout",
     "output_type": "stream",
     "text": [
      "\n",
      "The downloaded binary packages are in\n",
      "\tC:\\Users\\abhil\\AppData\\Local\\Temp\\RtmpiEJodd\\downloaded_packages\n"
     ]
    }
   ],
   "source": [
    "install.packages(\"tidyverse\")\n",
    "install.packages(\"cluster\")\n",
    "install.packages(\"factoextra\")\n",
    "install.packages(\"dbscan\")\n",
    "install.packages(\"funtimes\")\n",
    "install.packages(\"clValid\")\n",
    "install.packages(\"e1071\")"
   ]
  },
  {
   "cell_type": "code",
   "execution_count": 3,
   "id": "0ed47ce7-3c4e-43a3-92ea-7849231e0a2b",
   "metadata": {},
   "outputs": [
    {
     "name": "stderr",
     "output_type": "stream",
     "text": [
      "Warning message:\n",
      "\"package 'tidyverse' was built under R version 4.4.2\"\n",
      "── \u001b[1mAttaching core tidyverse packages\u001b[22m ──────────────────────── tidyverse 2.0.0 ──\n",
      "\u001b[32m✔\u001b[39m \u001b[34mdplyr    \u001b[39m 1.1.4     \u001b[32m✔\u001b[39m \u001b[34mreadr    \u001b[39m 2.1.5\n",
      "\u001b[32m✔\u001b[39m \u001b[34mforcats  \u001b[39m 1.0.0     \u001b[32m✔\u001b[39m \u001b[34mstringr  \u001b[39m 1.5.1\n",
      "\u001b[32m✔\u001b[39m \u001b[34mggplot2  \u001b[39m 3.5.1     \u001b[32m✔\u001b[39m \u001b[34mtibble   \u001b[39m 3.2.1\n",
      "\u001b[32m✔\u001b[39m \u001b[34mlubridate\u001b[39m 1.9.3     \u001b[32m✔\u001b[39m \u001b[34mtidyr    \u001b[39m 1.3.1\n",
      "\u001b[32m✔\u001b[39m \u001b[34mpurrr    \u001b[39m 1.0.2     \n",
      "── \u001b[1mConflicts\u001b[22m ────────────────────────────────────────── tidyverse_conflicts() ──\n",
      "\u001b[31m✖\u001b[39m \u001b[34mdplyr\u001b[39m::\u001b[32mfilter()\u001b[39m masks \u001b[34mstats\u001b[39m::filter()\n",
      "\u001b[31m✖\u001b[39m \u001b[34mdplyr\u001b[39m::\u001b[32mlag()\u001b[39m    masks \u001b[34mstats\u001b[39m::lag()\n",
      "\u001b[36mℹ\u001b[39m Use the conflicted package (\u001b[3m\u001b[34m<http://conflicted.r-lib.org/>\u001b[39m\u001b[23m) to force all conflicts to become errors\n",
      "Warning message:\n",
      "\"package 'ggrepel' was built under R version 4.4.2\"\n",
      "Warning message:\n",
      "\"package 'dbscan' was built under R version 4.4.2\"\n",
      "\n",
      "Attaching package: 'dbscan'\n",
      "\n",
      "\n",
      "The following object is masked from 'package:stats':\n",
      "\n",
      "    as.dendrogram\n",
      "\n",
      "\n",
      "Warning message:\n",
      "\"package 'DT' was built under R version 4.4.2\"\n",
      "Warning message:\n",
      "\"package 'cluster' was built under R version 4.4.2\"\n",
      "Warning message:\n",
      "\"package 'factoextra' was built under R version 4.4.2\"\n",
      "Welcome! Want to learn more? See two factoextra-related books at https://goo.gl/ve3WBa\n",
      "\n",
      "Warning message:\n",
      "\"package 'funtimes' was built under R version 4.4.2\"\n",
      "Warning message in check_dep_version():\n",
      "\"ABI version mismatch: \n",
      "lme4 was built with Matrix ABI version 2\n",
      "Current Matrix ABI version is 1\n",
      "Please re-install lme4 from source or restore original 'Matrix' package\"\n"
     ]
    },
    {
     "name": "stdout",
     "output_type": "stream",
     "text": [
      "package 'clValid' successfully unpacked and MD5 sums checked\n",
      "\n",
      "The downloaded binary packages are in\n",
      "\tC:\\Users\\abhil\\AppData\\Local\\Temp\\RtmpiEJodd\\downloaded_packages\n"
     ]
    },
    {
     "name": "stderr",
     "output_type": "stream",
     "text": [
      "Warning message:\n",
      "\"package 'e1071' was built under R version 4.4.2\"\n"
     ]
    }
   ],
   "source": [
    "library(\"tidyverse\")\n",
    "library(\"ggplot2\")\n",
    "library(\"ggrepel\")\n",
    "library(dbscan)\n",
    "library(\"DT\")\n",
    "library(\"cluster\")\n",
    "library(\"factoextra\")\n",
    "library(\"funtimes\")\n",
    "install.packages(\"clValid\")\n",
    "library(\"e1071\")"
   ]
  },
  {
   "cell_type": "code",
   "execution_count": 4,
   "id": "f47ec139-5478-4427-b6ba-d6f88e94aa03",
   "metadata": {},
   "outputs": [],
   "source": [
    "dataset_plus_census <- read.csv(\"https://raw.githubusercontent.com/yamphurai/Project2_ClusterAnalysis/refs/heads/main/updated_COVID-19_cases_plus_census.csv\")\n",
    "#filter the dataset by Texas\n",
    "dataset_plus_census <- dataset_plus_census %>% filter(state == \"TX\")\n"
   ]
  },
  {
   "cell_type": "markdown",
   "id": "46a15a27-56ef-480f-a5ce-a3039294df04",
   "metadata": {},
   "source": [
    "## Excluding counties of the major cities"
   ]
  },
  {
   "cell_type": "code",
   "execution_count": 5,
   "id": "f4dbd971-cb98-44ee-ae30-3747280a3503",
   "metadata": {},
   "outputs": [],
   "source": [
    "counties_to_exclude <- c(\n",
    "  \"Dallas County\", \"Tarrant County\", \"Collin County\", \"Denton County\", \"Ellis County\",\n",
    "  \"Johnson County\", \"Kaufman County\", \"Parker County\", \"Rockwall County\", \"Wise County\",\n",
    "  \"Hood County\", \"Travis County\", \"Williamson County\", \"Hays County\", \"Bastrop County\",\n",
    "  \"Caldwell County\", \"Bexar County\", \"Comal County\", \"Guadalupe County\", \"Wilson County\",\n",
    "  \"Medina County\", \"Kendall County\", \"Bandera County\", \"Atascosa County\", \"Harris County\",\n",
    "  \"Fort Bend County\", \"Montgomery County\", \"Brazoria County\", \"Galveston County\", \"Liberty County\",\n",
    "  \"Waller County\", \"Chambers County\"\n",
    ")\n",
    "\n",
    "dataset_plus_census <- dataset_plus_census %>% \n",
    "  filter(! county_name %in% counties_to_exclude)"
   ]
  },
  {
   "cell_type": "code",
   "execution_count": 6,
   "id": "1f6b69d0-8568-4ac1-883c-a8536e1f7933",
   "metadata": {},
   "outputs": [
    {
     "data": {
      "text/html": [
       "<table class=\"dataframe\">\n",
       "<caption>A data.frame: 6 × 33</caption>\n",
       "<thead>\n",
       "\t<tr><th></th><th scope=col>state</th><th scope=col>state_fips_code</th><th scope=col>county_name</th><th scope=col>confirmed_cases</th><th scope=col>deaths</th><th scope=col>total_pop</th><th scope=col>male_pop</th><th scope=col>female_pop</th><th scope=col>white_pop</th><th scope=col>black_pop</th><th scope=col>⋯</th><th scope=col>male_21_49</th><th scope=col>male_50_above</th><th scope=col>female_0_20</th><th scope=col>female_21_49</th><th scope=col>female_50_above</th><th scope=col>unemployed_pop</th><th scope=col>employed_pop</th><th scope=col>commute</th><th scope=col>worked_at_home</th><th scope=col>walked_to_work</th></tr>\n",
       "\t<tr><th></th><th scope=col>&lt;chr&gt;</th><th scope=col>&lt;int&gt;</th><th scope=col>&lt;chr&gt;</th><th scope=col>&lt;int&gt;</th><th scope=col>&lt;int&gt;</th><th scope=col>&lt;int&gt;</th><th scope=col>&lt;int&gt;</th><th scope=col>&lt;int&gt;</th><th scope=col>&lt;int&gt;</th><th scope=col>&lt;int&gt;</th><th scope=col>⋯</th><th scope=col>&lt;int&gt;</th><th scope=col>&lt;int&gt;</th><th scope=col>&lt;int&gt;</th><th scope=col>&lt;int&gt;</th><th scope=col>&lt;int&gt;</th><th scope=col>&lt;int&gt;</th><th scope=col>&lt;int&gt;</th><th scope=col>&lt;int&gt;</th><th scope=col>&lt;int&gt;</th><th scope=col>&lt;int&gt;</th></tr>\n",
       "</thead>\n",
       "<tbody>\n",
       "\t<tr><th scope=row>1</th><td>TX</td><td>48</td><td>Hansford County </td><td>673</td><td>17</td><td>5532</td><td>2760</td><td>2772</td><td>2950</td><td>  4</td><td>⋯</td><td>1052</td><td> 922</td><td>858</td><td>1053</td><td> 979</td><td> 94</td><td>2394</td><td>4384</td><td>18</td><td> 70</td></tr>\n",
       "\t<tr><th scope=row>2</th><td>TX</td><td>48</td><td>Stonewall County</td><td>134</td><td> 4</td><td>1084</td><td> 555</td><td> 529</td><td> 787</td><td> 38</td><td>⋯</td><td> 113</td><td> 325</td><td>129</td><td> 112</td><td> 306</td><td> 11</td><td> 442</td><td> 836</td><td> 7</td><td>  0</td></tr>\n",
       "\t<tr><th scope=row>3</th><td>TX</td><td>48</td><td>Cochran County  </td><td>216</td><td>12</td><td>2932</td><td>1492</td><td>1440</td><td>1104</td><td> 77</td><td>⋯</td><td> 418</td><td> 536</td><td>420</td><td> 538</td><td> 548</td><td>103</td><td>1189</td><td>2274</td><td>23</td><td> 12</td></tr>\n",
       "\t<tr><th scope=row>4</th><td>TX</td><td>48</td><td>Crockett County </td><td>472</td><td>13</td><td>3836</td><td>1903</td><td>1933</td><td>1264</td><td> 35</td><td>⋯</td><td> 512</td><td> 748</td><td>584</td><td> 662</td><td> 738</td><td> 43</td><td>1733</td><td>3346</td><td>60</td><td>  0</td></tr>\n",
       "\t<tr><th scope=row>5</th><td>TX</td><td>48</td><td>McCulloch County</td><td>467</td><td>12</td><td>8145</td><td>4171</td><td>3974</td><td>5067</td><td>161</td><td>⋯</td><td>1354</td><td>1765</td><td>911</td><td>1334</td><td>1885</td><td>122</td><td>3658</td><td>6566</td><td>61</td><td>104</td></tr>\n",
       "\t<tr><th scope=row>6</th><td>TX</td><td>48</td><td>Sherman County  </td><td>118</td><td>11</td><td>3067</td><td>1590</td><td>1477</td><td>1712</td><td>  8</td><td>⋯</td><td> 582</td><td> 594</td><td>398</td><td> 577</td><td> 555</td><td> 24</td><td>1604</td><td>2930</td><td>38</td><td> 72</td></tr>\n",
       "</tbody>\n",
       "</table>\n"
      ],
      "text/latex": [
       "A data.frame: 6 × 33\n",
       "\\begin{tabular}{r|lllllllllllllllllllll}\n",
       "  & state & state\\_fips\\_code & county\\_name & confirmed\\_cases & deaths & total\\_pop & male\\_pop & female\\_pop & white\\_pop & black\\_pop & ⋯ & male\\_21\\_49 & male\\_50\\_above & female\\_0\\_20 & female\\_21\\_49 & female\\_50\\_above & unemployed\\_pop & employed\\_pop & commute & worked\\_at\\_home & walked\\_to\\_work\\\\\n",
       "  & <chr> & <int> & <chr> & <int> & <int> & <int> & <int> & <int> & <int> & <int> & ⋯ & <int> & <int> & <int> & <int> & <int> & <int> & <int> & <int> & <int> & <int>\\\\\n",
       "\\hline\n",
       "\t1 & TX & 48 & Hansford County  & 673 & 17 & 5532 & 2760 & 2772 & 2950 &   4 & ⋯ & 1052 &  922 & 858 & 1053 &  979 &  94 & 2394 & 4384 & 18 &  70\\\\\n",
       "\t2 & TX & 48 & Stonewall County & 134 &  4 & 1084 &  555 &  529 &  787 &  38 & ⋯ &  113 &  325 & 129 &  112 &  306 &  11 &  442 &  836 &  7 &   0\\\\\n",
       "\t3 & TX & 48 & Cochran County   & 216 & 12 & 2932 & 1492 & 1440 & 1104 &  77 & ⋯ &  418 &  536 & 420 &  538 &  548 & 103 & 1189 & 2274 & 23 &  12\\\\\n",
       "\t4 & TX & 48 & Crockett County  & 472 & 13 & 3836 & 1903 & 1933 & 1264 &  35 & ⋯ &  512 &  748 & 584 &  662 &  738 &  43 & 1733 & 3346 & 60 &   0\\\\\n",
       "\t5 & TX & 48 & McCulloch County & 467 & 12 & 8145 & 4171 & 3974 & 5067 & 161 & ⋯ & 1354 & 1765 & 911 & 1334 & 1885 & 122 & 3658 & 6566 & 61 & 104\\\\\n",
       "\t6 & TX & 48 & Sherman County   & 118 & 11 & 3067 & 1590 & 1477 & 1712 &   8 & ⋯ &  582 &  594 & 398 &  577 &  555 &  24 & 1604 & 2930 & 38 &  72\\\\\n",
       "\\end{tabular}\n"
      ],
      "text/markdown": [
       "\n",
       "A data.frame: 6 × 33\n",
       "\n",
       "| <!--/--> | state &lt;chr&gt; | state_fips_code &lt;int&gt; | county_name &lt;chr&gt; | confirmed_cases &lt;int&gt; | deaths &lt;int&gt; | total_pop &lt;int&gt; | male_pop &lt;int&gt; | female_pop &lt;int&gt; | white_pop &lt;int&gt; | black_pop &lt;int&gt; | ⋯ ⋯ | male_21_49 &lt;int&gt; | male_50_above &lt;int&gt; | female_0_20 &lt;int&gt; | female_21_49 &lt;int&gt; | female_50_above &lt;int&gt; | unemployed_pop &lt;int&gt; | employed_pop &lt;int&gt; | commute &lt;int&gt; | worked_at_home &lt;int&gt; | walked_to_work &lt;int&gt; |\n",
       "|---|---|---|---|---|---|---|---|---|---|---|---|---|---|---|---|---|---|---|---|---|---|\n",
       "| 1 | TX | 48 | Hansford County  | 673 | 17 | 5532 | 2760 | 2772 | 2950 |   4 | ⋯ | 1052 |  922 | 858 | 1053 |  979 |  94 | 2394 | 4384 | 18 |  70 |\n",
       "| 2 | TX | 48 | Stonewall County | 134 |  4 | 1084 |  555 |  529 |  787 |  38 | ⋯ |  113 |  325 | 129 |  112 |  306 |  11 |  442 |  836 |  7 |   0 |\n",
       "| 3 | TX | 48 | Cochran County   | 216 | 12 | 2932 | 1492 | 1440 | 1104 |  77 | ⋯ |  418 |  536 | 420 |  538 |  548 | 103 | 1189 | 2274 | 23 |  12 |\n",
       "| 4 | TX | 48 | Crockett County  | 472 | 13 | 3836 | 1903 | 1933 | 1264 |  35 | ⋯ |  512 |  748 | 584 |  662 |  738 |  43 | 1733 | 3346 | 60 |   0 |\n",
       "| 5 | TX | 48 | McCulloch County | 467 | 12 | 8145 | 4171 | 3974 | 5067 | 161 | ⋯ | 1354 | 1765 | 911 | 1334 | 1885 | 122 | 3658 | 6566 | 61 | 104 |\n",
       "| 6 | TX | 48 | Sherman County   | 118 | 11 | 3067 | 1590 | 1477 | 1712 |   8 | ⋯ |  582 |  594 | 398 |  577 |  555 |  24 | 1604 | 2930 | 38 |  72 |\n",
       "\n"
      ],
      "text/plain": [
       "  state state_fips_code county_name      confirmed_cases deaths total_pop\n",
       "1 TX    48              Hansford County  673             17     5532     \n",
       "2 TX    48              Stonewall County 134              4     1084     \n",
       "3 TX    48              Cochran County   216             12     2932     \n",
       "4 TX    48              Crockett County  472             13     3836     \n",
       "5 TX    48              McCulloch County 467             12     8145     \n",
       "6 TX    48              Sherman County   118             11     3067     \n",
       "  male_pop female_pop white_pop black_pop ⋯ male_21_49 male_50_above\n",
       "1 2760     2772       2950        4       ⋯ 1052        922         \n",
       "2  555      529        787       38       ⋯  113        325         \n",
       "3 1492     1440       1104       77       ⋯  418        536         \n",
       "4 1903     1933       1264       35       ⋯  512        748         \n",
       "5 4171     3974       5067      161       ⋯ 1354       1765         \n",
       "6 1590     1477       1712        8       ⋯  582        594         \n",
       "  female_0_20 female_21_49 female_50_above unemployed_pop employed_pop commute\n",
       "1 858         1053          979             94            2394         4384   \n",
       "2 129          112          306             11             442          836   \n",
       "3 420          538          548            103            1189         2274   \n",
       "4 584          662          738             43            1733         3346   \n",
       "5 911         1334         1885            122            3658         6566   \n",
       "6 398          577          555             24            1604         2930   \n",
       "  worked_at_home walked_to_work\n",
       "1 18              70           \n",
       "2  7               0           \n",
       "3 23              12           \n",
       "4 60               0           \n",
       "5 61             104           \n",
       "6 38              72           "
      ]
     },
     "metadata": {},
     "output_type": "display_data"
    },
    {
     "data": {
      "text/plain": [
       "    state           state_fips_code county_name        confirmed_cases \n",
       " Length:222         Min.   :48      Length:222         Min.   :     1  \n",
       " Class :character   1st Qu.:48      Class :character   1st Qu.:   436  \n",
       " Mode  :character   Median :48      Mode  :character   Median :  1077  \n",
       "                    Mean   :48                         Mean   :  3619  \n",
       "                    3rd Qu.:48                         3rd Qu.:  2544  \n",
       "                    Max.   :48                         Max.   :107552  \n",
       "     deaths          total_pop         male_pop        female_pop    \n",
       " Min.   :   0.00   Min.   :    74   Min.   :    39   Min.   :    35  \n",
       " 1st Qu.:  12.00   1st Qu.:  5790   1st Qu.:  2894   1st Qu.:  2700  \n",
       " Median :  25.50   Median : 14448   Median :  7355   Median :  6766  \n",
       " Mean   :  77.73   Mean   : 42474   Mean   : 21230   Mean   : 21243  \n",
       " 3rd Qu.:  61.75   3rd Qu.: 34990   3rd Qu.: 17795   3rd Qu.: 17256  \n",
       " Max.   :2018.00   Max.   :839539   Max.   :410383   Max.   :429156  \n",
       "   white_pop        black_pop          asian_pop        hispanic_pop   \n",
       " Min.   :    55   Min.   :    0.00   Min.   :    0.0   Min.   :    12  \n",
       " 1st Qu.:  2580   1st Qu.:   55.25   1st Qu.:    6.0   1st Qu.:  1468  \n",
       " Median :  7632   Median :  482.50   Median :   45.0   Median :  3700  \n",
       " Mean   : 18563   Mean   : 3292.94   Mean   :  556.8   Mean   : 19338  \n",
       " 3rd Qu.: 18465   3rd Qu.: 2673.00   3rd Qu.:  241.8   3rd Qu.:  9827  \n",
       " Max.   :162449   Max.   :85901.00   Max.   :12857.0   Max.   :770794  \n",
       " amerindian_pop   other_race_pop   median_income   income_less_50K \n",
       " Min.   :   0.0   Min.   :  0.00   Min.   :24794   Min.   :     9  \n",
       " 1st Qu.:   5.0   1st Qu.:  0.00   1st Qu.:41537   1st Qu.:  1111  \n",
       " Median :  30.5   Median :  0.00   Median :46412   Median :  2740  \n",
       " Mean   : 125.9   Mean   : 31.38   Mean   :47428   Mean   :  7589  \n",
       " 3rd Qu.: 113.5   3rd Qu.: 26.75   3rd Qu.:52295   3rd Qu.:  6524  \n",
       " Max.   :2344.0   Max.   :477.00   Max.   :80938   Max.   :148982  \n",
       " income_50K_100K   income_100K_150K  income_150K_more  rent_under_50_percent\n",
       " Min.   :   19.0   Min.   :    0.0   Min.   :    0.0   Min.   :    7.0      \n",
       " 1st Qu.:  534.8   1st Qu.:  176.2   1st Qu.:  114.8   1st Qu.:  289.5      \n",
       " Median : 1427.5   Median :  490.5   Median :  274.0   Median :  820.0      \n",
       " Mean   : 4176.5   Mean   : 1621.6   Mean   :  984.0   Mean   : 3317.0      \n",
       " 3rd Qu.: 3627.0   3rd Qu.: 1382.8   3rd Qu.:  772.2   3rd Qu.: 2171.0      \n",
       " Max.   :74071.0   Max.   :25925.0   Max.   :14222.0   Max.   :73181.0      \n",
       " rent_over_50_percent   median_age      male_0_20        male_21_49    \n",
       " Min.   :    0.0      Min.   :25.80   Min.   :     3   Min.   :    10  \n",
       " 1st Qu.:   60.5      1st Qu.:34.67   1st Qu.:   837   1st Qu.:   971  \n",
       " Median :  185.0      Median :39.20   Median :  2079   Median :  2600  \n",
       " Mean   : 1027.0      Mean   :39.31   Mean   :  6785   Mean   :  8189  \n",
       " 3rd Qu.:  599.0      3rd Qu.:43.27   3rd Qu.:  5274   3rd Qu.:  6300  \n",
       " Max.   :19775.0      Max.   :57.50   Max.   :163853   Max.   :167493  \n",
       " male_50_above     female_0_20        female_21_49      female_50_above \n",
       " Min.   :    29   Min.   :     4.0   Min.   :     8.0   Min.   :    23  \n",
       " 1st Qu.:  1112   1st Qu.:   771.5   1st Qu.:   898.5   1st Qu.:  1184  \n",
       " Median :  2830   Median :  1880.5   Median :  2184.0   Median :  3010  \n",
       " Mean   :  6771   Mean   :  6437.0   Mean   :  7743.7   Mean   :  7664  \n",
       " 3rd Qu.:  6769   3rd Qu.:  4783.8   3rd Qu.:  5924.0   3rd Qu.:  7389  \n",
       " Max.   :109200   Max.   :159914.0   Max.   :164411.0   Max.   :136600  \n",
       " unemployed_pop     employed_pop       commute       worked_at_home   \n",
       " Min.   :    0.0   Min.   :    39   Min.   :    66   Min.   :    0.0  \n",
       " 1st Qu.:  121.2   1st Qu.:  2421   1st Qu.:  4344   1st Qu.:   68.5  \n",
       " Median :  382.0   Median :  5354   Median :  9925   Median :  190.0  \n",
       " Mean   : 1197.7   Mean   : 17677   Mean   : 32754   Mean   :  598.5  \n",
       " 3rd Qu.:  960.5   3rd Qu.: 14372   3rd Qu.: 26827   3rd Qu.:  515.0  \n",
       " Max.   :27566.0   Max.   :341350   Max.   :647479   Max.   :15026.0  \n",
       " walked_to_work  \n",
       " Min.   :   0.0  \n",
       " 1st Qu.:  47.0  \n",
       " Median : 101.5  \n",
       " Mean   : 338.6  \n",
       " 3rd Qu.: 242.2  \n",
       " Max.   :6964.0  "
      ]
     },
     "metadata": {},
     "output_type": "display_data"
    }
   ],
   "source": [
    "head(dataset_plus_census)\n",
    "summary(dataset_plus_census)"
   ]
  },
  {
   "cell_type": "code",
   "execution_count": 7,
   "id": "4784f2dd-b0eb-43e6-af7b-363acdf5c6af",
   "metadata": {},
   "outputs": [
    {
     "data": {
      "text/plain": [
       "   white_pop      rent_under_50_percent   male_21_49        commute      \n",
       " Min.   :    55   Min.   :    7.0       Min.   :    10   Min.   :    66  \n",
       " 1st Qu.:  2580   1st Qu.:  289.5       1st Qu.:   971   1st Qu.:  4344  \n",
       " Median :  7632   Median :  820.0       Median :  2600   Median :  9925  \n",
       " Mean   : 18563   Mean   : 3317.0       Mean   :  8189   Mean   : 32754  \n",
       " 3rd Qu.: 18465   3rd Qu.: 2171.0       3rd Qu.:  6300   3rd Qu.: 26827  \n",
       " Max.   :162449   Max.   :73181.0       Max.   :167493   Max.   :647479  \n",
       "  hispanic_pop    income_50K_100K    female_21_49      worked_at_home   \n",
       " Min.   :    12   Min.   :   19.0   Min.   :     8.0   Min.   :    0.0  \n",
       " 1st Qu.:  1468   1st Qu.:  534.8   1st Qu.:   898.5   1st Qu.:   68.5  \n",
       " Median :  3700   Median : 1427.5   Median :  2184.0   Median :  190.0  \n",
       " Mean   : 19338   Mean   : 4176.5   Mean   :  7743.7   Mean   :  598.5  \n",
       " 3rd Qu.:  9827   3rd Qu.: 3627.0   3rd Qu.:  5924.0   3rd Qu.:  515.0  \n",
       " Max.   :770794   Max.   :74071.0   Max.   :164411.0   Max.   :15026.0  \n",
       " income_100K_150K  male_50_above    rent_over_50_percent     deaths       \n",
       " Min.   :    0.0   Min.   :    29   Min.   :    0.0      Min.   :   0.00  \n",
       " 1st Qu.:  176.2   1st Qu.:  1112   1st Qu.:   60.5      1st Qu.:  12.00  \n",
       " Median :  490.5   Median :  2830   Median :  185.0      Median :  25.50  \n",
       " Mean   : 1621.6   Mean   :  6771   Mean   : 1027.0      Mean   :  77.73  \n",
       " 3rd Qu.: 1382.8   3rd Qu.:  6769   3rd Qu.:  599.0      3rd Qu.:  61.75  \n",
       " Max.   :25925.0   Max.   :109200   Max.   :19775.0      Max.   :2018.00  \n",
       " confirmed_cases    total_pop      county_name        cases_per_1000  \n",
       " Min.   :     1   Min.   :    74   Length:222         Min.   : 13.51  \n",
       " 1st Qu.:   436   1st Qu.:  5790   Class :character   1st Qu.: 58.86  \n",
       " Median :  1077   Median : 14448   Mode  :character   Median : 75.75  \n",
       " Mean   :  3619   Mean   : 42474                      Mean   : 78.81  \n",
       " 3rd Qu.:  2544   3rd Qu.: 34990                      3rd Qu.: 95.99  \n",
       " Max.   :107552   Max.   :839539                      Max.   :182.90  \n",
       " deaths_per_1000 death_per_case     commute_1000   \n",
       " Min.   :0.000   Min.   :0.00000   Min.   : 466.0  \n",
       " 1st Qu.:1.313   1st Qu.:0.01727   1st Qu.: 686.2  \n",
       " Median :1.818   Median :0.02397   Median : 757.1  \n",
       " Mean   :1.985   Mean   :0.02628   Mean   : 747.3  \n",
       " 3rd Qu.:2.550   3rd Qu.:0.03174   3rd Qu.: 811.9  \n",
       " Max.   :6.284   Max.   :0.09322   Max.   :1093.4  "
      ]
     },
     "metadata": {},
     "output_type": "display_data"
    }
   ],
   "source": [
    "dataset_select_clustering <- dataset_plus_census %>% \n",
    " # filter(confirmed_cases > 100) %>% \n",
    "  arrange(desc(confirmed_cases)) %>%    \n",
    "  select(white_pop, \n",
    "rent_under_50_percent, \n",
    "male_21_49, \n",
    "commute,\n",
    "hispanic_pop,\n",
    "income_50K_100K, \n",
    "female_21_49, \n",
    "worked_at_home,\n",
    "income_100K_150K, \n",
    "male_50_above, \n",
    "hispanic_pop, \n",
    "male_21_49,  \n",
    "rent_over_50_percent,\n",
    "         deaths,\n",
    "        confirmed_cases,total_pop,\n",
    "        county_name)\n",
    "\n",
    "dataset_select_clustering <- dataset_select_clustering %>% mutate(\n",
    "  cases_per_1000 = confirmed_cases/total_pop*1000, \n",
    "  deaths_per_1000 = deaths/total_pop*1000, \n",
    "  death_per_case = deaths/confirmed_cases,\n",
    "commute_1000=commute/total_pop*1000\n",
    ")\n",
    "\n",
    "\n",
    "\n",
    "summary(dataset_select_clustering)   "
   ]
  },
  {
   "cell_type": "markdown",
   "id": "04505187-eeed-436e-a04e-6eb5df3dba21",
   "metadata": {},
   "source": [
    "## Scaling the data set and calculating the distance "
   ]
  },
  {
   "cell_type": "markdown",
   "id": "cdf85eaa-b2c7-4a38-9f36-9b0716e827a6",
   "metadata": {},
   "source": [
    "The below features are selected for the hierarchical clustering: <br>\n",
    "median_income\n",
    "<br>median_age\n",
    "<br>commute_1000\n",
    "<br>black_pop\n",
    "<br>white_pop\n",
    "<br>hispanic_pop"
   ]
  },
  {
   "cell_type": "code",
   "execution_count": 8,
   "id": "34f1d8c0-9711-4fe1-83b5-2ec20439b228",
   "metadata": {},
   "outputs": [
    {
     "data": {
      "text/plain": [
       "   white_pop         income_100K_150K   rent_under_50_percent\n",
       " Min.   :-0.642387   Min.   :-0.49239   Min.   :-0.4068      \n",
       " 1st Qu.:-0.554748   1st Qu.:-0.43887   1st Qu.:-0.3720      \n",
       " Median :-0.379400   Median :-0.34345   Median :-0.3069      \n",
       " Mean   : 0.000000   Mean   : 0.00000   Mean   : 0.0000      \n",
       " 3rd Qu.:-0.003394   3rd Qu.:-0.07254   3rd Qu.:-0.1408      \n",
       " Max.   : 4.994073   Max.   : 7.37936   Max.   : 8.5854      \n",
       "   male_21_49          commute       \n",
       " Min.   :-0.42670   Min.   :-0.4412  \n",
       " 1st Qu.:-0.37657   1st Qu.:-0.3834  \n",
       " Median :-0.29161   Median :-0.3081  \n",
       " Mean   : 0.00000   Mean   : 0.0000  \n",
       " 3rd Qu.:-0.09854   3rd Qu.:-0.0800  \n",
       " Max.   : 8.31051   Max.   : 8.2967  "
      ]
     },
     "metadata": {},
     "output_type": "display_data"
    },
    {
     "data": {
      "text/plain": [
       "   white_pop         income_100K_150K   rent_under_50_percent\n",
       " Min.   :-0.642387   Min.   :-0.49239   Min.   :-0.4068      \n",
       " 1st Qu.:-0.554748   1st Qu.:-0.43887   1st Qu.:-0.3720      \n",
       " Median :-0.379400   Median :-0.34345   Median :-0.3069      \n",
       " Mean   : 0.000000   Mean   : 0.00000   Mean   : 0.0000      \n",
       " 3rd Qu.:-0.003394   3rd Qu.:-0.07254   3rd Qu.:-0.1408      \n",
       " Max.   : 4.994073   Max.   : 7.37936   Max.   : 8.5854      \n",
       "   male_21_49          commute       \n",
       " Min.   :-0.42670   Min.   :-0.4412  \n",
       " 1st Qu.:-0.37657   1st Qu.:-0.3834  \n",
       " Median :-0.29161   Median :-0.3081  \n",
       " Mean   : 0.00000   Mean   : 0.0000  \n",
       " 3rd Qu.:-0.09854   3rd Qu.:-0.0800  \n",
       " Max.   : 8.31051   Max.   : 8.2967  "
      ]
     },
     "metadata": {},
     "output_type": "display_data"
    },
    {
     "data": {
      "text/plain": [
       "   white_pop         income_100K_150K   rent_under_50_percent\n",
       " Min.   :-0.642387   Min.   :-0.49239   Min.   :-0.4068      \n",
       " 1st Qu.:-0.554748   1st Qu.:-0.43887   1st Qu.:-0.3720      \n",
       " Median :-0.379400   Median :-0.34345   Median :-0.3069      \n",
       " Mean   : 0.000000   Mean   : 0.00000   Mean   : 0.0000      \n",
       " 3rd Qu.:-0.003394   3rd Qu.:-0.07254   3rd Qu.:-0.1408      \n",
       " Max.   : 4.994073   Max.   : 7.37936   Max.   : 8.5854      \n",
       "   male_21_49          commute       \n",
       " Min.   :-0.42670   Min.   :-0.4412  \n",
       " 1st Qu.:-0.37657   1st Qu.:-0.3834  \n",
       " Median :-0.29161   Median :-0.3081  \n",
       " Mean   : 0.00000   Mean   : 0.0000  \n",
       " 3rd Qu.:-0.09854   3rd Qu.:-0.0800  \n",
       " Max.   : 8.31051   Max.   : 8.2967  "
      ]
     },
     "metadata": {},
     "output_type": "display_data"
    },
    {
     "data": {
      "text/plain": [
       "   white_pop         income_100K_150K   rent_under_50_percent\n",
       " Min.   :-0.642387   Min.   :-0.49239   Min.   :-0.4068      \n",
       " 1st Qu.:-0.554748   1st Qu.:-0.43887   1st Qu.:-0.3720      \n",
       " Median :-0.379400   Median :-0.34345   Median :-0.3069      \n",
       " Mean   : 0.000000   Mean   : 0.00000   Mean   : 0.0000      \n",
       " 3rd Qu.:-0.003394   3rd Qu.:-0.07254   3rd Qu.:-0.1408      \n",
       " Max.   : 4.994073   Max.   : 7.37936   Max.   : 8.5854      \n",
       "   male_21_49          commute       \n",
       " Min.   :-0.42670   Min.   :-0.4412  \n",
       " 1st Qu.:-0.37657   1st Qu.:-0.3834  \n",
       " Median :-0.29161   Median :-0.3081  \n",
       " Mean   : 0.00000   Mean   : 0.0000  \n",
       " 3rd Qu.:-0.09854   3rd Qu.:-0.0800  \n",
       " Max.   : 8.31051   Max.   : 8.2967  "
      ]
     },
     "metadata": {},
     "output_type": "display_data"
    }
   ],
   "source": [
    "dataset_select_clustering_scale1 <-scale(dataset_select_clustering[,c(\"white_pop\", \"income_100K_150K\", \"rent_under_50_percent\", \"male_21_49\", \"commute\")])\n",
    "summary(dataset_select_clustering_scale1)\n",
    "\n",
    "dataset_select_clustering_scale2 <-scale(dataset_select_clustering[,c(\"hispanic_pop\", \"income_50K_100K\", \"female_21_49\", \"worked_at_home\")])\n",
    "summary(dataset_select_clustering_scale1)\n",
    "\n",
    "dataset_select_clustering_scale3 <-scale(dataset_select_clustering[,c(\"income_100K_150K\", \"rent_under_50_percent\", \"male_50_above\", \"commute\")])\n",
    "summary(dataset_select_clustering_scale1)\n",
    "\n",
    "dataset_select_clustering_scale4 <-scale(dataset_select_clustering[,c(\"hispanic_pop\", \"income_50K_100K\", \"male_21_49\", \"commute\", \"rent_over_50_percent\")])\n",
    "summary(dataset_select_clustering_scale1)"
   ]
  },
  {
   "cell_type": "markdown",
   "id": "593af73e-9c64-4340-8fa5-48e2af814302",
   "metadata": {},
   "source": [
    "# Fuzzy Custering"
   ]
  },
  {
   "cell_type": "markdown",
   "id": "e3ef885b-f887-45ab-9497-ddd57f192809",
   "metadata": {},
   "source": [
    "### Cluster 1"
   ]
  },
  {
   "cell_type": "code",
   "execution_count": 9,
   "id": "317d4fad-ee20-4d20-baaf-4623fbf150c2",
   "metadata": {},
   "outputs": [
    {
     "data": {
      "text/plain": [
       "   white_pop         income_100K_150K   rent_under_50_percent\n",
       " Min.   :-0.642387   Min.   :-0.49239   Min.   :-0.4068      \n",
       " 1st Qu.:-0.554748   1st Qu.:-0.43887   1st Qu.:-0.3720      \n",
       " Median :-0.379400   Median :-0.34345   Median :-0.3069      \n",
       " Mean   : 0.000000   Mean   : 0.00000   Mean   : 0.0000      \n",
       " 3rd Qu.:-0.003394   3rd Qu.:-0.07254   3rd Qu.:-0.1408      \n",
       " Max.   : 4.994073   Max.   : 7.37936   Max.   : 8.5854      \n",
       "   male_21_49          commute       \n",
       " Min.   :-0.42670   Min.   :-0.4412  \n",
       " 1st Qu.:-0.37657   1st Qu.:-0.3834  \n",
       " Median :-0.29161   Median :-0.3081  \n",
       " Mean   : 0.00000   Mean   : 0.0000  \n",
       " 3rd Qu.:-0.09854   3rd Qu.:-0.0800  \n",
       " Max.   : 8.31051   Max.   : 8.2967  "
      ]
     },
     "metadata": {},
     "output_type": "display_data"
    }
   ],
   "source": [
    "\n",
    "dataset_select_clustering_scale <-dataset_select_clustering_scale1\n",
    "summary(dataset_select_clustering_scale)"
   ]
  },
  {
   "cell_type": "code",
   "execution_count": 10,
   "id": "f84bf04a-20c3-4c79-98f6-a62b7a0310ad",
   "metadata": {},
   "outputs": [],
   "source": [
    "set.seed(123) \n",
    "n_cluster <- 5 \n",
    "m <- 2 \n",
    "fuzzy_cluster1 <- cmeans(dataset_select_clustering_scale, centers = 5, m = m)\n",
    "fuzzy_cluster2 <- cmeans(dataset_select_clustering_scale, centers = 3, m = m)\n",
    "fuzzy_cluster3 <- cmeans(dataset_select_clustering_scale, centers = 7, m = m)\n",
    "fuzzy_cluster4 <- cmeans(dataset_select_clustering_scale, centers = 9, m = m)"
   ]
  },
  {
   "cell_type": "code",
   "execution_count": 11,
   "id": "1bd2ae4f-e86f-4d00-9054-39f76c09cb09",
   "metadata": {},
   "outputs": [],
   "source": [
    "# Data Membership Degree Matrix \n",
    "fuzzy_membership_matrix1 <- fuzzy_cluster1$membership \n",
    "fuzzy_membership_matrix2 <- fuzzy_cluster2$membership \n",
    "fuzzy_membership_matrix3 <- fuzzy_cluster3$membership \n",
    "fuzzy_membership_matrix4 <- fuzzy_cluster4$membership \n",
    "  \n",
    "# Cluster Prototype Evolution Matrices \n",
    "initial_centers1 <- fuzzy_cluster1$centers \n",
    "final_centers1 <- t(fuzzy_cluster1$centers)\n",
    "\n",
    "initial_centers2 <- fuzzy_cluster2$centers \n",
    "final_centers2 <- t(fuzzy_cluster2$centers)\n",
    "\n",
    "initial_centers3 <- fuzzy_cluster3$centers \n",
    "final_centers3 <- t(fuzzy_cluster3$centers)\n",
    "\n",
    "initial_centers4 <- fuzzy_cluster4$centers \n",
    "final_centers4 <- t(fuzzy_cluster4$centers)"
   ]
  },
  {
   "cell_type": "code",
   "execution_count": 12,
   "id": "4ffb8b77-d945-411a-b754-933fc065a4d2",
   "metadata": {},
   "outputs": [
    {
     "data": {
      "text/html": [
       "<table class=\"dataframe\">\n",
       "<caption>A data.frame: 6 × 10</caption>\n",
       "<thead>\n",
       "\t<tr><th></th><th scope=col>white_pop</th><th scope=col>income_100K_150K</th><th scope=col>rent_under_50_percent</th><th scope=col>male_21_49</th><th scope=col>commute</th><th scope=col>1</th><th scope=col>2</th><th scope=col>3</th><th scope=col>4</th><th scope=col>5</th></tr>\n",
       "\t<tr><th></th><th scope=col>&lt;dbl&gt;</th><th scope=col>&lt;dbl&gt;</th><th scope=col>&lt;dbl&gt;</th><th scope=col>&lt;dbl&gt;</th><th scope=col>&lt;dbl&gt;</th><th scope=col>&lt;dbl&gt;</th><th scope=col>&lt;dbl&gt;</th><th scope=col>&lt;dbl&gt;</th><th scope=col>&lt;dbl&gt;</th><th scope=col>&lt;dbl&gt;</th></tr>\n",
       "</thead>\n",
       "<tbody>\n",
       "\t<tr><th scope=row>1</th><td> 2.9612278</td><td>7.379360</td><td>8.585387</td><td>8.310508</td><td>8.296710</td><td>0.01368586</td><td>0.01229809</td><td>0.01842358</td><td>0.92295329</td><td>0.03263917</td></tr>\n",
       "\t<tr><th scope=row>2</th><td> 1.2764403</td><td>5.693880</td><td>5.438001</td><td>7.719448</td><td>6.974905</td><td>0.02458624</td><td>0.02170197</td><td>0.03481091</td><td>0.85349230</td><td>0.06540859</td></tr>\n",
       "\t<tr><th scope=row>3</th><td> 4.9940727</td><td>3.343135</td><td>3.431992</td><td>2.789336</td><td>3.211183</td><td>0.02541254</td><td>0.01935258</td><td>0.05703270</td><td>0.01979302</td><td>0.87840916</td></tr>\n",
       "\t<tr><th scope=row>4</th><td>-0.3186604</td><td>1.795505</td><td>1.536212</td><td>2.235001</td><td>2.128970</td><td>0.22888514</td><td>0.16485510</td><td>0.42188055</td><td>0.02788566</td><td>0.15649356</td></tr>\n",
       "\t<tr><th scope=row>5</th><td> 0.7176674</td><td>2.581921</td><td>2.661243</td><td>3.414305</td><td>3.431921</td><td>0.13293897</td><td>0.10212284</td><td>0.28116375</td><td>0.06329871</td><td>0.42047572</td></tr>\n",
       "\t<tr><th scope=row>6</th><td> 3.1286271</td><td>4.846130</td><td>4.414474</td><td>3.190818</td><td>3.717860</td><td>0.06194688</td><td>0.04939587</td><td>0.12197340</td><td>0.09153978</td><td>0.67514407</td></tr>\n",
       "</tbody>\n",
       "</table>\n"
      ],
      "text/latex": [
       "A data.frame: 6 × 10\n",
       "\\begin{tabular}{r|llllllllll}\n",
       "  & white\\_pop & income\\_100K\\_150K & rent\\_under\\_50\\_percent & male\\_21\\_49 & commute & 1 & 2 & 3 & 4 & 5\\\\\n",
       "  & <dbl> & <dbl> & <dbl> & <dbl> & <dbl> & <dbl> & <dbl> & <dbl> & <dbl> & <dbl>\\\\\n",
       "\\hline\n",
       "\t1 &  2.9612278 & 7.379360 & 8.585387 & 8.310508 & 8.296710 & 0.01368586 & 0.01229809 & 0.01842358 & 0.92295329 & 0.03263917\\\\\n",
       "\t2 &  1.2764403 & 5.693880 & 5.438001 & 7.719448 & 6.974905 & 0.02458624 & 0.02170197 & 0.03481091 & 0.85349230 & 0.06540859\\\\\n",
       "\t3 &  4.9940727 & 3.343135 & 3.431992 & 2.789336 & 3.211183 & 0.02541254 & 0.01935258 & 0.05703270 & 0.01979302 & 0.87840916\\\\\n",
       "\t4 & -0.3186604 & 1.795505 & 1.536212 & 2.235001 & 2.128970 & 0.22888514 & 0.16485510 & 0.42188055 & 0.02788566 & 0.15649356\\\\\n",
       "\t5 &  0.7176674 & 2.581921 & 2.661243 & 3.414305 & 3.431921 & 0.13293897 & 0.10212284 & 0.28116375 & 0.06329871 & 0.42047572\\\\\n",
       "\t6 &  3.1286271 & 4.846130 & 4.414474 & 3.190818 & 3.717860 & 0.06194688 & 0.04939587 & 0.12197340 & 0.09153978 & 0.67514407\\\\\n",
       "\\end{tabular}\n"
      ],
      "text/markdown": [
       "\n",
       "A data.frame: 6 × 10\n",
       "\n",
       "| <!--/--> | white_pop &lt;dbl&gt; | income_100K_150K &lt;dbl&gt; | rent_under_50_percent &lt;dbl&gt; | male_21_49 &lt;dbl&gt; | commute &lt;dbl&gt; | 1 &lt;dbl&gt; | 2 &lt;dbl&gt; | 3 &lt;dbl&gt; | 4 &lt;dbl&gt; | 5 &lt;dbl&gt; |\n",
       "|---|---|---|---|---|---|---|---|---|---|---|\n",
       "| 1 |  2.9612278 | 7.379360 | 8.585387 | 8.310508 | 8.296710 | 0.01368586 | 0.01229809 | 0.01842358 | 0.92295329 | 0.03263917 |\n",
       "| 2 |  1.2764403 | 5.693880 | 5.438001 | 7.719448 | 6.974905 | 0.02458624 | 0.02170197 | 0.03481091 | 0.85349230 | 0.06540859 |\n",
       "| 3 |  4.9940727 | 3.343135 | 3.431992 | 2.789336 | 3.211183 | 0.02541254 | 0.01935258 | 0.05703270 | 0.01979302 | 0.87840916 |\n",
       "| 4 | -0.3186604 | 1.795505 | 1.536212 | 2.235001 | 2.128970 | 0.22888514 | 0.16485510 | 0.42188055 | 0.02788566 | 0.15649356 |\n",
       "| 5 |  0.7176674 | 2.581921 | 2.661243 | 3.414305 | 3.431921 | 0.13293897 | 0.10212284 | 0.28116375 | 0.06329871 | 0.42047572 |\n",
       "| 6 |  3.1286271 | 4.846130 | 4.414474 | 3.190818 | 3.717860 | 0.06194688 | 0.04939587 | 0.12197340 | 0.09153978 | 0.67514407 |\n",
       "\n"
      ],
      "text/plain": [
       "  white_pop  income_100K_150K rent_under_50_percent male_21_49 commute \n",
       "1  2.9612278 7.379360         8.585387              8.310508   8.296710\n",
       "2  1.2764403 5.693880         5.438001              7.719448   6.974905\n",
       "3  4.9940727 3.343135         3.431992              2.789336   3.211183\n",
       "4 -0.3186604 1.795505         1.536212              2.235001   2.128970\n",
       "5  0.7176674 2.581921         2.661243              3.414305   3.431921\n",
       "6  3.1286271 4.846130         4.414474              3.190818   3.717860\n",
       "  1          2          3          4          5         \n",
       "1 0.01368586 0.01229809 0.01842358 0.92295329 0.03263917\n",
       "2 0.02458624 0.02170197 0.03481091 0.85349230 0.06540859\n",
       "3 0.02541254 0.01935258 0.05703270 0.01979302 0.87840916\n",
       "4 0.22888514 0.16485510 0.42188055 0.02788566 0.15649356\n",
       "5 0.13293897 0.10212284 0.28116375 0.06329871 0.42047572\n",
       "6 0.06194688 0.04939587 0.12197340 0.09153978 0.67514407"
      ]
     },
     "metadata": {},
     "output_type": "display_data"
    }
   ],
   "source": [
    "cluster_membership1 <- as.data.frame(fuzzy_cluster1$membership) \n",
    "cluster_membership2 <- as.data.frame(fuzzy_cluster2$membership) \n",
    "cluster_membership3 <- as.data.frame(fuzzy_cluster3$membership) \n",
    "cluster_membership4 <- as.data.frame(fuzzy_cluster4$membership) \n",
    "\n",
    "fuzzy_cluster_data1 <- cbind(dataset_select_clustering_scale, cluster_membership1) \n",
    "fuzzy_cluster_data2 <- cbind(dataset_select_clustering_scale, cluster_membership2) \n",
    "fuzzy_cluster_data3 <- cbind(dataset_select_clustering_scale, cluster_membership3) \n",
    "fuzzy_cluster_data4 <- cbind(dataset_select_clustering_scale, cluster_membership4) \n",
    "\n",
    "head(fuzzy_cluster_data1)"
   ]
  },
  {
   "cell_type": "markdown",
   "id": "50981100-d647-4168-9b5d-5e4c2cd673a7",
   "metadata": {},
   "source": [
    "## Un Supervised Cluster Evaluation"
   ]
  },
  {
   "cell_type": "markdown",
   "id": "b18715c0-cf0b-453e-b6ee-6e4b7e0995ba",
   "metadata": {},
   "source": [
    "### Davies-Bouldin index "
   ]
  },
  {
   "cell_type": "code",
   "execution_count": 13,
   "id": "e606bcdd-f49a-488a-a93b-ec2003408fe3",
   "metadata": {},
   "outputs": [],
   "source": [
    "# Function to calculate the Davies-Bouldin index \n",
    "davies_bouldin_index <- function(data, cluster_centers, membership_matrix) { \n",
    "require(cluster) \n",
    "\n",
    "num_clusters <- nrow(cluster_centers) \n",
    "scatter <- numeric(num_clusters) \n",
    "for (i in 1:num_clusters) { \n",
    "\tscatter[i] <- mean(sqrt(rowSums((data - cluster_centers[i,])^2)) * membership_matrix[i,]) \n",
    "} \n",
    "\n",
    "# Calculate the cluster separation \n",
    "separation <- matrix(0, nrow = num_clusters, ncol = num_clusters) \n",
    "for (i in 1:num_clusters) { \n",
    "\tfor (j in 1:num_clusters) { \n",
    "\tif (i != j) { \n",
    "\t\tseparation[i, j] <- sqrt(sum((cluster_centers[i,] - cluster_centers[j,])^2)) \n",
    "\t} \n",
    "\t} \n",
    "} \n",
    "\n",
    "# Calculate the Davies-Bouldin index \n",
    "db_index <- 0 \n",
    "for (i in 1:num_clusters) { \n",
    "\tmax_val <- -Inf\n",
    "\tfor (j in 1:num_clusters) { \n",
    "\tif (i != j) { \n",
    "\t\tval <- (scatter[i] + scatter[j]) / separation[i, j] \n",
    "\t\tif (val > max_val) { \n",
    "\t\tmax_val <- val \n",
    "\t\t} \n",
    "\t} \n",
    "\t} \n",
    "\tdb_index <- db_index + max_val \n",
    "} \n",
    "db_index <- db_index / num_clusters \n",
    "return(db_index) \n",
    "} \n"
   ]
  },
  {
   "cell_type": "code",
   "execution_count": 14,
   "id": "335c6c5a-4eeb-4d28-a61e-027e5615e434",
   "metadata": {},
   "outputs": [
    {
     "name": "stderr",
     "output_type": "stream",
     "text": [
      "Warning message in sqrt(rowSums((data - cluster_centers[i, ])^2)) * membership_matrix[i, :\n",
      "\"longer object length is not a multiple of shorter object length\"\n",
      "Warning message in sqrt(rowSums((data - cluster_centers[i, ])^2)) * membership_matrix[i, :\n",
      "\"longer object length is not a multiple of shorter object length\"\n",
      "Warning message in sqrt(rowSums((data - cluster_centers[i, ])^2)) * membership_matrix[i, :\n",
      "\"longer object length is not a multiple of shorter object length\"\n",
      "Warning message in sqrt(rowSums((data - cluster_centers[i, ])^2)) * membership_matrix[i, :\n",
      "\"longer object length is not a multiple of shorter object length\"\n",
      "Warning message in sqrt(rowSums((data - cluster_centers[i, ])^2)) * membership_matrix[i, :\n",
      "\"longer object length is not a multiple of shorter object length\"\n"
     ]
    },
    {
     "name": "stdout",
     "output_type": "stream",
     "text": [
      "[1] \"Davies-Bouldin Index 1: 0.659402825860543\"\n",
      "[1] \"Davies-Bouldin Index 2: 0.654372790609573\"\n"
     ]
    },
    {
     "name": "stderr",
     "output_type": "stream",
     "text": [
      "Warning message in sqrt(rowSums((data - cluster_centers[i, ])^2)) * membership_matrix[i, :\n",
      "\"longer object length is not a multiple of shorter object length\"\n",
      "Warning message in sqrt(rowSums((data - cluster_centers[i, ])^2)) * membership_matrix[i, :\n",
      "\"longer object length is not a multiple of shorter object length\"\n",
      "Warning message in sqrt(rowSums((data - cluster_centers[i, ])^2)) * membership_matrix[i, :\n",
      "\"longer object length is not a multiple of shorter object length\"\n",
      "Warning message in sqrt(rowSums((data - cluster_centers[i, ])^2)) * membership_matrix[i, :\n",
      "\"longer object length is not a multiple of shorter object length\"\n",
      "Warning message in sqrt(rowSums((data - cluster_centers[i, ])^2)) * membership_matrix[i, :\n",
      "\"longer object length is not a multiple of shorter object length\"\n",
      "Warning message in sqrt(rowSums((data - cluster_centers[i, ])^2)) * membership_matrix[i, :\n",
      "\"longer object length is not a multiple of shorter object length\"\n",
      "Warning message in sqrt(rowSums((data - cluster_centers[i, ])^2)) * membership_matrix[i, :\n",
      "\"longer object length is not a multiple of shorter object length\"\n"
     ]
    },
    {
     "name": "stdout",
     "output_type": "stream",
     "text": [
      "[1] \"Davies-Bouldin Index 3: 0.860569002796028\"\n"
     ]
    },
    {
     "name": "stderr",
     "output_type": "stream",
     "text": [
      "Warning message in sqrt(rowSums((data - cluster_centers[i, ])^2)) * membership_matrix[i, :\n",
      "\"longer object length is not a multiple of shorter object length\"\n",
      "Warning message in sqrt(rowSums((data - cluster_centers[i, ])^2)) * membership_matrix[i, :\n",
      "\"longer object length is not a multiple of shorter object length\"\n",
      "Warning message in sqrt(rowSums((data - cluster_centers[i, ])^2)) * membership_matrix[i, :\n",
      "\"longer object length is not a multiple of shorter object length\"\n",
      "Warning message in sqrt(rowSums((data - cluster_centers[i, ])^2)) * membership_matrix[i, :\n",
      "\"longer object length is not a multiple of shorter object length\"\n",
      "Warning message in sqrt(rowSums((data - cluster_centers[i, ])^2)) * membership_matrix[i, :\n",
      "\"longer object length is not a multiple of shorter object length\"\n",
      "Warning message in sqrt(rowSums((data - cluster_centers[i, ])^2)) * membership_matrix[i, :\n",
      "\"longer object length is not a multiple of shorter object length\"\n",
      "Warning message in sqrt(rowSums((data - cluster_centers[i, ])^2)) * membership_matrix[i, :\n",
      "\"longer object length is not a multiple of shorter object length\"\n",
      "Warning message in sqrt(rowSums((data - cluster_centers[i, ])^2)) * membership_matrix[i, :\n",
      "\"longer object length is not a multiple of shorter object length\"\n",
      "Warning message in sqrt(rowSums((data - cluster_centers[i, ])^2)) * membership_matrix[i, :\n",
      "\"longer object length is not a multiple of shorter object length\"\n"
     ]
    },
    {
     "name": "stdout",
     "output_type": "stream",
     "text": [
      "[1] \"Davies-Bouldin Index 4: 0.781519523190392\"\n"
     ]
    }
   ],
   "source": [
    "# Example usage of the Davies-Bouldin index function \n",
    "db_index <- davies_bouldin_index(fuzzy_cluster_data1, fuzzy_cluster1$centers, fuzzy_membership_matrix1) \n",
    "print(paste(\"Davies-Bouldin Index 1:\", db_index))\n",
    "db_index <- davies_bouldin_index(fuzzy_cluster_data2, fuzzy_cluster2$centers, fuzzy_membership_matrix2) \n",
    "print(paste(\"Davies-Bouldin Index 2:\", db_index))\n",
    "db_index <- davies_bouldin_index(fuzzy_cluster_data3, fuzzy_cluster3$centers, fuzzy_membership_matrix3) \n",
    "print(paste(\"Davies-Bouldin Index 3:\", db_index))\n",
    "db_index <- davies_bouldin_index(fuzzy_cluster_data4, fuzzy_cluster4$centers, fuzzy_membership_matrix4) \n",
    "print(paste(\"Davies-Bouldin Index 4:\", db_index))"
   ]
  },
  {
   "cell_type": "markdown",
   "id": "70cd2938-47ee-4adc-bebf-528a214de3aa",
   "metadata": {},
   "source": [
    "## Displaying the Clusters"
   ]
  },
  {
   "cell_type": "code",
   "execution_count": 15,
   "id": "891e6a3a-4d66-4ab4-84f9-882f179a3144",
   "metadata": {},
   "outputs": [
    {
     "data": {
      "image/png": "[encoded data removed]",
      "text/plain": [
       "plot without title"
      ]
     },
     "metadata": {
      "image/png": {
       "height": 420,
       "width": 420
      }
     },
     "output_type": "display_data"
    }
   ],
   "source": [
    "\n",
    "fuzzy_cluster_data <- fuzzy_cluster_data3\n",
    "fuzzy_cluster <- fuzzy_cluster3\n",
    "fuzzy_membership_matrix <- fuzzy_membership_matrix3\n",
    "\n",
    "centers <- t(fuzzy_cluster$centers) \n",
    "fuzzy_cluster_data$Cluster <- apply(fuzzy_membership_matrix, 1, which.max) \n",
    "ggplot(fuzzy_cluster_data, aes(x = white_pop, y = male_21_49,  \n",
    "                               color = as.factor(Cluster))) + \n",
    "  geom_point() + \n",
    "  labs(title = \"Fuzzy C-means Clustering\", x = \"white_pop\", y = \"male_21_49\")"
   ]
  },
  {
   "cell_type": "code",
   "execution_count": 16,
   "id": "6a018cea-6e4e-4800-b1a5-c6e76559d85b",
   "metadata": {},
   "outputs": [
    {
     "data": {
      "image/png": "[encoded data removed]",
      "text/plain": [
       "plot without title"
      ]
     },
     "metadata": {
      "image/png": {
       "height": 420,
       "width": 420
      }
     },
     "output_type": "display_data"
    }
   ],
   "source": [
    "    pairs(dataset_select_clustering_scale, pch = 16, col = as.numeric(fuzzy_cluster$cluster))"
   ]
  },
  {
   "cell_type": "code",
   "execution_count": 17,
   "id": "8fc5aac4-ece4-47ff-8882-4244d93f96b9",
   "metadata": {},
   "outputs": [
    {
     "data": {
      "image/png": "[encoded data removed]",
      "text/plain": [
       "Plot with title \"CLUSPLOT( dataset_select_clustering_scale )\""
      ]
     },
     "metadata": {
      "image/png": {
       "height": 420,
       "width": 420
      }
     },
     "output_type": "display_data"
    }
   ],
   "source": [
    "clusplot(dataset_select_clustering_scale, fuzzy_cluster$cluster, color = TRUE, shade = TRUE, \n",
    "         labels = 2, lines = 0)"
   ]
  },
  {
   "cell_type": "markdown",
   "id": "162aef9a-81c8-4012-a039-596771f64861",
   "metadata": {},
   "source": [
    "From the above, We can see that most of the features used for the data set has fair amount of corelation"
   ]
  },
  {
   "cell_type": "code",
   "execution_count": 18,
   "id": "5d3441a6-5571-42a2-ab1d-7d1b5a4dea8c",
   "metadata": {},
   "outputs": [
    {
     "data": {
      "image/png": "[encoded data removed]",
      "text/plain": [
       "Plot with title \"Convex Cluster Hulls\""
      ]
     },
     "metadata": {
      "image/png": {
       "height": 420,
       "width": 420
      }
     },
     "output_type": "display_data"
    }
   ],
   "source": [
    "hullplot(dataset_select_clustering_scale, fuzzy_cluster$cluster)"
   ]
  },
  {
   "cell_type": "code",
   "execution_count": 19,
   "id": "113c8901-3657-4811-9d0b-ed078b4d81ca",
   "metadata": {},
   "outputs": [],
   "source": [
    "dataset_select_clustering$cluster <- fuzzy_cluster$cluster\n",
    "winner1<-dataset_select_clustering"
   ]
  },
  {
   "cell_type": "code",
   "execution_count": 20,
   "id": "cda74394-6eed-4e64-98e6-29c5553400c8",
   "metadata": {},
   "outputs": [
    {
     "data": {
      "text/html": [
       "<table class=\"dataframe\">\n",
       "<caption>A tibble: 7 × 4</caption>\n",
       "<thead>\n",
       "\t<tr><th scope=col>cluster</th><th scope=col>avg_death_per_case</th><th scope=col>avg_male_21_49</th><th scope=col>no_counties_in_cluster</th></tr>\n",
       "\t<tr><th scope=col>&lt;int&gt;</th><th scope=col>&lt;dbl&gt;</th><th scope=col>&lt;dbl&gt;</th><th scope=col>&lt;int&gt;</th></tr>\n",
       "</thead>\n",
       "<tbody>\n",
       "\t<tr><td>1</td><td>0.02107392</td><td> 11769.400</td><td> 25</td></tr>\n",
       "\t<tr><td>2</td><td>0.01928942</td><td> 52798.800</td><td>  5</td></tr>\n",
       "\t<tr><td>3</td><td>0.02546976</td><td>  4951.679</td><td> 56</td></tr>\n",
       "\t<tr><td>4</td><td>0.02888205</td><td>  1362.843</td><td>121</td></tr>\n",
       "\t<tr><td>5</td><td>0.01928446</td><td> 28949.800</td><td> 10</td></tr>\n",
       "\t<tr><td>6</td><td>0.01445483</td><td> 68155.667</td><td>  3</td></tr>\n",
       "\t<tr><td>7</td><td>0.02689154</td><td>161828.000</td><td>  2</td></tr>\n",
       "</tbody>\n",
       "</table>\n"
      ],
      "text/latex": [
       "A tibble: 7 × 4\n",
       "\\begin{tabular}{llll}\n",
       " cluster & avg\\_death\\_per\\_case & avg\\_male\\_21\\_49 & no\\_counties\\_in\\_cluster\\\\\n",
       " <int> & <dbl> & <dbl> & <int>\\\\\n",
       "\\hline\n",
       "\t 1 & 0.02107392 &  11769.400 &  25\\\\\n",
       "\t 2 & 0.01928942 &  52798.800 &   5\\\\\n",
       "\t 3 & 0.02546976 &   4951.679 &  56\\\\\n",
       "\t 4 & 0.02888205 &   1362.843 & 121\\\\\n",
       "\t 5 & 0.01928446 &  28949.800 &  10\\\\\n",
       "\t 6 & 0.01445483 &  68155.667 &   3\\\\\n",
       "\t 7 & 0.02689154 & 161828.000 &   2\\\\\n",
       "\\end{tabular}\n"
      ],
      "text/markdown": [
       "\n",
       "A tibble: 7 × 4\n",
       "\n",
       "| cluster &lt;int&gt; | avg_death_per_case &lt;dbl&gt; | avg_male_21_49 &lt;dbl&gt; | no_counties_in_cluster &lt;int&gt; |\n",
       "|---|---|---|---|\n",
       "| 1 | 0.02107392 |  11769.400 |  25 |\n",
       "| 2 | 0.01928942 |  52798.800 |   5 |\n",
       "| 3 | 0.02546976 |   4951.679 |  56 |\n",
       "| 4 | 0.02888205 |   1362.843 | 121 |\n",
       "| 5 | 0.01928446 |  28949.800 |  10 |\n",
       "| 6 | 0.01445483 |  68155.667 |   3 |\n",
       "| 7 | 0.02689154 | 161828.000 |   2 |\n",
       "\n"
      ],
      "text/plain": [
       "  cluster avg_death_per_case avg_male_21_49 no_counties_in_cluster\n",
       "1 1       0.02107392          11769.400      25                   \n",
       "2 2       0.01928942          52798.800       5                   \n",
       "3 3       0.02546976           4951.679      56                   \n",
       "4 4       0.02888205           1362.843     121                   \n",
       "5 5       0.01928446          28949.800      10                   \n",
       "6 6       0.01445483          68155.667       3                   \n",
       "7 7       0.02689154         161828.000       2                   "
      ]
     },
     "metadata": {},
     "output_type": "display_data"
    }
   ],
   "source": [
    "dataset_select_clustering %>% group_by(cluster) %>% summarize(\n",
    "  avg_death_per_case = mean(death_per_case),\n",
    "    avg_male_21_49 = mean(male_21_49),\n",
    "    no_counties_in_cluster=n())"
   ]
  },
  {
   "cell_type": "markdown",
   "id": "88904660-1697-4407-824a-f36422771681",
   "metadata": {},
   "source": [
    "### Cluster 2"
   ]
  },
  {
   "cell_type": "code",
   "execution_count": 21,
   "id": "e4dace23-eb76-4b31-a97d-6a7bb5d10f54",
   "metadata": {},
   "outputs": [
    {
     "data": {
      "text/plain": [
       "  hispanic_pop     income_50K_100K     female_21_49      worked_at_home    \n",
       " Min.   :-0.2510   Min.   :-0.48025   Min.   :-0.40366   Min.   :-0.40128  \n",
       " 1st Qu.:-0.2321   1st Qu.:-0.42067   1st Qu.:-0.35719   1st Qu.:-0.35535  \n",
       " Median :-0.2031   Median :-0.31755   Median :-0.29011   Median :-0.27388  \n",
       " Mean   : 0.0000   Mean   : 0.00000   Mean   : 0.00000   Mean   : 0.00000  \n",
       " 3rd Qu.:-0.1235   3rd Qu.:-0.06348   3rd Qu.:-0.09495   3rd Qu.:-0.05596  \n",
       " Max.   : 9.7590   Max.   : 8.07375   Max.   : 8.17512   Max.   : 9.67399  "
      ]
     },
     "metadata": {},
     "output_type": "display_data"
    }
   ],
   "source": [
    "dataset_select_clustering_scale <-dataset_select_clustering_scale2\n",
    "summary(dataset_select_clustering_scale)"
   ]
  },
  {
   "cell_type": "code",
   "execution_count": 22,
   "id": "1d21dd70-5b6c-4158-a558-44252698a812",
   "metadata": {},
   "outputs": [],
   "source": [
    "set.seed(123) \n",
    "n_cluster <- 5 \n",
    "m <- 2 \n",
    "fuzzy_cluster1 <- cmeans(dataset_select_clustering_scale, centers = 5, m = m)\n",
    "fuzzy_cluster2 <- cmeans(dataset_select_clustering_scale, centers = 3, m = m)\n",
    "fuzzy_cluster3 <- cmeans(dataset_select_clustering_scale, centers = 7, m = m)\n",
    "fuzzy_cluster4 <- cmeans(dataset_select_clustering_scale, centers = 9, m = m)"
   ]
  },
  {
   "cell_type": "code",
   "execution_count": 23,
   "id": "fb1d9246-37fe-45c3-8061-a0673ebd1bb4",
   "metadata": {},
   "outputs": [],
   "source": [
    "# Data Membership Degree Matrix \n",
    "fuzzy_membership_matrix1 <- fuzzy_cluster1$membership \n",
    "fuzzy_membership_matrix2 <- fuzzy_cluster2$membership \n",
    "fuzzy_membership_matrix3 <- fuzzy_cluster3$membership \n",
    "fuzzy_membership_matrix4 <- fuzzy_cluster4$membership \n",
    "  "
   ]
  },
  {
   "cell_type": "code",
   "execution_count": 24,
   "id": "44c4fad1-db47-4197-ba9d-cf73b569c552",
   "metadata": {},
   "outputs": [
    {
     "data": {
      "text/html": [
       "<table class=\"dataframe\">\n",
       "<caption>A data.frame: 6 × 9</caption>\n",
       "<thead>\n",
       "\t<tr><th></th><th scope=col>hispanic_pop</th><th scope=col>income_50K_100K</th><th scope=col>female_21_49</th><th scope=col>worked_at_home</th><th scope=col>1</th><th scope=col>2</th><th scope=col>3</th><th scope=col>4</th><th scope=col>5</th></tr>\n",
       "\t<tr><th></th><th scope=col>&lt;dbl&gt;</th><th scope=col>&lt;dbl&gt;</th><th scope=col>&lt;dbl&gt;</th><th scope=col>&lt;dbl&gt;</th><th scope=col>&lt;dbl&gt;</th><th scope=col>&lt;dbl&gt;</th><th scope=col>&lt;dbl&gt;</th><th scope=col>&lt;dbl&gt;</th><th scope=col>&lt;dbl&gt;</th></tr>\n",
       "</thead>\n",
       "<tbody>\n",
       "\t<tr><th scope=row>1</th><td>8.660063</td><td>8.073754</td><td>8.175117</td><td>7.768368</td><td>0.009383979</td><td>0.006608704</td><td>0.01597332</td><td>0.960806179</td><td>0.007227819</td></tr>\n",
       "\t<tr><th scope=row>2</th><td>9.759021</td><td>6.338627</td><td>8.065484</td><td>9.673992</td><td>0.008272996</td><td>0.006027075</td><td>0.01307199</td><td>0.966088498</td><td>0.006539440</td></tr>\n",
       "\t<tr><th scope=row>3</th><td>1.083512</td><td>3.277058</td><td>2.725398</td><td>2.030037</td><td>0.185618434</td><td>0.040044983</td><td>0.71164855</td><td>0.007630546</td><td>0.055057482</td></tr>\n",
       "\t<tr><th scope=row>4</th><td>3.092729</td><td>1.636767</td><td>2.346927</td><td>1.402428</td><td>0.282612986</td><td>0.098742591</td><td>0.47285150</td><td>0.015812209</td><td>0.129980719</td></tr>\n",
       "\t<tr><th scope=row>5</th><td>4.622239</td><td>3.096164</td><td>3.648852</td><td>2.048811</td><td>0.145281225</td><td>0.069430720</td><td>0.66340592</td><td>0.038334881</td><td>0.083547256</td></tr>\n",
       "\t<tr><th scope=row>6</th><td>2.681424</td><td>4.056543</td><td>3.209328</td><td>2.103794</td><td>0.029206558</td><td>0.010370069</td><td>0.94329365</td><td>0.003968798</td><td>0.013160927</td></tr>\n",
       "</tbody>\n",
       "</table>\n"
      ],
      "text/latex": [
       "A data.frame: 6 × 9\n",
       "\\begin{tabular}{r|lllllllll}\n",
       "  & hispanic\\_pop & income\\_50K\\_100K & female\\_21\\_49 & worked\\_at\\_home & 1 & 2 & 3 & 4 & 5\\\\\n",
       "  & <dbl> & <dbl> & <dbl> & <dbl> & <dbl> & <dbl> & <dbl> & <dbl> & <dbl>\\\\\n",
       "\\hline\n",
       "\t1 & 8.660063 & 8.073754 & 8.175117 & 7.768368 & 0.009383979 & 0.006608704 & 0.01597332 & 0.960806179 & 0.007227819\\\\\n",
       "\t2 & 9.759021 & 6.338627 & 8.065484 & 9.673992 & 0.008272996 & 0.006027075 & 0.01307199 & 0.966088498 & 0.006539440\\\\\n",
       "\t3 & 1.083512 & 3.277058 & 2.725398 & 2.030037 & 0.185618434 & 0.040044983 & 0.71164855 & 0.007630546 & 0.055057482\\\\\n",
       "\t4 & 3.092729 & 1.636767 & 2.346927 & 1.402428 & 0.282612986 & 0.098742591 & 0.47285150 & 0.015812209 & 0.129980719\\\\\n",
       "\t5 & 4.622239 & 3.096164 & 3.648852 & 2.048811 & 0.145281225 & 0.069430720 & 0.66340592 & 0.038334881 & 0.083547256\\\\\n",
       "\t6 & 2.681424 & 4.056543 & 3.209328 & 2.103794 & 0.029206558 & 0.010370069 & 0.94329365 & 0.003968798 & 0.013160927\\\\\n",
       "\\end{tabular}\n"
      ],
      "text/markdown": [
       "\n",
       "A data.frame: 6 × 9\n",
       "\n",
       "| <!--/--> | hispanic_pop &lt;dbl&gt; | income_50K_100K &lt;dbl&gt; | female_21_49 &lt;dbl&gt; | worked_at_home &lt;dbl&gt; | 1 &lt;dbl&gt; | 2 &lt;dbl&gt; | 3 &lt;dbl&gt; | 4 &lt;dbl&gt; | 5 &lt;dbl&gt; |\n",
       "|---|---|---|---|---|---|---|---|---|---|\n",
       "| 1 | 8.660063 | 8.073754 | 8.175117 | 7.768368 | 0.009383979 | 0.006608704 | 0.01597332 | 0.960806179 | 0.007227819 |\n",
       "| 2 | 9.759021 | 6.338627 | 8.065484 | 9.673992 | 0.008272996 | 0.006027075 | 0.01307199 | 0.966088498 | 0.006539440 |\n",
       "| 3 | 1.083512 | 3.277058 | 2.725398 | 2.030037 | 0.185618434 | 0.040044983 | 0.71164855 | 0.007630546 | 0.055057482 |\n",
       "| 4 | 3.092729 | 1.636767 | 2.346927 | 1.402428 | 0.282612986 | 0.098742591 | 0.47285150 | 0.015812209 | 0.129980719 |\n",
       "| 5 | 4.622239 | 3.096164 | 3.648852 | 2.048811 | 0.145281225 | 0.069430720 | 0.66340592 | 0.038334881 | 0.083547256 |\n",
       "| 6 | 2.681424 | 4.056543 | 3.209328 | 2.103794 | 0.029206558 | 0.010370069 | 0.94329365 | 0.003968798 | 0.013160927 |\n",
       "\n"
      ],
      "text/plain": [
       "  hispanic_pop income_50K_100K female_21_49 worked_at_home 1          \n",
       "1 8.660063     8.073754        8.175117     7.768368       0.009383979\n",
       "2 9.759021     6.338627        8.065484     9.673992       0.008272996\n",
       "3 1.083512     3.277058        2.725398     2.030037       0.185618434\n",
       "4 3.092729     1.636767        2.346927     1.402428       0.282612986\n",
       "5 4.622239     3.096164        3.648852     2.048811       0.145281225\n",
       "6 2.681424     4.056543        3.209328     2.103794       0.029206558\n",
       "  2           3          4           5          \n",
       "1 0.006608704 0.01597332 0.960806179 0.007227819\n",
       "2 0.006027075 0.01307199 0.966088498 0.006539440\n",
       "3 0.040044983 0.71164855 0.007630546 0.055057482\n",
       "4 0.098742591 0.47285150 0.015812209 0.129980719\n",
       "5 0.069430720 0.66340592 0.038334881 0.083547256\n",
       "6 0.010370069 0.94329365 0.003968798 0.013160927"
      ]
     },
     "metadata": {},
     "output_type": "display_data"
    }
   ],
   "source": [
    "# Cluster Prototype Evolution Matrices \n",
    "initial_centers1 <- fuzzy_cluster1$centers \n",
    "final_centers1 <- t(fuzzy_cluster1$centers)\n",
    "\n",
    "initial_centers2 <- fuzzy_cluster2$centers \n",
    "final_centers2 <- t(fuzzy_cluster2$centers)\n",
    "\n",
    "initial_centers3 <- fuzzy_cluster3$centers \n",
    "final_centers3 <- t(fuzzy_cluster3$centers)\n",
    "\n",
    "initial_centers4 <- fuzzy_cluster4$centers \n",
    "final_centers4 <- t(fuzzy_cluster4$centers)\n",
    "\n",
    "cluster_membership1 <- as.data.frame(fuzzy_cluster1$membership) \n",
    "cluster_membership2 <- as.data.frame(fuzzy_cluster2$membership) \n",
    "cluster_membership3 <- as.data.frame(fuzzy_cluster3$membership) \n",
    "cluster_membership4 <- as.data.frame(fuzzy_cluster4$membership) \n",
    "\n",
    "fuzzy_cluster_data1 <- cbind(dataset_select_clustering_scale, cluster_membership1) \n",
    "fuzzy_cluster_data2 <- cbind(dataset_select_clustering_scale, cluster_membership2) \n",
    "fuzzy_cluster_data3 <- cbind(dataset_select_clustering_scale, cluster_membership3) \n",
    "fuzzy_cluster_data4 <- cbind(dataset_select_clustering_scale, cluster_membership4) \n",
    "\n",
    "head(fuzzy_cluster_data1)"
   ]
  },
  {
   "cell_type": "code",
   "execution_count": 25,
   "id": "710d749d-d178-49b2-ba8f-ade23a943526",
   "metadata": {},
   "outputs": [
    {
     "name": "stderr",
     "output_type": "stream",
     "text": [
      "Warning message in sqrt(rowSums((data - cluster_centers[i, ])^2)) * membership_matrix[i, :\n",
      "\"longer object length is not a multiple of shorter object length\"\n",
      "Warning message in sqrt(rowSums((data - cluster_centers[i, ])^2)) * membership_matrix[i, :\n",
      "\"longer object length is not a multiple of shorter object length\"\n",
      "Warning message in sqrt(rowSums((data - cluster_centers[i, ])^2)) * membership_matrix[i, :\n",
      "\"longer object length is not a multiple of shorter object length\"\n",
      "Warning message in sqrt(rowSums((data - cluster_centers[i, ])^2)) * membership_matrix[i, :\n",
      "\"longer object length is not a multiple of shorter object length\"\n",
      "Warning message in sqrt(rowSums((data - cluster_centers[i, ])^2)) * membership_matrix[i, :\n",
      "\"longer object length is not a multiple of shorter object length\"\n"
     ]
    },
    {
     "name": "stdout",
     "output_type": "stream",
     "text": [
      "[1] \"Davies-Bouldin Index 1: 0.698357819262781\"\n",
      "[1] \"Davies-Bouldin Index 2: 0.601713255833001\"\n"
     ]
    },
    {
     "name": "stderr",
     "output_type": "stream",
     "text": [
      "Warning message in sqrt(rowSums((data - cluster_centers[i, ])^2)) * membership_matrix[i, :\n",
      "\"longer object length is not a multiple of shorter object length\"\n",
      "Warning message in sqrt(rowSums((data - cluster_centers[i, ])^2)) * membership_matrix[i, :\n",
      "\"longer object length is not a multiple of shorter object length\"\n",
      "Warning message in sqrt(rowSums((data - cluster_centers[i, ])^2)) * membership_matrix[i, :\n",
      "\"longer object length is not a multiple of shorter object length\"\n",
      "Warning message in sqrt(rowSums((data - cluster_centers[i, ])^2)) * membership_matrix[i, :\n",
      "\"longer object length is not a multiple of shorter object length\"\n",
      "Warning message in sqrt(rowSums((data - cluster_centers[i, ])^2)) * membership_matrix[i, :\n",
      "\"longer object length is not a multiple of shorter object length\"\n",
      "Warning message in sqrt(rowSums((data - cluster_centers[i, ])^2)) * membership_matrix[i, :\n",
      "\"longer object length is not a multiple of shorter object length\"\n",
      "Warning message in sqrt(rowSums((data - cluster_centers[i, ])^2)) * membership_matrix[i, :\n",
      "\"longer object length is not a multiple of shorter object length\"\n"
     ]
    },
    {
     "name": "stdout",
     "output_type": "stream",
     "text": [
      "[1] \"Davies-Bouldin Index 3: 0.778706202869979\"\n"
     ]
    },
    {
     "name": "stderr",
     "output_type": "stream",
     "text": [
      "Warning message in sqrt(rowSums((data - cluster_centers[i, ])^2)) * membership_matrix[i, :\n",
      "\"longer object length is not a multiple of shorter object length\"\n",
      "Warning message in sqrt(rowSums((data - cluster_centers[i, ])^2)) * membership_matrix[i, :\n",
      "\"longer object length is not a multiple of shorter object length\"\n",
      "Warning message in sqrt(rowSums((data - cluster_centers[i, ])^2)) * membership_matrix[i, :\n",
      "\"longer object length is not a multiple of shorter object length\"\n",
      "Warning message in sqrt(rowSums((data - cluster_centers[i, ])^2)) * membership_matrix[i, :\n",
      "\"longer object length is not a multiple of shorter object length\"\n",
      "Warning message in sqrt(rowSums((data - cluster_centers[i, ])^2)) * membership_matrix[i, :\n",
      "\"longer object length is not a multiple of shorter object length\"\n",
      "Warning message in sqrt(rowSums((data - cluster_centers[i, ])^2)) * membership_matrix[i, :\n",
      "\"longer object length is not a multiple of shorter object length\"\n",
      "Warning message in sqrt(rowSums((data - cluster_centers[i, ])^2)) * membership_matrix[i, :\n",
      "\"longer object length is not a multiple of shorter object length\"\n",
      "Warning message in sqrt(rowSums((data - cluster_centers[i, ])^2)) * membership_matrix[i, :\n",
      "\"longer object length is not a multiple of shorter object length\"\n",
      "Warning message in sqrt(rowSums((data - cluster_centers[i, ])^2)) * membership_matrix[i, :\n",
      "\"longer object length is not a multiple of shorter object length\"\n"
     ]
    },
    {
     "name": "stdout",
     "output_type": "stream",
     "text": [
      "[1] \"Davies-Bouldin Index 4: 1.17427221861615\"\n"
     ]
    }
   ],
   "source": [
    "db_index <- davies_bouldin_index(fuzzy_cluster_data1, fuzzy_cluster1$centers, fuzzy_membership_matrix1) \n",
    "print(paste(\"Davies-Bouldin Index 1:\", db_index))\n",
    "db_index <- davies_bouldin_index(fuzzy_cluster_data2, fuzzy_cluster2$centers, fuzzy_membership_matrix2) \n",
    "print(paste(\"Davies-Bouldin Index 2:\", db_index))\n",
    "db_index <- davies_bouldin_index(fuzzy_cluster_data3, fuzzy_cluster3$centers, fuzzy_membership_matrix3) \n",
    "print(paste(\"Davies-Bouldin Index 3:\", db_index))\n",
    "db_index <- davies_bouldin_index(fuzzy_cluster_data4, fuzzy_cluster4$centers, fuzzy_membership_matrix4) \n",
    "print(paste(\"Davies-Bouldin Index 4:\", db_index))\n"
   ]
  },
  {
   "cell_type": "code",
   "execution_count": 26,
   "id": "85dd806c-7101-4e32-bece-1857d5a90b61",
   "metadata": {},
   "outputs": [],
   "source": [
    "fuzzy_cluster_data <- fuzzy_cluster_data2\n",
    "fuzzy_cluster <- fuzzy_cluster2\n",
    "fuzzy_membership_matrix <- fuzzy_membership_matrix2"
   ]
  },
  {
   "cell_type": "code",
   "execution_count": 27,
   "id": "79ad11ea-2aa4-46ab-abf0-85718f8c8c66",
   "metadata": {},
   "outputs": [
    {
     "data": {
      "image/png": "[encoded data removed]",
      "text/plain": [
       "plot without title"
      ]
     },
     "metadata": {
      "image/png": {
       "height": 420,
       "width": 420
      }
     },
     "output_type": "display_data"
    }
   ],
   "source": [
    "centers <- t(fuzzy_cluster$centers) \n",
    "fuzzy_cluster_data$Cluster <- apply(fuzzy_membership_matrix, 1, which.max) \n",
    "ggplot(fuzzy_cluster_data, aes(x = hispanic_pop, y = female_21_49,  \n",
    "                               color = as.factor(Cluster))) + \n",
    "  geom_point() + \n",
    "  labs(title = \"Fuzzy C-means Clustering\", x = \"hispanic_pop\", y = \"female_21_49 \")"
   ]
  },
  {
   "cell_type": "code",
   "execution_count": 28,
   "id": "81f48cd6-7572-4b63-85a4-2499cc1893ed",
   "metadata": {},
   "outputs": [
    {
     "data": {
      "image/png": "[encoded data removed]",
      "text/plain": [
       "plot without title"
      ]
     },
     "metadata": {
      "image/png": {
       "height": 420,
       "width": 420
      }
     },
     "output_type": "display_data"
    }
   ],
   "source": [
    "pairs(dataset_select_clustering_scale, pch = 16, col = as.numeric(fuzzy_cluster$cluster))\n"
   ]
  },
  {
   "cell_type": "code",
   "execution_count": 29,
   "id": "8cefa083-07f0-4a6b-9887-449159087d6e",
   "metadata": {},
   "outputs": [
    {
     "data": {
      "image/png": "[encoded data removed]",
      "text/plain": [
       "Plot with title \"CLUSPLOT( dataset_select_clustering_scale )\""
      ]
     },
     "metadata": {
      "image/png": {
       "height": 420,
       "width": 420
      }
     },
     "output_type": "display_data"
    }
   ],
   "source": [
    "\n",
    "clusplot(dataset_select_clustering_scale, fuzzy_cluster$cluster, color = TRUE, shade = TRUE, \n",
    "         labels = 2, lines = 0)"
   ]
  },
  {
   "cell_type": "code",
   "execution_count": 30,
   "id": "00ca3d56-8688-4a37-a4e3-9c55e8983546",
   "metadata": {},
   "outputs": [
    {
     "data": {
      "image/png": "[encoded data removed]",
      "text/plain": [
       "Plot with title \"Convex Cluster Hulls\""
      ]
     },
     "metadata": {
      "image/png": {
       "height": 420,
       "width": 420
      }
     },
     "output_type": "display_data"
    }
   ],
   "source": [
    "hullplot(dataset_select_clustering_scale, fuzzy_cluster$cluster)"
   ]
  },
  {
   "cell_type": "code",
   "execution_count": 31,
   "id": "1ec85a68-8975-4fa9-99fd-4179cc368aeb",
   "metadata": {},
   "outputs": [
    {
     "data": {
      "text/html": [
       "<table class=\"dataframe\">\n",
       "<caption>A tibble: 3 × 5</caption>\n",
       "<thead>\n",
       "\t<tr><th scope=col>cluster</th><th scope=col>avg_death_per_case</th><th scope=col>avg_hispanic_pop</th><th scope=col>avg_female_21_49</th><th scope=col>no_counties_in_cluster</th></tr>\n",
       "\t<tr><th scope=col>&lt;int&gt;</th><th scope=col>&lt;dbl&gt;</th><th scope=col>&lt;dbl&gt;</th><th scope=col>&lt;dbl&gt;</th><th scope=col>&lt;int&gt;</th></tr>\n",
       "</thead>\n",
       "<tbody>\n",
       "\t<tr><td>1</td><td>0.02692633</td><td>  6276.77</td><td>  3425.74</td><td>204</td></tr>\n",
       "\t<tr><td>2</td><td>0.01797299</td><td> 97230.31</td><td> 43345.25</td><td> 16</td></tr>\n",
       "\t<tr><td>3</td><td>0.02689154</td><td>728483.50</td><td>163360.50</td><td>  2</td></tr>\n",
       "</tbody>\n",
       "</table>\n"
      ],
      "text/latex": [
       "A tibble: 3 × 5\n",
       "\\begin{tabular}{lllll}\n",
       " cluster & avg\\_death\\_per\\_case & avg\\_hispanic\\_pop & avg\\_female\\_21\\_49 & no\\_counties\\_in\\_cluster\\\\\n",
       " <int> & <dbl> & <dbl> & <dbl> & <int>\\\\\n",
       "\\hline\n",
       "\t 1 & 0.02692633 &   6276.77 &   3425.74 & 204\\\\\n",
       "\t 2 & 0.01797299 &  97230.31 &  43345.25 &  16\\\\\n",
       "\t 3 & 0.02689154 & 728483.50 & 163360.50 &   2\\\\\n",
       "\\end{tabular}\n"
      ],
      "text/markdown": [
       "\n",
       "A tibble: 3 × 5\n",
       "\n",
       "| cluster &lt;int&gt; | avg_death_per_case &lt;dbl&gt; | avg_hispanic_pop &lt;dbl&gt; | avg_female_21_49 &lt;dbl&gt; | no_counties_in_cluster &lt;int&gt; |\n",
       "|---|---|---|---|---|\n",
       "| 1 | 0.02692633 |   6276.77 |   3425.74 | 204 |\n",
       "| 2 | 0.01797299 |  97230.31 |  43345.25 |  16 |\n",
       "| 3 | 0.02689154 | 728483.50 | 163360.50 |   2 |\n",
       "\n"
      ],
      "text/plain": [
       "  cluster avg_death_per_case avg_hispanic_pop avg_female_21_49\n",
       "1 1       0.02692633           6276.77          3425.74       \n",
       "2 2       0.01797299          97230.31         43345.25       \n",
       "3 3       0.02689154         728483.50        163360.50       \n",
       "  no_counties_in_cluster\n",
       "1 204                   \n",
       "2  16                   \n",
       "3   2                   "
      ]
     },
     "metadata": {},
     "output_type": "display_data"
    }
   ],
   "source": [
    "dataset_select_clustering$cluster <- fuzzy_cluster$cluster\n",
    "\n",
    "winner2<-dataset_select_clustering\n",
    "\n",
    "dataset_select_clustering %>% group_by(cluster) %>% summarize(\n",
    "  avg_death_per_case = mean(death_per_case),\n",
    "    avg_hispanic_pop= mean(hispanic_pop),\n",
    "    avg_female_21_49=mean(female_21_49),\n",
    "     no_counties_in_cluster=n())"
   ]
  },
  {
   "cell_type": "markdown",
   "id": "c440fd3a-a847-40e8-8c17-13b92ab9b977",
   "metadata": {},
   "source": [
    "### CLuster 3"
   ]
  },
  {
   "cell_type": "code",
   "execution_count": 32,
   "id": "37acad64-089a-4a4a-afc2-d750f279cb77",
   "metadata": {},
   "outputs": [
    {
     "data": {
      "text/plain": [
       " income_100K_150K   rent_under_50_percent male_50_above          commute       \n",
       " Min.   :-0.49239   Min.   :-0.4068       Min.   :-0.524613   Min.   :-0.4412  \n",
       " 1st Qu.:-0.43887   1st Qu.:-0.3720       1st Qu.:-0.440329   1st Qu.:-0.3834  \n",
       " Median :-0.34345   Median :-0.3069       Median :-0.306636   Median :-0.3081  \n",
       " Mean   : 0.00000   Mean   : 0.0000       Mean   : 0.000000   Mean   : 0.0000  \n",
       " 3rd Qu.:-0.07254   3rd Qu.:-0.1408       3rd Qu.:-0.000192   3rd Qu.:-0.0800  \n",
       " Max.   : 7.37936   Max.   : 8.5854       Max.   : 7.969696   Max.   : 8.2967  "
      ]
     },
     "metadata": {},
     "output_type": "display_data"
    }
   ],
   "source": [
    "dataset_select_clustering_scale <-dataset_select_clustering_scale3\n",
    "summary(dataset_select_clustering_scale)"
   ]
  },
  {
   "cell_type": "code",
   "execution_count": 33,
   "id": "78b4ca0a-3abd-4187-bcdf-08e39cefb686",
   "metadata": {},
   "outputs": [],
   "source": [
    "set.seed(123) \n",
    "n_cluster <- 5 \n",
    "m <- 2 \n",
    "fuzzy_cluster1 <- cmeans(dataset_select_clustering_scale, centers = 5, m = m)\n",
    "fuzzy_cluster2 <- cmeans(dataset_select_clustering_scale, centers = 3, m = m)\n",
    "fuzzy_cluster3 <- cmeans(dataset_select_clustering_scale, centers = 7, m = m)\n",
    "fuzzy_cluster4 <- cmeans(dataset_select_clustering_scale, centers = 9, m = m)"
   ]
  },
  {
   "cell_type": "code",
   "execution_count": 34,
   "id": "4302f9f5-62d4-4fd1-91f0-0f49291b1117",
   "metadata": {},
   "outputs": [],
   "source": [
    "# Data Membership Degree Matrix \n",
    "fuzzy_membership_matrix1 <- fuzzy_cluster1$membership \n",
    "fuzzy_membership_matrix2 <- fuzzy_cluster2$membership \n",
    "fuzzy_membership_matrix3 <- fuzzy_cluster3$membership \n",
    "fuzzy_membership_matrix4 <- fuzzy_cluster4$membership "
   ]
  },
  {
   "cell_type": "code",
   "execution_count": 35,
   "id": "2b9b2b29-3c68-4e90-85e8-0e9a01a9cc00",
   "metadata": {},
   "outputs": [
    {
     "data": {
      "text/html": [
       "<table class=\"dataframe\">\n",
       "<caption>A data.frame: 6 × 9</caption>\n",
       "<thead>\n",
       "\t<tr><th></th><th scope=col>income_100K_150K</th><th scope=col>rent_under_50_percent</th><th scope=col>male_50_above</th><th scope=col>commute</th><th scope=col>1</th><th scope=col>2</th><th scope=col>3</th><th scope=col>4</th><th scope=col>5</th></tr>\n",
       "\t<tr><th></th><th scope=col>&lt;dbl&gt;</th><th scope=col>&lt;dbl&gt;</th><th scope=col>&lt;dbl&gt;</th><th scope=col>&lt;dbl&gt;</th><th scope=col>&lt;dbl&gt;</th><th scope=col>&lt;dbl&gt;</th><th scope=col>&lt;dbl&gt;</th><th scope=col>&lt;dbl&gt;</th><th scope=col>&lt;dbl&gt;</th></tr>\n",
       "</thead>\n",
       "<tbody>\n",
       "\t<tr><th scope=row>1</th><td>7.379360</td><td>8.585387</td><td>7.969696</td><td>8.296710</td><td>0.011367254</td><td>0.01024474</td><td>0.01568615</td><td>0.932918652</td><td>0.02978320</td></tr>\n",
       "\t<tr><th scope=row>2</th><td>5.693880</td><td>5.438001</td><td>7.063784</td><td>6.974905</td><td>0.024335804</td><td>0.02129370</td><td>0.03682869</td><td>0.828685051</td><td>0.08885675</td></tr>\n",
       "\t<tr><th scope=row>3</th><td>3.343135</td><td>3.431992</td><td>2.661676</td><td>3.211183</td><td>0.003803802</td><td>0.00294918</td><td>0.01008608</td><td>0.002151353</td><td>0.98100959</td></tr>\n",
       "\t<tr><th scope=row>4</th><td>1.795505</td><td>1.536212</td><td>1.710948</td><td>2.128970</td><td>0.081509287</td><td>0.05252204</td><td>0.72843789</td><td>0.008220008</td><td>0.12931078</td></tr>\n",
       "\t<tr><th scope=row>5</th><td>2.581921</td><td>2.661243</td><td>3.865434</td><td>3.431921</td><td>0.039120082</td><td>0.03015021</td><td>0.09686898</td><td>0.022124126</td><td>0.81173661</td></tr>\n",
       "\t<tr><th scope=row>6</th><td>4.846130</td><td>4.414474</td><td>3.954835</td><td>3.717860</td><td>0.052679122</td><td>0.04336076</td><td>0.10375155</td><td>0.093911156</td><td>0.70629741</td></tr>\n",
       "</tbody>\n",
       "</table>\n"
      ],
      "text/latex": [
       "A data.frame: 6 × 9\n",
       "\\begin{tabular}{r|lllllllll}\n",
       "  & income\\_100K\\_150K & rent\\_under\\_50\\_percent & male\\_50\\_above & commute & 1 & 2 & 3 & 4 & 5\\\\\n",
       "  & <dbl> & <dbl> & <dbl> & <dbl> & <dbl> & <dbl> & <dbl> & <dbl> & <dbl>\\\\\n",
       "\\hline\n",
       "\t1 & 7.379360 & 8.585387 & 7.969696 & 8.296710 & 0.011367254 & 0.01024474 & 0.01568615 & 0.932918652 & 0.02978320\\\\\n",
       "\t2 & 5.693880 & 5.438001 & 7.063784 & 6.974905 & 0.024335804 & 0.02129370 & 0.03682869 & 0.828685051 & 0.08885675\\\\\n",
       "\t3 & 3.343135 & 3.431992 & 2.661676 & 3.211183 & 0.003803802 & 0.00294918 & 0.01008608 & 0.002151353 & 0.98100959\\\\\n",
       "\t4 & 1.795505 & 1.536212 & 1.710948 & 2.128970 & 0.081509287 & 0.05252204 & 0.72843789 & 0.008220008 & 0.12931078\\\\\n",
       "\t5 & 2.581921 & 2.661243 & 3.865434 & 3.431921 & 0.039120082 & 0.03015021 & 0.09686898 & 0.022124126 & 0.81173661\\\\\n",
       "\t6 & 4.846130 & 4.414474 & 3.954835 & 3.717860 & 0.052679122 & 0.04336076 & 0.10375155 & 0.093911156 & 0.70629741\\\\\n",
       "\\end{tabular}\n"
      ],
      "text/markdown": [
       "\n",
       "A data.frame: 6 × 9\n",
       "\n",
       "| <!--/--> | income_100K_150K &lt;dbl&gt; | rent_under_50_percent &lt;dbl&gt; | male_50_above &lt;dbl&gt; | commute &lt;dbl&gt; | 1 &lt;dbl&gt; | 2 &lt;dbl&gt; | 3 &lt;dbl&gt; | 4 &lt;dbl&gt; | 5 &lt;dbl&gt; |\n",
       "|---|---|---|---|---|---|---|---|---|---|\n",
       "| 1 | 7.379360 | 8.585387 | 7.969696 | 8.296710 | 0.011367254 | 0.01024474 | 0.01568615 | 0.932918652 | 0.02978320 |\n",
       "| 2 | 5.693880 | 5.438001 | 7.063784 | 6.974905 | 0.024335804 | 0.02129370 | 0.03682869 | 0.828685051 | 0.08885675 |\n",
       "| 3 | 3.343135 | 3.431992 | 2.661676 | 3.211183 | 0.003803802 | 0.00294918 | 0.01008608 | 0.002151353 | 0.98100959 |\n",
       "| 4 | 1.795505 | 1.536212 | 1.710948 | 2.128970 | 0.081509287 | 0.05252204 | 0.72843789 | 0.008220008 | 0.12931078 |\n",
       "| 5 | 2.581921 | 2.661243 | 3.865434 | 3.431921 | 0.039120082 | 0.03015021 | 0.09686898 | 0.022124126 | 0.81173661 |\n",
       "| 6 | 4.846130 | 4.414474 | 3.954835 | 3.717860 | 0.052679122 | 0.04336076 | 0.10375155 | 0.093911156 | 0.70629741 |\n",
       "\n"
      ],
      "text/plain": [
       "  income_100K_150K rent_under_50_percent male_50_above commute  1          \n",
       "1 7.379360         8.585387              7.969696      8.296710 0.011367254\n",
       "2 5.693880         5.438001              7.063784      6.974905 0.024335804\n",
       "3 3.343135         3.431992              2.661676      3.211183 0.003803802\n",
       "4 1.795505         1.536212              1.710948      2.128970 0.081509287\n",
       "5 2.581921         2.661243              3.865434      3.431921 0.039120082\n",
       "6 4.846130         4.414474              3.954835      3.717860 0.052679122\n",
       "  2          3          4           5         \n",
       "1 0.01024474 0.01568615 0.932918652 0.02978320\n",
       "2 0.02129370 0.03682869 0.828685051 0.08885675\n",
       "3 0.00294918 0.01008608 0.002151353 0.98100959\n",
       "4 0.05252204 0.72843789 0.008220008 0.12931078\n",
       "5 0.03015021 0.09686898 0.022124126 0.81173661\n",
       "6 0.04336076 0.10375155 0.093911156 0.70629741"
      ]
     },
     "metadata": {},
     "output_type": "display_data"
    }
   ],
   "source": [
    "# Cluster Prototype Evolution Matrices \n",
    "initial_centers1 <- fuzzy_cluster1$centers \n",
    "final_centers1 <- t(fuzzy_cluster1$centers)\n",
    "\n",
    "initial_centers2 <- fuzzy_cluster2$centers \n",
    "final_centers2 <- t(fuzzy_cluster2$centers)\n",
    "\n",
    "initial_centers3 <- fuzzy_cluster3$centers \n",
    "final_centers3 <- t(fuzzy_cluster3$centers)\n",
    "\n",
    "initial_centers4 <- fuzzy_cluster4$centers \n",
    "final_centers4 <- t(fuzzy_cluster4$centers)\n",
    "\n",
    "cluster_membership1 <- as.data.frame(fuzzy_cluster1$membership) \n",
    "cluster_membership2 <- as.data.frame(fuzzy_cluster2$membership) \n",
    "cluster_membership3 <- as.data.frame(fuzzy_cluster3$membership) \n",
    "cluster_membership4 <- as.data.frame(fuzzy_cluster4$membership) \n",
    "\n",
    "fuzzy_cluster_data1 <- cbind(dataset_select_clustering_scale, cluster_membership1) \n",
    "fuzzy_cluster_data2 <- cbind(dataset_select_clustering_scale, cluster_membership2) \n",
    "fuzzy_cluster_data3 <- cbind(dataset_select_clustering_scale, cluster_membership3) \n",
    "fuzzy_cluster_data4 <- cbind(dataset_select_clustering_scale, cluster_membership4) \n",
    "\n",
    "head(fuzzy_cluster_data1)"
   ]
  },
  {
   "cell_type": "code",
   "execution_count": 36,
   "id": "73b4e960-01fe-4278-90db-af4a8cf07e5b",
   "metadata": {},
   "outputs": [
    {
     "name": "stderr",
     "output_type": "stream",
     "text": [
      "Warning message in sqrt(rowSums((data - cluster_centers[i, ])^2)) * membership_matrix[i, :\n",
      "\"longer object length is not a multiple of shorter object length\"\n",
      "Warning message in sqrt(rowSums((data - cluster_centers[i, ])^2)) * membership_matrix[i, :\n",
      "\"longer object length is not a multiple of shorter object length\"\n",
      "Warning message in sqrt(rowSums((data - cluster_centers[i, ])^2)) * membership_matrix[i, :\n",
      "\"longer object length is not a multiple of shorter object length\"\n",
      "Warning message in sqrt(rowSums((data - cluster_centers[i, ])^2)) * membership_matrix[i, :\n",
      "\"longer object length is not a multiple of shorter object length\"\n",
      "Warning message in sqrt(rowSums((data - cluster_centers[i, ])^2)) * membership_matrix[i, :\n",
      "\"longer object length is not a multiple of shorter object length\"\n"
     ]
    },
    {
     "name": "stdout",
     "output_type": "stream",
     "text": [
      "[1] \"Davies-Bouldin Index 1: 0.739791885493779\"\n",
      "[1] \"Davies-Bouldin Index 2: 0.689610898672008\"\n"
     ]
    },
    {
     "name": "stderr",
     "output_type": "stream",
     "text": [
      "Warning message in sqrt(rowSums((data - cluster_centers[i, ])^2)) * membership_matrix[i, :\n",
      "\"longer object length is not a multiple of shorter object length\"\n",
      "Warning message in sqrt(rowSums((data - cluster_centers[i, ])^2)) * membership_matrix[i, :\n",
      "\"longer object length is not a multiple of shorter object length\"\n",
      "Warning message in sqrt(rowSums((data - cluster_centers[i, ])^2)) * membership_matrix[i, :\n",
      "\"longer object length is not a multiple of shorter object length\"\n",
      "Warning message in sqrt(rowSums((data - cluster_centers[i, ])^2)) * membership_matrix[i, :\n",
      "\"longer object length is not a multiple of shorter object length\"\n",
      "Warning message in sqrt(rowSums((data - cluster_centers[i, ])^2)) * membership_matrix[i, :\n",
      "\"longer object length is not a multiple of shorter object length\"\n",
      "Warning message in sqrt(rowSums((data - cluster_centers[i, ])^2)) * membership_matrix[i, :\n",
      "\"longer object length is not a multiple of shorter object length\"\n",
      "Warning message in sqrt(rowSums((data - cluster_centers[i, ])^2)) * membership_matrix[i, :\n",
      "\"longer object length is not a multiple of shorter object length\"\n"
     ]
    },
    {
     "name": "stdout",
     "output_type": "stream",
     "text": [
      "[1] \"Davies-Bouldin Index 3: 0.917229768702394\"\n"
     ]
    },
    {
     "name": "stderr",
     "output_type": "stream",
     "text": [
      "Warning message in sqrt(rowSums((data - cluster_centers[i, ])^2)) * membership_matrix[i, :\n",
      "\"longer object length is not a multiple of shorter object length\"\n",
      "Warning message in sqrt(rowSums((data - cluster_centers[i, ])^2)) * membership_matrix[i, :\n",
      "\"longer object length is not a multiple of shorter object length\"\n",
      "Warning message in sqrt(rowSums((data - cluster_centers[i, ])^2)) * membership_matrix[i, :\n",
      "\"longer object length is not a multiple of shorter object length\"\n",
      "Warning message in sqrt(rowSums((data - cluster_centers[i, ])^2)) * membership_matrix[i, :\n",
      "\"longer object length is not a multiple of shorter object length\"\n",
      "Warning message in sqrt(rowSums((data - cluster_centers[i, ])^2)) * membership_matrix[i, :\n",
      "\"longer object length is not a multiple of shorter object length\"\n",
      "Warning message in sqrt(rowSums((data - cluster_centers[i, ])^2)) * membership_matrix[i, :\n",
      "\"longer object length is not a multiple of shorter object length\"\n",
      "Warning message in sqrt(rowSums((data - cluster_centers[i, ])^2)) * membership_matrix[i, :\n",
      "\"longer object length is not a multiple of shorter object length\"\n",
      "Warning message in sqrt(rowSums((data - cluster_centers[i, ])^2)) * membership_matrix[i, :\n",
      "\"longer object length is not a multiple of shorter object length\"\n",
      "Warning message in sqrt(rowSums((data - cluster_centers[i, ])^2)) * membership_matrix[i, :\n",
      "\"longer object length is not a multiple of shorter object length\"\n"
     ]
    },
    {
     "name": "stdout",
     "output_type": "stream",
     "text": [
      "[1] \"Davies-Bouldin Index 4: 0.861722305390436\"\n"
     ]
    }
   ],
   "source": [
    "db_index <- davies_bouldin_index(fuzzy_cluster_data1, fuzzy_cluster1$centers, fuzzy_membership_matrix1) \n",
    "print(paste(\"Davies-Bouldin Index 1:\", db_index))\n",
    "db_index <- davies_bouldin_index(fuzzy_cluster_data2, fuzzy_cluster2$centers, fuzzy_membership_matrix2) \n",
    "print(paste(\"Davies-Bouldin Index 2:\", db_index))\n",
    "db_index <- davies_bouldin_index(fuzzy_cluster_data3, fuzzy_cluster3$centers, fuzzy_membership_matrix3) \n",
    "print(paste(\"Davies-Bouldin Index 3:\", db_index))\n",
    "db_index <- davies_bouldin_index(fuzzy_cluster_data4, fuzzy_cluster4$centers, fuzzy_membership_matrix4) \n",
    "print(paste(\"Davies-Bouldin Index 4:\", db_index))"
   ]
  },
  {
   "cell_type": "code",
   "execution_count": 37,
   "id": "f69836f1-4404-42ff-a4aa-15bf52e3558c",
   "metadata": {},
   "outputs": [],
   "source": [
    "fuzzy_cluster_data <- fuzzy_cluster_data2\n",
    "fuzzy_cluster <- fuzzy_cluster2\n",
    "fuzzy_membership_matrix <- fuzzy_membership_matrix2"
   ]
  },
  {
   "cell_type": "code",
   "execution_count": 38,
   "id": "46115dac-478a-4320-b6ff-2f7fa0b79cbb",
   "metadata": {},
   "outputs": [
    {
     "data": {
      "image/png": "[encoded data removed]",
      "text/plain": [
       "plot without title"
      ]
     },
     "metadata": {
      "image/png": {
       "height": 420,
       "width": 420
      }
     },
     "output_type": "display_data"
    }
   ],
   "source": [
    "centers <- t(fuzzy_cluster$centers) \n",
    "fuzzy_cluster_data$Cluster <- apply(fuzzy_membership_matrix, 1, which.max) \n",
    "ggplot(fuzzy_cluster_data, aes(x = income_100K_150K, y = male_50_above,  \n",
    "                               color = as.factor(Cluster))) + \n",
    "  geom_point() + \n",
    "  labs(title = \"Fuzzy C-means Clustering\", x = \"INcome\", y = \"Male Above 50\")"
   ]
  },
  {
   "cell_type": "code",
   "execution_count": 39,
   "id": "86f81d70-e0d1-4b91-bba1-4fa94d9a77a5",
   "metadata": {},
   "outputs": [
    {
     "data": {
      "image/png": "[encoded data removed]",
      "text/plain": [
       "plot without title"
      ]
     },
     "metadata": {
      "image/png": {
       "height": 420,
       "width": 420
      }
     },
     "output_type": "display_data"
    }
   ],
   "source": [
    "pairs(dataset_select_clustering_scale, pch = 16, col = as.numeric(fuzzy_cluster$cluster))"
   ]
  },
  {
   "cell_type": "code",
   "execution_count": 40,
   "id": "2aba9789-313f-4aa9-b2aa-1952d6c63c49",
   "metadata": {},
   "outputs": [
    {
     "data": {
      "image/png": "[encoded data removed]",
      "text/plain": [
       "Plot with title \"CLUSPLOT( dataset_select_clustering_scale )\""
      ]
     },
     "metadata": {
      "image/png": {
       "height": 420,
       "width": 420
      }
     },
     "output_type": "display_data"
    }
   ],
   "source": [
    "clusplot(dataset_select_clustering_scale, fuzzy_cluster$cluster, color = TRUE, shade = TRUE, \n",
    "         labels = 2, lines = 0)"
   ]
  },
  {
   "cell_type": "code",
   "execution_count": 41,
   "id": "22c1c58f-fa13-43f4-99d9-a89b242c25ff",
   "metadata": {},
   "outputs": [
    {
     "data": {
      "image/png": "[encoded data removed]",
      "text/plain": [
       "Plot with title \"Convex Cluster Hulls\""
      ]
     },
     "metadata": {
      "image/png": {
       "height": 420,
       "width": 420
      }
     },
     "output_type": "display_data"
    }
   ],
   "source": [
    "hullplot(dataset_select_clustering_scale, fuzzy_cluster$cluster)"
   ]
  },
  {
   "cell_type": "code",
   "execution_count": 42,
   "id": "1fc60b8a-c8ef-4853-9d0b-9b596bd7647f",
   "metadata": {},
   "outputs": [
    {
     "data": {
      "text/html": [
       "<table class=\"dataframe\">\n",
       "<caption>A tibble: 3 × 4</caption>\n",
       "<thead>\n",
       "\t<tr><th scope=col>cluster</th><th scope=col>avg_death_per_case</th><th scope=col>avg_male_50_above</th><th scope=col>no_counties_in_cluster</th></tr>\n",
       "\t<tr><th scope=col>&lt;int&gt;</th><th scope=col>&lt;dbl&gt;</th><th scope=col>&lt;dbl&gt;</th><th scope=col>&lt;int&gt;</th></tr>\n",
       "</thead>\n",
       "<tbody>\n",
       "\t<tr><td>1</td><td>0.02696971</td><td>  3688.322</td><td>202</td></tr>\n",
       "\t<tr><td>2</td><td>0.02689154</td><td>103378.500</td><td>  2</td></tr>\n",
       "\t<tr><td>3</td><td>0.01848090</td><td> 30637.056</td><td> 18</td></tr>\n",
       "</tbody>\n",
       "</table>\n"
      ],
      "text/latex": [
       "A tibble: 3 × 4\n",
       "\\begin{tabular}{llll}\n",
       " cluster & avg\\_death\\_per\\_case & avg\\_male\\_50\\_above & no\\_counties\\_in\\_cluster\\\\\n",
       " <int> & <dbl> & <dbl> & <int>\\\\\n",
       "\\hline\n",
       "\t 1 & 0.02696971 &   3688.322 & 202\\\\\n",
       "\t 2 & 0.02689154 & 103378.500 &   2\\\\\n",
       "\t 3 & 0.01848090 &  30637.056 &  18\\\\\n",
       "\\end{tabular}\n"
      ],
      "text/markdown": [
       "\n",
       "A tibble: 3 × 4\n",
       "\n",
       "| cluster &lt;int&gt; | avg_death_per_case &lt;dbl&gt; | avg_male_50_above &lt;dbl&gt; | no_counties_in_cluster &lt;int&gt; |\n",
       "|---|---|---|---|\n",
       "| 1 | 0.02696971 |   3688.322 | 202 |\n",
       "| 2 | 0.02689154 | 103378.500 |   2 |\n",
       "| 3 | 0.01848090 |  30637.056 |  18 |\n",
       "\n"
      ],
      "text/plain": [
       "  cluster avg_death_per_case avg_male_50_above no_counties_in_cluster\n",
       "1 1       0.02696971           3688.322        202                   \n",
       "2 2       0.02689154         103378.500          2                   \n",
       "3 3       0.01848090          30637.056         18                   "
      ]
     },
     "metadata": {},
     "output_type": "display_data"
    }
   ],
   "source": [
    "dataset_select_clustering$cluster <- fuzzy_cluster$cluster\n",
    "winner3 <- dataset_select_clustering\n",
    "\n",
    "dataset_select_clustering %>% group_by(cluster) %>% summarize(\n",
    "  avg_death_per_case = mean(death_per_case),\n",
    "    avg_male_50_above = mean(male_50_above),\n",
    "    no_counties_in_cluster=n())"
   ]
  },
  {
   "cell_type": "markdown",
   "id": "3539e5c1-a49d-4036-8499-ebccd56fac77",
   "metadata": {},
   "source": [
    "### Cluster 4"
   ]
  },
  {
   "cell_type": "code",
   "execution_count": 43,
   "id": "7fd616d6-1973-4b3c-b6de-2102a3f5a209",
   "metadata": {},
   "outputs": [
    {
     "data": {
      "text/plain": [
       "  hispanic_pop     income_50K_100K      male_21_49          commute       \n",
       " Min.   :-0.2510   Min.   :-0.48025   Min.   :-0.42670   Min.   :-0.4412  \n",
       " 1st Qu.:-0.2321   1st Qu.:-0.42067   1st Qu.:-0.37657   1st Qu.:-0.3834  \n",
       " Median :-0.2031   Median :-0.31755   Median :-0.29161   Median :-0.3081  \n",
       " Mean   : 0.0000   Mean   : 0.00000   Mean   : 0.00000   Mean   : 0.0000  \n",
       " 3rd Qu.:-0.1235   3rd Qu.:-0.06348   3rd Qu.:-0.09854   3rd Qu.:-0.0800  \n",
       " Max.   : 9.7590   Max.   : 8.07375   Max.   : 8.31051   Max.   : 8.2967  \n",
       " rent_over_50_percent\n",
       " Min.   :-0.3775     \n",
       " 1st Qu.:-0.3553     \n",
       " Median :-0.3095     \n",
       " Mean   : 0.0000     \n",
       " 3rd Qu.:-0.1573     \n",
       " Max.   : 6.8913     "
      ]
     },
     "metadata": {},
     "output_type": "display_data"
    }
   ],
   "source": [
    "dataset_select_clustering_scale <-dataset_select_clustering_scale4\n",
    "summary(dataset_select_clustering_scale)"
   ]
  },
  {
   "cell_type": "code",
   "execution_count": 44,
   "id": "61e5afd1-439f-420a-9e28-3e79a99da29d",
   "metadata": {},
   "outputs": [],
   "source": [
    "set.seed(123) \n",
    "n_cluster <- 5 \n",
    "m <- 2 \n",
    "fuzzy_cluster1 <- cmeans(dataset_select_clustering_scale, centers = 5, m = m)\n",
    "fuzzy_cluster2 <- cmeans(dataset_select_clustering_scale, centers = 3, m = m)\n",
    "fuzzy_cluster3 <- cmeans(dataset_select_clustering_scale, centers = 7, m = m)\n",
    "fuzzy_cluster4 <- cmeans(dataset_select_clustering_scale, centers = 9, m = m)"
   ]
  },
  {
   "cell_type": "code",
   "execution_count": 45,
   "id": "9055ed2b-348e-46c7-9164-850a72a12a5f",
   "metadata": {},
   "outputs": [],
   "source": [
    "\n",
    "# Data Membership Degree Matrix \n",
    "fuzzy_membership_matrix1 <- fuzzy_cluster1$membership \n",
    "fuzzy_membership_matrix2 <- fuzzy_cluster2$membership \n",
    "fuzzy_membership_matrix3 <- fuzzy_cluster3$membership \n",
    "fuzzy_membership_matrix4 <- fuzzy_cluster4$membership \n",
    "  "
   ]
  },
  {
   "cell_type": "code",
   "execution_count": 46,
   "id": "5c3d0c3d-a4e1-47ac-b2d6-7b4c612a2604",
   "metadata": {},
   "outputs": [
    {
     "data": {
      "text/html": [
       "<table class=\"dataframe\">\n",
       "<caption>A data.frame: 6 × 10</caption>\n",
       "<thead>\n",
       "\t<tr><th></th><th scope=col>hispanic_pop</th><th scope=col>income_50K_100K</th><th scope=col>male_21_49</th><th scope=col>commute</th><th scope=col>rent_over_50_percent</th><th scope=col>1</th><th scope=col>2</th><th scope=col>3</th><th scope=col>4</th><th scope=col>5</th></tr>\n",
       "\t<tr><th></th><th scope=col>&lt;dbl&gt;</th><th scope=col>&lt;dbl&gt;</th><th scope=col>&lt;dbl&gt;</th><th scope=col>&lt;dbl&gt;</th><th scope=col>&lt;dbl&gt;</th><th scope=col>&lt;dbl&gt;</th><th scope=col>&lt;dbl&gt;</th><th scope=col>&lt;dbl&gt;</th><th scope=col>&lt;dbl&gt;</th><th scope=col>&lt;dbl&gt;</th></tr>\n",
       "</thead>\n",
       "<tbody>\n",
       "\t<tr><th scope=row>1</th><td>8.660063</td><td>8.073754</td><td>8.310508</td><td>8.296710</td><td>6.891311</td><td>0.004956708</td><td>0.004561457</td><td>0.006306465</td><td>0.972809266</td><td>0.01136610</td></tr>\n",
       "\t<tr><th scope=row>2</th><td>9.759021</td><td>6.338627</td><td>7.719448</td><td>6.974905</td><td>6.514913</td><td>0.005405325</td><td>0.004970625</td><td>0.006883826</td><td>0.970259258</td><td>0.01248097</td></tr>\n",
       "\t<tr><th scope=row>3</th><td>1.083512</td><td>3.277058</td><td>2.789336</td><td>3.211183</td><td>4.478906</td><td>0.020097942</td><td>0.016286282</td><td>0.041450469</td><td>0.007413267</td><td>0.91475204</td></tr>\n",
       "\t<tr><th scope=row>4</th><td>3.092729</td><td>1.636767</td><td>2.235001</td><td>2.128970</td><td>2.028639</td><td>0.138041448</td><td>0.106334464</td><td>0.313666841</td><td>0.022968602</td><td>0.41898865</td></tr>\n",
       "\t<tr><th scope=row>5</th><td>4.622239</td><td>3.096164</td><td>3.414305</td><td>3.431921</td><td>3.223631</td><td>0.091145538</td><td>0.076625982</td><td>0.155663326</td><td>0.066084242</td><td>0.61048091</td></tr>\n",
       "\t<tr><th scope=row>6</th><td>2.681424</td><td>4.056543</td><td>3.190818</td><td>3.717860</td><td>3.902913</td><td>0.033690754</td><td>0.027823478</td><td>0.063468415</td><td>0.021108875</td><td>0.85390848</td></tr>\n",
       "</tbody>\n",
       "</table>\n"
      ],
      "text/latex": [
       "A data.frame: 6 × 10\n",
       "\\begin{tabular}{r|llllllllll}\n",
       "  & hispanic\\_pop & income\\_50K\\_100K & male\\_21\\_49 & commute & rent\\_over\\_50\\_percent & 1 & 2 & 3 & 4 & 5\\\\\n",
       "  & <dbl> & <dbl> & <dbl> & <dbl> & <dbl> & <dbl> & <dbl> & <dbl> & <dbl> & <dbl>\\\\\n",
       "\\hline\n",
       "\t1 & 8.660063 & 8.073754 & 8.310508 & 8.296710 & 6.891311 & 0.004956708 & 0.004561457 & 0.006306465 & 0.972809266 & 0.01136610\\\\\n",
       "\t2 & 9.759021 & 6.338627 & 7.719448 & 6.974905 & 6.514913 & 0.005405325 & 0.004970625 & 0.006883826 & 0.970259258 & 0.01248097\\\\\n",
       "\t3 & 1.083512 & 3.277058 & 2.789336 & 3.211183 & 4.478906 & 0.020097942 & 0.016286282 & 0.041450469 & 0.007413267 & 0.91475204\\\\\n",
       "\t4 & 3.092729 & 1.636767 & 2.235001 & 2.128970 & 2.028639 & 0.138041448 & 0.106334464 & 0.313666841 & 0.022968602 & 0.41898865\\\\\n",
       "\t5 & 4.622239 & 3.096164 & 3.414305 & 3.431921 & 3.223631 & 0.091145538 & 0.076625982 & 0.155663326 & 0.066084242 & 0.61048091\\\\\n",
       "\t6 & 2.681424 & 4.056543 & 3.190818 & 3.717860 & 3.902913 & 0.033690754 & 0.027823478 & 0.063468415 & 0.021108875 & 0.85390848\\\\\n",
       "\\end{tabular}\n"
      ],
      "text/markdown": [
       "\n",
       "A data.frame: 6 × 10\n",
       "\n",
       "| <!--/--> | hispanic_pop &lt;dbl&gt; | income_50K_100K &lt;dbl&gt; | male_21_49 &lt;dbl&gt; | commute &lt;dbl&gt; | rent_over_50_percent &lt;dbl&gt; | 1 &lt;dbl&gt; | 2 &lt;dbl&gt; | 3 &lt;dbl&gt; | 4 &lt;dbl&gt; | 5 &lt;dbl&gt; |\n",
       "|---|---|---|---|---|---|---|---|---|---|---|\n",
       "| 1 | 8.660063 | 8.073754 | 8.310508 | 8.296710 | 6.891311 | 0.004956708 | 0.004561457 | 0.006306465 | 0.972809266 | 0.01136610 |\n",
       "| 2 | 9.759021 | 6.338627 | 7.719448 | 6.974905 | 6.514913 | 0.005405325 | 0.004970625 | 0.006883826 | 0.970259258 | 0.01248097 |\n",
       "| 3 | 1.083512 | 3.277058 | 2.789336 | 3.211183 | 4.478906 | 0.020097942 | 0.016286282 | 0.041450469 | 0.007413267 | 0.91475204 |\n",
       "| 4 | 3.092729 | 1.636767 | 2.235001 | 2.128970 | 2.028639 | 0.138041448 | 0.106334464 | 0.313666841 | 0.022968602 | 0.41898865 |\n",
       "| 5 | 4.622239 | 3.096164 | 3.414305 | 3.431921 | 3.223631 | 0.091145538 | 0.076625982 | 0.155663326 | 0.066084242 | 0.61048091 |\n",
       "| 6 | 2.681424 | 4.056543 | 3.190818 | 3.717860 | 3.902913 | 0.033690754 | 0.027823478 | 0.063468415 | 0.021108875 | 0.85390848 |\n",
       "\n"
      ],
      "text/plain": [
       "  hispanic_pop income_50K_100K male_21_49 commute  rent_over_50_percent\n",
       "1 8.660063     8.073754        8.310508   8.296710 6.891311            \n",
       "2 9.759021     6.338627        7.719448   6.974905 6.514913            \n",
       "3 1.083512     3.277058        2.789336   3.211183 4.478906            \n",
       "4 3.092729     1.636767        2.235001   2.128970 2.028639            \n",
       "5 4.622239     3.096164        3.414305   3.431921 3.223631            \n",
       "6 2.681424     4.056543        3.190818   3.717860 3.902913            \n",
       "  1           2           3           4           5         \n",
       "1 0.004956708 0.004561457 0.006306465 0.972809266 0.01136610\n",
       "2 0.005405325 0.004970625 0.006883826 0.970259258 0.01248097\n",
       "3 0.020097942 0.016286282 0.041450469 0.007413267 0.91475204\n",
       "4 0.138041448 0.106334464 0.313666841 0.022968602 0.41898865\n",
       "5 0.091145538 0.076625982 0.155663326 0.066084242 0.61048091\n",
       "6 0.033690754 0.027823478 0.063468415 0.021108875 0.85390848"
      ]
     },
     "metadata": {},
     "output_type": "display_data"
    }
   ],
   "source": [
    "# Cluster Prototype Evolution Matrices \n",
    "initial_centers1 <- fuzzy_cluster1$centers \n",
    "final_centers1 <- t(fuzzy_cluster1$centers)\n",
    "\n",
    "initial_centers2 <- fuzzy_cluster2$centers \n",
    "final_centers2 <- t(fuzzy_cluster2$centers)\n",
    "\n",
    "initial_centers3 <- fuzzy_cluster3$centers \n",
    "final_centers3 <- t(fuzzy_cluster3$centers)\n",
    "\n",
    "initial_centers4 <- fuzzy_cluster4$centers \n",
    "final_centers4 <- t(fuzzy_cluster4$centers)\n",
    "\n",
    "cluster_membership1 <- as.data.frame(fuzzy_cluster1$membership) \n",
    "cluster_membership2 <- as.data.frame(fuzzy_cluster2$membership) \n",
    "cluster_membership3 <- as.data.frame(fuzzy_cluster3$membership) \n",
    "cluster_membership4 <- as.data.frame(fuzzy_cluster4$membership) \n",
    "\n",
    "fuzzy_cluster_data1 <- cbind(dataset_select_clustering_scale, cluster_membership1) \n",
    "fuzzy_cluster_data2 <- cbind(dataset_select_clustering_scale, cluster_membership2) \n",
    "fuzzy_cluster_data3 <- cbind(dataset_select_clustering_scale, cluster_membership3) \n",
    "fuzzy_cluster_data4 <- cbind(dataset_select_clustering_scale, cluster_membership4) \n",
    "\n",
    "head(fuzzy_cluster_data1)"
   ]
  },
  {
   "cell_type": "code",
   "execution_count": 47,
   "id": "eed61881-fb38-4e45-86a0-a118695be30f",
   "metadata": {},
   "outputs": [
    {
     "name": "stderr",
     "output_type": "stream",
     "text": [
      "Warning message in sqrt(rowSums((data - cluster_centers[i, ])^2)) * membership_matrix[i, :\n",
      "\"longer object length is not a multiple of shorter object length\"\n",
      "Warning message in sqrt(rowSums((data - cluster_centers[i, ])^2)) * membership_matrix[i, :\n",
      "\"longer object length is not a multiple of shorter object length\"\n",
      "Warning message in sqrt(rowSums((data - cluster_centers[i, ])^2)) * membership_matrix[i, :\n",
      "\"longer object length is not a multiple of shorter object length\"\n",
      "Warning message in sqrt(rowSums((data - cluster_centers[i, ])^2)) * membership_matrix[i, :\n",
      "\"longer object length is not a multiple of shorter object length\"\n",
      "Warning message in sqrt(rowSums((data - cluster_centers[i, ])^2)) * membership_matrix[i, :\n",
      "\"longer object length is not a multiple of shorter object length\"\n"
     ]
    },
    {
     "name": "stdout",
     "output_type": "stream",
     "text": [
      "[1] \"Davies-Bouldin Index 1: 0.670131737347825\"\n",
      "[1] \"Davies-Bouldin Index 2: 0.645257336991538\"\n"
     ]
    },
    {
     "name": "stderr",
     "output_type": "stream",
     "text": [
      "Warning message in sqrt(rowSums((data - cluster_centers[i, ])^2)) * membership_matrix[i, :\n",
      "\"longer object length is not a multiple of shorter object length\"\n",
      "Warning message in sqrt(rowSums((data - cluster_centers[i, ])^2)) * membership_matrix[i, :\n",
      "\"longer object length is not a multiple of shorter object length\"\n",
      "Warning message in sqrt(rowSums((data - cluster_centers[i, ])^2)) * membership_matrix[i, :\n",
      "\"longer object length is not a multiple of shorter object length\"\n",
      "Warning message in sqrt(rowSums((data - cluster_centers[i, ])^2)) * membership_matrix[i, :\n",
      "\"longer object length is not a multiple of shorter object length\"\n",
      "Warning message in sqrt(rowSums((data - cluster_centers[i, ])^2)) * membership_matrix[i, :\n",
      "\"longer object length is not a multiple of shorter object length\"\n",
      "Warning message in sqrt(rowSums((data - cluster_centers[i, ])^2)) * membership_matrix[i, :\n",
      "\"longer object length is not a multiple of shorter object length\"\n",
      "Warning message in sqrt(rowSums((data - cluster_centers[i, ])^2)) * membership_matrix[i, :\n",
      "\"longer object length is not a multiple of shorter object length\"\n"
     ]
    },
    {
     "name": "stdout",
     "output_type": "stream",
     "text": [
      "[1] \"Davies-Bouldin Index 3: 0.78578029993446\"\n"
     ]
    },
    {
     "name": "stderr",
     "output_type": "stream",
     "text": [
      "Warning message in sqrt(rowSums((data - cluster_centers[i, ])^2)) * membership_matrix[i, :\n",
      "\"longer object length is not a multiple of shorter object length\"\n",
      "Warning message in sqrt(rowSums((data - cluster_centers[i, ])^2)) * membership_matrix[i, :\n",
      "\"longer object length is not a multiple of shorter object length\"\n",
      "Warning message in sqrt(rowSums((data - cluster_centers[i, ])^2)) * membership_matrix[i, :\n",
      "\"longer object length is not a multiple of shorter object length\"\n",
      "Warning message in sqrt(rowSums((data - cluster_centers[i, ])^2)) * membership_matrix[i, :\n",
      "\"longer object length is not a multiple of shorter object length\"\n",
      "Warning message in sqrt(rowSums((data - cluster_centers[i, ])^2)) * membership_matrix[i, :\n",
      "\"longer object length is not a multiple of shorter object length\"\n",
      "Warning message in sqrt(rowSums((data - cluster_centers[i, ])^2)) * membership_matrix[i, :\n",
      "\"longer object length is not a multiple of shorter object length\"\n",
      "Warning message in sqrt(rowSums((data - cluster_centers[i, ])^2)) * membership_matrix[i, :\n",
      "\"longer object length is not a multiple of shorter object length\"\n",
      "Warning message in sqrt(rowSums((data - cluster_centers[i, ])^2)) * membership_matrix[i, :\n",
      "\"longer object length is not a multiple of shorter object length\"\n",
      "Warning message in sqrt(rowSums((data - cluster_centers[i, ])^2)) * membership_matrix[i, :\n",
      "\"longer object length is not a multiple of shorter object length\"\n"
     ]
    },
    {
     "name": "stdout",
     "output_type": "stream",
     "text": [
      "[1] \"Davies-Bouldin Index 4: 1.24486487889565\"\n"
     ]
    }
   ],
   "source": [
    "db_index <- davies_bouldin_index(fuzzy_cluster_data1, fuzzy_cluster1$centers, fuzzy_membership_matrix1) \n",
    "print(paste(\"Davies-Bouldin Index 1:\", db_index))\n",
    "db_index <- davies_bouldin_index(fuzzy_cluster_data2, fuzzy_cluster2$centers, fuzzy_membership_matrix2) \n",
    "print(paste(\"Davies-Bouldin Index 2:\", db_index))\n",
    "db_index <- davies_bouldin_index(fuzzy_cluster_data3, fuzzy_cluster3$centers, fuzzy_membership_matrix3) \n",
    "print(paste(\"Davies-Bouldin Index 3:\", db_index))\n",
    "db_index <- davies_bouldin_index(fuzzy_cluster_data4, fuzzy_cluster4$centers, fuzzy_membership_matrix4) \n",
    "print(paste(\"Davies-Bouldin Index 4:\", db_index))"
   ]
  },
  {
   "cell_type": "code",
   "execution_count": 48,
   "id": "0b73e98f-634b-4d74-88cd-50cc9f1d96e9",
   "metadata": {},
   "outputs": [],
   "source": [
    "fuzzy_cluster_data <- fuzzy_cluster_data2\n",
    "fuzzy_cluster <- fuzzy_cluster2\n",
    "fuzzy_membership_matrix <- fuzzy_membership_matrix2"
   ]
  },
  {
   "cell_type": "code",
   "execution_count": 49,
   "id": "8f8b03b5-2318-437d-ba3d-fdb93e2c66a1",
   "metadata": {},
   "outputs": [
    {
     "data": {
      "image/png": "[encoded data removed]",
      "text/plain": [
       "plot without title"
      ]
     },
     "metadata": {
      "image/png": {
       "height": 420,
       "width": 420
      }
     },
     "output_type": "display_data"
    }
   ],
   "source": [
    "centers <- t(fuzzy_cluster$centers) \n",
    "fuzzy_cluster_data$Cluster <- apply(fuzzy_membership_matrix, 1, which.max) \n",
    "ggplot(fuzzy_cluster_data, aes(x = hispanic_pop, y = commute,  \n",
    "                               color = as.factor(Cluster))) + \n",
    "  geom_point() + \n",
    "  labs(title = \"Fuzzy C-means Clustering\", x = \"hispanic_pop\", y = \"commute\")"
   ]
  },
  {
   "cell_type": "code",
   "execution_count": 50,
   "id": "36f35d9e-e58a-419a-90a3-8a35f1fb200f",
   "metadata": {},
   "outputs": [
    {
     "data": {
      "image/png": "[encoded data removed]",
      "text/plain": [
       "plot without title"
      ]
     },
     "metadata": {
      "image/png": {
       "height": 420,
       "width": 420
      }
     },
     "output_type": "display_data"
    }
   ],
   "source": [
    "pairs(dataset_select_clustering_scale, pch = 16, col = as.numeric(fuzzy_cluster$cluster))"
   ]
  },
  {
   "cell_type": "code",
   "execution_count": 51,
   "id": "41c5c58a-1c3c-400b-8503-8eae98c297d5",
   "metadata": {},
   "outputs": [
    {
     "data": {
      "image/png": "[encoded data removed]",
      "text/plain": [
       "Plot with title \"CLUSPLOT( dataset_select_clustering_scale )\""
      ]
     },
     "metadata": {
      "image/png": {
       "height": 420,
       "width": 420
      }
     },
     "output_type": "display_data"
    }
   ],
   "source": [
    "clusplot(dataset_select_clustering_scale, fuzzy_cluster$cluster, color = TRUE, shade = TRUE, \n",
    "         labels = 2, lines = 0)"
   ]
  },
  {
   "cell_type": "code",
   "execution_count": 52,
   "id": "803e796b-6c14-4eec-843c-accadabc11c3",
   "metadata": {},
   "outputs": [
    {
     "data": {
      "image/png": "[encoded data removed]",
      "text/plain": [
       "Plot with title \"Convex Cluster Hulls\""
      ]
     },
     "metadata": {
      "image/png": {
       "height": 420,
       "width": 420
      }
     },
     "output_type": "display_data"
    }
   ],
   "source": [
    "hullplot(dataset_select_clustering_scale, fuzzy_cluster$cluster)"
   ]
  },
  {
   "cell_type": "code",
   "execution_count": 53,
   "id": "23be006b-eb51-49c7-878e-3b8f334e6e12",
   "metadata": {},
   "outputs": [
    {
     "data": {
      "text/html": [
       "<table class=\"dataframe\">\n",
       "<caption>A tibble: 3 × 5</caption>\n",
       "<thead>\n",
       "\t<tr><th scope=col>cluster</th><th scope=col>avg_death_per_case</th><th scope=col>avg_hispanic_pop</th><th scope=col>avg_wcommute</th><th scope=col>no_counties_in_cluster</th></tr>\n",
       "\t<tr><th scope=col>&lt;int&gt;</th><th scope=col>&lt;dbl&gt;</th><th scope=col>&lt;dbl&gt;</th><th scope=col>&lt;dbl&gt;</th><th scope=col>&lt;int&gt;</th></tr>\n",
       "</thead>\n",
       "<tbody>\n",
       "\t<tr><td>1</td><td>0.02677389</td><td>  6695.212</td><td> 17090.73</td><td>208</td></tr>\n",
       "\t<tr><td>2</td><td>0.02689154</td><td>728483.500</td><td>598511.00</td><td>  2</td></tr>\n",
       "\t<tr><td>3</td><td>0.01763085</td><td>120295.167</td><td>209958.25</td><td> 12</td></tr>\n",
       "</tbody>\n",
       "</table>\n"
      ],
      "text/latex": [
       "A tibble: 3 × 5\n",
       "\\begin{tabular}{lllll}\n",
       " cluster & avg\\_death\\_per\\_case & avg\\_hispanic\\_pop & avg\\_wcommute & no\\_counties\\_in\\_cluster\\\\\n",
       " <int> & <dbl> & <dbl> & <dbl> & <int>\\\\\n",
       "\\hline\n",
       "\t 1 & 0.02677389 &   6695.212 &  17090.73 & 208\\\\\n",
       "\t 2 & 0.02689154 & 728483.500 & 598511.00 &   2\\\\\n",
       "\t 3 & 0.01763085 & 120295.167 & 209958.25 &  12\\\\\n",
       "\\end{tabular}\n"
      ],
      "text/markdown": [
       "\n",
       "A tibble: 3 × 5\n",
       "\n",
       "| cluster &lt;int&gt; | avg_death_per_case &lt;dbl&gt; | avg_hispanic_pop &lt;dbl&gt; | avg_wcommute &lt;dbl&gt; | no_counties_in_cluster &lt;int&gt; |\n",
       "|---|---|---|---|---|\n",
       "| 1 | 0.02677389 |   6695.212 |  17090.73 | 208 |\n",
       "| 2 | 0.02689154 | 728483.500 | 598511.00 |   2 |\n",
       "| 3 | 0.01763085 | 120295.167 | 209958.25 |  12 |\n",
       "\n"
      ],
      "text/plain": [
       "  cluster avg_death_per_case avg_hispanic_pop avg_wcommute\n",
       "1 1       0.02677389           6695.212        17090.73   \n",
       "2 2       0.02689154         728483.500       598511.00   \n",
       "3 3       0.01763085         120295.167       209958.25   \n",
       "  no_counties_in_cluster\n",
       "1 208                   \n",
       "2   2                   \n",
       "3  12                   "
      ]
     },
     "metadata": {},
     "output_type": "display_data"
    }
   ],
   "source": [
    "dataset_select_clustering$cluster <- fuzzy_cluster$cluster\n",
    "winner4 <-dataset_select_clustering\n",
    "dataset_select_clustering %>% group_by(cluster) %>% summarize(\n",
    "  avg_death_per_case = mean(death_per_case),\n",
    "    avg_hispanic_pop = mean(hispanic_pop),\n",
    "    avg_wcommute=mean(commute),\n",
    "    no_counties_in_cluster=n())"
   ]
  },
  {
   "cell_type": "markdown",
   "id": "2fa81bb1-5627-43b7-8db4-90b2cf65e7ea",
   "metadata": {},
   "source": [
    "## Supervised Cluster evaluation"
   ]
  },
  {
   "cell_type": "markdown",
   "id": "17dd3cc7-4a53-47ea-a28b-33946e70cca6",
   "metadata": {},
   "source": [
    "### Creating the ground truth"
   ]
  },
  {
   "cell_type": "markdown",
   "id": "c505599e-ba9d-46f3-975d-0d45ad8e61f5",
   "metadata": {},
   "source": [
    "We are creating the ground truth by dividing the death percentage to 7 groups based on the descending order of the confirmed cases"
   ]
  },
  {
   "cell_type": "code",
   "execution_count": 58,
   "id": "a5e91c25-1e39-4058-9627-ed69a3a282ce",
   "metadata": {},
   "outputs": [],
   "source": [
    "ground_truth1 <- ntile(dataset_select_clustering$death_per_case, 7)\n",
    "ground_truth2 <- ntile(dataset_select_clustering$death_per_case, 3)\n",
    "ground_truth3 <- ntile(dataset_select_clustering$death_per_case, 3)\n",
    "ground_truth4 <- ntile(dataset_select_clustering$death_per_case, 3)\n"
   ]
  },
  {
   "cell_type": "markdown",
   "id": "eeb88d8e-9cc6-4c30-ae22-51286288991b",
   "metadata": {},
   "source": [
    "### Purity evaluation based on the ground truth"
   ]
  },
  {
   "cell_type": "code",
   "execution_count": 59,
   "id": "36d20d06-5ca8-4333-9b8e-12fe87ba27fb",
   "metadata": {},
   "outputs": [
    {
     "data": {
      "text/html": [
       "<dl>\n",
       "\t<dt>$pur</dt>\n",
       "\t\t<dd>0.225225225225225</dd>\n",
       "\t<dt>$out</dt>\n",
       "\t\t<dd><table class=\"dataframe\">\n",
       "<caption>A data.frame: 6 × 3</caption>\n",
       "<thead>\n",
       "\t<tr><th></th><th scope=col>ClassLabels</th><th scope=col>ClusterLabels</th><th scope=col>ClusterSize</th></tr>\n",
       "\t<tr><th></th><th scope=col>&lt;chr&gt;</th><th scope=col>&lt;chr&gt;</th><th scope=col>&lt;dbl&gt;</th></tr>\n",
       "</thead>\n",
       "<tbody>\n",
       "\t<tr><th scope=row>3</th><td>1</td><td>1</td><td> 5</td></tr>\n",
       "\t<tr><th scope=row>5</th><td>2</td><td>2</td><td> 2</td></tr>\n",
       "\t<tr><th scope=row>2</th><td>3</td><td>5</td><td>12</td></tr>\n",
       "\t<tr><th scope=row>1</th><td>4</td><td>7</td><td>26</td></tr>\n",
       "\t<tr><th scope=row>4</th><td>5</td><td>3</td><td> 4</td></tr>\n",
       "\t<tr><th scope=row>6</th><td>7</td><td>6</td><td> 1</td></tr>\n",
       "</tbody>\n",
       "</table>\n",
       "</dd>\n",
       "</dl>\n"
      ],
      "text/latex": [
       "\\begin{description}\n",
       "\\item[\\$pur] 0.225225225225225\n",
       "\\item[\\$out] A data.frame: 6 × 3\n",
       "\\begin{tabular}{r|lll}\n",
       "  & ClassLabels & ClusterLabels & ClusterSize\\\\\n",
       "  & <chr> & <chr> & <dbl>\\\\\n",
       "\\hline\n",
       "\t3 & 1 & 1 &  5\\\\\n",
       "\t5 & 2 & 2 &  2\\\\\n",
       "\t2 & 3 & 5 & 12\\\\\n",
       "\t1 & 4 & 7 & 26\\\\\n",
       "\t4 & 5 & 3 &  4\\\\\n",
       "\t6 & 7 & 6 &  1\\\\\n",
       "\\end{tabular}\n",
       "\n",
       "\\end{description}\n"
      ],
      "text/markdown": [
       "$pur\n",
       ":   0.225225225225225\n",
       "$out\n",
       ":   \n",
       "A data.frame: 6 × 3\n",
       "\n",
       "| <!--/--> | ClassLabels &lt;chr&gt; | ClusterLabels &lt;chr&gt; | ClusterSize &lt;dbl&gt; |\n",
       "|---|---|---|---|\n",
       "| 3 | 1 | 1 |  5 |\n",
       "| 5 | 2 | 2 |  2 |\n",
       "| 2 | 3 | 5 | 12 |\n",
       "| 1 | 4 | 7 | 26 |\n",
       "| 4 | 5 | 3 |  4 |\n",
       "| 6 | 7 | 6 |  1 |\n",
       "\n",
       "\n",
       "\n",
       "\n"
      ],
      "text/plain": [
       "$pur\n",
       "[1] 0.2252252\n",
       "\n",
       "$out\n",
       "  ClassLabels ClusterLabels ClusterSize\n",
       "3           1             1           5\n",
       "5           2             2           2\n",
       "2           3             5          12\n",
       "1           4             7          26\n",
       "4           5             3           4\n",
       "6           7             6           1\n"
      ]
     },
     "metadata": {},
     "output_type": "display_data"
    },
    {
     "data": {
      "text/html": [
       "<dl>\n",
       "\t<dt>$pur</dt>\n",
       "\t\t<dd>0.373873873873874</dd>\n",
       "\t<dt>$out</dt>\n",
       "\t\t<dd><table class=\"dataframe\">\n",
       "<caption>A data.frame: 2 × 3</caption>\n",
       "<thead>\n",
       "\t<tr><th></th><th scope=col>ClassLabels</th><th scope=col>ClusterLabels</th><th scope=col>ClusterSize</th></tr>\n",
       "\t<tr><th></th><th scope=col>&lt;chr&gt;</th><th scope=col>&lt;chr&gt;</th><th scope=col>&lt;dbl&gt;</th></tr>\n",
       "</thead>\n",
       "<tbody>\n",
       "\t<tr><th scope=row>1</th><td>1</td><td>3</td><td>72</td></tr>\n",
       "\t<tr><th scope=row>2</th><td>2</td><td>1</td><td>11</td></tr>\n",
       "</tbody>\n",
       "</table>\n",
       "</dd>\n",
       "</dl>\n"
      ],
      "text/latex": [
       "\\begin{description}\n",
       "\\item[\\$pur] 0.373873873873874\n",
       "\\item[\\$out] A data.frame: 2 × 3\n",
       "\\begin{tabular}{r|lll}\n",
       "  & ClassLabels & ClusterLabels & ClusterSize\\\\\n",
       "  & <chr> & <chr> & <dbl>\\\\\n",
       "\\hline\n",
       "\t1 & 1 & 3 & 72\\\\\n",
       "\t2 & 2 & 1 & 11\\\\\n",
       "\\end{tabular}\n",
       "\n",
       "\\end{description}\n"
      ],
      "text/markdown": [
       "$pur\n",
       ":   0.373873873873874\n",
       "$out\n",
       ":   \n",
       "A data.frame: 2 × 3\n",
       "\n",
       "| <!--/--> | ClassLabels &lt;chr&gt; | ClusterLabels &lt;chr&gt; | ClusterSize &lt;dbl&gt; |\n",
       "|---|---|---|---|\n",
       "| 1 | 1 | 3 | 72 |\n",
       "| 2 | 2 | 1 | 11 |\n",
       "\n",
       "\n",
       "\n",
       "\n"
      ],
      "text/plain": [
       "$pur\n",
       "[1] 0.3738739\n",
       "\n",
       "$out\n",
       "  ClassLabels ClusterLabels ClusterSize\n",
       "1           1             3          72\n",
       "2           2             1          11\n"
      ]
     },
     "metadata": {},
     "output_type": "display_data"
    },
    {
     "data": {
      "text/html": [
       "<dl>\n",
       "\t<dt>$pur</dt>\n",
       "\t\t<dd>0.378378378378378</dd>\n",
       "\t<dt>$out</dt>\n",
       "\t\t<dd><table class=\"dataframe\">\n",
       "<caption>A data.frame: 2 × 3</caption>\n",
       "<thead>\n",
       "\t<tr><th></th><th scope=col>ClassLabels</th><th scope=col>ClusterLabels</th><th scope=col>ClusterSize</th></tr>\n",
       "\t<tr><th></th><th scope=col>&lt;chr&gt;</th><th scope=col>&lt;chr&gt;</th><th scope=col>&lt;dbl&gt;</th></tr>\n",
       "</thead>\n",
       "<tbody>\n",
       "\t<tr><th scope=row>1</th><td>1</td><td>3</td><td>72</td></tr>\n",
       "\t<tr><th scope=row>2</th><td>3</td><td>1</td><td>12</td></tr>\n",
       "</tbody>\n",
       "</table>\n",
       "</dd>\n",
       "</dl>\n"
      ],
      "text/latex": [
       "\\begin{description}\n",
       "\\item[\\$pur] 0.378378378378378\n",
       "\\item[\\$out] A data.frame: 2 × 3\n",
       "\\begin{tabular}{r|lll}\n",
       "  & ClassLabels & ClusterLabels & ClusterSize\\\\\n",
       "  & <chr> & <chr> & <dbl>\\\\\n",
       "\\hline\n",
       "\t1 & 1 & 3 & 72\\\\\n",
       "\t2 & 3 & 1 & 12\\\\\n",
       "\\end{tabular}\n",
       "\n",
       "\\end{description}\n"
      ],
      "text/markdown": [
       "$pur\n",
       ":   0.378378378378378\n",
       "$out\n",
       ":   \n",
       "A data.frame: 2 × 3\n",
       "\n",
       "| <!--/--> | ClassLabels &lt;chr&gt; | ClusterLabels &lt;chr&gt; | ClusterSize &lt;dbl&gt; |\n",
       "|---|---|---|---|\n",
       "| 1 | 1 | 3 | 72 |\n",
       "| 2 | 3 | 1 | 12 |\n",
       "\n",
       "\n",
       "\n",
       "\n"
      ],
      "text/plain": [
       "$pur\n",
       "[1] 0.3783784\n",
       "\n",
       "$out\n",
       "  ClassLabels ClusterLabels ClusterSize\n",
       "1           1             3          72\n",
       "2           3             1          12\n"
      ]
     },
     "metadata": {},
     "output_type": "display_data"
    },
    {
     "data": {
      "text/html": [
       "<dl>\n",
       "\t<dt>$pur</dt>\n",
       "\t\t<dd>0.36036036036036</dd>\n",
       "\t<dt>$out</dt>\n",
       "\t\t<dd><table class=\"dataframe\">\n",
       "<caption>A data.frame: 2 × 3</caption>\n",
       "<thead>\n",
       "\t<tr><th></th><th scope=col>ClassLabels</th><th scope=col>ClusterLabels</th><th scope=col>ClusterSize</th></tr>\n",
       "\t<tr><th></th><th scope=col>&lt;chr&gt;</th><th scope=col>&lt;chr&gt;</th><th scope=col>&lt;dbl&gt;</th></tr>\n",
       "</thead>\n",
       "<tbody>\n",
       "\t<tr><th scope=row>1</th><td>1</td><td>3</td><td>72</td></tr>\n",
       "\t<tr><th scope=row>2</th><td>3</td><td>1</td><td> 8</td></tr>\n",
       "</tbody>\n",
       "</table>\n",
       "</dd>\n",
       "</dl>\n"
      ],
      "text/latex": [
       "\\begin{description}\n",
       "\\item[\\$pur] 0.36036036036036\n",
       "\\item[\\$out] A data.frame: 2 × 3\n",
       "\\begin{tabular}{r|lll}\n",
       "  & ClassLabels & ClusterLabels & ClusterSize\\\\\n",
       "  & <chr> & <chr> & <dbl>\\\\\n",
       "\\hline\n",
       "\t1 & 1 & 3 & 72\\\\\n",
       "\t2 & 3 & 1 &  8\\\\\n",
       "\\end{tabular}\n",
       "\n",
       "\\end{description}\n"
      ],
      "text/markdown": [
       "$pur\n",
       ":   0.36036036036036\n",
       "$out\n",
       ":   \n",
       "A data.frame: 2 × 3\n",
       "\n",
       "| <!--/--> | ClassLabels &lt;chr&gt; | ClusterLabels &lt;chr&gt; | ClusterSize &lt;dbl&gt; |\n",
       "|---|---|---|---|\n",
       "| 1 | 1 | 3 | 72 |\n",
       "| 2 | 3 | 1 |  8 |\n",
       "\n",
       "\n",
       "\n",
       "\n"
      ],
      "text/plain": [
       "$pur\n",
       "[1] 0.3603604\n",
       "\n",
       "$out\n",
       "  ClassLabels ClusterLabels ClusterSize\n",
       "1           1             3          72\n",
       "2           3             1           8\n"
      ]
     },
     "metadata": {},
     "output_type": "display_data"
    }
   ],
   "source": [
    "purity(winner1$cluster,ground_truth1)\n",
    "purity(winner2$cluster,ground_truth2)\n",
    "purity(winner3$cluster,ground_truth3)\n",
    "purity(winner4$cluster,ground_truth4)"
   ]
  },
  {
   "cell_type": "markdown",
   "id": "76739f21-4a17-4c12-9fd9-51df945eaf35",
   "metadata": {},
   "source": [
    "# References"
   ]
  },
  {
   "cell_type": "markdown",
   "id": "f039495a-a0f3-4a8d-8815-3cfb98b0bfdb",
   "metadata": {},
   "source": [
    "https://www.statology.org/hierarchical-clustering-in-r/ <br>\n",
    "https://www.geeksforgeeks.org/fuzzy-clustering-in-r/  <br>\n",
    "https://uc-r.github.io/hc_clustering  <br>\n",
    "https://www.geeksforgeeks.org/dbscan-clustering-in-r-programming/ <br>\n",
    "https://www.geeksforgeeks.org/dunn-index-and-db-index-cluster-validity-indices-set-1/\n"
   ]
  }
 ],
 "metadata": {
  "kernelspec": {
   "display_name": "R",
   "language": "R",
   "name": "ir"
  },
  "language_info": {
   "codemirror_mode": "r",
   "file_extension": ".r",
   "mimetype": "text/x-r-source",
   "name": "R",
   "pygments_lexer": "r",
   "version": "4.4.1"
  }
 },
 "nbformat": 4,
 "nbformat_minor": 5
}
