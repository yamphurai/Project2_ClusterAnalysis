{
 "cells": [
  {
   "cell_type": "markdown",
   "id": "0215293a-2f69-4dd3-bda8-2b8abbaba20d",
   "metadata": {},
   "source": [
    "# Project Group 10\n",
    "<br>Name: Abhilash Narayanan\n",
    "<br>ID: 49078178"
   ]
  },
  {
   "cell_type": "code",
   "execution_count": 1,
   "id": "1a341526-065a-48dd-8582-eb314082fc77",
   "metadata": {},
   "outputs": [
    {
     "name": "stderr",
     "output_type": "stream",
     "text": [
      "Installing package into 'C:/Users/nilee/AppData/Local/R/win-library/4.4'\n",
      "(as 'lib' is unspecified)\n",
      "\n"
     ]
    },
    {
     "name": "stdout",
     "output_type": "stream",
     "text": [
      "package 'tidyverse' successfully unpacked and MD5 sums checked\n",
      "\n",
      "The downloaded binary packages are in\n",
      "\tC:\\Users\\nilee\\AppData\\Local\\Temp\\RtmpYXglyV\\downloaded_packages\n"
     ]
    },
    {
     "name": "stderr",
     "output_type": "stream",
     "text": [
      "Installing package into 'C:/Users/nilee/AppData/Local/R/win-library/4.4'\n",
      "(as 'lib' is unspecified)\n",
      "\n"
     ]
    },
    {
     "name": "stdout",
     "output_type": "stream",
     "text": [
      "package 'cluster' successfully unpacked and MD5 sums checked\n",
      "\n",
      "The downloaded binary packages are in\n",
      "\tC:\\Users\\nilee\\AppData\\Local\\Temp\\RtmpYXglyV\\downloaded_packages\n"
     ]
    },
    {
     "name": "stderr",
     "output_type": "stream",
     "text": [
      "Installing package into 'C:/Users/nilee/AppData/Local/R/win-library/4.4'\n",
      "(as 'lib' is unspecified)\n",
      "\n"
     ]
    },
    {
     "name": "stdout",
     "output_type": "stream",
     "text": [
      "package 'factoextra' successfully unpacked and MD5 sums checked\n",
      "\n",
      "The downloaded binary packages are in\n",
      "\tC:\\Users\\nilee\\AppData\\Local\\Temp\\RtmpYXglyV\\downloaded_packages\n"
     ]
    },
    {
     "name": "stderr",
     "output_type": "stream",
     "text": [
      "Installing package into 'C:/Users/nilee/AppData/Local/R/win-library/4.4'\n",
      "(as 'lib' is unspecified)\n",
      "\n"
     ]
    },
    {
     "name": "stdout",
     "output_type": "stream",
     "text": [
      "package 'dbscan' successfully unpacked and MD5 sums checked\n",
      "\n",
      "The downloaded binary packages are in\n",
      "\tC:\\Users\\nilee\\AppData\\Local\\Temp\\RtmpYXglyV\\downloaded_packages\n"
     ]
    },
    {
     "name": "stderr",
     "output_type": "stream",
     "text": [
      "Installing package into 'C:/Users/nilee/AppData/Local/R/win-library/4.4'\n",
      "(as 'lib' is unspecified)\n",
      "\n"
     ]
    },
    {
     "name": "stdout",
     "output_type": "stream",
     "text": [
      "package 'funtimes' successfully unpacked and MD5 sums checked\n",
      "\n",
      "The downloaded binary packages are in\n",
      "\tC:\\Users\\nilee\\AppData\\Local\\Temp\\RtmpYXglyV\\downloaded_packages\n"
     ]
    },
    {
     "name": "stderr",
     "output_type": "stream",
     "text": [
      "Installing package into 'C:/Users/nilee/AppData/Local/R/win-library/4.4'\n",
      "(as 'lib' is unspecified)\n",
      "\n"
     ]
    },
    {
     "name": "stdout",
     "output_type": "stream",
     "text": [
      "package 'clValid' successfully unpacked and MD5 sums checked\n",
      "\n",
      "The downloaded binary packages are in\n",
      "\tC:\\Users\\nilee\\AppData\\Local\\Temp\\RtmpYXglyV\\downloaded_packages\n"
     ]
    },
    {
     "name": "stderr",
     "output_type": "stream",
     "text": [
      "Installing package into 'C:/Users/nilee/AppData/Local/R/win-library/4.4'\n",
      "(as 'lib' is unspecified)\n",
      "\n"
     ]
    },
    {
     "name": "stdout",
     "output_type": "stream",
     "text": [
      "package 'e1071' successfully unpacked and MD5 sums checked\n",
      "\n",
      "The downloaded binary packages are in\n",
      "\tC:\\Users\\nilee\\AppData\\Local\\Temp\\RtmpYXglyV\\downloaded_packages\n"
     ]
    }
   ],
   "source": [
    "install.packages(\"tidyverse\")\n",
    "install.packages(\"cluster\")\n",
    "install.packages(\"factoextra\")\n",
    "install.packages(\"dbscan\")\n",
    "install.packages(\"funtimes\")\n",
    "install.packages(\"clValid\")\n",
    "install.packages(\"e1071\")"
   ]
  },
  {
   "cell_type": "code",
   "execution_count": 2,
   "id": "0ed47ce7-3c4e-43a3-92ea-7849231e0a2b",
   "metadata": {},
   "outputs": [
    {
     "name": "stderr",
     "output_type": "stream",
     "text": [
      "Warning message:\n",
      "\"package 'tidyverse' was built under R version 4.4.2\"\n",
      "── \u001b[1mAttaching core tidyverse packages\u001b[22m ──────────────────────── tidyverse 2.0.0 ──\n",
      "\u001b[32m✔\u001b[39m \u001b[34mdplyr    \u001b[39m 1.1.4     \u001b[32m✔\u001b[39m \u001b[34mreadr    \u001b[39m 2.1.5\n",
      "\u001b[32m✔\u001b[39m \u001b[34mforcats  \u001b[39m 1.0.0     \u001b[32m✔\u001b[39m \u001b[34mstringr  \u001b[39m 1.5.1\n",
      "\u001b[32m✔\u001b[39m \u001b[34mggplot2  \u001b[39m 3.5.1     \u001b[32m✔\u001b[39m \u001b[34mtibble   \u001b[39m 3.2.1\n",
      "\u001b[32m✔\u001b[39m \u001b[34mlubridate\u001b[39m 1.9.3     \u001b[32m✔\u001b[39m \u001b[34mtidyr    \u001b[39m 1.3.1\n",
      "\u001b[32m✔\u001b[39m \u001b[34mpurrr    \u001b[39m 1.0.2     \n",
      "── \u001b[1mConflicts\u001b[22m ────────────────────────────────────────── tidyverse_conflicts() ──\n",
      "\u001b[31m✖\u001b[39m \u001b[34mdplyr\u001b[39m::\u001b[32mfilter()\u001b[39m masks \u001b[34mstats\u001b[39m::filter()\n",
      "\u001b[31m✖\u001b[39m \u001b[34mdplyr\u001b[39m::\u001b[32mlag()\u001b[39m    masks \u001b[34mstats\u001b[39m::lag()\n",
      "\u001b[36mℹ\u001b[39m Use the conflicted package (\u001b[3m\u001b[34m<http://conflicted.r-lib.org/>\u001b[39m\u001b[23m) to force all conflicts to become errors\n",
      "Warning message:\n",
      "\"package 'cluster' was built under R version 4.4.2\"\n",
      "Warning message:\n",
      "\"package 'factoextra' was built under R version 4.4.2\"\n",
      "Welcome! Want to learn more? See two factoextra-related books at https://goo.gl/ve3WBa\n",
      "\n",
      "Warning message:\n",
      "\"package 'funtimes' was built under R version 4.4.2\"\n",
      "Warning message in check_dep_version():\n",
      "\"ABI version mismatch: \n",
      "lme4 was built with Matrix ABI version 2\n",
      "Current Matrix ABI version is 1\n",
      "Please re-install lme4 from source or restore original 'Matrix' package\"\n",
      "Installing package into 'C:/Users/nilee/AppData/Local/R/win-library/4.4'\n",
      "(as 'lib' is unspecified)\n",
      "\n"
     ]
    },
    {
     "name": "stdout",
     "output_type": "stream",
     "text": [
      "package 'clValid' successfully unpacked and MD5 sums checked\n",
      "\n",
      "The downloaded binary packages are in\n",
      "\tC:\\Users\\nilee\\AppData\\Local\\Temp\\RtmpYXglyV\\downloaded_packages\n"
     ]
    },
    {
     "name": "stderr",
     "output_type": "stream",
     "text": [
      "Warning message:\n",
      "\"package 'e1071' was built under R version 4.4.2\"\n"
     ]
    }
   ],
   "source": [
    "library(\"tidyverse\")\n",
    "library(\"ggplot2\")\n",
    "library(\"ggrepel\")\n",
    "library(\"ggcorrplot\")\n",
    "library(\"DT\")\n",
    "library(\"cluster\")\n",
    "library(\"factoextra\")\n",
    "library(\"funtimes\")\n",
    "install.packages(\"clValid\")\n",
    "library(\"e1071\")"
   ]
  },
  {
   "cell_type": "code",
   "execution_count": 3,
   "id": "f47ec139-5478-4427-b6ba-d6f88e94aa03",
   "metadata": {},
   "outputs": [],
   "source": [
    "dataset_plus_census <- read.csv(\"https://raw.githubusercontent.com/yamphurai/Project2_ClusterAnalysis/refs/heads/main/updated_COVID-19_cases_plus_census.csv\")\n",
    "#filter the dataset by Texas\n",
    "dataset_plus_census <- dataset_plus_census %>% filter(state == \"TX\")\n"
   ]
  },
  {
   "cell_type": "markdown",
   "id": "46a15a27-56ef-480f-a5ce-a3039294df04",
   "metadata": {},
   "source": [
    "## Excluding counties of the major cities"
   ]
  },
  {
   "cell_type": "code",
   "execution_count": 4,
   "id": "f4dbd971-cb98-44ee-ae30-3747280a3503",
   "metadata": {},
   "outputs": [],
   "source": [
    "counties_to_exclude <- c(\n",
    "  \"Dallas County\", \"Tarrant County\", \"Collin County\", \"Denton County\", \"Ellis County\",\n",
    "  \"Johnson County\", \"Kaufman County\", \"Parker County\", \"Rockwall County\", \"Wise County\",\n",
    "  \"Hood County\", \"Travis County\", \"Williamson County\", \"Hays County\", \"Bastrop County\",\n",
    "  \"Caldwell County\", \"Bexar County\", \"Comal County\", \"Guadalupe County\", \"Wilson County\",\n",
    "  \"Medina County\", \"Kendall County\", \"Bandera County\", \"Atascosa County\", \"Harris County\",\n",
    "  \"Fort Bend County\", \"Montgomery County\", \"Brazoria County\", \"Galveston County\", \"Liberty County\",\n",
    "  \"Waller County\", \"Chambers County\"\n",
    ")\n",
    "\n",
    "dataset_plus_census <- dataset_plus_census %>% \n",
    "  filter(! county_name %in% counties_to_exclude)"
   ]
  },
  {
   "cell_type": "code",
   "execution_count": 5,
   "id": "1f6b69d0-8568-4ac1-883c-a8536e1f7933",
   "metadata": {},
   "outputs": [
    {
     "data": {
      "text/html": [
       "<table class=\"dataframe\">\n",
       "<caption>A data.frame: 6 × 33</caption>\n",
       "<thead>\n",
       "\t<tr><th></th><th scope=col>state</th><th scope=col>state_fips_code</th><th scope=col>county_name</th><th scope=col>confirmed_cases</th><th scope=col>deaths</th><th scope=col>total_pop</th><th scope=col>male_pop</th><th scope=col>female_pop</th><th scope=col>white_pop</th><th scope=col>black_pop</th><th scope=col>⋯</th><th scope=col>male_21_49</th><th scope=col>male_50_above</th><th scope=col>female_0_20</th><th scope=col>female_21_49</th><th scope=col>female_50_above</th><th scope=col>unemployed_pop</th><th scope=col>employed_pop</th><th scope=col>commute</th><th scope=col>worked_at_home</th><th scope=col>walked_to_work</th></tr>\n",
       "\t<tr><th></th><th scope=col>&lt;chr&gt;</th><th scope=col>&lt;int&gt;</th><th scope=col>&lt;chr&gt;</th><th scope=col>&lt;int&gt;</th><th scope=col>&lt;int&gt;</th><th scope=col>&lt;int&gt;</th><th scope=col>&lt;int&gt;</th><th scope=col>&lt;int&gt;</th><th scope=col>&lt;int&gt;</th><th scope=col>&lt;int&gt;</th><th scope=col>⋯</th><th scope=col>&lt;int&gt;</th><th scope=col>&lt;int&gt;</th><th scope=col>&lt;int&gt;</th><th scope=col>&lt;int&gt;</th><th scope=col>&lt;int&gt;</th><th scope=col>&lt;int&gt;</th><th scope=col>&lt;int&gt;</th><th scope=col>&lt;int&gt;</th><th scope=col>&lt;int&gt;</th><th scope=col>&lt;int&gt;</th></tr>\n",
       "</thead>\n",
       "<tbody>\n",
       "\t<tr><th scope=row>1</th><td>TX</td><td>48</td><td>Hansford County </td><td>673</td><td>17</td><td>5532</td><td>2760</td><td>2772</td><td>2950</td><td>  4</td><td>⋯</td><td>1052</td><td> 922</td><td>858</td><td>1053</td><td> 979</td><td> 94</td><td>2394</td><td>4384</td><td>18</td><td> 70</td></tr>\n",
       "\t<tr><th scope=row>2</th><td>TX</td><td>48</td><td>Stonewall County</td><td>134</td><td> 4</td><td>1084</td><td> 555</td><td> 529</td><td> 787</td><td> 38</td><td>⋯</td><td> 113</td><td> 325</td><td>129</td><td> 112</td><td> 306</td><td> 11</td><td> 442</td><td> 836</td><td> 7</td><td>  0</td></tr>\n",
       "\t<tr><th scope=row>3</th><td>TX</td><td>48</td><td>Cochran County  </td><td>216</td><td>12</td><td>2932</td><td>1492</td><td>1440</td><td>1104</td><td> 77</td><td>⋯</td><td> 418</td><td> 536</td><td>420</td><td> 538</td><td> 548</td><td>103</td><td>1189</td><td>2274</td><td>23</td><td> 12</td></tr>\n",
       "\t<tr><th scope=row>4</th><td>TX</td><td>48</td><td>Crockett County </td><td>472</td><td>13</td><td>3836</td><td>1903</td><td>1933</td><td>1264</td><td> 35</td><td>⋯</td><td> 512</td><td> 748</td><td>584</td><td> 662</td><td> 738</td><td> 43</td><td>1733</td><td>3346</td><td>60</td><td>  0</td></tr>\n",
       "\t<tr><th scope=row>5</th><td>TX</td><td>48</td><td>McCulloch County</td><td>467</td><td>12</td><td>8145</td><td>4171</td><td>3974</td><td>5067</td><td>161</td><td>⋯</td><td>1354</td><td>1765</td><td>911</td><td>1334</td><td>1885</td><td>122</td><td>3658</td><td>6566</td><td>61</td><td>104</td></tr>\n",
       "\t<tr><th scope=row>6</th><td>TX</td><td>48</td><td>Sherman County  </td><td>118</td><td>11</td><td>3067</td><td>1590</td><td>1477</td><td>1712</td><td>  8</td><td>⋯</td><td> 582</td><td> 594</td><td>398</td><td> 577</td><td> 555</td><td> 24</td><td>1604</td><td>2930</td><td>38</td><td> 72</td></tr>\n",
       "</tbody>\n",
       "</table>\n"
      ],
      "text/latex": [
       "A data.frame: 6 × 33\n",
       "\\begin{tabular}{r|lllllllllllllllllllll}\n",
       "  & state & state\\_fips\\_code & county\\_name & confirmed\\_cases & deaths & total\\_pop & male\\_pop & female\\_pop & white\\_pop & black\\_pop & ⋯ & male\\_21\\_49 & male\\_50\\_above & female\\_0\\_20 & female\\_21\\_49 & female\\_50\\_above & unemployed\\_pop & employed\\_pop & commute & worked\\_at\\_home & walked\\_to\\_work\\\\\n",
       "  & <chr> & <int> & <chr> & <int> & <int> & <int> & <int> & <int> & <int> & <int> & ⋯ & <int> & <int> & <int> & <int> & <int> & <int> & <int> & <int> & <int> & <int>\\\\\n",
       "\\hline\n",
       "\t1 & TX & 48 & Hansford County  & 673 & 17 & 5532 & 2760 & 2772 & 2950 &   4 & ⋯ & 1052 &  922 & 858 & 1053 &  979 &  94 & 2394 & 4384 & 18 &  70\\\\\n",
       "\t2 & TX & 48 & Stonewall County & 134 &  4 & 1084 &  555 &  529 &  787 &  38 & ⋯ &  113 &  325 & 129 &  112 &  306 &  11 &  442 &  836 &  7 &   0\\\\\n",
       "\t3 & TX & 48 & Cochran County   & 216 & 12 & 2932 & 1492 & 1440 & 1104 &  77 & ⋯ &  418 &  536 & 420 &  538 &  548 & 103 & 1189 & 2274 & 23 &  12\\\\\n",
       "\t4 & TX & 48 & Crockett County  & 472 & 13 & 3836 & 1903 & 1933 & 1264 &  35 & ⋯ &  512 &  748 & 584 &  662 &  738 &  43 & 1733 & 3346 & 60 &   0\\\\\n",
       "\t5 & TX & 48 & McCulloch County & 467 & 12 & 8145 & 4171 & 3974 & 5067 & 161 & ⋯ & 1354 & 1765 & 911 & 1334 & 1885 & 122 & 3658 & 6566 & 61 & 104\\\\\n",
       "\t6 & TX & 48 & Sherman County   & 118 & 11 & 3067 & 1590 & 1477 & 1712 &   8 & ⋯ &  582 &  594 & 398 &  577 &  555 &  24 & 1604 & 2930 & 38 &  72\\\\\n",
       "\\end{tabular}\n"
      ],
      "text/markdown": [
       "\n",
       "A data.frame: 6 × 33\n",
       "\n",
       "| <!--/--> | state &lt;chr&gt; | state_fips_code &lt;int&gt; | county_name &lt;chr&gt; | confirmed_cases &lt;int&gt; | deaths &lt;int&gt; | total_pop &lt;int&gt; | male_pop &lt;int&gt; | female_pop &lt;int&gt; | white_pop &lt;int&gt; | black_pop &lt;int&gt; | ⋯ ⋯ | male_21_49 &lt;int&gt; | male_50_above &lt;int&gt; | female_0_20 &lt;int&gt; | female_21_49 &lt;int&gt; | female_50_above &lt;int&gt; | unemployed_pop &lt;int&gt; | employed_pop &lt;int&gt; | commute &lt;int&gt; | worked_at_home &lt;int&gt; | walked_to_work &lt;int&gt; |\n",
       "|---|---|---|---|---|---|---|---|---|---|---|---|---|---|---|---|---|---|---|---|---|---|\n",
       "| 1 | TX | 48 | Hansford County  | 673 | 17 | 5532 | 2760 | 2772 | 2950 |   4 | ⋯ | 1052 |  922 | 858 | 1053 |  979 |  94 | 2394 | 4384 | 18 |  70 |\n",
       "| 2 | TX | 48 | Stonewall County | 134 |  4 | 1084 |  555 |  529 |  787 |  38 | ⋯ |  113 |  325 | 129 |  112 |  306 |  11 |  442 |  836 |  7 |   0 |\n",
       "| 3 | TX | 48 | Cochran County   | 216 | 12 | 2932 | 1492 | 1440 | 1104 |  77 | ⋯ |  418 |  536 | 420 |  538 |  548 | 103 | 1189 | 2274 | 23 |  12 |\n",
       "| 4 | TX | 48 | Crockett County  | 472 | 13 | 3836 | 1903 | 1933 | 1264 |  35 | ⋯ |  512 |  748 | 584 |  662 |  738 |  43 | 1733 | 3346 | 60 |   0 |\n",
       "| 5 | TX | 48 | McCulloch County | 467 | 12 | 8145 | 4171 | 3974 | 5067 | 161 | ⋯ | 1354 | 1765 | 911 | 1334 | 1885 | 122 | 3658 | 6566 | 61 | 104 |\n",
       "| 6 | TX | 48 | Sherman County   | 118 | 11 | 3067 | 1590 | 1477 | 1712 |   8 | ⋯ |  582 |  594 | 398 |  577 |  555 |  24 | 1604 | 2930 | 38 |  72 |\n",
       "\n"
      ],
      "text/plain": [
       "  state state_fips_code county_name      confirmed_cases deaths total_pop\n",
       "1 TX    48              Hansford County  673             17     5532     \n",
       "2 TX    48              Stonewall County 134              4     1084     \n",
       "3 TX    48              Cochran County   216             12     2932     \n",
       "4 TX    48              Crockett County  472             13     3836     \n",
       "5 TX    48              McCulloch County 467             12     8145     \n",
       "6 TX    48              Sherman County   118             11     3067     \n",
       "  male_pop female_pop white_pop black_pop ⋯ male_21_49 male_50_above\n",
       "1 2760     2772       2950        4       ⋯ 1052        922         \n",
       "2  555      529        787       38       ⋯  113        325         \n",
       "3 1492     1440       1104       77       ⋯  418        536         \n",
       "4 1903     1933       1264       35       ⋯  512        748         \n",
       "5 4171     3974       5067      161       ⋯ 1354       1765         \n",
       "6 1590     1477       1712        8       ⋯  582        594         \n",
       "  female_0_20 female_21_49 female_50_above unemployed_pop employed_pop commute\n",
       "1 858         1053          979             94            2394         4384   \n",
       "2 129          112          306             11             442          836   \n",
       "3 420          538          548            103            1189         2274   \n",
       "4 584          662          738             43            1733         3346   \n",
       "5 911         1334         1885            122            3658         6566   \n",
       "6 398          577          555             24            1604         2930   \n",
       "  worked_at_home walked_to_work\n",
       "1 18              70           \n",
       "2  7               0           \n",
       "3 23              12           \n",
       "4 60               0           \n",
       "5 61             104           \n",
       "6 38              72           "
      ]
     },
     "metadata": {},
     "output_type": "display_data"
    },
    {
     "data": {
      "text/plain": [
       "    state           state_fips_code county_name        confirmed_cases \n",
       " Length:222         Min.   :48      Length:222         Min.   :     1  \n",
       " Class :character   1st Qu.:48      Class :character   1st Qu.:   436  \n",
       " Mode  :character   Median :48      Mode  :character   Median :  1077  \n",
       "                    Mean   :48                         Mean   :  3619  \n",
       "                    3rd Qu.:48                         3rd Qu.:  2544  \n",
       "                    Max.   :48                         Max.   :107552  \n",
       "     deaths          total_pop         male_pop        female_pop    \n",
       " Min.   :   0.00   Min.   :    74   Min.   :    39   Min.   :    35  \n",
       " 1st Qu.:  12.00   1st Qu.:  5790   1st Qu.:  2894   1st Qu.:  2700  \n",
       " Median :  25.50   Median : 14448   Median :  7355   Median :  6766  \n",
       " Mean   :  77.73   Mean   : 42474   Mean   : 21230   Mean   : 21243  \n",
       " 3rd Qu.:  61.75   3rd Qu.: 34990   3rd Qu.: 17795   3rd Qu.: 17256  \n",
       " Max.   :2018.00   Max.   :839539   Max.   :410383   Max.   :429156  \n",
       "   white_pop        black_pop          asian_pop        hispanic_pop   \n",
       " Min.   :    55   Min.   :    0.00   Min.   :    0.0   Min.   :    12  \n",
       " 1st Qu.:  2580   1st Qu.:   55.25   1st Qu.:    6.0   1st Qu.:  1468  \n",
       " Median :  7632   Median :  482.50   Median :   45.0   Median :  3700  \n",
       " Mean   : 18563   Mean   : 3292.94   Mean   :  556.8   Mean   : 19338  \n",
       " 3rd Qu.: 18465   3rd Qu.: 2673.00   3rd Qu.:  241.8   3rd Qu.:  9827  \n",
       " Max.   :162449   Max.   :85901.00   Max.   :12857.0   Max.   :770794  \n",
       " amerindian_pop   other_race_pop   median_income   income_less_50K \n",
       " Min.   :   0.0   Min.   :  0.00   Min.   :24794   Min.   :     9  \n",
       " 1st Qu.:   5.0   1st Qu.:  0.00   1st Qu.:41537   1st Qu.:  1111  \n",
       " Median :  30.5   Median :  0.00   Median :46412   Median :  2740  \n",
       " Mean   : 125.9   Mean   : 31.38   Mean   :47428   Mean   :  7589  \n",
       " 3rd Qu.: 113.5   3rd Qu.: 26.75   3rd Qu.:52295   3rd Qu.:  6524  \n",
       " Max.   :2344.0   Max.   :477.00   Max.   :80938   Max.   :148982  \n",
       " income_50K_100K   income_100K_150K  income_150K_more  rent_under_50_percent\n",
       " Min.   :   19.0   Min.   :    0.0   Min.   :    0.0   Min.   :    7.0      \n",
       " 1st Qu.:  534.8   1st Qu.:  176.2   1st Qu.:  114.8   1st Qu.:  289.5      \n",
       " Median : 1427.5   Median :  490.5   Median :  274.0   Median :  820.0      \n",
       " Mean   : 4176.5   Mean   : 1621.6   Mean   :  984.0   Mean   : 3317.0      \n",
       " 3rd Qu.: 3627.0   3rd Qu.: 1382.8   3rd Qu.:  772.2   3rd Qu.: 2171.0      \n",
       " Max.   :74071.0   Max.   :25925.0   Max.   :14222.0   Max.   :73181.0      \n",
       " rent_over_50_percent   median_age      male_0_20        male_21_49    \n",
       " Min.   :    0.0      Min.   :25.80   Min.   :     3   Min.   :    10  \n",
       " 1st Qu.:   60.5      1st Qu.:34.67   1st Qu.:   837   1st Qu.:   971  \n",
       " Median :  185.0      Median :39.20   Median :  2079   Median :  2600  \n",
       " Mean   : 1027.0      Mean   :39.31   Mean   :  6785   Mean   :  8189  \n",
       " 3rd Qu.:  599.0      3rd Qu.:43.27   3rd Qu.:  5274   3rd Qu.:  6300  \n",
       " Max.   :19775.0      Max.   :57.50   Max.   :163853   Max.   :167493  \n",
       " male_50_above     female_0_20        female_21_49      female_50_above \n",
       " Min.   :    29   Min.   :     4.0   Min.   :     8.0   Min.   :    23  \n",
       " 1st Qu.:  1112   1st Qu.:   771.5   1st Qu.:   898.5   1st Qu.:  1184  \n",
       " Median :  2830   Median :  1880.5   Median :  2184.0   Median :  3010  \n",
       " Mean   :  6771   Mean   :  6437.0   Mean   :  7743.7   Mean   :  7664  \n",
       " 3rd Qu.:  6769   3rd Qu.:  4783.8   3rd Qu.:  5924.0   3rd Qu.:  7389  \n",
       " Max.   :109200   Max.   :159914.0   Max.   :164411.0   Max.   :136600  \n",
       " unemployed_pop     employed_pop       commute       worked_at_home   \n",
       " Min.   :    0.0   Min.   :    39   Min.   :    66   Min.   :    0.0  \n",
       " 1st Qu.:  121.2   1st Qu.:  2421   1st Qu.:  4344   1st Qu.:   68.5  \n",
       " Median :  382.0   Median :  5354   Median :  9925   Median :  190.0  \n",
       " Mean   : 1197.7   Mean   : 17677   Mean   : 32754   Mean   :  598.5  \n",
       " 3rd Qu.:  960.5   3rd Qu.: 14372   3rd Qu.: 26827   3rd Qu.:  515.0  \n",
       " Max.   :27566.0   Max.   :341350   Max.   :647479   Max.   :15026.0  \n",
       " walked_to_work  \n",
       " Min.   :   0.0  \n",
       " 1st Qu.:  47.0  \n",
       " Median : 101.5  \n",
       " Mean   : 338.6  \n",
       " 3rd Qu.: 242.2  \n",
       " Max.   :6964.0  "
      ]
     },
     "metadata": {},
     "output_type": "display_data"
    }
   ],
   "source": [
    "head(dataset_plus_census)\n",
    "summary(dataset_plus_census)"
   ]
  },
  {
   "cell_type": "markdown",
   "id": "2d4569f7-2c8c-481e-a234-9c22693c6491",
   "metadata": {},
   "source": [
    "# Hierarchical Clustering"
   ]
  },
  {
   "cell_type": "markdown",
   "id": "6706b5f7-1cfe-49cf-82fc-43c5b6f2c0fe",
   "metadata": {},
   "source": [
    "Hierarchical clustering is an alternative approach to for identifying groups in the dataset. It does not require us to pre-specify the number of clusters to be generated. Furthermore, hierarchical clustering has an added advantage that it results in an attractive tree-based representation of the observations, called a dendrogram."
   ]
  },
  {
   "cell_type": "markdown",
   "id": "8330dd10-1fc5-4751-8941-cc4726c55835",
   "metadata": {},
   "source": [
    "## Creating the Dataset for Hierarchical Clustering"
   ]
  },
  {
   "cell_type": "code",
   "execution_count": 100,
   "id": "f840caf5-698c-4050-a35b-fd9a8330773a",
   "metadata": {},
   "outputs": [
    {
     "data": {
      "text/plain": [
       " county_name        confirmed_cases      deaths          total_pop     \n",
       " Length:222         Min.   :     1   Min.   :   0.00   Min.   :    74  \n",
       " Class :character   1st Qu.:   436   1st Qu.:  12.00   1st Qu.:  5790  \n",
       " Mode  :character   Median :  1077   Median :  25.50   Median : 14448  \n",
       "                    Mean   :  3619   Mean   :  77.73   Mean   : 42474  \n",
       "                    3rd Qu.:  2544   3rd Qu.:  61.75   3rd Qu.: 34990  \n",
       "                    Max.   :107552   Max.   :2018.00   Max.   :839539  \n",
       " median_income     median_age       commute       income_50K_100K  \n",
       " Min.   :24794   Min.   :25.80   Min.   :    66   Min.   :   19.0  \n",
       " 1st Qu.:41537   1st Qu.:34.67   1st Qu.:  4344   1st Qu.:  534.8  \n",
       " Median :46412   Median :39.20   Median :  9925   Median : 1427.5  \n",
       " Mean   :47428   Mean   :39.31   Mean   : 32754   Mean   : 4176.5  \n",
       " 3rd Qu.:52295   3rd Qu.:43.27   3rd Qu.: 26827   3rd Qu.: 3627.0  \n",
       " Max.   :80938   Max.   :57.50   Max.   :647479   Max.   :74071.0  \n",
       "   black_pop          white_pop       hispanic_pop    worked_at_home   \n",
       " Min.   :    0.00   Min.   :    55   Min.   :    12   Min.   :    0.0  \n",
       " 1st Qu.:   55.25   1st Qu.:  2580   1st Qu.:  1468   1st Qu.:   68.5  \n",
       " Median :  482.50   Median :  7632   Median :  3700   Median :  190.0  \n",
       " Mean   : 3292.94   Mean   : 18563   Mean   : 19338   Mean   :  598.5  \n",
       " 3rd Qu.: 2673.00   3rd Qu.: 18465   3rd Qu.:  9827   3rd Qu.:  515.0  \n",
       " Max.   :85901.00   Max.   :162449   Max.   :770794   Max.   :15026.0  \n",
       " walked_to_work   income_150K_more  income_100K_150K  income_less_50K \n",
       " Min.   :   0.0   Min.   :    0.0   Min.   :    0.0   Min.   :     9  \n",
       " 1st Qu.:  47.0   1st Qu.:  114.8   1st Qu.:  176.2   1st Qu.:  1111  \n",
       " Median : 101.5   Median :  274.0   Median :  490.5   Median :  2740  \n",
       " Mean   : 338.6   Mean   :  984.0   Mean   : 1621.6   Mean   :  7589  \n",
       " 3rd Qu.: 242.2   3rd Qu.:  772.2   3rd Qu.: 1382.8   3rd Qu.:  6524  \n",
       " Max.   :6964.0   Max.   :14222.0   Max.   :25925.0   Max.   :148982  \n",
       "  employed_pop    unemployed_pop    cases_per_1000   deaths_per_1000\n",
       " Min.   :    39   Min.   :    0.0   Min.   : 13.51   Min.   :0.000  \n",
       " 1st Qu.:  2421   1st Qu.:  121.2   1st Qu.: 58.86   1st Qu.:1.313  \n",
       " Median :  5354   Median :  382.0   Median : 75.75   Median :1.818  \n",
       " Mean   : 17677   Mean   : 1197.7   Mean   : 78.81   Mean   :1.985  \n",
       " 3rd Qu.: 14372   3rd Qu.:  960.5   3rd Qu.: 95.99   3rd Qu.:2.550  \n",
       " Max.   :341350   Max.   :27566.0   Max.   :182.90   Max.   :6.284  \n",
       " death_per_case     commute_1000    worked_at_home_1000 walked_to_work_1000\n",
       " Min.   :0.00000   Min.   : 466.0   Min.   : 0.00       Min.   : 0.000     \n",
       " 1st Qu.:0.01727   1st Qu.: 686.2   1st Qu.: 9.62       1st Qu.: 4.764     \n",
       " Median :0.02397   Median : 757.1   Median :14.21       Median : 7.747     \n",
       " Mean   :0.02628   Mean   : 747.3   Mean   :15.55       Mean   :10.132     \n",
       " 3rd Qu.:0.03174   3rd Qu.: 811.9   3rd Qu.:18.82       3rd Qu.:11.383     \n",
       " Max.   :0.09322   Max.   :1093.4   Max.   :65.37       Max.   :66.176     \n",
       " employed_pop_1000 unemployed_pop_1000\n",
       " Min.   :253.2     Min.   :  0.00     \n",
       " 1st Qu.:378.4     1st Qu.: 18.89     \n",
       " Median :417.3     Median : 25.74     \n",
       " Mean   :411.4     Mean   : 26.53     \n",
       " 3rd Qu.:447.5     3rd Qu.: 32.82     \n",
       " Max.   :598.6     Max.   :120.00     "
      ]
     },
     "metadata": {},
     "output_type": "display_data"
    }
   ],
   "source": [
    "dataset_select_clustering <- dataset_plus_census %>% \n",
    " # filter(confirmed_cases > 100) %>% \n",
    "  arrange(desc(confirmed_cases)) %>%    \n",
    "  select(county_name, confirmed_cases, deaths, total_pop, median_income,median_age, commute,income_50K_100K,black_pop,white_pop,hispanic_pop,\n",
    "worked_at_home,\n",
    "walked_to_work\n",
    ",income_150K_more\n",
    ",income_100K_150K\n",
    ",income_less_50K\n",
    "        ,employed_pop,unemployed_pop)\n",
    "dataset_select_clustering <- dataset_select_clustering %>% mutate(\n",
    "  cases_per_1000 = confirmed_cases/total_pop*1000, \n",
    "  deaths_per_1000 = deaths/total_pop*1000, \n",
    "  death_per_case = deaths/confirmed_cases,\n",
    "commute_1000=commute/total_pop*1000,\n",
    "worked_at_home_1000=worked_at_home/total_pop*1000,\n",
    "    walked_to_work_1000=walked_to_work/total_pop*1000,\n",
    "    employed_pop_1000=employed_pop/total_pop*1000,\n",
    "    unemployed_pop_1000=unemployed_pop/total_pop*1000\n",
    ")\n",
    "\n",
    "summary(dataset_select_clustering)                                               "
   ]
  },
  {
   "cell_type": "markdown",
   "id": "04505187-eeed-436e-a04e-6eb5df3dba21",
   "metadata": {},
   "source": [
    "## Scaling the data set and calculating the distance "
   ]
  },
  {
   "cell_type": "markdown",
   "id": "cdf85eaa-b2c7-4a38-9f36-9b0716e827a6",
   "metadata": {},
   "source": [
    "The below features are selected for the hierarchical clustering: <br>\n",
    "median_income\n",
    "<br>median_age\n",
    "<br>commute_1000\n",
    "<br>black_pop\n",
    "<br>white_pop\n",
    "<br>hispanic_pop"
   ]
  },
  {
   "cell_type": "code",
   "execution_count": 7,
   "id": "34f1d8c0-9711-4fe1-83b5-2ec20439b228",
   "metadata": {},
   "outputs": [
    {
     "data": {
      "text/plain": [
       " median_income       median_age        commute_1000        black_pop       \n",
       " Min.   :-2.2682   Min.   :-2.20750   Min.   :-2.81045   Min.   :-0.36496  \n",
       " 1st Qu.:-0.5904   1st Qu.:-0.75695   1st Qu.:-0.61096   1st Qu.:-0.35884  \n",
       " Median :-0.1018   Median :-0.01737   Median : 0.09711   Median :-0.31149  \n",
       " Mean   : 0.0000   Mean   : 0.00000   Mean   : 0.00000   Mean   : 0.00000  \n",
       " 3rd Qu.: 0.4878   3rd Qu.: 0.64865   3rd Qu.: 0.64486   3rd Qu.:-0.06871  \n",
       " Max.   : 3.3582   Max.   : 2.97362   Max.   : 3.45757   Max.   : 9.15558  \n",
       "   white_pop          hispanic_pop    \n",
       " Min.   :-0.642387   Min.   :-0.2510  \n",
       " 1st Qu.:-0.554748   1st Qu.:-0.2321  \n",
       " Median :-0.379400   Median :-0.2031  \n",
       " Mean   : 0.000000   Mean   : 0.0000  \n",
       " 3rd Qu.:-0.003394   3rd Qu.:-0.1235  \n",
       " Max.   : 4.994073   Max.   : 9.7590  "
      ]
     },
     "metadata": {},
     "output_type": "display_data"
    }
   ],
   "source": [
    "dataset_select_clustering_scale <-scale(dataset_select_clustering[,c(\"median_income\",\"median_age\",\"commute_1000\",\n",
    "                                                                     \"black_pop\",\"white_pop\",\"hispanic_pop\")])\n",
    "summary(dataset_select_clustering_scale)"
   ]
  },
  {
   "cell_type": "markdown",
   "id": "98c464e2-19ae-4775-b1cc-cd6f78ac7447",
   "metadata": {},
   "source": [
    "## Identifying which linkage method can be used for this dataset"
   ]
  },
  {
   "cell_type": "markdown",
   "id": "45acea01-9845-43d2-abde-692803d00a49",
   "metadata": {},
   "source": [
    "**Complete linkage clustering:**<br>It computes all pairwise dissimilarities between the elements in cluster 1 and the elements in cluster 2, and considers the largest value (i.e., maximum value) of these dissimilarities as the distance between the two clusters. It tends to produce more compact clusters.\n",
    "<br>\n",
    "**Single linkage clustering:** \n",
    "It computes all pairwise dissimilarities between the elements in cluster 1 and the elements in cluster 2, and considers the smallest of these dissimilarities as a linkage criterion. It tends to produce long, “loose” clusters.\n",
    "<br>\n",
    "**Mean or average linkage clustering:** \n",
    "It computes all pairwise dissimilarities between the elements in cluster 1 and the elements in cluster 2, and considers the average of these dissimilarities as the distance between the two clusters.\n",
    "<br>\n",
    "**Ward’s minimum variance method:**\n",
    "It minimizes the total within-cluster variance. At each step the pair of clusters with minimum between-cluster distance are merged."
   ]
  },
  {
   "cell_type": "code",
   "execution_count": 8,
   "id": "e2e747ea-4706-4507-979a-8b854d06d465",
   "metadata": {},
   "outputs": [
    {
     "data": {
      "text/plain": [
       "Call:\t agnes(x = dataset_select_clustering_scale, method = \"complete\", trace.lev = 0) \n",
       "Agglomerative coefficient:  0.9422264 \n",
       "Order of objects:\n",
       "  [1]   1   2   3   8   7  12   6  13  14  17   4   5  21  95  65  99  83 131\n",
       " [19]  87 134 113 137 125 157  22 105 136 219  69  23  29  70  89 101  97  47\n",
       " [37] 107  85 153  55 191 114 203  94 155 170 214 156 165 188 145 163  30  32\n",
       " [55]  40  48  44  61  62  54  59  58  86  34  45  49  56  72  84 115 152 209\n",
       " [73] 119 154 185 181 216 196  77 108 146 208 116 142 129 151 175 126 123 173\n",
       " [91] 195 128 141 161 186 217 201 117 150 174 189 182  79 192 199 122 178 162\n",
       "[109] 187  82 139 111 159 149 183 144 197 147 168 204 193 176 200 132 207  10\n",
       "[127]  39  35  20  24  38  31  15  19  27  33  16  18  25  37  51  90  93 100\n",
       "[145]  50  53  57 104  73 103 110 106 167 112 127 124  78 206  41  60 120 160\n",
       "[163]  66 164  26  28  68  43  75 130  52 138 194  91 118 171 213  36  96 143\n",
       "[181]  63 184  92  42  46  67  71  76 102 109 140 221  64  80 212  74 179 211\n",
       "[199]  88 135 205 169 177  81 148 166 133 158 172 190 198  98 202 121 210 180\n",
       "[217] 218 220 215 222   9  11\n",
       "Height (summary):\n",
       "   Min. 1st Qu.  Median    Mean 3rd Qu.    Max. \n",
       " 0.1235  0.4939  0.9004  1.4000  1.5804 13.3471 \n",
       "\n",
       "Available components:\n",
       "[1] \"order\"  \"height\" \"ac\"     \"merge\"  \"diss\"   \"call\"   \"method\" \"data\"  "
      ]
     },
     "metadata": {},
     "output_type": "display_data"
    }
   ],
   "source": [
    "agnes(dataset_select_clustering_scale, method = \"complete\",trace.lev=0)"
   ]
  },
  {
   "cell_type": "code",
   "execution_count": 9,
   "id": "5d996aa7-dca5-46b4-a14d-e2aaf6c51f44",
   "metadata": {},
   "outputs": [
    {
     "data": {
      "text/plain": [
       "Call:\t agnes(x = dataset_select_clustering_scale, method = \"ward\", trace.lev = 0) \n",
       "Agglomerative coefficient:  0.9702966 \n",
       "Order of objects:\n",
       "  [1]   1   2   4   5   3   8   7  12   6  13  14  15  16  18  19  27  33  17\n",
       " [19]  25  37  10  39  24  38  35  20  31  23  29   9  11  21  65  99  95  26\n",
       " [37]  28  43  75 130  83 131  87 134  36  63 184  92  96 143  72  84 115 144\n",
       " [55] 197 152 209 119 154 185  52 138 194  91 118 147 171 213  79 192 199 111\n",
       " [73] 159 182 122 178 162 187  41  68  46  67  60 120 160 109 140  42  50  53\n",
       " [91]  71  76 102  57 104  66 164  78 206 221  51  90  93 100 106 167  64  80\n",
       "[109] 112 127 124  73 103 110  88 135 205 169 177 222  81 148 166 172 190 198\n",
       "[127]  98 121 133 158 180 210 202 218 220 215  22  69 105 136 219  97 113 137\n",
       "[145] 125 157 145 163  47 107  85 153  55 191 114 203  30  32  40  48  44  61\n",
       "[163]  62  54  59  34  45  49  56  58  70  89 101  77 108 149 183  82 139  86\n",
       "[181] 123 173 195 128 141 161 117 150 174 189  94 155 170 214 156 165 188  74\n",
       "[199] 179 212 116 142 129 151 175 126 181 216 196 132 207 146 208 186 217 201\n",
       "[217] 168 204 193 211 176 200\n",
       "Height (summary):\n",
       "   Min. 1st Qu.  Median    Mean 3rd Qu.    Max. \n",
       " 0.1235  0.4995  0.8973  1.8270  1.8370 24.8862 \n",
       "\n",
       "Available components:\n",
       "[1] \"order\"  \"height\" \"ac\"     \"merge\"  \"diss\"   \"call\"   \"method\" \"data\"  "
      ]
     },
     "metadata": {},
     "output_type": "display_data"
    }
   ],
   "source": [
    "agnes(dataset_select_clustering_scale, method = \"ward\",trace.lev=0)"
   ]
  },
  {
   "cell_type": "code",
   "execution_count": 10,
   "id": "c55e0f6e-d29f-4fa3-829e-17f4e796f8f4",
   "metadata": {},
   "outputs": [
    {
     "data": {
      "text/plain": [
       "Call:\t agnes(x = dataset_select_clustering_scale, method = \"single\", trace.lev = 0) \n",
       "Agglomerative coefficient:  0.8757889 \n",
       "Order of objects:\n",
       "  [1]   1   2   3   8   7  12  10  21  26  28  44  61  62  59  82 139 108 123\n",
       " [19] 144 149 183 197 195 173 146 208 128 141  52 138 194  75 130  91 118 147\n",
       " [37] 171 111 159 213  77 116 142 129 151 175  72  84 115  92  96 143 209 161\n",
       " [55]  86 168  36  71  76 102  53  54  57 104  73 103 110 112 127 124 152  93\n",
       " [73] 100 106 169  63 184 140  58  89 101 186 217 201 181 216  30  32  40  85\n",
       " [91] 153  43  46  67  60 120 109 126 119 154 185  65  83  87 134 131  99  48\n",
       "[109] 211  79 122 178 162 187 192 199 167  51  90 204  95 193  80 121 133 158\n",
       "[127] 172 190 198  45 177 160 117 174 189 150 113 137 125 157  70 105 136 219\n",
       "[145]  42  66 135  81 148 166 182  97 164  50 205 210  64  29  24  38  88  23\n",
       "[163]  47 107  94 196 155 170 156 165 188  49  27  33  98  78  69  37  68  41\n",
       "[181]  74 179 212 214  22  39  34 176 200  56  55 114 203 191 206  25  18 132\n",
       "[199] 207  19 145 163 180  16  15 218 220  31  20  35  17 202 221 215  13  14\n",
       "[217] 222   4   5   6   9  11\n",
       "Height (summary):\n",
       "   Min. 1st Qu.  Median    Mean 3rd Qu.    Max. \n",
       " 0.1235  0.4207  0.5277  0.7181  0.8227  5.1966 \n",
       "\n",
       "Available components:\n",
       "[1] \"order\"  \"height\" \"ac\"     \"merge\"  \"diss\"   \"call\"   \"method\" \"data\"  "
      ]
     },
     "metadata": {},
     "output_type": "display_data"
    }
   ],
   "source": [
    "agnes(dataset_select_clustering_scale, method = \"single\",trace.lev=0)"
   ]
  },
  {
   "cell_type": "code",
   "execution_count": 11,
   "id": "eaae9cc5-733c-4d4a-8a06-33d0a7fbb70a",
   "metadata": {},
   "outputs": [
    {
     "data": {
      "text/plain": [
       "Call:\t agnes(x = dataset_select_clustering_scale, method = \"average\", trace.lev = 0) \n",
       "Agglomerative coefficient:  0.9272677 \n",
       "Order of objects:\n",
       "  [1]   1   2   3   8   7  12   6  13  14  17   4   5  10  39  35  24  38  30\n",
       " [19]  32  40  48  18  27  33  25  37  15  16  19  20  31  26  28  43  75 130\n",
       " [37]  83  99  87 134 131  52 138 194  91 118 147 171 213  63 184 140  92  96\n",
       " [55] 143  36  53  71  76 102  54  57 104  42  50  73 103 110 112 127 124 152\n",
       " [73]  80  79 192 199 167  41  46  67 109  60 120 160  66 164  68  34  45  49\n",
       " [91]  64  44  61  62  59  86  72  84 115 144 197  82 139 111 159 108 149 183\n",
       "[109] 123 173 195 128 141 161  58  70  89 101 119 154 185 209  77 116 142 129\n",
       "[127] 151 175 126 181 216 193 204 211 122 178 162 187 146 208 168 186 217 201\n",
       "[145] 117 150 174 189 182 214 176 200  51  90  93 100 106 135 205 169 177  74\n",
       "[163] 179 212  88  78 206  81 148 166 121 133 158 172 190 198  98 180 210 218\n",
       "[181] 220  21  65  95  97 113 137 125 157  22 105 136 219  69 145 163  23  29\n",
       "[199]  47 107  85 153  55 191 114 203  56 196 132 207  94 155 170 156 165 188\n",
       "[217] 202 215 221 222   9  11\n",
       "Height (summary):\n",
       "   Min. 1st Qu.  Median    Mean 3rd Qu.    Max. \n",
       " 0.1235  0.4625  0.7639  1.0980  1.2165 10.1468 \n",
       "\n",
       "Available components:\n",
       "[1] \"order\"  \"height\" \"ac\"     \"merge\"  \"diss\"   \"call\"   \"method\" \"data\"  "
      ]
     },
     "metadata": {},
     "output_type": "display_data"
    }
   ],
   "source": [
    "agnes(dataset_select_clustering_scale, method = \"average\",trace.lev=0)"
   ]
  },
  {
   "cell_type": "markdown",
   "id": "766d2c3e-a180-4d20-806c-efd3994c5043",
   "metadata": {},
   "source": [
    "Since **Wards Minimum Variance Method** had the highest Agglomerative Coefficient.We are using that for hiearchical clustering"
   ]
  },
  {
   "cell_type": "markdown",
   "id": "2c08b3a3-af79-47ee-a751-f4b087197f1f",
   "metadata": {},
   "source": [
    "## Clustering"
   ]
  },
  {
   "cell_type": "code",
   "execution_count": 12,
   "id": "b4c3f047-a280-4a11-aead-8da751fe1c07",
   "metadata": {},
   "outputs": [
    {
     "data": {
      "image/png": "[encoded data removed]",
      "text/plain": [
       "Plot with title \"Dendrogram\""
      ]
     },
     "metadata": {
      "image/png": {
       "height": 420,
       "width": 420
      }
     },
     "output_type": "display_data"
    }
   ],
   "source": [
    "cluster <- agnes(dataset_select_clustering_scale, method = \"ward\")\n",
    "\n",
    "#Viewing the clusters in a dendrogram\n",
    "pltree(cluster, cex = 0.6, hang = -1, main = \"Dendrogram\") "
   ]
  },
  {
   "cell_type": "markdown",
   "id": "6a274094-aa7e-4ce4-8ad5-59900c91032c",
   "metadata": {},
   "source": [
    "## Applying the Clusters to the original dataset"
   ]
  },
  {
   "cell_type": "code",
   "execution_count": 13,
   "id": "71a8fe9f-e015-4a5c-a200-437e33376f0f",
   "metadata": {},
   "outputs": [],
   "source": [
    "cluster <- hclust(dist(dataset_select_clustering_scale), method = \"ward.D2\")"
   ]
  },
  {
   "cell_type": "markdown",
   "id": "fbc2b000-297c-4d87-8c88-f1f2f7788ff8",
   "metadata": {},
   "source": [
    "## UnSupervised Cluster Evaluation"
   ]
  },
  {
   "cell_type": "markdown",
   "id": "9e45d05d-1023-4e6d-abe8-c58b58a2abf5",
   "metadata": {},
   "source": [
    "Here we are evaluating 4 different Cluster sizes , CLusters with cluster number 2,4,6,8 to identify which would be the best clustering"
   ]
  },
  {
   "cell_type": "markdown",
   "id": "74250775-7781-40ab-808b-c2f8f630155e",
   "metadata": {},
   "source": [
    "### Gap Statistics"
   ]
  },
  {
   "cell_type": "code",
   "execution_count": 14,
   "id": "a01fcadc-d43e-4789-a447-f782dae15d42",
   "metadata": {},
   "outputs": [
    {
     "data": {
      "image/png": "[encoded data removed]",
      "text/plain": [
       "plot without title"
      ]
     },
     "metadata": {
      "image/png": {
       "height": 420,
       "width": 420
      }
     },
     "output_type": "display_data"
    }
   ],
   "source": [
    "gap_stat <- clusGap(dataset_select_clustering_scale, FUN = hcut, nstart = 10,K.min=3, K.max = 10, B = 100)\n",
    "\n",
    "#produce plot of clusters vs. gap statistic\n",
    "fviz_gap_stat(gap_stat)"
   ]
  },
  {
   "cell_type": "markdown",
   "id": "6d1bf6c8-3a08-41ad-9b33-b6e74fd016d2",
   "metadata": {},
   "source": [
    "According to gap Statistics the optimal number of clusters is **2**."
   ]
  },
  {
   "cell_type": "markdown",
   "id": "033df09a-4c7c-452a-91ee-b38e5b1aeb96",
   "metadata": {},
   "source": [
    "### Silhouette Coefficient"
   ]
  },
  {
   "cell_type": "code",
   "execution_count": 15,
   "id": "a6351551-cc20-4e5c-9b07-3c9cf97c51a4",
   "metadata": {},
   "outputs": [],
   "source": [
    "dataset_hclust_results1 <- dataset_select_clustering\n",
    "dataset_hclust_results2 <- dataset_select_clustering\n",
    "dataset_hclust_results3 <- dataset_select_clustering\n",
    "dataset_hclust_results4 <- dataset_select_clustering\n",
    "dataset_hclust_results1$cluster <- cutree(cluster, 2)\n",
    "dataset_hclust_results2$cluster <- cutree(cluster, 4)\n",
    "dataset_hclust_results3$cluster <- cutree(cluster, 6)\n",
    "dataset_hclust_results4$cluster <- cutree(cluster, 8)"
   ]
  },
  {
   "cell_type": "code",
   "execution_count": 16,
   "id": "cf14b7f1-f57e-4076-9e23-bc044615cbd6",
   "metadata": {},
   "outputs": [
    {
     "data": {
      "image/png": "[encoded data removed]",
      "text/plain": [
       "Plot with title \"Silhouette plot of (x = dataset_hclust_results4$cluster, dist = d)\""
      ]
     },
     "metadata": {
      "image/png": {
       "height": 420,
       "width": 420
      }
     },
     "output_type": "display_data"
    }
   ],
   "source": [
    "d <- dist(dataset_select_clustering_scale)\n",
    "\n",
    "par(mfrow = c(2, 2))\n",
    "plot(silhouette(dataset_hclust_results1$cluster, d))\n",
    "plot(silhouette(dataset_hclust_results2$cluster, d))\n",
    "plot(silhouette(dataset_hclust_results3$cluster, d))\n",
    "plot(silhouette(dataset_hclust_results4$cluster, d))\n"
   ]
  },
  {
   "cell_type": "markdown",
   "id": "3888f0ca-517b-48b0-842b-b749b08bd083",
   "metadata": {},
   "source": [
    "From this Silhoette Plot also, We can infer that the **2 clusters have the maximum silohoette score**. 2 is the optimal number of clusters based on the selected features"
   ]
  },
  {
   "cell_type": "markdown",
   "id": "0069a82f-2240-4659-b9d3-88847ec628d2",
   "metadata": {},
   "source": [
    "## Visualizing the Clusters"
   ]
  },
  {
   "cell_type": "markdown",
   "id": "3ff13808-423b-4024-a45f-3e3c9fa48b08",
   "metadata": {},
   "source": [
    "#### The below table shows the mean values of each of the feature variables used for clustering"
   ]
  },
  {
   "cell_type": "code",
   "execution_count": 17,
   "id": "690f1034-dbb2-4536-bcdc-835012b7169d",
   "metadata": {},
   "outputs": [
    {
     "data": {
      "text/html": [
       "<table class=\"dataframe\">\n",
       "<caption>A tibble: 2 × 9</caption>\n",
       "<thead>\n",
       "\t<tr><th scope=col>cluster</th><th scope=col>avg_death_per_case</th><th scope=col>avg_median_age</th><th scope=col>avg_median_income</th><th scope=col>avg_commute_1000</th><th scope=col>avg_black_pop</th><th scope=col>avg_white_pop</th><th scope=col>avg_hispanic_pop</th><th scope=col>no_counties_in_cluster</th></tr>\n",
       "\t<tr><th scope=col>&lt;int&gt;</th><th scope=col>&lt;dbl&gt;</th><th scope=col>&lt;dbl&gt;</th><th scope=col>&lt;dbl&gt;</th><th scope=col>&lt;dbl&gt;</th><th scope=col>&lt;dbl&gt;</th><th scope=col>&lt;dbl&gt;</th><th scope=col>&lt;dbl&gt;</th><th scope=col>&lt;int&gt;</th></tr>\n",
       "</thead>\n",
       "<tbody>\n",
       "\t<tr><td>1</td><td>0.01952826</td><td>34.04194</td><td>49015.00</td><td>799.9042</td><td>110.36313</td><td>519.8909</td><td>331.7475</td><td> 31</td></tr>\n",
       "\t<tr><td>2</td><td>0.02737668</td><td>40.16073</td><td>47170.13</td><td>738.8050</td><td> 50.63811</td><td>571.7030</td><td>355.7910</td><td>191</td></tr>\n",
       "</tbody>\n",
       "</table>\n"
      ],
      "text/latex": [
       "A tibble: 2 × 9\n",
       "\\begin{tabular}{lllllllll}\n",
       " cluster & avg\\_death\\_per\\_case & avg\\_median\\_age & avg\\_median\\_income & avg\\_commute\\_1000 & avg\\_black\\_pop & avg\\_white\\_pop & avg\\_hispanic\\_pop & no\\_counties\\_in\\_cluster\\\\\n",
       " <int> & <dbl> & <dbl> & <dbl> & <dbl> & <dbl> & <dbl> & <dbl> & <int>\\\\\n",
       "\\hline\n",
       "\t 1 & 0.01952826 & 34.04194 & 49015.00 & 799.9042 & 110.36313 & 519.8909 & 331.7475 &  31\\\\\n",
       "\t 2 & 0.02737668 & 40.16073 & 47170.13 & 738.8050 &  50.63811 & 571.7030 & 355.7910 & 191\\\\\n",
       "\\end{tabular}\n"
      ],
      "text/markdown": [
       "\n",
       "A tibble: 2 × 9\n",
       "\n",
       "| cluster &lt;int&gt; | avg_death_per_case &lt;dbl&gt; | avg_median_age &lt;dbl&gt; | avg_median_income &lt;dbl&gt; | avg_commute_1000 &lt;dbl&gt; | avg_black_pop &lt;dbl&gt; | avg_white_pop &lt;dbl&gt; | avg_hispanic_pop &lt;dbl&gt; | no_counties_in_cluster &lt;int&gt; |\n",
       "|---|---|---|---|---|---|---|---|---|\n",
       "| 1 | 0.01952826 | 34.04194 | 49015.00 | 799.9042 | 110.36313 | 519.8909 | 331.7475 |  31 |\n",
       "| 2 | 0.02737668 | 40.16073 | 47170.13 | 738.8050 |  50.63811 | 571.7030 | 355.7910 | 191 |\n",
       "\n"
      ],
      "text/plain": [
       "  cluster avg_death_per_case avg_median_age avg_median_income avg_commute_1000\n",
       "1 1       0.01952826         34.04194       49015.00          799.9042        \n",
       "2 2       0.02737668         40.16073       47170.13          738.8050        \n",
       "  avg_black_pop avg_white_pop avg_hispanic_pop no_counties_in_cluster\n",
       "1 110.36313     519.8909      331.7475          31                   \n",
       "2  50.63811     571.7030      355.7910         191                   "
      ]
     },
     "metadata": {},
     "output_type": "display_data"
    }
   ],
   "source": [
    "dataset_hclust_results <- dataset_hclust_results1\n",
    "dataset_hclust_results %>% group_by(cluster) %>% summarize(\n",
    "  avg_death_per_case = mean(death_per_case), \n",
    "    avg_median_age=mean(median_age),\n",
    "    avg_median_income=mean(median_income),\n",
    "    avg_commute_1000=mean(commute_1000),\n",
    "    avg_black_pop=mean(black_pop*1000/total_pop),\n",
    "    avg_white_pop=mean(white_pop*1000/total_pop),\n",
    "    avg_hispanic_pop=mean(hispanic_pop*1000/total_pop),\n",
    "    no_counties_in_cluster=n())\n"
   ]
  },
  {
   "cell_type": "markdown",
   "id": "df8ddbee-01ab-4c75-93ad-55b01df3ebfc",
   "metadata": {},
   "source": [
    "#### Corelation Plot of feature variables based in the cluster"
   ]
  },
  {
   "cell_type": "code",
   "execution_count": 18,
   "id": "2e75f941-3acc-4fe5-9dc1-96934d557469",
   "metadata": {},
   "outputs": [
    {
     "data": {
      "image/png": "[encoded data removed]",
      "text/plain": [
       "plot without title"
      ]
     },
     "metadata": {
      "image/png": {
       "height": 420,
       "width": 420
      }
     },
     "output_type": "display_data"
    }
   ],
   "source": [
    "pairs(dataset_select_clustering_scale[,c(\"median_income\",\"black_pop\",\"white_pop\",\"hispanic_pop\")], \n",
    "      pch = 16, col = as.numeric(dataset_hclust_results$cluster))"
   ]
  },
  {
   "cell_type": "markdown",
   "id": "07d8262a-1f65-4508-9e48-1ef0727f6af5",
   "metadata": {},
   "source": [
    "#### PLotting the clusters over a map"
   ]
  },
  {
   "cell_type": "code",
   "execution_count": 19,
   "id": "8bb0ca49-fbf5-4285-83cc-62f3f84abd3d",
   "metadata": {},
   "outputs": [
    {
     "data": {
      "text/html": [
       "222"
      ],
      "text/latex": [
       "222"
      ],
      "text/markdown": [
       "222"
      ],
      "text/plain": [
       "[1] 222"
      ]
     },
     "metadata": {},
     "output_type": "display_data"
    },
    {
     "data": {
      "text/html": [
       "4488"
      ],
      "text/latex": [
       "4488"
      ],
      "text/markdown": [
       "4488"
      ],
      "text/plain": [
       "[1] 4488"
      ]
     },
     "metadata": {},
     "output_type": "display_data"
    },
    {
     "data": {
      "text/html": [
       "254"
      ],
      "text/latex": [
       "254"
      ],
      "text/markdown": [
       "254"
      ],
      "text/plain": [
       "[1] 254"
      ]
     },
     "metadata": {},
     "output_type": "display_data"
    },
    {
     "data": {
      "text/html": [
       "4488"
      ],
      "text/latex": [
       "4488"
      ],
      "text/markdown": [
       "4488"
      ],
      "text/plain": [
       "[1] 4488"
      ]
     },
     "metadata": {},
     "output_type": "display_data"
    }
   ],
   "source": [
    "counties <- as_tibble(map_data(\"county\"))\n",
    "counties_TX <- counties %>% dplyr::filter(region == \"texas\") %>% rename(c(county = subregion))\n",
    "\n",
    "\n",
    "dataset_hclust_results <- dataset_hclust_results %>% mutate(county = county_name %>% str_to_lower() %>% \n",
    "    str_replace('\\\\s+county\\\\s*$', ''))\n",
    "nrow(dataset_hclust_results)\n",
    "nrow(counties_TX)\n",
    "dataset_hclust_results_map<-right_join(dataset_hclust_results,counties_TX, join_by(county))\n",
    "\n",
    "length(unique(dataset_hclust_results_map$county))\n",
    "nrow(dataset_hclust_results_map)"
   ]
  },
  {
   "cell_type": "code",
   "execution_count": 128,
   "id": "94a9ded6-9b7a-4281-86ec-9f5920606ceb",
   "metadata": {},
   "outputs": [
    {
     "data": {
      "image/png": "[encoded data removed]",
      "text/plain": [
       "plot without title"
      ]
     },
     "metadata": {
      "image/png": {
       "height": 420,
       "width": 420
      }
     },
     "output_type": "display_data"
    }
   ],
   "source": [
    "ggplot(dataset_hclust_results_map, aes(long, lat)) + \n",
    "  geom_polygon(aes(group = group, fill = as.character(cluster))) +\n",
    "  coord_quickmap() +\n",
    "  labs(title = \"Hierarchical Clustering - Counties\")"
   ]
  },
  {
   "cell_type": "markdown",
   "id": "ec9d124b-78e5-49ee-87bb-50072c4ea9ad",
   "metadata": {},
   "source": [
    "\n",
    "The non-colored counties are the metropolitan counties that were removed from the analysis"
   ]
  },
  {
   "cell_type": "markdown",
   "id": "f942472a-09af-4f6e-bc25-42cca939c623",
   "metadata": {},
   "source": [
    "## Supervised Cluster evaluation"
   ]
  },
  {
   "cell_type": "markdown",
   "id": "e8c46842-d1ec-45d8-b807-4997a9c13310",
   "metadata": {},
   "source": [
    "### Creating a ground truth feature to evaluate the cluster"
   ]
  },
  {
   "cell_type": "code",
   "execution_count": 21,
   "id": "ca91508f-2a94-4da8-a21e-cf36850d5fd8",
   "metadata": {},
   "outputs": [
    {
     "data": {
      "text/plain": [
       "ground_truth\n",
       "  1   2 \n",
       "192  30 "
      ]
     },
     "metadata": {},
     "output_type": "display_data"
    }
   ],
   "source": [
    "ground_truth <- ifelse(dataset_hclust_results$death_per_case<=0.03961965, 1, 2)\n",
    "table(ground_truth)"
   ]
  },
  {
   "cell_type": "markdown",
   "id": "0ce69a2d-a5d9-4d68-9332-7ca5654e7233",
   "metadata": {},
   "source": [
    "### Evaluating the CLuster using the Purity Function"
   ]
  },
  {
   "cell_type": "code",
   "execution_count": 22,
   "id": "0cf1a1b6-535c-41fb-bf32-5a706e54efb0",
   "metadata": {},
   "outputs": [
    {
     "data": {
      "text/html": [
       "<dl>\n",
       "\t<dt>$pur</dt>\n",
       "\t\t<dd>0.725225225225225</dd>\n",
       "\t<dt>$out</dt>\n",
       "\t\t<dd><table class=\"dataframe\">\n",
       "<caption>A data.frame: 1 × 3</caption>\n",
       "<thead>\n",
       "\t<tr><th></th><th scope=col>ClassLabels</th><th scope=col>ClusterLabels</th><th scope=col>ClusterSize</th></tr>\n",
       "\t<tr><th></th><th scope=col>&lt;chr&gt;</th><th scope=col>&lt;chr&gt;</th><th scope=col>&lt;dbl&gt;</th></tr>\n",
       "</thead>\n",
       "<tbody>\n",
       "\t<tr><th scope=row>1</th><td>2</td><td>1</td><td>161</td></tr>\n",
       "</tbody>\n",
       "</table>\n",
       "</dd>\n",
       "</dl>\n"
      ],
      "text/latex": [
       "\\begin{description}\n",
       "\\item[\\$pur] 0.725225225225225\n",
       "\\item[\\$out] A data.frame: 1 × 3\n",
       "\\begin{tabular}{r|lll}\n",
       "  & ClassLabels & ClusterLabels & ClusterSize\\\\\n",
       "  & <chr> & <chr> & <dbl>\\\\\n",
       "\\hline\n",
       "\t1 & 2 & 1 & 161\\\\\n",
       "\\end{tabular}\n",
       "\n",
       "\\end{description}\n"
      ],
      "text/markdown": [
       "$pur\n",
       ":   0.725225225225225\n",
       "$out\n",
       ":   \n",
       "A data.frame: 1 × 3\n",
       "\n",
       "| <!--/--> | ClassLabels &lt;chr&gt; | ClusterLabels &lt;chr&gt; | ClusterSize &lt;dbl&gt; |\n",
       "|---|---|---|---|\n",
       "| 1 | 2 | 1 | 161 |\n",
       "\n",
       "\n",
       "\n",
       "\n"
      ],
      "text/plain": [
       "$pur\n",
       "[1] 0.7252252\n",
       "\n",
       "$out\n",
       "  ClassLabels ClusterLabels ClusterSize\n",
       "1           2             1         161\n"
      ]
     },
     "metadata": {},
     "output_type": "display_data"
    }
   ],
   "source": [
    "\n",
    "\n",
    "tbl <- table(dataset_hclust_results$cluster, ground_truth)\n",
    "purity(dataset_hclust_results$cluster,ground_truth)"
   ]
  },
  {
   "cell_type": "markdown",
   "id": "89bd584e-f08f-43d7-9266-582d2542aed0",
   "metadata": {},
   "source": [
    "# Density Based Clustering "
   ]
  },
  {
   "cell_type": "code",
   "execution_count": 23,
   "id": "d3797742-d28e-4457-8e91-1d5c1fa7109f",
   "metadata": {},
   "outputs": [
    {
     "name": "stderr",
     "output_type": "stream",
     "text": [
      "Warning message:\n",
      "\"package 'dbscan' was built under R version 4.4.2\"\n",
      "\n",
      "Attaching package: 'dbscan'\n",
      "\n",
      "\n",
      "The following object is masked from 'package:stats':\n",
      "\n",
      "    as.dendrogram\n",
      "\n",
      "\n"
     ]
    }
   ],
   "source": [
    "library(dbscan)"
   ]
  },
  {
   "cell_type": "code",
   "execution_count": 141,
   "id": "52520d48-b8ed-4bf5-850a-1563bfdc2b26",
   "metadata": {},
   "outputs": [
    {
     "data": {
      "text/plain": [
       " income_100K_150K    commute_1000      worked_at_home_1000\n",
       " Min.   :-0.49239   Min.   :-2.81045   Min.   :-1.5283    \n",
       " 1st Qu.:-0.43887   1st Qu.:-0.61096   1st Qu.:-0.5828    \n",
       " Median :-0.34345   Median : 0.09711   Median :-0.1320    \n",
       " Mean   : 0.00000   Mean   : 0.00000   Mean   : 0.0000    \n",
       " 3rd Qu.:-0.07254   3rd Qu.: 0.64486   3rd Qu.: 0.3213    \n",
       " Max.   : 7.37936   Max.   : 3.45757   Max.   : 4.8971    "
      ]
     },
     "metadata": {},
     "output_type": "display_data"
    }
   ],
   "source": [
    "dataset_select_clustering_scale <-scale(dataset_select_clustering[,c(\"income_100K_150K\",\"commute_1000\",\"worked_at_home_1000\")])\n",
    "summary(dataset_select_clustering_scale)"
   ]
  },
  {
   "cell_type": "code",
   "execution_count": 143,
   "id": "8e8a2b02-c729-460a-8df7-7a747bd83d94",
   "metadata": {},
   "outputs": [
    {
     "data": {
      "image/png": "[encoded data removed]",
      "text/plain": [
       "plot without title"
      ]
     },
     "metadata": {
      "image/png": {
       "height": 420,
       "width": 420
      }
     },
     "output_type": "display_data"
    }
   ],
   "source": [
    "kNNdistplot(dataset_select_clustering_scale, minPts = 4)\n",
    "abline(h = .65,col = \"red\")\n",
    "abline(h = .7,col = \"blue\")\n",
    "abline(h = .8,col = \"orange\")\n",
    "abline(h = .9,col = \"green\")"
   ]
  },
  {
   "cell_type": "code",
   "execution_count": 116,
   "id": "86074f8c-6fa1-4dac-8325-27843c1daf51",
   "metadata": {},
   "outputs": [
    {
     "data": {
      "text/plain": [
       "DBSCAN clustering for 222 objects.\n",
       "Parameters: eps = 0.65, minPts = 4\n",
       "Using euclidean distances and borderpoints = TRUE\n",
       "The clustering contains 2 cluster(s) and 30 noise points.\n",
       "\n",
       "  0   1   2 \n",
       " 30   4 188 \n",
       "\n",
       "Available fields: cluster, eps, minPts, metric, borderPoints"
      ]
     },
     "metadata": {},
     "output_type": "display_data"
    },
    {
     "data": {
      "text/plain": [
       "DBSCAN clustering for 222 objects.\n",
       "Parameters: eps = 0.7, minPts = 4\n",
       "Using euclidean distances and borderpoints = TRUE\n",
       "The clustering contains 2 cluster(s) and 27 noise points.\n",
       "\n",
       "  0   1   2 \n",
       " 27   4 191 \n",
       "\n",
       "Available fields: cluster, eps, minPts, metric, borderPoints"
      ]
     },
     "metadata": {},
     "output_type": "display_data"
    },
    {
     "data": {
      "text/plain": [
       "DBSCAN clustering for 222 objects.\n",
       "Parameters: eps = 0.8, minPts = 4\n",
       "Using euclidean distances and borderpoints = TRUE\n",
       "The clustering contains 2 cluster(s) and 20 noise points.\n",
       "\n",
       "  0   1   2 \n",
       " 20   4 198 \n",
       "\n",
       "Available fields: cluster, eps, minPts, metric, borderPoints"
      ]
     },
     "metadata": {},
     "output_type": "display_data"
    },
    {
     "data": {
      "text/plain": [
       "DBSCAN clustering for 222 objects.\n",
       "Parameters: eps = 0.9, minPts = 4\n",
       "Using euclidean distances and borderpoints = TRUE\n",
       "The clustering contains 2 cluster(s) and 16 noise points.\n",
       "\n",
       "  0   1   2 \n",
       " 16   4 202 \n",
       "\n",
       "Available fields: cluster, eps, minPts, metric, borderPoints"
      ]
     },
     "metadata": {},
     "output_type": "display_data"
    }
   ],
   "source": [
    "dbcluster1 <- dbscan(dataset_select_clustering_scale, eps = .65, minPts = 4)\n",
    "dbcluster1\n",
    "dbcluster2 <- dbscan(dataset_select_clustering_scale, eps = .7, minPts = 4)\n",
    "dbcluster2\n",
    "dbcluster3 <- dbscan(dataset_select_clustering_scale, eps = .8, minPts = 4)\n",
    "dbcluster3\n",
    "dbcluster4 <- dbscan(dataset_select_clustering_scale, eps = .9, minPts = 4)\n",
    "dbcluster4"
   ]
  },
  {
   "cell_type": "code",
   "execution_count": 117,
   "id": "71b4cb91-d8d6-4d02-8d0c-d8445865d9a0",
   "metadata": {},
   "outputs": [],
   "source": [
    "dataset_dbscan_results1 <- dataset_select_clustering\n",
    "dataset_dbscan_results1$cluster <- dbcluster1$cluster\n",
    "dataset_dbscan_results2 <- dataset_select_clustering\n",
    "dataset_dbscan_results2$cluster <- dbcluster2$cluster\n",
    "dataset_dbscan_results3 <- dataset_select_clustering\n",
    "dataset_dbscan_results3$cluster <- dbcluster3$cluster\n",
    "dataset_dbscan_results4 <- dataset_select_clustering\n",
    "dataset_dbscan_results4$cluster <- dbcluster4$cluster"
   ]
  },
  {
   "cell_type": "markdown",
   "id": "68523b39-8c1e-445e-a4a3-c5932319c90f",
   "metadata": {},
   "source": [
    "## UnSupervised Cluster Evaluation"
   ]
  },
  {
   "cell_type": "markdown",
   "id": "23d8fd77-9dc6-439f-bbf8-482412336fd4",
   "metadata": {},
   "source": [
    "### Silhouette Coefficient"
   ]
  },
  {
   "cell_type": "code",
   "execution_count": 118,
   "id": "60bd041d-0f6b-4062-8374-3e5ec714cf5e",
   "metadata": {},
   "outputs": [
    {
     "data": {
      "image/png": "[encoded data removed]",
      "text/plain": [
       "Plot with title \"Silhouette plot of (x = dataset_dbscan_results4$cluster, dist = d)\""
      ]
     },
     "metadata": {
      "image/png": {
       "height": 420,
       "width": 420
      }
     },
     "output_type": "display_data"
    }
   ],
   "source": [
    "d <- dist(dataset_select_clustering_scale)\n",
    "\n",
    "par(mfrow = c(2, 2))\n",
    "plot(silhouette(dataset_dbscan_results1$cluster, d))\n",
    "plot(silhouette(dataset_dbscan_results2$cluster, d))\n",
    "plot(silhouette(dataset_dbscan_results3$cluster, d))\n",
    "plot(silhouette(dataset_dbscan_results4$cluster, d))\n"
   ]
  },
  {
   "cell_type": "markdown",
   "id": "882fbddc-b225-4078-ae50-8f778ae7ec24",
   "metadata": {},
   "source": [
    "THe first cluster has the highest Silohoette coefficient, Hence a better clustering"
   ]
  },
  {
   "cell_type": "markdown",
   "id": "41799992-67bd-4d91-8615-51975997e25b",
   "metadata": {},
   "source": [
    "### Dunn Index"
   ]
  },
  {
   "cell_type": "code",
   "execution_count": 144,
   "id": "a0c0f63a-df3d-4160-976e-c9d8f2ade9b2",
   "metadata": {},
   "outputs": [
    {
     "data": {
      "text/html": [
       "0.200692885450029"
      ],
      "text/latex": [
       "0.200692885450029"
      ],
      "text/markdown": [
       "0.200692885450029"
      ],
      "text/plain": [
       "[1] 0.2006929"
      ]
     },
     "metadata": {},
     "output_type": "display_data"
    },
    {
     "data": {
      "text/html": [
       "0.195220905956125"
      ],
      "text/latex": [
       "0.195220905956125"
      ],
      "text/markdown": [
       "0.195220905956125"
      ],
      "text/plain": [
       "[1] 0.1952209"
      ]
     },
     "metadata": {},
     "output_type": "display_data"
    },
    {
     "data": {
      "text/html": [
       "0.192685680236223"
      ],
      "text/latex": [
       "0.192685680236223"
      ],
      "text/markdown": [
       "0.192685680236223"
      ],
      "text/plain": [
       "[1] 0.1926857"
      ]
     },
     "metadata": {},
     "output_type": "display_data"
    },
    {
     "data": {
      "text/html": [
       "0.18189007202032"
      ],
      "text/latex": [
       "0.18189007202032"
      ],
      "text/markdown": [
       "0.18189007202032"
      ],
      "text/plain": [
       "[1] 0.1818901"
      ]
     },
     "metadata": {},
     "output_type": "display_data"
    }
   ],
   "source": [
    "clValid::dunn(distance = dist(dataset_select_clustering_scale), dataset_dbscan_results1$cluster, method = \"euclidean\")\n",
    "\n",
    "clValid::dunn(distance = dist(dataset_select_clustering_scale), dataset_dbscan_results2$cluster, method = \"euclidean\")\n",
    "clValid::dunn(distance = dist(dataset_select_clustering_scale), dataset_dbscan_results3$cluster, method = \"euclidean\")\n",
    "clValid::dunn(distance = dist(dataset_select_clustering_scale), dataset_dbscan_results4$cluster, method = \"euclidean\")"
   ]
  },
  {
   "cell_type": "markdown",
   "id": "d8ae5b77-8395-45ae-884a-8c0aa94604c3",
   "metadata": {},
   "source": [
    "THe higher the Dunn Index, THe better the cluster. Hence Dunn Index also proves that **first Cluster  is a better clustering.**"
   ]
  },
  {
   "cell_type": "markdown",
   "id": "3fa1e9b6-aa63-40c6-b9d4-ab51339867fe",
   "metadata": {},
   "source": [
    "## Visualizing the Cluster"
   ]
  },
  {
   "cell_type": "code",
   "execution_count": 124,
   "id": "bd7a9889-eb3a-4780-992f-e71500d0c494",
   "metadata": {},
   "outputs": [
    {
     "data": {
      "image/png": "[encoded data removed]",
      "text/plain": [
       "plot without title"
      ]
     },
     "metadata": {
      "image/png": {
       "height": 420,
       "width": 420
      }
     },
     "output_type": "display_data"
    }
   ],
   "source": [
    "dataset_dbscan_results<- dataset_dbscan_results1\n",
    "ggplot(dataset_dbscan_results, aes(x = income_100K_150K, y = death_per_case)) +\n",
    "    geom_point(aes(color = factor(cluster)))"
   ]
  },
  {
   "cell_type": "markdown",
   "id": "bcc8a09b-da5d-4f08-8636-19812c9da5fe",
   "metadata": {},
   "source": [
    "### Plotting the Cluster over a Texas Map"
   ]
  },
  {
   "cell_type": "code",
   "execution_count": 125,
   "id": "11744ec1-6246-4c04-80a3-1fb71ea1cb80",
   "metadata": {},
   "outputs": [
    {
     "data": {
      "text/html": [
       "222"
      ],
      "text/latex": [
       "222"
      ],
      "text/markdown": [
       "222"
      ],
      "text/plain": [
       "[1] 222"
      ]
     },
     "metadata": {},
     "output_type": "display_data"
    },
    {
     "data": {
      "text/html": [
       "4488"
      ],
      "text/latex": [
       "4488"
      ],
      "text/markdown": [
       "4488"
      ],
      "text/plain": [
       "[1] 4488"
      ]
     },
     "metadata": {},
     "output_type": "display_data"
    }
   ],
   "source": [
    "\n",
    "counties <- as_tibble(map_data(\"county\"))\n",
    "counties_TX <- counties %>% dplyr::filter(region == \"texas\") %>% rename(c(county = subregion))\n",
    "\n",
    "dataset_dbscan_results <- dataset_dbscan_results %>% mutate(county = county_name %>% str_to_lower() %>% \n",
    "    str_replace('\\\\s+county\\\\s*$', ''))\n",
    "nrow(dataset_dbscan_results)\n",
    "nrow(counties_TX)\n",
    "dataset_dbscan_results_map<-right_join(dataset_dbscan_results,counties_TX, join_by(county))\n"
   ]
  },
  {
   "cell_type": "code",
   "execution_count": 127,
   "id": "ad09a7bc-398f-45d4-8d78-e8fc14b4a84f",
   "metadata": {},
   "outputs": [
    {
     "data": {
      "image/png": "[encoded data removed]",
      "text/plain": [
       "plot without title"
      ]
     },
     "metadata": {
      "image/png": {
       "height": 420,
       "width": 420
      }
     },
     "output_type": "display_data"
    }
   ],
   "source": [
    "ggplot(dataset_dbscan_results_map, aes(long, lat)) + \n",
    "  geom_polygon(aes(group = group, fill = as.character(cluster))) +\n",
    "  coord_quickmap() +\n",
    "  labs(title = \"Density Based Clustering - Counties\")"
   ]
  },
  {
   "cell_type": "markdown",
   "id": "593af73e-9c64-4340-8fa5-48e2af814302",
   "metadata": {},
   "source": [
    "# Fuzzy Custering"
   ]
  },
  {
   "cell_type": "code",
   "execution_count": 132,
   "id": "317d4fad-ee20-4d20-baaf-4623fbf150c2",
   "metadata": {},
   "outputs": [
    {
     "data": {
      "text/plain": [
       "   median_age        commute_1000      median_income    \n",
       " Min.   :-2.20750   Min.   :-2.81045   Min.   :-2.2682  \n",
       " 1st Qu.:-0.75695   1st Qu.:-0.61096   1st Qu.:-0.5904  \n",
       " Median :-0.01737   Median : 0.09711   Median :-0.1018  \n",
       " Mean   : 0.00000   Mean   : 0.00000   Mean   : 0.0000  \n",
       " 3rd Qu.: 0.64865   3rd Qu.: 0.64486   3rd Qu.: 0.4878  \n",
       " Max.   : 2.97362   Max.   : 3.45757   Max.   : 3.3582  "
      ]
     },
     "metadata": {},
     "output_type": "display_data"
    }
   ],
   "source": [
    "\n",
    "dataset_select_clustering_scale <-scale(dataset_select_clustering[,c(\"median_age\",\"commute_1000\",\"median_income\")])\n",
    "summary(dataset_select_clustering_scale)"
   ]
  },
  {
   "cell_type": "code",
   "execution_count": 133,
   "id": "f84bf04a-20c3-4c79-98f6-a62b7a0310ad",
   "metadata": {},
   "outputs": [],
   "source": [
    "set.seed(123) \n",
    "n_cluster <- 5 \n",
    "m <- 2 \n",
    "fuzzy_cluster1 <- cmeans(dataset_select_clustering_scale, centers = 5, m = m)\n",
    "fuzzy_cluster2 <- cmeans(dataset_select_clustering_scale, centers = 3, m = m)\n",
    "fuzzy_cluster3 <- cmeans(dataset_select_clustering_scale, centers = 7, m = m)\n",
    "fuzzy_cluster4 <- cmeans(dataset_select_clustering_scale, centers = 9, m = m)"
   ]
  },
  {
   "cell_type": "code",
   "execution_count": 134,
   "id": "1bd2ae4f-e86f-4d00-9054-39f76c09cb09",
   "metadata": {},
   "outputs": [],
   "source": [
    "# Data Membership Degree Matrix \n",
    "fuzzy_membership_matrix1 <- fuzzy_cluster1$membership \n",
    "fuzzy_membership_matrix2 <- fuzzy_cluster2$membership \n",
    "fuzzy_membership_matrix3 <- fuzzy_cluster3$membership \n",
    "fuzzy_membership_matrix4 <- fuzzy_cluster4$membership \n",
    "  \n",
    "# Cluster Prototype Evolution Matrices \n",
    "initial_centers1 <- fuzzy_cluster1$centers \n",
    "final_centers1 <- t(fuzzy_cluster1$centers)\n",
    "\n",
    "initial_centers2 <- fuzzy_cluster2$centers \n",
    "final_centers2 <- t(fuzzy_cluster2$centers)\n",
    "\n",
    "initial_centers3 <- fuzzy_cluster3$centers \n",
    "final_centers3 <- t(fuzzy_cluster3$centers)\n",
    "\n",
    "initial_centers4 <- fuzzy_cluster4$centers \n",
    "final_centers4 <- t(fuzzy_cluster4$centers)"
   ]
  },
  {
   "cell_type": "code",
   "execution_count": 135,
   "id": "4ffb8b77-d945-411a-b754-933fc065a4d2",
   "metadata": {},
   "outputs": [
    {
     "data": {
      "text/html": [
       "<table class=\"dataframe\">\n",
       "<caption>A data.frame: 6 × 8</caption>\n",
       "<thead>\n",
       "\t<tr><th></th><th scope=col>median_age</th><th scope=col>commute_1000</th><th scope=col>median_income</th><th scope=col>1</th><th scope=col>2</th><th scope=col>3</th><th scope=col>4</th><th scope=col>5</th></tr>\n",
       "\t<tr><th></th><th scope=col>&lt;dbl&gt;</th><th scope=col>&lt;dbl&gt;</th><th scope=col>&lt;dbl&gt;</th><th scope=col>&lt;dbl&gt;</th><th scope=col>&lt;dbl&gt;</th><th scope=col>&lt;dbl&gt;</th><th scope=col>&lt;dbl&gt;</th><th scope=col>&lt;dbl&gt;</th></tr>\n",
       "</thead>\n",
       "<tbody>\n",
       "\t<tr><th scope=row>1</th><td>-1.2105034</td><td> 0.2822249</td><td>-0.4192664</td><td>0.5741742</td><td>0.06299800</td><td>0.1418649</td><td>0.08390089</td><td>0.13706198</td></tr>\n",
       "\t<tr><th scope=row>2</th><td>-1.7008301</td><td>-0.9267076</td><td>-1.0352764</td><td>0.1489312</td><td>0.07609592</td><td>0.1202506</td><td>0.06037085</td><td>0.59435139</td></tr>\n",
       "\t<tr><th scope=row>3</th><td>-1.4066341</td><td> 1.6069950</td><td> 0.1653769</td><td>0.4407787</td><td>0.07708187</td><td>0.1318228</td><td>0.26717510</td><td>0.08314157</td></tr>\n",
       "\t<tr><th scope=row>4</th><td>-1.7825512</td><td>-0.4077678</td><td>-0.7000635</td><td>0.2661003</td><td>0.08719421</td><td>0.1546012</td><td>0.09085855</td><td>0.40124578</td></tr>\n",
       "\t<tr><th scope=row>5</th><td>-1.2922245</td><td>-0.6418784</td><td>-1.1356899</td><td>0.1327448</td><td>0.06667988</td><td>0.1116178</td><td>0.04551595</td><td>0.64344156</td></tr>\n",
       "\t<tr><th scope=row>6</th><td>-0.6874882</td><td> 1.1234250</td><td> 0.5901803</td><td>0.4232509</td><td>0.04457033</td><td>0.0905769</td><td>0.40596213</td><td>0.03563971</td></tr>\n",
       "</tbody>\n",
       "</table>\n"
      ],
      "text/latex": [
       "A data.frame: 6 × 8\n",
       "\\begin{tabular}{r|llllllll}\n",
       "  & median\\_age & commute\\_1000 & median\\_income & 1 & 2 & 3 & 4 & 5\\\\\n",
       "  & <dbl> & <dbl> & <dbl> & <dbl> & <dbl> & <dbl> & <dbl> & <dbl>\\\\\n",
       "\\hline\n",
       "\t1 & -1.2105034 &  0.2822249 & -0.4192664 & 0.5741742 & 0.06299800 & 0.1418649 & 0.08390089 & 0.13706198\\\\\n",
       "\t2 & -1.7008301 & -0.9267076 & -1.0352764 & 0.1489312 & 0.07609592 & 0.1202506 & 0.06037085 & 0.59435139\\\\\n",
       "\t3 & -1.4066341 &  1.6069950 &  0.1653769 & 0.4407787 & 0.07708187 & 0.1318228 & 0.26717510 & 0.08314157\\\\\n",
       "\t4 & -1.7825512 & -0.4077678 & -0.7000635 & 0.2661003 & 0.08719421 & 0.1546012 & 0.09085855 & 0.40124578\\\\\n",
       "\t5 & -1.2922245 & -0.6418784 & -1.1356899 & 0.1327448 & 0.06667988 & 0.1116178 & 0.04551595 & 0.64344156\\\\\n",
       "\t6 & -0.6874882 &  1.1234250 &  0.5901803 & 0.4232509 & 0.04457033 & 0.0905769 & 0.40596213 & 0.03563971\\\\\n",
       "\\end{tabular}\n"
      ],
      "text/markdown": [
       "\n",
       "A data.frame: 6 × 8\n",
       "\n",
       "| <!--/--> | median_age &lt;dbl&gt; | commute_1000 &lt;dbl&gt; | median_income &lt;dbl&gt; | 1 &lt;dbl&gt; | 2 &lt;dbl&gt; | 3 &lt;dbl&gt; | 4 &lt;dbl&gt; | 5 &lt;dbl&gt; |\n",
       "|---|---|---|---|---|---|---|---|---|\n",
       "| 1 | -1.2105034 |  0.2822249 | -0.4192664 | 0.5741742 | 0.06299800 | 0.1418649 | 0.08390089 | 0.13706198 |\n",
       "| 2 | -1.7008301 | -0.9267076 | -1.0352764 | 0.1489312 | 0.07609592 | 0.1202506 | 0.06037085 | 0.59435139 |\n",
       "| 3 | -1.4066341 |  1.6069950 |  0.1653769 | 0.4407787 | 0.07708187 | 0.1318228 | 0.26717510 | 0.08314157 |\n",
       "| 4 | -1.7825512 | -0.4077678 | -0.7000635 | 0.2661003 | 0.08719421 | 0.1546012 | 0.09085855 | 0.40124578 |\n",
       "| 5 | -1.2922245 | -0.6418784 | -1.1356899 | 0.1327448 | 0.06667988 | 0.1116178 | 0.04551595 | 0.64344156 |\n",
       "| 6 | -0.6874882 |  1.1234250 |  0.5901803 | 0.4232509 | 0.04457033 | 0.0905769 | 0.40596213 | 0.03563971 |\n",
       "\n"
      ],
      "text/plain": [
       "  median_age commute_1000 median_income 1         2          3        \n",
       "1 -1.2105034  0.2822249   -0.4192664    0.5741742 0.06299800 0.1418649\n",
       "2 -1.7008301 -0.9267076   -1.0352764    0.1489312 0.07609592 0.1202506\n",
       "3 -1.4066341  1.6069950    0.1653769    0.4407787 0.07708187 0.1318228\n",
       "4 -1.7825512 -0.4077678   -0.7000635    0.2661003 0.08719421 0.1546012\n",
       "5 -1.2922245 -0.6418784   -1.1356899    0.1327448 0.06667988 0.1116178\n",
       "6 -0.6874882  1.1234250    0.5901803    0.4232509 0.04457033 0.0905769\n",
       "  4          5         \n",
       "1 0.08390089 0.13706198\n",
       "2 0.06037085 0.59435139\n",
       "3 0.26717510 0.08314157\n",
       "4 0.09085855 0.40124578\n",
       "5 0.04551595 0.64344156\n",
       "6 0.40596213 0.03563971"
      ]
     },
     "metadata": {},
     "output_type": "display_data"
    }
   ],
   "source": [
    "cluster_membership1 <- as.data.frame(fuzzy_cluster1$membership) \n",
    "cluster_membership2 <- as.data.frame(fuzzy_cluster2$membership) \n",
    "cluster_membership3 <- as.data.frame(fuzzy_cluster3$membership) \n",
    "cluster_membership4 <- as.data.frame(fuzzy_cluster4$membership) \n",
    "\n",
    "fuzzy_cluster_data1 <- cbind(dataset_select_clustering_scale, cluster_membership1) \n",
    "fuzzy_cluster_data2 <- cbind(dataset_select_clustering_scale, cluster_membership2) \n",
    "fuzzy_cluster_data3 <- cbind(dataset_select_clustering_scale, cluster_membership3) \n",
    "fuzzy_cluster_data4 <- cbind(dataset_select_clustering_scale, cluster_membership4) \n",
    "\n",
    "head(fuzzy_cluster_data1)"
   ]
  },
  {
   "cell_type": "markdown",
   "id": "50981100-d647-4168-9b5d-5e4c2cd673a7",
   "metadata": {},
   "source": [
    "## Un Supervised Cluster Evaluation"
   ]
  },
  {
   "cell_type": "markdown",
   "id": "b18715c0-cf0b-453e-b6ee-6e4b7e0995ba",
   "metadata": {},
   "source": [
    "### Davies-Bouldin index "
   ]
  },
  {
   "cell_type": "code",
   "execution_count": 38,
   "id": "e606bcdd-f49a-488a-a93b-ec2003408fe3",
   "metadata": {},
   "outputs": [],
   "source": [
    "# Function to calculate the Davies-Bouldin index \n",
    "davies_bouldin_index <- function(data, cluster_centers, membership_matrix) { \n",
    "require(cluster) \n",
    "\n",
    "num_clusters <- nrow(cluster_centers) \n",
    "scatter <- numeric(num_clusters) \n",
    "for (i in 1:num_clusters) { \n",
    "\tscatter[i] <- mean(sqrt(rowSums((data - cluster_centers[i,])^2)) * membership_matrix[i,]) \n",
    "} \n",
    "\n",
    "# Calculate the cluster separation \n",
    "separation <- matrix(0, nrow = num_clusters, ncol = num_clusters) \n",
    "for (i in 1:num_clusters) { \n",
    "\tfor (j in 1:num_clusters) { \n",
    "\tif (i != j) { \n",
    "\t\tseparation[i, j] <- sqrt(sum((cluster_centers[i,] - cluster_centers[j,])^2)) \n",
    "\t} \n",
    "\t} \n",
    "} \n",
    "\n",
    "# Calculate the Davies-Bouldin index \n",
    "db_index <- 0 \n",
    "for (i in 1:num_clusters) { \n",
    "\tmax_val <- -Inf\n",
    "\tfor (j in 1:num_clusters) { \n",
    "\tif (i != j) { \n",
    "\t\tval <- (scatter[i] + scatter[j]) / separation[i, j] \n",
    "\t\tif (val > max_val) { \n",
    "\t\tmax_val <- val \n",
    "\t\t} \n",
    "\t} \n",
    "\t} \n",
    "\tdb_index <- db_index + max_val \n",
    "} \n",
    "db_index <- db_index / num_clusters \n",
    "return(db_index) \n",
    "} \n"
   ]
  },
  {
   "cell_type": "code",
   "execution_count": 136,
   "id": "335c6c5a-4eeb-4d28-a61e-027e5615e434",
   "metadata": {},
   "outputs": [
    {
     "name": "stderr",
     "output_type": "stream",
     "text": [
      "Warning message in sqrt(rowSums((data - cluster_centers[i, ])^2)) * membership_matrix[i, :\n",
      "\"longer object length is not a multiple of shorter object length\"\n",
      "Warning message in sqrt(rowSums((data - cluster_centers[i, ])^2)) * membership_matrix[i, :\n",
      "\"longer object length is not a multiple of shorter object length\"\n",
      "Warning message in sqrt(rowSums((data - cluster_centers[i, ])^2)) * membership_matrix[i, :\n",
      "\"longer object length is not a multiple of shorter object length\"\n",
      "Warning message in sqrt(rowSums((data - cluster_centers[i, ])^2)) * membership_matrix[i, :\n",
      "\"longer object length is not a multiple of shorter object length\"\n",
      "Warning message in sqrt(rowSums((data - cluster_centers[i, ])^2)) * membership_matrix[i, :\n",
      "\"longer object length is not a multiple of shorter object length\"\n"
     ]
    },
    {
     "name": "stdout",
     "output_type": "stream",
     "text": [
      "[1] \"Davies-Bouldin Index 1: 0.827451929884809\"\n",
      "[1] \"Davies-Bouldin Index 2: 0.962752302320374\"\n"
     ]
    },
    {
     "name": "stderr",
     "output_type": "stream",
     "text": [
      "Warning message in sqrt(rowSums((data - cluster_centers[i, ])^2)) * membership_matrix[i, :\n",
      "\"longer object length is not a multiple of shorter object length\"\n",
      "Warning message in sqrt(rowSums((data - cluster_centers[i, ])^2)) * membership_matrix[i, :\n",
      "\"longer object length is not a multiple of shorter object length\"\n",
      "Warning message in sqrt(rowSums((data - cluster_centers[i, ])^2)) * membership_matrix[i, :\n",
      "\"longer object length is not a multiple of shorter object length\"\n",
      "Warning message in sqrt(rowSums((data - cluster_centers[i, ])^2)) * membership_matrix[i, :\n",
      "\"longer object length is not a multiple of shorter object length\"\n",
      "Warning message in sqrt(rowSums((data - cluster_centers[i, ])^2)) * membership_matrix[i, :\n",
      "\"longer object length is not a multiple of shorter object length\"\n",
      "Warning message in sqrt(rowSums((data - cluster_centers[i, ])^2)) * membership_matrix[i, :\n",
      "\"longer object length is not a multiple of shorter object length\"\n",
      "Warning message in sqrt(rowSums((data - cluster_centers[i, ])^2)) * membership_matrix[i, :\n",
      "\"longer object length is not a multiple of shorter object length\"\n"
     ]
    },
    {
     "name": "stdout",
     "output_type": "stream",
     "text": [
      "[1] \"Davies-Bouldin Index 3: 0.638696519668135\"\n"
     ]
    },
    {
     "name": "stderr",
     "output_type": "stream",
     "text": [
      "Warning message in sqrt(rowSums((data - cluster_centers[i, ])^2)) * membership_matrix[i, :\n",
      "\"longer object length is not a multiple of shorter object length\"\n",
      "Warning message in sqrt(rowSums((data - cluster_centers[i, ])^2)) * membership_matrix[i, :\n",
      "\"longer object length is not a multiple of shorter object length\"\n",
      "Warning message in sqrt(rowSums((data - cluster_centers[i, ])^2)) * membership_matrix[i, :\n",
      "\"longer object length is not a multiple of shorter object length\"\n",
      "Warning message in sqrt(rowSums((data - cluster_centers[i, ])^2)) * membership_matrix[i, :\n",
      "\"longer object length is not a multiple of shorter object length\"\n",
      "Warning message in sqrt(rowSums((data - cluster_centers[i, ])^2)) * membership_matrix[i, :\n",
      "\"longer object length is not a multiple of shorter object length\"\n",
      "Warning message in sqrt(rowSums((data - cluster_centers[i, ])^2)) * membership_matrix[i, :\n",
      "\"longer object length is not a multiple of shorter object length\"\n",
      "Warning message in sqrt(rowSums((data - cluster_centers[i, ])^2)) * membership_matrix[i, :\n",
      "\"longer object length is not a multiple of shorter object length\"\n",
      "Warning message in sqrt(rowSums((data - cluster_centers[i, ])^2)) * membership_matrix[i, :\n",
      "\"longer object length is not a multiple of shorter object length\"\n",
      "Warning message in sqrt(rowSums((data - cluster_centers[i, ])^2)) * membership_matrix[i, :\n",
      "\"longer object length is not a multiple of shorter object length\"\n"
     ]
    },
    {
     "name": "stdout",
     "output_type": "stream",
     "text": [
      "[1] \"Davies-Bouldin Index 4: 0.641657463393572\"\n"
     ]
    }
   ],
   "source": [
    "# Example usage of the Davies-Bouldin index function \n",
    "db_index <- davies_bouldin_index(fuzzy_cluster_data1, fuzzy_cluster1$centers, fuzzy_membership_matrix1) \n",
    "print(paste(\"Davies-Bouldin Index 1:\", db_index))\n",
    "db_index <- davies_bouldin_index(fuzzy_cluster_data2, fuzzy_cluster2$centers, fuzzy_membership_matrix2) \n",
    "print(paste(\"Davies-Bouldin Index 2:\", db_index))\n",
    "db_index <- davies_bouldin_index(fuzzy_cluster_data3, fuzzy_cluster3$centers, fuzzy_membership_matrix3) \n",
    "print(paste(\"Davies-Bouldin Index 3:\", db_index))\n",
    "db_index <- davies_bouldin_index(fuzzy_cluster_data4, fuzzy_cluster4$centers, fuzzy_membership_matrix4) \n",
    "print(paste(\"Davies-Bouldin Index 4:\", db_index))"
   ]
  },
  {
   "cell_type": "markdown",
   "id": "70cd2938-47ee-4adc-bebf-528a214de3aa",
   "metadata": {},
   "source": [
    "## Displaying the Clusters"
   ]
  },
  {
   "cell_type": "code",
   "execution_count": 139,
   "id": "891e6a3a-4d66-4ab4-84f9-882f179a3144",
   "metadata": {},
   "outputs": [
    {
     "data": {
      "image/png": "[encoded data removed]",
      "text/plain": [
       "plot without title"
      ]
     },
     "metadata": {
      "image/png": {
       "height": 420,
       "width": 420
      }
     },
     "output_type": "display_data"
    }
   ],
   "source": [
    "\n",
    "fuzzy_cluster_data <- fuzzy_cluster_data3\n",
    "\n",
    "centers <- t(fuzzy_cluster$centers) \n",
    "fuzzy_cluster_data$Cluster <- apply(fuzzy_membership_matrix, 1, which.max) \n",
    "ggplot(fuzzy_cluster_data, aes(x = median_age, y = median_income,  \n",
    "                               color = as.factor(Cluster))) + \n",
    "  geom_point() + \n",
    "  labs(title = \"Fuzzy C-means Clustering\", x = \"death_per_Case\", y = \"Median Income\")"
   ]
  },
  {
   "cell_type": "code",
   "execution_count": 140,
   "id": "6a018cea-6e4e-4800-b1a5-c6e76559d85b",
   "metadata": {},
   "outputs": [
    {
     "data": {
      "image/png": "[encoded data removed]",
      "text/plain": [
       "plot without title"
      ]
     },
     "metadata": {
      "image/png": {
       "height": 420,
       "width": 420
      }
     },
     "output_type": "display_data"
    }
   ],
   "source": [
    "pairs(dataset_select_clustering_scale, pch = 16, col = as.numeric(fuzzy_cluster$cluster))"
   ]
  },
  {
   "cell_type": "markdown",
   "id": "162aef9a-81c8-4012-a039-596771f64861",
   "metadata": {},
   "source": [
    "From the above, We can see that most of the features used for the data set has fair amount of corelation"
   ]
  },
  {
   "cell_type": "code",
   "execution_count": 145,
   "id": "432b02df-03e9-4738-a3ca-9b32f54effed",
   "metadata": {},
   "outputs": [
    {
     "ename": "ERROR",
     "evalue": "Error in if (diss) {: the condition has length > 1\n",
     "output_type": "error",
     "traceback": [
      "Error in if (diss) {: the condition has length > 1\nTraceback:\n",
      "1. clusplot.default(dataset_select_clustering_scale, fuzzy_cluster$cluster, \n .     color = TRUE, shade = TRUE, clusplot(dataset_select_clustering_scale, \n .         fuzzy_cluster$cluster, color = TRUE, shade = TRUE, labels = 2, \n .         lines = 0))",
      "2. stopifnot(is.list(s.x.2d), c(\"x\", \"labs\", \"var.dec\") %in% names(s.x.2d), \n .     (n <- nrow(x1 <- s.x.2d[[\"x\"]])) > 0)",
      "3. mkCheckX(x, diss)",
      "4. .handleSimpleError(function (cnd) \n . {\n .     watcher$capture_plot_and_output()\n .     cnd <- sanitize_call(cnd)\n .     watcher$push(cnd)\n .     switch(on_error, continue = invokeRestart(\"eval_continue\"), \n .         stop = invokeRestart(\"eval_stop\"), error = invokeRestart(\"eval_error\", \n .             cnd))\n . }, \"the condition has length > 1\", base::quote(if (diss) {\n .     if (anyNA(x)) \n .         stop(\"NA-values are not allowed in dist-like 'x'.\")\n .     if (inherits(x, \"dist\")) {\n .         n <- attr(x, \"Size\")\n .         labs <- attr(x, \"Labels\")\n .     }\n .     else {\n .         siz <- sizeDiss(x)\n .         if (is.na(siz)) {\n .             if ((n <- nrow(x)) != ncol(x)) \n .                 stop(\"Distances must be result of dist or a square matrix.\")\n .             if (all.equal(x, t(x)) != TRUE) \n .                 stop(\"the square matrix is not symmetric.\")\n .             labs <- dimnames(x)[[1]]\n .         }\n .         else {\n .             if (!is.vector(x)) {\n .                 labs <- attr(x, \"Labels\")\n .                 x <- as.matrix(x)\n .                 if ((n <- nrow(x)) == ncol(x) && all.equal(x, \n .                   t(x)) == TRUE) {\n .                   labs <- dimnames(x)[[1]]\n .                 }\n .                 else {\n .                   warning(\">>>>> funny case in clusplot.default() -- please report!\\n\")\n .                   attr(x, \"Size\") <- siz <- sizeDiss(x)\n .                   if (is.null(labs)) \n .                     labs <- 1:siz\n .                 }\n .             }\n .             else {\n .                 attr(x, \"Size\") <- n <- siz\n .             }\n .         }\n .     }\n .     x1 <- cmdscale(x, k = 2, add = TRUE)\n .     if (x1$ac < 0) \n .         x1 <- cmdscale(x, k = 2, eig = TRUE)\n .     var.dec <- x1$GOF[2]\n .     x1 <- x1$points\n . } else {\n .     if (!is.matrix(x)) \n .         stop(\"x is not a data matrix\")\n .     if (anyNA(x)) {\n .         y <- is.na(x)\n .         if (any(apply(y, 1, all))) \n .             stop(\"one or more objects contain only missing values\")\n .         if (any(apply(y, 2, all))) \n .             stop(\"one or more variables contain only missing values\")\n .         x <- apply(x, 2, function(x) {\n .             x[is.na(x)] <- median(x, na.rm = TRUE)\n .             x\n .         })\n .         message(\"Missing values were displaced by the median of the corresponding variable(s)\")\n .     }\n .     n <- nrow(x)\n .     labs <- dimnames(x)[[1]]\n .     x1 <- if (ncol(x) <= 1) {\n .         var.dec <- 1\n .         matrix(c(t(x), rep(0, length(x))), ncol = 2)\n .     }\n .     else {\n .         prim.pr <- princomp(x, scores = TRUE, cor = ncol(x) > \n .             2)\n .         sd2 <- prim.pr$sdev^2\n .         var.dec <- cumsum(sd2/sum(sd2))[2]\n .         prim.pr$scores[, 1:2]\n .     }\n . }))"
     ]
    },
    {
     "data": {
      "image/png": "[encoded data removed]",
      "text/plain": [
       "Plot with title \"CLUSPLOT( dataset_select_clustering_scale )\""
      ]
     },
     "metadata": {
      "image/png": {
       "height": 420,
       "width": 420
      }
     },
     "output_type": "display_data"
    }
   ],
   "source": [
    "clusplot(dataset_select_clustering_scale, fuzzy_cluster$cluster, color = TRUE, shade = TRUE, \n",
    "clusplot(dataset_select_clustering_scale, fuzzy_cluster$cluster, color = TRUE, shade = TRUE, \n",
    "         labels = 2, lines = 0))"
   ]
  },
  {
   "cell_type": "markdown",
   "id": "76739f21-4a17-4c12-9fd9-51df945eaf35",
   "metadata": {},
   "source": [
    "# References"
   ]
  },
  {
   "cell_type": "markdown",
   "id": "f039495a-a0f3-4a8d-8815-3cfb98b0bfdb",
   "metadata": {},
   "source": [
    "https://www.statology.org/hierarchical-clustering-in-r/ <br>\n",
    "https://www.geeksforgeeks.org/fuzzy-clustering-in-r/  <br>\n",
    "https://uc-r.github.io/hc_clustering  <br>\n",
    "https://www.geeksforgeeks.org/dbscan-clustering-in-r-programming/ <br>\n",
    "https://www.geeksforgeeks.org/dunn-index-and-db-index-cluster-validity-indices-set-1/\n"
   ]
  }
 ],
 "metadata": {
  "kernelspec": {
   "display_name": "R",
   "language": "R",
   "name": "ir"
  },
  "language_info": {
   "codemirror_mode": "r",
   "file_extension": ".r",
   "mimetype": "text/x-r-source",
   "name": "R",
   "pygments_lexer": "r",
   "version": "4.4.1"
  }
 },
 "nbformat": 4,
 "nbformat_minor": 5
}
